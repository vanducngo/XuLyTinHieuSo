{
 "cells": [
  {
   "cell_type": "code",
   "execution_count": 1,
   "id": "0aa7ae5d-2a1c-4fe0-98e5-964af8cb3c64",
   "metadata": {},
   "outputs": [
    {
     "name": "stdout",
     "output_type": "stream",
     "text": [
      "Import completed\n"
     ]
    }
   ],
   "source": [
    "import whisper\n",
    "import jiwer\n",
    "import glob\n",
    "import os\n",
    "\n",
    "print(\"Import completed\")"
   ]
  },
  {
   "cell_type": "code",
   "execution_count": 2,
   "id": "987aac2d-b5bc-4eb7-ab7e-3b40587eda9f",
   "metadata": {},
   "outputs": [
    {
     "name": "stdout",
     "output_type": "stream",
     "text": [
      "Load model -> start\n",
      "Load model -> end\n"
     ]
    }
   ],
   "source": [
    "print(\"Load model -> start\")\n",
    "model = whisper.load_model(\"large-v3\")\n",
    "\n",
    "# Lấy danh sách tất cả các file âm thanh trong thư mục \"./data\"\n",
    "audio_files = glob.glob(\"./data/*.wav\")\n",
    "\n",
    "print(\"Load model -> end\")"
   ]
  },
  {
   "cell_type": "code",
   "execution_count": 3,
   "id": "d7c200fd-a8ca-4a05-acd6-864f0fb658a6",
   "metadata": {},
   "outputs": [
    {
     "name": "stdout",
     "output_type": "stream",
     "text": [
      "Inference -> start\n"
     ]
    },
    {
     "name": "stderr",
     "output_type": "stream",
     "text": [
      "/home/ngo/anaconda3/lib/python3.12/site-packages/whisper/transcribe.py:126: UserWarning: FP16 is not supported on CPU; using FP32 instead\n",
      "  warnings.warn(\"FP16 is not supported on CPU; using FP32 instead\")\n"
     ]
    },
    {
     "name": "stdout",
     "output_type": "stream",
     "text": [
      "- (1/500)Process file: ./data/database_sa1_Jan08_Mar19_cleaned_utt_0000007754-1\n",
      "- GroundTruth: mà mong muốn yêu cầu là nhân lực là chính quyền của việt nam <unk>\n",
      "- Predicted: tôi đang mong muốn yêu cầu lực chính viên của việt nam.\n"
     ]
    },
    {
     "name": "stderr",
     "output_type": "stream",
     "text": [
      "/home/ngo/anaconda3/lib/python3.12/site-packages/whisper/transcribe.py:126: UserWarning: FP16 is not supported on CPU; using FP32 instead\n",
      "  warnings.warn(\"FP16 is not supported on CPU; using FP32 instead\")\n"
     ]
    },
    {
     "name": "stdout",
     "output_type": "stream",
     "text": [
      "- (2/500)Process file: ./data/database_sa1_Jan08_Mar19_cleaned_utt_0000003613-1\n",
      "- GroundTruth: các chế độ luyện tập cho người mỹ lớn tuổi cũng đang phổ biến hơn dô ga tiếp tục thâm nhập vào thói quen tập thể dục của người mỹ\n",
      "- Predicted: các chế độ luyện tập cho người mỹ lớn tuổi cũng đang phổ biến hơn. yoga tiếp tục thâm nhập vào thói quen tập thể dục của người mỹ.\n"
     ]
    },
    {
     "name": "stderr",
     "output_type": "stream",
     "text": [
      "/home/ngo/anaconda3/lib/python3.12/site-packages/whisper/transcribe.py:126: UserWarning: FP16 is not supported on CPU; using FP32 instead\n",
      "  warnings.warn(\"FP16 is not supported on CPU; using FP32 instead\")\n"
     ]
    },
    {
     "name": "stdout",
     "output_type": "stream",
     "text": [
      "- (3/500)Process file: ./data/database_sa1_Jan08_Mar19_cleaned_utt_0000003232-1\n",
      "- GroundTruth: trong diễn văn đáp từ của phe cộng hòa thống đốc tiểu bang xao ca rô li na bà ních ki ha li\n",
      "- Predicted: trong diễn văn đắc từ của phe cộng hòa, thống đốc tiểu bang south carolina, bà nikki haley\n"
     ]
    },
    {
     "name": "stderr",
     "output_type": "stream",
     "text": [
      "/home/ngo/anaconda3/lib/python3.12/site-packages/whisper/transcribe.py:126: UserWarning: FP16 is not supported on CPU; using FP32 instead\n",
      "  warnings.warn(\"FP16 is not supported on CPU; using FP32 instead\")\n"
     ]
    },
    {
     "name": "stdout",
     "output_type": "stream",
     "text": [
      "- (4/500)Process file: ./data/database_sa1_Jan08_Mar19_cleaned_utt_0000012449-1\n",
      "- GroundTruth: các nhà khoa học tại cơ quan vũ trụ châu âu chuẩn bị sơ lộ o pít tơ cho sứ mệnh nghiên cứu mặt trời một cách chi tiết chưa từng thấy\n",
      "- Predicted: các nhà khoa học tại cơ quan vũ trụ châu âu chuẩn bị sơ lộ orbiter cho sứ mệnh nghiên cứu mặt trời một cách chi tiết chưa từng thấy.\n"
     ]
    },
    {
     "name": "stderr",
     "output_type": "stream",
     "text": [
      "/home/ngo/anaconda3/lib/python3.12/site-packages/whisper/transcribe.py:126: UserWarning: FP16 is not supported on CPU; using FP32 instead\n",
      "  warnings.warn(\"FP16 is not supported on CPU; using FP32 instead\")\n"
     ]
    },
    {
     "name": "stdout",
     "output_type": "stream",
     "text": [
      "- (5/500)Process file: ./data/database_sa1_Jan08_Mar19_cleaned_utt_0000007846-1\n",
      "- GroundTruth: tổng thống mỹ đô nan trăm cho biết cuộc gặp thượng đỉnh giữa ông với tổng thống nga vờ la đi mia pu tin tại hau xinh ki là một khởi điểm tốt hai nhà lãnh đạo gặp nhau trong khoảng hai giờ đồng hồ tại dinh tổng thống phần lan đáp câu hỏi của phóng viên về cuộc họp ông trăm nói đó là một khởi điểm tốt cho tất cả các bên\n",
      "- Predicted: tổng thống mỹ donald trump cho biết cuộc gặp thượng đỉnh giữa ông với tổng thống nga vladimir putin tại helsinki là một khởi điểm tốt. hai nhà lãnh đạo gặp nhau trong khoảng 2 giờ đồng hồ tại dinh tổng thống phần lan. đáp câu hòa của phóng viên về cuộc họp, ông trump nói đó là một khởi điểm tốt cho tất cả các bên.\n"
     ]
    },
    {
     "name": "stderr",
     "output_type": "stream",
     "text": [
      "/home/ngo/anaconda3/lib/python3.12/site-packages/whisper/transcribe.py:126: UserWarning: FP16 is not supported on CPU; using FP32 instead\n",
      "  warnings.warn(\"FP16 is not supported on CPU; using FP32 instead\")\n"
     ]
    },
    {
     "name": "stdout",
     "output_type": "stream",
     "text": [
      "- (6/500)Process file: ./data/database_sa1_Jan08_Mar19_cleaned_utt_0000000490-1\n",
      "- GroundTruth: tỷ lệ một giáo viên cho bốn mươi sáu học sinh tiểu học là con số tệ nhất trên thế giới ngoài châu phi ngân hàng phát triển châu á đang cấp chín mươi triệu đô la trong vòng năm năm để cải thiện chất lượng giáo dục và giảm tỷ lệ bỏ học\n",
      "- Predicted: tỷ lệ một giáo viên cho 46 học sinh tiểu học là con số tệ nhất trên thế giới ngoài châu phi. ngân hàng phát triển châu á đang cấp 90 triệu đô la trong vòng 5 năm để cải thiện chất lượng giáo dục và giảm tỷ lệ bỏ học.\n"
     ]
    },
    {
     "name": "stderr",
     "output_type": "stream",
     "text": [
      "/home/ngo/anaconda3/lib/python3.12/site-packages/whisper/transcribe.py:126: UserWarning: FP16 is not supported on CPU; using FP32 instead\n",
      "  warnings.warn(\"FP16 is not supported on CPU; using FP32 instead\")\n"
     ]
    },
    {
     "name": "stdout",
     "output_type": "stream",
     "text": [
      "- (7/500)Process file: ./data/database_sa1_Jan08_Mar19_cleaned_utt_0000006603-1\n",
      "- GroundTruth: đại lễ phật đản hay còn gọi là đại lễ tam hợp để kỷ niệm ngày đản sinh của đức phật\n",
      "- Predicted: đại lễ phật đảng hay còn gọi là đại lễ tam hợp để kỷ niệm ngày đảng sinh của đức phật.\n"
     ]
    },
    {
     "name": "stderr",
     "output_type": "stream",
     "text": [
      "/home/ngo/anaconda3/lib/python3.12/site-packages/whisper/transcribe.py:126: UserWarning: FP16 is not supported on CPU; using FP32 instead\n",
      "  warnings.warn(\"FP16 is not supported on CPU; using FP32 instead\")\n"
     ]
    },
    {
     "name": "stdout",
     "output_type": "stream",
     "text": [
      "- (8/500)Process file: ./data/database_sa1_Jan08_Mar19_cleaned_utt_0000005342-1\n",
      "- GroundTruth: với những sự tiến bộ đã đạt được trong suốt mười tám năm qua kể từ hai đất nước chúng ta tiến hành bình thường hóa quan hệ cho đến nay\n",
      "- Predicted: với những sự tiến bộ đã đạt được trong suốt 18 năm qua, kể từ hai nước nước chúng ta tiến hành bình thường hóa quan hệ cho đến nay.\n"
     ]
    },
    {
     "name": "stderr",
     "output_type": "stream",
     "text": [
      "/home/ngo/anaconda3/lib/python3.12/site-packages/whisper/transcribe.py:126: UserWarning: FP16 is not supported on CPU; using FP32 instead\n",
      "  warnings.warn(\"FP16 is not supported on CPU; using FP32 instead\")\n"
     ]
    },
    {
     "name": "stdout",
     "output_type": "stream",
     "text": [
      "- (9/500)Process file: ./data/database_sa1_Jan08_Mar19_cleaned_utt_0000008630-1\n",
      "- GroundTruth: ngô nếp ngày xưa thì ngô nếp thì nó nó ngon hơn bây giờ\n",
      "- Predicted: โง่เนฟไม่เชื่อ โง่เนฟมันกว่าเงินไปเจอ\n"
     ]
    },
    {
     "name": "stderr",
     "output_type": "stream",
     "text": [
      "/home/ngo/anaconda3/lib/python3.12/site-packages/whisper/transcribe.py:126: UserWarning: FP16 is not supported on CPU; using FP32 instead\n",
      "  warnings.warn(\"FP16 is not supported on CPU; using FP32 instead\")\n"
     ]
    },
    {
     "name": "stdout",
     "output_type": "stream",
     "text": [
      "- (10/500)Process file: ./data/database_sa1_Jan08_Mar19_cleaned_utt_0000007749-1\n",
      "- GroundTruth: tổ chức theo dõi nhân quyền hôm mười chín tháng bảy ra thông cáo yêu cầu việt nam hủy bỏ các cáo buộc hình sự và phóng thích công dân hoa kỳ gui li <unk>\n",
      "- Predicted: tổ chức theo dõi nhân quyền hôm 19 tháng 7 ra thông cáo yêu cầu việt nam hủy bỏ các cáo buộc hình sự và phóng thích công dân hoa kỳ nguyên.\n"
     ]
    },
    {
     "name": "stderr",
     "output_type": "stream",
     "text": [
      "/home/ngo/anaconda3/lib/python3.12/site-packages/whisper/transcribe.py:126: UserWarning: FP16 is not supported on CPU; using FP32 instead\n",
      "  warnings.warn(\"FP16 is not supported on CPU; using FP32 instead\")\n"
     ]
    },
    {
     "name": "stdout",
     "output_type": "stream",
     "text": [
      "- (11/500)Process file: ./data/database_sa1_Jan08_Mar19_cleaned_utt_0000005909-1\n",
      "- GroundTruth: sau một phán quyết của tòa trọng tài hồi tháng bẩy về đường chín đoạn của trung quốc\n",
      "- Predicted: sau một phán quyết của tòa trọng tài hồi tháng 7 về đường 9 đoạn của trung quốc.\n"
     ]
    },
    {
     "name": "stderr",
     "output_type": "stream",
     "text": [
      "/home/ngo/anaconda3/lib/python3.12/site-packages/whisper/transcribe.py:126: UserWarning: FP16 is not supported on CPU; using FP32 instead\n",
      "  warnings.warn(\"FP16 is not supported on CPU; using FP32 instead\")\n"
     ]
    },
    {
     "name": "stdout",
     "output_type": "stream",
     "text": [
      "- (12/500)Process file: ./data/database_sa1_Jan08_Mar19_cleaned_utt_0000011182-1\n",
      "- GroundTruth: chung cư đổi sang tên ngô gia tự hiện tại chung cư này nằm trong danh sách bốn trăm bảy mươi tư chung cư cũ ở sài gòn cần đập bỏ để xây mới\n",
      "- Predicted: trung cư đổi sang tên ngô gia tự, hiện tại trung cư này nằm trong danh sách 474 trung cư cũ ở sài gòn cần đập bỏ để xây mới.\n"
     ]
    },
    {
     "name": "stderr",
     "output_type": "stream",
     "text": [
      "/home/ngo/anaconda3/lib/python3.12/site-packages/whisper/transcribe.py:126: UserWarning: FP16 is not supported on CPU; using FP32 instead\n",
      "  warnings.warn(\"FP16 is not supported on CPU; using FP32 instead\")\n"
     ]
    },
    {
     "name": "stdout",
     "output_type": "stream",
     "text": [
      "- (13/500)Process file: ./data/database_sa1_Jan08_Mar19_cleaned_utt_0000000827-2\n",
      "- GroundTruth: thì nhà được ưu tiên nhiều hơn là cái số lượng trường cấp một nó chia đều rải rác ra theo khu vực còn như về trường cấp hai cấp ba thì nguyên khu vực chỉ có một trường duy nhất là trường\n",
      "- Predicted: thì nhà được ưu tiên nhiều hơn là số lượng trường cấp 1 nó chia đều gãi gác theo khu vực. còn như về trường cấp 2, cấp 3 thì nguyên khu vực chỉ có một trường duy nhất, đó là trường trường.\n"
     ]
    },
    {
     "name": "stderr",
     "output_type": "stream",
     "text": [
      "/home/ngo/anaconda3/lib/python3.12/site-packages/whisper/transcribe.py:126: UserWarning: FP16 is not supported on CPU; using FP32 instead\n",
      "  warnings.warn(\"FP16 is not supported on CPU; using FP32 instead\")\n"
     ]
    },
    {
     "name": "stdout",
     "output_type": "stream",
     "text": [
      "- (14/500)Process file: ./data/database_sa1_Jan08_Mar19_cleaned_utt_0000009422-1\n",
      "- GroundTruth: những người tây tạng sống tại la sa thủ đô tây tạng nổi dậy chống lại sự kiểm soát của trung quốc cuộc nổi dậy bất thành đã khiến cho nhà lãnh đạo tinh thần tây tạng\n",
      "- Predicted: những người tây tạng sống tại lhasa, thủ đô tây tạng, nổi dậy chống lại sự kiểm soát của trung quốc. cuộc nổi dậy bất thành đã khiến cho nhà lãnh đạo tinh thần tây tạng.\n"
     ]
    },
    {
     "name": "stderr",
     "output_type": "stream",
     "text": [
      "/home/ngo/anaconda3/lib/python3.12/site-packages/whisper/transcribe.py:126: UserWarning: FP16 is not supported on CPU; using FP32 instead\n",
      "  warnings.warn(\"FP16 is not supported on CPU; using FP32 instead\")\n"
     ]
    },
    {
     "name": "stdout",
     "output_type": "stream",
     "text": [
      "- (15/500)Process file: ./data/database_sa1_Jan08_Mar19_cleaned_utt_0000005721-1\n",
      "- GroundTruth: trong khi trung quốc chỉ đưa các tàu dân sự ra đây trước đó một ngày giới chức việt nam trưng hình ảnh vi đi ô\n",
      "- Predicted: trong khi trung quốc chỉ đưa các tàu dân sự ra đây. trước đó một ngày, giới chức việt nam trưng hình ảnh video\n"
     ]
    },
    {
     "name": "stderr",
     "output_type": "stream",
     "text": [
      "/home/ngo/anaconda3/lib/python3.12/site-packages/whisper/transcribe.py:126: UserWarning: FP16 is not supported on CPU; using FP32 instead\n",
      "  warnings.warn(\"FP16 is not supported on CPU; using FP32 instead\")\n"
     ]
    },
    {
     "name": "stdout",
     "output_type": "stream",
     "text": [
      "- (16/500)Process file: ./data/database_sa1_Jan08_Mar19_cleaned_utt_0000007796-1\n",
      "- GroundTruth: đánh dấu sự kiện này bằng một trong những cuộc triển lãm có nhiều người đến xem nhất của viện\n",
      "- Predicted: đánh dấu sự kiện này bằng một trong những cuộc tuyển lãm có nhiều người đánh xem nhất của viện.\n"
     ]
    },
    {
     "name": "stderr",
     "output_type": "stream",
     "text": [
      "/home/ngo/anaconda3/lib/python3.12/site-packages/whisper/transcribe.py:126: UserWarning: FP16 is not supported on CPU; using FP32 instead\n",
      "  warnings.warn(\"FP16 is not supported on CPU; using FP32 instead\")\n"
     ]
    },
    {
     "name": "stdout",
     "output_type": "stream",
     "text": [
      "- (17/500)Process file: ./data/database_sa1_Jan08_Mar19_cleaned_utt_0000005338-1\n",
      "- GroundTruth: và cảm ơn sự đón tiếp hết sức <unk>\n",
      "- Predicted: cảm ơn sự đồng ý\n"
     ]
    },
    {
     "name": "stderr",
     "output_type": "stream",
     "text": [
      "/home/ngo/anaconda3/lib/python3.12/site-packages/whisper/transcribe.py:126: UserWarning: FP16 is not supported on CPU; using FP32 instead\n",
      "  warnings.warn(\"FP16 is not supported on CPU; using FP32 instead\")\n"
     ]
    },
    {
     "name": "stdout",
     "output_type": "stream",
     "text": [
      "- (18/500)Process file: ./data/database_sa1_Jan08_Mar19_cleaned_utt_0000003533-1\n",
      "- GroundTruth: đối với ngư dân việt nam tại khu vực thềm lục địa và vùng đặc quyền kinh tế của việt nam\n",
      "- Predicted: đối với người dân việt nam tại khu vực thêm lục địa và vùng đặc quyền kinh tế của việt nam.\n"
     ]
    },
    {
     "name": "stderr",
     "output_type": "stream",
     "text": [
      "/home/ngo/anaconda3/lib/python3.12/site-packages/whisper/transcribe.py:126: UserWarning: FP16 is not supported on CPU; using FP32 instead\n",
      "  warnings.warn(\"FP16 is not supported on CPU; using FP32 instead\")\n"
     ]
    },
    {
     "name": "stdout",
     "output_type": "stream",
     "text": [
      "- (19/500)Process file: ./data/database_sa1_Jan08_Mar19_cleaned_utt_0000007523-1\n",
      "- GroundTruth: giới hữu trách đã cảnh báo các tàu du lịch chớ đến quá gần để xem dung nham tràn ra thái bình dương một hiện tượng tạo nên một đám mây sương mù gọi là lây núi lửa ki la uy đã phun trào gần như không ngừng kể từ năm một ngàn chín trăm tám mươi ba tuy nhiên đợt phun trào mới nhất là một trong những vụ lớn nhất\n",
      "- Predicted: giới hữu trách đã cảnh báo các tàu du lịch chưa đến quá gần để xem rung nham tràn ra thái bình dương, một hiện tượng tạo nên một đám mây sương mù, gọi là lays. núi lửa killarney đã phun trào gần như không ngừng kể tới năm 1983, tuy nhiên đợt phun trào mới nhất là một trong những vụ lớn nhất.\n"
     ]
    },
    {
     "name": "stderr",
     "output_type": "stream",
     "text": [
      "/home/ngo/anaconda3/lib/python3.12/site-packages/whisper/transcribe.py:126: UserWarning: FP16 is not supported on CPU; using FP32 instead\n",
      "  warnings.warn(\"FP16 is not supported on CPU; using FP32 instead\")\n"
     ]
    },
    {
     "name": "stdout",
     "output_type": "stream",
     "text": [
      "- (20/500)Process file: ./data/database_sa1_Jan08_Mar19_cleaned_utt_0000002964-2\n",
      "- GroundTruth: mất giá kéo theo ngành thủy sản của việt nam sẽ bị\n",
      "- Predicted: bị mất giá thì dĩ nhiên nó phải kéo theo cái hành thủy sản của việt nam nó sẽ bị...\n"
     ]
    },
    {
     "name": "stderr",
     "output_type": "stream",
     "text": [
      "/home/ngo/anaconda3/lib/python3.12/site-packages/whisper/transcribe.py:126: UserWarning: FP16 is not supported on CPU; using FP32 instead\n",
      "  warnings.warn(\"FP16 is not supported on CPU; using FP32 instead\")\n"
     ]
    },
    {
     "name": "stdout",
     "output_type": "stream",
     "text": [
      "- (21/500)Process file: ./data/database_sa1_Jan08_Mar19_cleaned_utt_0000005130-1\n",
      "- GroundTruth: khi chúng tôi có con một trong những quyết định mà chúng tôi đưa ra trong tư cách người cha người mẹ là đặt tên dễ phát âm bằng tiếng anh và tiếng tây ban nha bởi vì chúng tôi có người thân ở mê xi cô và eo xe va đo\n",
      "- Predicted: khi chúng tôi có con, một trong những quyết định mà chúng tôi đưa ra trong tư cách người cha người mẹ là đặt tên dễ phát âm bằng tiếng anh và tiếng tây ban nha bởi vì chúng tôi có người thân ở mexico và el salvador.\n"
     ]
    },
    {
     "name": "stderr",
     "output_type": "stream",
     "text": [
      "/home/ngo/anaconda3/lib/python3.12/site-packages/whisper/transcribe.py:126: UserWarning: FP16 is not supported on CPU; using FP32 instead\n",
      "  warnings.warn(\"FP16 is not supported on CPU; using FP32 instead\")\n"
     ]
    },
    {
     "name": "stdout",
     "output_type": "stream",
     "text": [
      "- (22/500)Process file: ./data/database_sa1_Jan08_Mar19_cleaned_utt_0000003552-1\n",
      "- GroundTruth: xem nhóm này là một tổ chức khủng bố đã thực hiện các cuộc tấn công rải rác trong số đó có một vụ đánh bom tự sát vào đại sứ quán mỹ ở an ca ra\n",
      "- Predicted: xem nhóm này là một tổ chức khủng bố, đã thực hiện các cuộc tấn công dài rác. trong số đó có một vụ đánh bom tự sát vào đại sứ quán mỹ ở ankara.\n"
     ]
    },
    {
     "name": "stderr",
     "output_type": "stream",
     "text": [
      "/home/ngo/anaconda3/lib/python3.12/site-packages/whisper/transcribe.py:126: UserWarning: FP16 is not supported on CPU; using FP32 instead\n",
      "  warnings.warn(\"FP16 is not supported on CPU; using FP32 instead\")\n"
     ]
    },
    {
     "name": "stdout",
     "output_type": "stream",
     "text": [
      "- (23/500)Process file: ./data/database_sa1_Jan08_Mar19_cleaned_utt_0000012021-1\n",
      "- GroundTruth: diễn ra ở khu du lịch tam á vào ngày mười chín tháng mười hai tới nên cô không thể nộp đơn xin vi ra được\n",
      "- Predicted: diễn ra ở khu du lịch tam á vào ngày 19 tháng 12 tới, nên cô không thể nộp đơn xin visa được.\n"
     ]
    },
    {
     "name": "stderr",
     "output_type": "stream",
     "text": [
      "/home/ngo/anaconda3/lib/python3.12/site-packages/whisper/transcribe.py:126: UserWarning: FP16 is not supported on CPU; using FP32 instead\n",
      "  warnings.warn(\"FP16 is not supported on CPU; using FP32 instead\")\n"
     ]
    },
    {
     "name": "stdout",
     "output_type": "stream",
     "text": [
      "- (24/500)Process file: ./data/database_sa1_Jan08_Mar19_cleaned_utt_0000010850-1\n",
      "- GroundTruth: chương trình do me lon pắp lích te le vi dừn sản xuất và chịu trách nhiệm về nội dung\n",
      "- Predicted: chương trình do maryland public television sản xuất và chịu trách nhiệm về nội dung.\n"
     ]
    },
    {
     "name": "stderr",
     "output_type": "stream",
     "text": [
      "/home/ngo/anaconda3/lib/python3.12/site-packages/whisper/transcribe.py:126: UserWarning: FP16 is not supported on CPU; using FP32 instead\n",
      "  warnings.warn(\"FP16 is not supported on CPU; using FP32 instead\")\n"
     ]
    },
    {
     "name": "stdout",
     "output_type": "stream",
     "text": [
      "- (25/500)Process file: ./data/database_sa1_Jan08_Mar19_cleaned_utt_0000004009-1\n",
      "- GroundTruth: hôm nay chúng ta đã thấy rằng nước pháp cần biện pháp này\n",
      "- Predicted: hôm nay chúng ta đã thấy rằng nước pháp cần biện pháp này.\n"
     ]
    },
    {
     "name": "stderr",
     "output_type": "stream",
     "text": [
      "/home/ngo/anaconda3/lib/python3.12/site-packages/whisper/transcribe.py:126: UserWarning: FP16 is not supported on CPU; using FP32 instead\n",
      "  warnings.warn(\"FP16 is not supported on CPU; using FP32 instead\")\n"
     ]
    },
    {
     "name": "stdout",
     "output_type": "stream",
     "text": [
      "- (26/500)Process file: ./data/database_sa1_Jan08_Mar19_cleaned_utt_0000010372-1\n",
      "- GroundTruth: vụ náo loạn xảy ra chiều thứ tư ngày mồng một tháng hai khi các ủng hộ viên đội nhà an ma si nhào ra sân cỏ sau trận đá bóng tấn công cầu thủ và ủng hộ viên của đội khách an a li\n",
      "- Predicted: vụ náo loạn xảy ra chiều thứ tư ngày 1 tháng 2 khi các ủng hộ viên đội nhà al-masri nhào ra sân cỏ sau trận đá bóng tấn công cầu thủ và ủng hộ viên của đội khách ali.\n"
     ]
    },
    {
     "name": "stderr",
     "output_type": "stream",
     "text": [
      "/home/ngo/anaconda3/lib/python3.12/site-packages/whisper/transcribe.py:126: UserWarning: FP16 is not supported on CPU; using FP32 instead\n",
      "  warnings.warn(\"FP16 is not supported on CPU; using FP32 instead\")\n"
     ]
    },
    {
     "name": "stdout",
     "output_type": "stream",
     "text": [
      "- (27/500)Process file: ./data/database_sa1_Jan08_Mar19_cleaned_utt_0000009731-1\n",
      "- GroundTruth: nhiều người cho rằng rượu phú lễ có hương vị đặc biệt là do rượu được nấu bằng loại nếp dẻo cộng với chất hồ men được chế biến theo những liều lượng thích hợp và phương pháp nấu rượu theo quy trình truyền thống từ xưa đến nay chính rượu phú lễ được nấu từ những nguyên liệu đặc trưng của địa phương đã làm cho những giọt rượu càng thơm ngon mang hương vị đặc biệt của vùng đất và con người phương nam\n",
      "- Predicted: nhiều người cho rằng rượu phú lễ có hương vị đặc biệt là do rượu được nấu bằng lợi nếp dẻo, cộng với chất hồ men được chế biến theo những liều lượng thích hợp và phương pháp nấu rượu theo quy trình truyền thống từ xưa đến nay. chính rượu phú lễ được nấu từ những nguyên liệu đặc trưng của địa phương đã làm cho những giọt rượu càng thơm ngon, mang hương vị đặc biệt của vùng đất và con người phương nam.\n"
     ]
    },
    {
     "name": "stderr",
     "output_type": "stream",
     "text": [
      "/home/ngo/anaconda3/lib/python3.12/site-packages/whisper/transcribe.py:126: UserWarning: FP16 is not supported on CPU; using FP32 instead\n",
      "  warnings.warn(\"FP16 is not supported on CPU; using FP32 instead\")\n"
     ]
    },
    {
     "name": "stdout",
     "output_type": "stream",
     "text": [
      "- (28/500)Process file: ./data/database_sa1_Jan08_Mar19_cleaned_utt_0000004067-1\n",
      "- GroundTruth: anh xin cho biết sau những thiệt hại trong các trận bão tuyết người dân địa phương giờ đây cảnh giác bảo cao hơn chủ động tìm kiếm các kênh thông tin bão và liên lạc truyền tình với nhau\n",
      "- Predicted: anh xin cho biết sau những thiệt hại trong các trận bão trước, người dân địa phương giờ đây cảnh giác bão cao hơn, chủ động tìm kiếm các kênh thông tin bão và liên lạc truyền tin với nhau.\n"
     ]
    },
    {
     "name": "stderr",
     "output_type": "stream",
     "text": [
      "/home/ngo/anaconda3/lib/python3.12/site-packages/whisper/transcribe.py:126: UserWarning: FP16 is not supported on CPU; using FP32 instead\n",
      "  warnings.warn(\"FP16 is not supported on CPU; using FP32 instead\")\n"
     ]
    },
    {
     "name": "stdout",
     "output_type": "stream",
     "text": [
      "- (29/500)Process file: ./data/database_sa1_Jan08_Mar19_cleaned_utt_0000009938-1\n",
      "- GroundTruth: bốn mươi mốt người sống sót trong vụ đắm tàu đã trôi dạt trên biển trước khi được một tàu chở hàng cứu hôm thứ bảy và chở tới đảo ca la ma ta của hy lạp\n",
      "- Predicted: 41 người sống sót trong một đám tàu đã trôi giặc trên biển trước khi được một tàu chở hàng cứu hôm thứ bảy và chở tới đảo kalamata của hy lạp.\n"
     ]
    },
    {
     "name": "stderr",
     "output_type": "stream",
     "text": [
      "/home/ngo/anaconda3/lib/python3.12/site-packages/whisper/transcribe.py:126: UserWarning: FP16 is not supported on CPU; using FP32 instead\n",
      "  warnings.warn(\"FP16 is not supported on CPU; using FP32 instead\")\n"
     ]
    },
    {
     "name": "stdout",
     "output_type": "stream",
     "text": [
      "- (30/500)Process file: ./data/database_sa1_Jan08_Mar19_cleaned_utt_0000002344-1\n",
      "- GroundTruth: và dây an toàn có thể bơm phồng lên kết hợp lại thì bảo vệ tốt hơn cho người ở hàng ghế hai viện ai ây ết chét đang sử dụng dữ liệu của họ để phát triển kiểu thử mới về va chạm phía trước sẽ đánh giá được mức bảo vệ ở ghế trước và sau\n",
      "- Predicted: và dễ an toàn có thể bơm phòng lên. kết hợp lại thì bảo vệ tốt hơn cho người ở hàng ghế 2. viện iihs đang sử dụng dữ liệu của họ để phát triển kiểu thứ mới về vai trạng phía trước sẽ đánh giá được mức bảo vệ ở ghế trước và sau.\n"
     ]
    },
    {
     "name": "stderr",
     "output_type": "stream",
     "text": [
      "/home/ngo/anaconda3/lib/python3.12/site-packages/whisper/transcribe.py:126: UserWarning: FP16 is not supported on CPU; using FP32 instead\n",
      "  warnings.warn(\"FP16 is not supported on CPU; using FP32 instead\")\n"
     ]
    },
    {
     "name": "stdout",
     "output_type": "stream",
     "text": [
      "- (31/500)Process file: ./data/database_sa1_Jan08_Mar19_cleaned_utt_0000009654-1\n",
      "- GroundTruth: một công dân úc gốc sô ma li hai mươi tuổi sẽ ra trình diện trước tòa chậm nhất là vào ngày hai mươi chín tháng mười một\n",
      "- Predicted: một công dân úc gốc somali 20 tuổi sẽ ra trình diện trước tòa chậm nhất là vào ngày 29 tháng 11.\n"
     ]
    },
    {
     "name": "stderr",
     "output_type": "stream",
     "text": [
      "/home/ngo/anaconda3/lib/python3.12/site-packages/whisper/transcribe.py:126: UserWarning: FP16 is not supported on CPU; using FP32 instead\n",
      "  warnings.warn(\"FP16 is not supported on CPU; using FP32 instead\")\n"
     ]
    },
    {
     "name": "stdout",
     "output_type": "stream",
     "text": [
      "- (32/500)Process file: ./data/database_sa1_Jan08_Mar19_cleaned_utt_0000012255-1\n",
      "- GroundTruth: bờ roen hoàng đang theo học ngành kỹ sư phần mềm năm nay tròn hai mươi mốt tuổi bờ roen đã trở thành người đồng sáng lập của hai dự án khởi nghiệp chuyên về phần mềm thực tế ảo\n",
      "- Predicted: brian hoàng đang theo học ngành kỹ sư phần mềm. năm nay, tròn 21 tuổi, brian đã trở thành người đồng sáng lập của hai dự án khởi nghiệp chuyên về phần mềm thực tế ảo.\n"
     ]
    },
    {
     "name": "stderr",
     "output_type": "stream",
     "text": [
      "/home/ngo/anaconda3/lib/python3.12/site-packages/whisper/transcribe.py:126: UserWarning: FP16 is not supported on CPU; using FP32 instead\n",
      "  warnings.warn(\"FP16 is not supported on CPU; using FP32 instead\")\n"
     ]
    },
    {
     "name": "stdout",
     "output_type": "stream",
     "text": [
      "- (33/500)Process file: ./data/database_sa1_Jan08_Mar19_cleaned_utt_0000004036-1\n",
      "- GroundTruth: trong số một triệu người tị nạn đăng ký ở li băng có ít nhất hai trăm năm mươi nghìn người chật vật xoay xở cuộc sống trong các trại tị nạn không chính thức\n",
      "- Predicted: trong số 1 triệu người tị nạn đăng ký ở liban, có ít nhất 250.000 người chật vật xoay sở cuộc sống trong các trại tị nạn không chính thức.\n"
     ]
    },
    {
     "name": "stderr",
     "output_type": "stream",
     "text": [
      "/home/ngo/anaconda3/lib/python3.12/site-packages/whisper/transcribe.py:126: UserWarning: FP16 is not supported on CPU; using FP32 instead\n",
      "  warnings.warn(\"FP16 is not supported on CPU; using FP32 instead\")\n"
     ]
    },
    {
     "name": "stdout",
     "output_type": "stream",
     "text": [
      "- (34/500)Process file: ./data/database_sa1_Jan08_Mar19_cleaned_utt_0000008099-1\n",
      "- GroundTruth: đã báo cáo có vi rút di ca một số người nước ngoài sau khi rời khỏi một số quốc gia đông nam á\n",
      "- Predicted: đã báo cáo có virus zika. một số người nước ngoài sau khi rời khỏi một số quốc gia đông nam á\n"
     ]
    },
    {
     "name": "stderr",
     "output_type": "stream",
     "text": [
      "/home/ngo/anaconda3/lib/python3.12/site-packages/whisper/transcribe.py:126: UserWarning: FP16 is not supported on CPU; using FP32 instead\n",
      "  warnings.warn(\"FP16 is not supported on CPU; using FP32 instead\")\n"
     ]
    },
    {
     "name": "stdout",
     "output_type": "stream",
     "text": [
      "- (35/500)Process file: ./data/database_sa1_Jan08_Mar19_cleaned_utt_0000012369-1\n",
      "- GroundTruth: kính chào quý vị đến với chương trình qép cát của bang việt ngữ đài tiếng nói hoa kỳ một số nghiên cứu y học trong nhiều năm qua gợi ý rằng uống vi ta min e mỗi ngày để bổ sung cho cơ thể có thể giúp ngăn ngừa ung thư tiền liệt tuyến nhưng một cuộc nghiên cứu mới cho thấy không những các cuộc nghiên cứu trước đây cho kết quả sai lạc mà dùng vi ta min e bổ sung hằng ngày thực sự còn có hại với quý vị cùng theo dõi tường trình <unk>\n",
      "- Predicted: xin chào quý vị đến với chương trình webcast của ban việt ngữ đài tiếng nói hoa kỳ. một số nghiên cứu y học trong nhiều năm qua gợi ý rằng uống vitamin e mỗi ngày để bổ sung cho cơ thể có thể giúp ngăn ngừa ung thư tiền liệt tuyến. nhưng một cuộc nghiên cứu mới cho thấy không những các cuộc nghiên cứu trước đây cho kết quả sai lạc, mà dùng vitamin e bổ sung hằng ngày thật sự còn có hại. mời quý vị cùng theo dõi tương trình sau.\n"
     ]
    },
    {
     "name": "stderr",
     "output_type": "stream",
     "text": [
      "/home/ngo/anaconda3/lib/python3.12/site-packages/whisper/transcribe.py:126: UserWarning: FP16 is not supported on CPU; using FP32 instead\n",
      "  warnings.warn(\"FP16 is not supported on CPU; using FP32 instead\")\n"
     ]
    },
    {
     "name": "stdout",
     "output_type": "stream",
     "text": [
      "- (36/500)Process file: ./data/database_sa1_Jan08_Mar19_cleaned_utt_0000009700-1\n",
      "- GroundTruth: là một sự cố báo chí đáng buồn khi vấn đề được một số báo đẩy quá xa đến mức làm lẫn lộn phải trái trong lịch sử\n",
      "- Predicted: là một sự cố báo chí đáng buồn khi vấn đề được một số báo đẩy quá xa đến mức làm lẫn lộn phải trái trong lịch sử.\n"
     ]
    },
    {
     "name": "stderr",
     "output_type": "stream",
     "text": [
      "/home/ngo/anaconda3/lib/python3.12/site-packages/whisper/transcribe.py:126: UserWarning: FP16 is not supported on CPU; using FP32 instead\n",
      "  warnings.warn(\"FP16 is not supported on CPU; using FP32 instead\")\n"
     ]
    },
    {
     "name": "stdout",
     "output_type": "stream",
     "text": [
      "- (37/500)Process file: ./data/database_sa1_Jan08_Mar19_cleaned_utt_0000008257-1\n",
      "- GroundTruth: gọn đặc biệt ứng dụng sẽ tự động cập nhật tin nóng và cho bạn khi trực tiếp vi đê ô hình ảnh âm thanh\n",
      "- Predicted: đặc biệt, ứng dụng sẽ tự động cập nhật tin nóng và cho bạn gửi trực tiếp video, hình ảnh, âm thanh.\n"
     ]
    },
    {
     "name": "stderr",
     "output_type": "stream",
     "text": [
      "/home/ngo/anaconda3/lib/python3.12/site-packages/whisper/transcribe.py:126: UserWarning: FP16 is not supported on CPU; using FP32 instead\n",
      "  warnings.warn(\"FP16 is not supported on CPU; using FP32 instead\")\n"
     ]
    },
    {
     "name": "stdout",
     "output_type": "stream",
     "text": [
      "- (38/500)Process file: ./data/database_sa1_Jan08_Mar19_cleaned_utt_0000004873-1\n",
      "- GroundTruth: sao đó thì nó lên tới cái não kế bên\n",
      "- Predicted: sau đó thì nó lên tới cái não kế bên\n"
     ]
    },
    {
     "name": "stderr",
     "output_type": "stream",
     "text": [
      "/home/ngo/anaconda3/lib/python3.12/site-packages/whisper/transcribe.py:126: UserWarning: FP16 is not supported on CPU; using FP32 instead\n",
      "  warnings.warn(\"FP16 is not supported on CPU; using FP32 instead\")\n"
     ]
    },
    {
     "name": "stdout",
     "output_type": "stream",
     "text": [
      "- (39/500)Process file: ./data/database_sa1_Jan08_Mar19_cleaned_utt_0000011906-1\n",
      "- GroundTruth: áp pồ dĩ nhiên cạnh tranh trong một phần cao cấp của thị trường rất mạnh tại mỹ nhật bản tây âu và đó là những nền kinh tế mà chúng ta đang chứng kiến sự bão hòa đang gia tăng đối với điện thoại thông minh\n",
      "- Predicted: apple dĩ nhiên cạnh tranh trong một phần cao cấp của thị trường, rất mạnh tại mỹ, nhật bản, tây âu, và đó là những nền kinh tế mà chúng ta đang chứng kiến sự bảo hòa đang gia tăng đối với điện thoại thông minh.\n"
     ]
    },
    {
     "name": "stderr",
     "output_type": "stream",
     "text": [
      "/home/ngo/anaconda3/lib/python3.12/site-packages/whisper/transcribe.py:126: UserWarning: FP16 is not supported on CPU; using FP32 instead\n",
      "  warnings.warn(\"FP16 is not supported on CPU; using FP32 instead\")\n"
     ]
    },
    {
     "name": "stdout",
     "output_type": "stream",
     "text": [
      "- (40/500)Process file: ./data/database_sa1_Jan08_Mar19_cleaned_utt_0000000470-1\n",
      "- GroundTruth: thông qua mạng xã hội nhóm những người vận động sự giúp đỡ pháp lý cho cô hương cách đây hai năm bày tỏ họ thấy nghẹn đắng hoặc ức phát khóc vì kết quả mới đây tại tòa ma lai si a bà nguyễn hoàng ánh một người trong nhóm cũng là một giảng viên đại học được biết đến rộng rãi trên mạng xã hội nói với vi ây ba và cả nhóm lặng người khi nghe tin\n",
      "- Predicted: thông qua mạng xã hội, nhóm những người vận động sự giúp đỡ pháp lý cho cô hương cách đây 2 năm bày tỏ họ thấy nghẹn đắng hoặc ức phát khóc về kết quả mới đây tại tòa malaysia. bà nguyễn hoàng ánh, một người trong nhóm cũng là một giảng viên đại học được biết đến rộng rãi trên mạng xã hội, nói với va, bà và cả nhóm lặng người khi nghe tin.\n"
     ]
    },
    {
     "name": "stderr",
     "output_type": "stream",
     "text": [
      "/home/ngo/anaconda3/lib/python3.12/site-packages/whisper/transcribe.py:126: UserWarning: FP16 is not supported on CPU; using FP32 instead\n",
      "  warnings.warn(\"FP16 is not supported on CPU; using FP32 instead\")\n"
     ]
    },
    {
     "name": "stdout",
     "output_type": "stream",
     "text": [
      "- (41/500)Process file: ./data/database_sa1_Jan08_Mar19_cleaned_utt_0000000962-1\n",
      "- GroundTruth: nói một trực thăng đã thả những thùng khí độc xuống một thị trấn gần thành phố a lép pô bị vây hãm ít nhất ba mươi người chủ yếu là phụ nữ và trẻ em đã bị ảnh hưởng bởi loại khi đó\n",
      "- Predicted: nói một trực thăng đã thả những thùng khí độc xuống một thị trấn gần thành phố aleppo bị vây hám. ít nhất 30 người, chủ yếu là phụ nữ và trẻ em, đã bị ảnh hưởng bởi loại khí đó.\n"
     ]
    },
    {
     "name": "stderr",
     "output_type": "stream",
     "text": [
      "/home/ngo/anaconda3/lib/python3.12/site-packages/whisper/transcribe.py:126: UserWarning: FP16 is not supported on CPU; using FP32 instead\n",
      "  warnings.warn(\"FP16 is not supported on CPU; using FP32 instead\")\n"
     ]
    },
    {
     "name": "stdout",
     "output_type": "stream",
     "text": [
      "- (42/500)Process file: ./data/database_sa1_Jan08_Mar19_cleaned_utt_0000003111-1\n",
      "- GroundTruth: đó là quyền của anh tôi hiểu nhưng có nhất thiết phải trưng ra hết như vậy không tôi nghĩ thế là hơi quá\n",
      "- Predicted: đó là quyền của anh tôi hiểu, nhưng có nhất thiết phải chưng ra hết như vậy không? tôi nghĩ thế là hơi quá.\n"
     ]
    },
    {
     "name": "stderr",
     "output_type": "stream",
     "text": [
      "/home/ngo/anaconda3/lib/python3.12/site-packages/whisper/transcribe.py:126: UserWarning: FP16 is not supported on CPU; using FP32 instead\n",
      "  warnings.warn(\"FP16 is not supported on CPU; using FP32 instead\")\n"
     ]
    },
    {
     "name": "stdout",
     "output_type": "stream",
     "text": [
      "- (43/500)Process file: ./data/database_sa1_Jan08_Mar19_cleaned_utt_0000004923-1\n",
      "- GroundTruth: dù chúng tôi có làm thế nào nó vẫn ngập ngừng trong tích tắc trước khi truyền toàn bộ lực một cách mượt mà\n",
      "- Predicted: dù chúng tôi có làm thế nào, nó vẫn ngập ngừng trong tích tắc trước khi truyền toàn bộ luật một cách mượt mà.\n"
     ]
    },
    {
     "name": "stderr",
     "output_type": "stream",
     "text": [
      "/home/ngo/anaconda3/lib/python3.12/site-packages/whisper/transcribe.py:126: UserWarning: FP16 is not supported on CPU; using FP32 instead\n",
      "  warnings.warn(\"FP16 is not supported on CPU; using FP32 instead\")\n"
     ]
    },
    {
     "name": "stdout",
     "output_type": "stream",
     "text": [
      "- (44/500)Process file: ./data/database_sa1_Jan08_Mar19_cleaned_utt_0000000527-1\n",
      "- GroundTruth: hy vọng của chúng tôi về vòng đu quay tại sở thú quốc gia là làm cho mọi người vui và có dịp học hỏi về động vật và địa bàn sinh sống của chúng\n",
      "- Predicted: hy vọng của chúng tôi về vòng đua quay tại sở thu quốc gia là làm cho mọi người vui và có dịp học hỏi về động vật và địa bàn sinh sống của chúng.\n"
     ]
    },
    {
     "name": "stderr",
     "output_type": "stream",
     "text": [
      "/home/ngo/anaconda3/lib/python3.12/site-packages/whisper/transcribe.py:126: UserWarning: FP16 is not supported on CPU; using FP32 instead\n",
      "  warnings.warn(\"FP16 is not supported on CPU; using FP32 instead\")\n"
     ]
    },
    {
     "name": "stdout",
     "output_type": "stream",
     "text": [
      "- (45/500)Process file: ./data/database_sa1_Jan08_Mar19_cleaned_utt_0000010656-2\n",
      "- GroundTruth: nhìn nghe và chơi dành cho pi a nô\n",
      "- Predicted: nhìn, nghe và chơi dành cho piano\n"
     ]
    },
    {
     "name": "stderr",
     "output_type": "stream",
     "text": [
      "/home/ngo/anaconda3/lib/python3.12/site-packages/whisper/transcribe.py:126: UserWarning: FP16 is not supported on CPU; using FP32 instead\n",
      "  warnings.warn(\"FP16 is not supported on CPU; using FP32 instead\")\n"
     ]
    },
    {
     "name": "stdout",
     "output_type": "stream",
     "text": [
      "- (46/500)Process file: ./data/database_sa1_Jan08_Mar19_cleaned_utt_0000005816-1\n",
      "- GroundTruth: người phát ngôn của bộ ngoại giao mỹ bà sác ki xác nhận chính phủ mỹ không biết gì về bất cứ kế hoạch hay đề xuất nào liên quan tới vai trò cho nhật bản trong biển đông\n",
      "- Predicted: người phát ngôn của bộ ngoại giao mỹ, bạc saki xác nhận chính phủ mỹ không biết gì về bất cứ kế hoạch hay đề xuất nào liên quan tới vai trò cho nhật bản trong biển đông.\n"
     ]
    },
    {
     "name": "stderr",
     "output_type": "stream",
     "text": [
      "/home/ngo/anaconda3/lib/python3.12/site-packages/whisper/transcribe.py:126: UserWarning: FP16 is not supported on CPU; using FP32 instead\n",
      "  warnings.warn(\"FP16 is not supported on CPU; using FP32 instead\")\n"
     ]
    },
    {
     "name": "stdout",
     "output_type": "stream",
     "text": [
      "- (47/500)Process file: ./data/database_sa1_Jan08_Mar19_cleaned_utt_0000008578-1\n",
      "- GroundTruth: nó luôn ở bên cạnh để hỗ trợ ngoài những công việc mà chỉ có nhân viên giúp việc mới làm được như là tắm rửa thay đồ thì đu đi lấp vào những khoảng trống sau đó\n",
      "- Predicted: nó luôn ở bên cạnh để hỗ trợ. ngoài những công việc mà chỉ có nhân viên giúp việc mới làm được như là tắm rửa hay thay đồ, thì rudy lấp vào những khoảng trống sau đó.\n"
     ]
    },
    {
     "name": "stderr",
     "output_type": "stream",
     "text": [
      "/home/ngo/anaconda3/lib/python3.12/site-packages/whisper/transcribe.py:126: UserWarning: FP16 is not supported on CPU; using FP32 instead\n",
      "  warnings.warn(\"FP16 is not supported on CPU; using FP32 instead\")\n"
     ]
    },
    {
     "name": "stdout",
     "output_type": "stream",
     "text": [
      "- (48/500)Process file: ./data/database_sa1_Jan08_Mar19_cleaned_utt_0000011438-1\n",
      "- GroundTruth: tin tức phát đi từ ma lay si a hôm mười một tháng ba cho hay một tòa án nước này quyết định trả tự do và hủy cáo trạng đối với nữ nghi phạm người in đô nê xi a\n",
      "- Predicted: tin tức phát đi từ malaysia hôm 11 tháng 3 cho hay một tòa án nước này quyết định trả tự do và hủy cáo trạng đối với nữ nghi phạm người indonesia.\n"
     ]
    },
    {
     "name": "stderr",
     "output_type": "stream",
     "text": [
      "/home/ngo/anaconda3/lib/python3.12/site-packages/whisper/transcribe.py:126: UserWarning: FP16 is not supported on CPU; using FP32 instead\n",
      "  warnings.warn(\"FP16 is not supported on CPU; using FP32 instead\")\n"
     ]
    },
    {
     "name": "stdout",
     "output_type": "stream",
     "text": [
      "- (49/500)Process file: ./data/database_sa1_Jan08_Mar19_cleaned_utt_0000005647-1\n",
      "- GroundTruth: ru đy không phải là giải pháp thay thế cho người giúp việc thông thường nó chỉ là một giải pháp bổ sung bên cạnh các dịch vụ giúp việc của con người đáp ứng nhu cầu ngày càng tăng của những người cao niên không muốn rời nhà\n",
      "- Predicted: rudy không phải là giải pháp thay thế cho người giúp việc thông thường, nó chỉ là một giải pháp bổ sung bên cạnh các dịch vụ giúp việc của con người đáp ứng nhu cầu ngày càng tăng của những người cao niên không muốn rời nhà.\n"
     ]
    },
    {
     "name": "stderr",
     "output_type": "stream",
     "text": [
      "/home/ngo/anaconda3/lib/python3.12/site-packages/whisper/transcribe.py:126: UserWarning: FP16 is not supported on CPU; using FP32 instead\n",
      "  warnings.warn(\"FP16 is not supported on CPU; using FP32 instead\")\n"
     ]
    },
    {
     "name": "stdout",
     "output_type": "stream",
     "text": [
      "- (50/500)Process file: ./data/database_sa1_Jan08_Mar19_cleaned_utt_0000002517-1\n",
      "- GroundTruth: bị cáo buộc đã đâm chìm một tàu cá của dân địa phương đang neo ở ngoài khơi đảo phu kẹt\n",
      "- Predicted: vì cáo buộc đã đâm chìm một tàu cá của dân địa phương đang neo ở ngoài khơi đảo phuket.\n"
     ]
    },
    {
     "name": "stderr",
     "output_type": "stream",
     "text": [
      "/home/ngo/anaconda3/lib/python3.12/site-packages/whisper/transcribe.py:126: UserWarning: FP16 is not supported on CPU; using FP32 instead\n",
      "  warnings.warn(\"FP16 is not supported on CPU; using FP32 instead\")\n"
     ]
    },
    {
     "name": "stdout",
     "output_type": "stream",
     "text": [
      "- (51/500)Process file: ./data/database_sa1_Jan08_Mar19_cleaned_utt_0000001860-1\n",
      "- GroundTruth: nói rằng mình có những bằng chứng lịch sử khẳng định chủ quyền ở biển đông trung quốc khẳng định mục tiêu căn bản ở khu vực này là biến biển đông thành nơi hòa bình hữu nghị bài xã luận của tân hoa xã nói điều này phù hợp với viễn kiến phát triển hòa bình của trung quốc và cũng nằm trong lợi ích của mỹ\n",
      "- Predicted: nói rằng mình có những bằng chứng lịch sử khẳng định chủ quyền ở biển đông, trung quốc khẳng định mục tiêu căn bản ở khu vực này là biến biển đông thành nơi hòa bình hữu nghị. bài xã luận của tân hoa xã nói điều này phù hợp với viễn kiến phát triển hòa bình của trung quốc và cũng nằm trong lợi ích của mỹ.\n"
     ]
    },
    {
     "name": "stderr",
     "output_type": "stream",
     "text": [
      "/home/ngo/anaconda3/lib/python3.12/site-packages/whisper/transcribe.py:126: UserWarning: FP16 is not supported on CPU; using FP32 instead\n",
      "  warnings.warn(\"FP16 is not supported on CPU; using FP32 instead\")\n"
     ]
    },
    {
     "name": "stdout",
     "output_type": "stream",
     "text": [
      "- (52/500)Process file: ./data/database_sa1_Jan08_Mar19_cleaned_utt_0000012228-2\n",
      "- GroundTruth: <unk> tàu quân sự bị hoen gỉ\n",
      "- Predicted: tàu quân sự bị huân dỉ.\n"
     ]
    },
    {
     "name": "stderr",
     "output_type": "stream",
     "text": [
      "/home/ngo/anaconda3/lib/python3.12/site-packages/whisper/transcribe.py:126: UserWarning: FP16 is not supported on CPU; using FP32 instead\n",
      "  warnings.warn(\"FP16 is not supported on CPU; using FP32 instead\")\n"
     ]
    },
    {
     "name": "stdout",
     "output_type": "stream",
     "text": [
      "- (53/500)Process file: ./data/database_sa1_Jan08_Mar19_cleaned_utt_0000004244-1\n",
      "- GroundTruth: hai ngàn mười lăm được đặt tên là năm hợp tác hàng hải giữa trung quốc với a sê an\n",
      "- Predicted: 2015 được đặt tên là năm hợp tác hàng hải giữa trung quốc với asean.\n"
     ]
    },
    {
     "name": "stderr",
     "output_type": "stream",
     "text": [
      "/home/ngo/anaconda3/lib/python3.12/site-packages/whisper/transcribe.py:126: UserWarning: FP16 is not supported on CPU; using FP32 instead\n",
      "  warnings.warn(\"FP16 is not supported on CPU; using FP32 instead\")\n"
     ]
    },
    {
     "name": "stdout",
     "output_type": "stream",
     "text": [
      "- (54/500)Process file: ./data/database_sa1_Jan08_Mar19_cleaned_utt_0000004583-1\n",
      "- GroundTruth: đường phố cũng như các viện bảo tàng tại thủ đô ngoa sinh tơn đi si của mỹ có thể nói luôn tấp nập du khách\n",
      "- Predicted: đường phố cũng như các viện bảo tàng tại thủ đô washington dc của mỹ có thể nói luôn tấp nập du khách\n"
     ]
    },
    {
     "name": "stderr",
     "output_type": "stream",
     "text": [
      "/home/ngo/anaconda3/lib/python3.12/site-packages/whisper/transcribe.py:126: UserWarning: FP16 is not supported on CPU; using FP32 instead\n",
      "  warnings.warn(\"FP16 is not supported on CPU; using FP32 instead\")\n"
     ]
    },
    {
     "name": "stdout",
     "output_type": "stream",
     "text": [
      "- (55/500)Process file: ./data/database_sa1_Jan08_Mar19_cleaned_utt_0000001406-1\n",
      "- GroundTruth: ít ai có thể ngờ rằng ở nơi nhiều khi nhiệt độ xuống tới âm hai mươi độ xê trong mùa đông lại có một căn nhà vườn đậm chất việt nam như vậy\n",
      "- Predicted: ít ai có thể ngờ rằng ở nơi nhiều khi nhiệt độ xuống tới âm 20 độ c trong mùa đông lại có một căn nhà vườn đậm chất việt nam như vậy.\n"
     ]
    },
    {
     "name": "stderr",
     "output_type": "stream",
     "text": [
      "/home/ngo/anaconda3/lib/python3.12/site-packages/whisper/transcribe.py:126: UserWarning: FP16 is not supported on CPU; using FP32 instead\n",
      "  warnings.warn(\"FP16 is not supported on CPU; using FP32 instead\")\n"
     ]
    },
    {
     "name": "stdout",
     "output_type": "stream",
     "text": [
      "- (56/500)Process file: ./data/database_sa1_Jan08_Mar19_cleaned_utt_0000002416-1\n",
      "- GroundTruth: hôm mùng sáu tháng chín ông đã công bố khoản đóng góp chín mươi triệu đô la trong ba năm để giúp lào\n",
      "- Predicted: hôm 6 tháng 9, ông đã công bố khoản đóng góp 90 triệu đô la trong 3 năm để giúp lào.\n"
     ]
    },
    {
     "name": "stderr",
     "output_type": "stream",
     "text": [
      "/home/ngo/anaconda3/lib/python3.12/site-packages/whisper/transcribe.py:126: UserWarning: FP16 is not supported on CPU; using FP32 instead\n",
      "  warnings.warn(\"FP16 is not supported on CPU; using FP32 instead\")\n"
     ]
    },
    {
     "name": "stdout",
     "output_type": "stream",
     "text": [
      "- (57/500)Process file: ./data/database_sa1_Jan08_Mar19_cleaned_utt_0000006602-1\n",
      "- GroundTruth: chủ tịch ủy ban tổ chức quốc tế đại lễ vê sác liên hiệp quốc nói rằng\n",
      "- Predicted: chủ tịch quỹ ban tổ chức quốc tế đại lễ vê sát liên hiệp quốc nói rằng\n"
     ]
    },
    {
     "name": "stderr",
     "output_type": "stream",
     "text": [
      "/home/ngo/anaconda3/lib/python3.12/site-packages/whisper/transcribe.py:126: UserWarning: FP16 is not supported on CPU; using FP32 instead\n",
      "  warnings.warn(\"FP16 is not supported on CPU; using FP32 instead\")\n"
     ]
    },
    {
     "name": "stdout",
     "output_type": "stream",
     "text": [
      "- (58/500)Process file: ./data/database_sa1_Jan08_Mar19_cleaned_utt_0000005701-2\n",
      "- GroundTruth: tranh chấp chủ quyền trên biển đông nên được giải quyết trực tiếp giữa các bên liên quan một cách minh bạch hợp với các tiêu chuẩn quốc tế đó là phát biểu của thượng tướng nguyễn chí vịnh khi tham dự diễn đàn an ninh khu vực tại sing ga po trong hai ngày hai và ba tháng sáu ông vịnh nói giải quyết vấn đề biển đông đòi hỏi các bên liên quan không dùng võ lực đe dọa cũng như không sử dụng hay đe dọa dùng quyền lực mềm như cô lập kinh tế người dẫn đầu phái đoàn việt nam tham dự cuộc đối thoại sang ri la cũng lặp lại quan điểm rằng tất cả các tranh chấp ở biển đông nên được giải quyết ôn hòa theo luật quốc tế đặc biệt là công ước liên hiệp quốc về luật biển năm một nghìn chín trăm tám mươi hai\n",
      "- Predicted: tranh chấp chủ quyền trên biển đông nên được giải quyết trực tiếp giữa các bên liên quan một cách minh bạch, hợp với các tiêu chuẩn quốc tế. đó là phát biểu của thượng tướng nguyễn chí vịnh khi tham dự diễn đàn an ninh khu vực tại singapore trong 2 ngày 2 và 3 tháng 6. ông vịnh nói giải quyết vấn đề biển đông đòi hỏi các bên liên quan không dùng võ lực đe dọa cũng như không sử dụng hay đe dọa dùng quyền lực mềm như cô lập kinh tế. người dẫn đầu phái đoàn việt nam tham dự cuộc đối thoại shangri-la cũng lặp lại quan điểm rằng tất cả các tranh chấp ở biển đông nên được giải quyết ôn hòa theo luật quốc tế, đặc biệt là công ước liên hiệp quốc về luật biển năm 1982.\n"
     ]
    },
    {
     "name": "stderr",
     "output_type": "stream",
     "text": [
      "/home/ngo/anaconda3/lib/python3.12/site-packages/whisper/transcribe.py:126: UserWarning: FP16 is not supported on CPU; using FP32 instead\n",
      "  warnings.warn(\"FP16 is not supported on CPU; using FP32 instead\")\n"
     ]
    },
    {
     "name": "stdout",
     "output_type": "stream",
     "text": [
      "- (59/500)Process file: ./data/database_sa1_Jan08_Mar19_cleaned_utt_0000006209-1\n",
      "- GroundTruth: tại bát đa bộ trưởng quốc phòng hoa kỳ gim mát tít tuyên bố\n",
      "- Predicted: tại bada, bộ trưởng quốc phòng hoa kỳ jim mattis tuyên bố.\n"
     ]
    },
    {
     "name": "stderr",
     "output_type": "stream",
     "text": [
      "/home/ngo/anaconda3/lib/python3.12/site-packages/whisper/transcribe.py:126: UserWarning: FP16 is not supported on CPU; using FP32 instead\n",
      "  warnings.warn(\"FP16 is not supported on CPU; using FP32 instead\")\n"
     ]
    },
    {
     "name": "stdout",
     "output_type": "stream",
     "text": [
      "- (60/500)Process file: ./data/database_sa1_Jan08_Mar19_cleaned_utt_0000009629-1\n",
      "- GroundTruth: <unk> hoại môi sinh của công ty phô mô sa\n",
      "- Predicted: cảm ơn các bạn đã theo dõi và hẹn gặp lại.\n"
     ]
    },
    {
     "name": "stderr",
     "output_type": "stream",
     "text": [
      "/home/ngo/anaconda3/lib/python3.12/site-packages/whisper/transcribe.py:126: UserWarning: FP16 is not supported on CPU; using FP32 instead\n",
      "  warnings.warn(\"FP16 is not supported on CPU; using FP32 instead\")\n"
     ]
    },
    {
     "name": "stdout",
     "output_type": "stream",
     "text": [
      "- (61/500)Process file: ./data/database_sa1_Jan08_Mar19_cleaned_utt_0000000152-1\n",
      "- GroundTruth: nếu nấu cơm đảm bảo thì mình cứ lấy gạo nó ngon ngon một chút thì về mình nấu cơm nó ngon nên thì người ta mua thì một lần hai lần ta thấy ngon thì người ta cứ tới người ta mua hoài vậy đó\n",
      "- Predicted: nếu cơm đảm bảo thì mình cứ lấy cái gạo nó ngon ngon một chút, về mình nấu cơm nó ngon lên thì người ta mua thì một lần hai lần ta thấy ngon người ta cứ tới ta mua hoài vậy á.\n"
     ]
    },
    {
     "name": "stderr",
     "output_type": "stream",
     "text": [
      "/home/ngo/anaconda3/lib/python3.12/site-packages/whisper/transcribe.py:126: UserWarning: FP16 is not supported on CPU; using FP32 instead\n",
      "  warnings.warn(\"FP16 is not supported on CPU; using FP32 instead\")\n"
     ]
    },
    {
     "name": "stdout",
     "output_type": "stream",
     "text": [
      "- (62/500)Process file: ./data/database_sa1_Jan08_Mar19_cleaned_utt_0000000795-1\n",
      "- GroundTruth: và tìm thấy dấu vết máu trên một người phụ nữ trong nhóm có họ là nguyễn ba mươi sáu tuổi bà nguyễn thừa nhận đã nấu thịt chó và khai ra năm công nhân tên giáp năm mươi hai tuổi là người giết con chó\n",
      "- Predicted: và tìm thấy dấu vết máu trên một người phụ nữ trong nhóm có họ là nguyễn, 36 tuổi. bà nguyễn thừa nhận đã nấu thịt chó và khai ra nam công nhân tên giáp, 52 tuổi là người giết con chó.\n"
     ]
    },
    {
     "name": "stderr",
     "output_type": "stream",
     "text": [
      "/home/ngo/anaconda3/lib/python3.12/site-packages/whisper/transcribe.py:126: UserWarning: FP16 is not supported on CPU; using FP32 instead\n",
      "  warnings.warn(\"FP16 is not supported on CPU; using FP32 instead\")\n"
     ]
    },
    {
     "name": "stdout",
     "output_type": "stream",
     "text": [
      "- (63/500)Process file: ./data/database_sa1_Jan08_Mar19_cleaned_utt_0000002351-1\n",
      "- GroundTruth: chúng ta cần phải áp lực không ngừng để việt nam phải có những cải thiện về nhân quyền giữa hai nước việt mỹ có thể quan hệ giao thương và nhiều thứ khác nữa nhưng những vấn đề cần được ưu tiên phải làm trước đã tôi hy vọng các tiểu bang khác và những nơi khác sẽ theo chân chúng tôi ban hành những nghị quyết tương tự như thế này để thúc đẩy cho nhân quyền việt nam\n",
      "- Predicted: chúng ta cần phải áp lực không ngừng để việt nam phải có những cải thiện về nhân quyền. giữa hai nước việt-mỹ có thể quan hệ giao thương và nhiều thứ khác nữa, nhưng những vấn đề cần được ưu tiên phải làm trước đã. tôi hy vọng các tiểu bang khác và những nơi khác sẽ theo chân chúng tôi ban hành những nghị quyết tương tự như thế này để thúc đẩy cho nhân quyền việt nam.\n"
     ]
    },
    {
     "name": "stderr",
     "output_type": "stream",
     "text": [
      "/home/ngo/anaconda3/lib/python3.12/site-packages/whisper/transcribe.py:126: UserWarning: FP16 is not supported on CPU; using FP32 instead\n",
      "  warnings.warn(\"FP16 is not supported on CPU; using FP32 instead\")\n"
     ]
    },
    {
     "name": "stdout",
     "output_type": "stream",
     "text": [
      "- (64/500)Process file: ./data/database_sa1_Jan08_Mar19_cleaned_utt_0000011845-1\n",
      "- GroundTruth: thỏa thuận này sẽ cho i ran một con đường hướng tới một quả bom áp pồ đã công bố một số sản phẩm mới vào thứ tư bao gồm máy tính bảng lớn nhất của họ i bát bâu ngoài ra hai điện thoại ai phôn mới và một phiên bản mạnh hơn của áp pồ ti vi cũng được công bố\n",
      "- Predicted: thỏa thuận này sẽ cho iran một con đường hướng tới một quả bom. apple đã công bố một số sản phẩm mới vào thứ tư, bao gồm máy tính bản lớn nhất của họ, ipad pro. ngoài ra, hai điện thoại iphone mới và một phiên bản mạnh hơn của apple tv cũng được công bố.\n"
     ]
    },
    {
     "name": "stderr",
     "output_type": "stream",
     "text": [
      "/home/ngo/anaconda3/lib/python3.12/site-packages/whisper/transcribe.py:126: UserWarning: FP16 is not supported on CPU; using FP32 instead\n",
      "  warnings.warn(\"FP16 is not supported on CPU; using FP32 instead\")\n"
     ]
    },
    {
     "name": "stdout",
     "output_type": "stream",
     "text": [
      "- (65/500)Process file: ./data/database_sa1_Jan08_Mar19_cleaned_utt_0000001020-1\n",
      "- GroundTruth: mọi người hàng rong hà nội như một nốt nhạc thánh thót làm nên vẻ du dương và trữ tình của hà nội\n",
      "- Predicted: mọi người hàng trong hà nội như một nốt nhạc thánh thoát làm nên vẹn du dương và trự tình của hà nội.\n"
     ]
    },
    {
     "name": "stderr",
     "output_type": "stream",
     "text": [
      "/home/ngo/anaconda3/lib/python3.12/site-packages/whisper/transcribe.py:126: UserWarning: FP16 is not supported on CPU; using FP32 instead\n",
      "  warnings.warn(\"FP16 is not supported on CPU; using FP32 instead\")\n"
     ]
    },
    {
     "name": "stdout",
     "output_type": "stream",
     "text": [
      "- (66/500)Process file: ./data/database_sa1_Jan08_Mar19_cleaned_utt_0000003881-1\n",
      "- GroundTruth: sau ngày ba mươi tháng tư một nghìn chín trăm bảy mươi lăm khi các phương tiện biểu thoát không còn nữa tôi và hai người đồng hành đã liều mạng sử dụng một cái thúng đan tre có giắt trai mà ngư phủ miền trung sử dụng để đưa đi ven bờ ở trên nhìn lên trời cao nhìn xuống là vực thẳm chúng tôi hoàn toàn phải đối diện với cái chết và trong các quang cảnh triển vọng như\n",
      "- Predicted: sau ngày 30 tháng 4 1975, khi các phương tiện vượt thoát không còn nữa, tôi và hai người đồng hành đã liều mạng sử dụng một cái thúng đan tre có chất chai mà ngư phủ miền trung sử dụng để đưa đi vang bờ. trên nhìn lên trời cao, nhìn xuống là vượt thẳng. chúng tôi hoàn toàn phải đối diện với cái chết và trong cái quan cảnh trêu vong như...\n"
     ]
    },
    {
     "name": "stderr",
     "output_type": "stream",
     "text": [
      "/home/ngo/anaconda3/lib/python3.12/site-packages/whisper/transcribe.py:126: UserWarning: FP16 is not supported on CPU; using FP32 instead\n",
      "  warnings.warn(\"FP16 is not supported on CPU; using FP32 instead\")\n"
     ]
    },
    {
     "name": "stdout",
     "output_type": "stream",
     "text": [
      "- (67/500)Process file: ./data/database_sa1_Jan08_Mar19_cleaned_utt_0000005112-1\n",
      "- GroundTruth: dạ nó cũng áp dụng luôn cho nhiều trường hợp khác đó là trong lúc mình có hồ sơ bảo lãnh á <unk>\n",
      "- Predicted: dạ, nó cũng áp dụng luôn cho nhiều trường hợp khác. đó là trong lúc mình có hồ sơ bảo lãnh,\n"
     ]
    },
    {
     "name": "stderr",
     "output_type": "stream",
     "text": [
      "/home/ngo/anaconda3/lib/python3.12/site-packages/whisper/transcribe.py:126: UserWarning: FP16 is not supported on CPU; using FP32 instead\n",
      "  warnings.warn(\"FP16 is not supported on CPU; using FP32 instead\")\n"
     ]
    },
    {
     "name": "stdout",
     "output_type": "stream",
     "text": [
      "- (68/500)Process file: ./data/database_sa1_Jan08_Mar19_cleaned_utt_0000007202-2\n",
      "- GroundTruth: cái cái khả năng để mà ờ chứng chứng tỏ là mình có khả năng về anh văn\n",
      "- Predicted: khả năng để mà chứng tỏ là mình có khả năng về ánh văn\n"
     ]
    },
    {
     "name": "stderr",
     "output_type": "stream",
     "text": [
      "/home/ngo/anaconda3/lib/python3.12/site-packages/whisper/transcribe.py:126: UserWarning: FP16 is not supported on CPU; using FP32 instead\n",
      "  warnings.warn(\"FP16 is not supported on CPU; using FP32 instead\")\n"
     ]
    },
    {
     "name": "stdout",
     "output_type": "stream",
     "text": [
      "- (69/500)Process file: ./data/database_sa1_Jan08_Mar19_cleaned_utt_0000001193-1\n",
      "- GroundTruth: trong vi đi ô thông báo về việc hoãn phê chuẩn nghị sĩ\n",
      "- Predicted: trong video thông báo về việc khoản phê chuẩn nghị sử.\n"
     ]
    },
    {
     "name": "stderr",
     "output_type": "stream",
     "text": [
      "/home/ngo/anaconda3/lib/python3.12/site-packages/whisper/transcribe.py:126: UserWarning: FP16 is not supported on CPU; using FP32 instead\n",
      "  warnings.warn(\"FP16 is not supported on CPU; using FP32 instead\")\n"
     ]
    },
    {
     "name": "stdout",
     "output_type": "stream",
     "text": [
      "- (70/500)Process file: ./data/database_sa1_Jan08_Mar19_cleaned_utt_0000004033-1\n",
      "- GroundTruth: những buổi lễ tưởng niệm này diễn ra vài giờ sau khi tổng thống ô ba ma loan báo một chiến lược tiêu diệt những phần tử khủng bố đang hoạt động i rắc và sia ri a\n",
      "- Predicted: những buổi lễ tưởng niệm này diễn ra vài giờ sau khi tổng thống obama loàn báo một chiến lược tiêu diệt những phần tử khủng bố đang hoạt động ở iraq và syria.\n"
     ]
    },
    {
     "name": "stderr",
     "output_type": "stream",
     "text": [
      "/home/ngo/anaconda3/lib/python3.12/site-packages/whisper/transcribe.py:126: UserWarning: FP16 is not supported on CPU; using FP32 instead\n",
      "  warnings.warn(\"FP16 is not supported on CPU; using FP32 instead\")\n"
     ]
    },
    {
     "name": "stdout",
     "output_type": "stream",
     "text": [
      "- (71/500)Process file: ./data/database_sa1_Jan08_Mar19_cleaned_utt_0000000841-1\n",
      "- GroundTruth: liên đoàn quốc tế nhân quyền tổ chức thế giới chống tra tấn và ủy ban bảo vệ quyền là người việt nam ngày hai mươi hai tháng ba gửi thư cho giới lãnh đạo cấp cao của hà nội yêu cầu chấm dứt sách nhiễu và đàn áp nhà hoạt động tôn giáo lê công cầu ở thừa thiên huế vụ trưởng gia đình phật tử thuộc viện hóa đạo giáo hội phật giáo việt nam thống nhất một tổ chức tôn giáo không được nhà nước việt nam thừa nhận\n",
      "- Predicted: liên đoàn quốc tế nhân quyền, tổ chức thế giới chống trà tấn và ủy ban bảo vệ quyền làm người việt nam ngày 22 tháng 3 gửi thư cho giới lãnh đạo cấp cao của hà nội yêu cầu chấm dứt sách nhiễu và đàn áp nhà hoạt động tôn giáo lê công cậu ở thực thiên huế, vụ trưởng gia đình phật tử thuộc viện hóa đạo giáo hội phật giáo việt nam thống nhất, một tổ chức tôn giáo không được nhà nước việt nam thừa nhận.\n"
     ]
    },
    {
     "name": "stderr",
     "output_type": "stream",
     "text": [
      "/home/ngo/anaconda3/lib/python3.12/site-packages/whisper/transcribe.py:126: UserWarning: FP16 is not supported on CPU; using FP32 instead\n",
      "  warnings.warn(\"FP16 is not supported on CPU; using FP32 instead\")\n"
     ]
    },
    {
     "name": "stdout",
     "output_type": "stream",
     "text": [
      "- (72/500)Process file: ./data/database_sa1_Jan08_Mar19_cleaned_utt_0000003505-1\n",
      "- GroundTruth: trong một cuộc phỏng vấn dành cho ban tiếng khơ me của đài vi iu ây\n",
      "- Predicted: trong một cuộc phỏng vấn dành cho ban tỉnh khmer của đài voa,\n"
     ]
    },
    {
     "name": "stderr",
     "output_type": "stream",
     "text": [
      "/home/ngo/anaconda3/lib/python3.12/site-packages/whisper/transcribe.py:126: UserWarning: FP16 is not supported on CPU; using FP32 instead\n",
      "  warnings.warn(\"FP16 is not supported on CPU; using FP32 instead\")\n"
     ]
    },
    {
     "name": "stdout",
     "output_type": "stream",
     "text": [
      "- (73/500)Process file: ./data/database_sa1_Jan08_Mar19_cleaned_utt_0000003368-1\n",
      "- GroundTruth: là một cường quốc thái bình dương chúng tôi có lợi ích quốc gia về tự do hàng hải giữ gìn hòa bình và ổn định tôn trọng luật quốc tế\n",
      "- Predicted: là một cường quốc thái bình xương, chúng tôi có lợi ích quốc gia về tự do hàng hải, giữ riêng hòa bình và ổn định tôn trọng luật quốc tế.\n"
     ]
    },
    {
     "name": "stderr",
     "output_type": "stream",
     "text": [
      "/home/ngo/anaconda3/lib/python3.12/site-packages/whisper/transcribe.py:126: UserWarning: FP16 is not supported on CPU; using FP32 instead\n",
      "  warnings.warn(\"FP16 is not supported on CPU; using FP32 instead\")\n"
     ]
    },
    {
     "name": "stdout",
     "output_type": "stream",
     "text": [
      "- (74/500)Process file: ./data/database_sa1_Jan08_Mar19_cleaned_utt_0000002005-1\n",
      "- GroundTruth: báo cáo của tạp chí na sừn nồ gieo gờ ráp phíc năm ngoái nói sản lượng đánh bắt cá hằng năm ở biển đông lên tới trên mười sáu triệu tấn cá\n",
      "- Predicted: báo cáo của tạp chí national geographic năm ngoái nói sản lượng đánh bắt cá hàng năm ở biển đông lên tới trên 16 triệu tấn cá.\n"
     ]
    },
    {
     "name": "stderr",
     "output_type": "stream",
     "text": [
      "/home/ngo/anaconda3/lib/python3.12/site-packages/whisper/transcribe.py:126: UserWarning: FP16 is not supported on CPU; using FP32 instead\n",
      "  warnings.warn(\"FP16 is not supported on CPU; using FP32 instead\")\n"
     ]
    },
    {
     "name": "stdout",
     "output_type": "stream",
     "text": [
      "- (75/500)Process file: ./data/database_sa1_Jan08_Mar19_cleaned_utt_0000012425-1\n",
      "- GroundTruth: mà một số tờ báo cũng cho rằng việc bà cờ lin tơn sử dụng màu chủ đạo pha trộn giữa màu xanh nước biển đậm và màu đỏ của đảng dân chủ và đảng cộng hòa\n",
      "- Predicted: mà một số tờ báo cũng cho rằng việc bà clinton sử dụng màu chủ đạo pha trộn giữa màu xanh nước biển đậm và màu đỏ của đảng dân chủ và đảng cộng hòa.\n"
     ]
    },
    {
     "name": "stderr",
     "output_type": "stream",
     "text": [
      "/home/ngo/anaconda3/lib/python3.12/site-packages/whisper/transcribe.py:126: UserWarning: FP16 is not supported on CPU; using FP32 instead\n",
      "  warnings.warn(\"FP16 is not supported on CPU; using FP32 instead\")\n"
     ]
    },
    {
     "name": "stdout",
     "output_type": "stream",
     "text": [
      "- (76/500)Process file: ./data/database_sa1_Jan08_Mar19_cleaned_utt_0000002897-1\n",
      "- GroundTruth: cộng đồng người việt di dân sang mỹ sẽ theo dõi sát của hội kiến này\n",
      "- Predicted: cộng đồng người việt di dân sang mỹ sẽ theo dõi sát của hội kiến này.\n"
     ]
    },
    {
     "name": "stderr",
     "output_type": "stream",
     "text": [
      "/home/ngo/anaconda3/lib/python3.12/site-packages/whisper/transcribe.py:126: UserWarning: FP16 is not supported on CPU; using FP32 instead\n",
      "  warnings.warn(\"FP16 is not supported on CPU; using FP32 instead\")\n"
     ]
    },
    {
     "name": "stdout",
     "output_type": "stream",
     "text": [
      "- (77/500)Process file: ./data/database_sa1_Jan08_Mar19_cleaned_utt_0000004646-1\n",
      "- GroundTruth: tôi nghĩ rằng người dân phải ý thức về vấn đề ăn uống ví dụ phải ăn bao nhiêu và ăn những gì và cố gắng ăn nhiều hơn những thực phẩm tươi và không biến đổi bởi vì thực phẩm chế biến có rất nhiều muối\n",
      "- Predicted: tôi nghĩ rằng người dân phải ý thức về vấn đề ăn uống, ví dụ phải ăn bao nhiêu và ăn những gì, và cố gắng ăn nhiều hơn những thực phẩm tươi và không biến đổi, bởi vì thực phẩm chế biến có rất nhiều muối.\n"
     ]
    },
    {
     "name": "stderr",
     "output_type": "stream",
     "text": [
      "/home/ngo/anaconda3/lib/python3.12/site-packages/whisper/transcribe.py:126: UserWarning: FP16 is not supported on CPU; using FP32 instead\n",
      "  warnings.warn(\"FP16 is not supported on CPU; using FP32 instead\")\n"
     ]
    },
    {
     "name": "stdout",
     "output_type": "stream",
     "text": [
      "- (78/500)Process file: ./data/database_sa1_Jan08_Mar19_cleaned_utt_0000010883-1\n",
      "- GroundTruth: người được bắc kinh hậu thuẫn nói rằng các cuộc biểu tình đã làm tổn thương nền kinh tế của thành phố và đang đưa nó vào con đường không thể quay đầu lại bà lem một lần nữa bác bỏ các lời kêu gọi liên tục từ những người biểu tình đòi bà từ chức\n",
      "- Predicted: người đưa bắc kinh hậu thuẫn nói rằng các cuộc biểu tình đã làm tổn thương nền kinh tế của thành phố và đang đưa nó vào con đường không thể quay đầu lại. bà lam một lần nữa bác bỏ các lời kêu gọi liên tục từ những người biểu tình đòi bà từ trước.\n"
     ]
    },
    {
     "name": "stderr",
     "output_type": "stream",
     "text": [
      "/home/ngo/anaconda3/lib/python3.12/site-packages/whisper/transcribe.py:126: UserWarning: FP16 is not supported on CPU; using FP32 instead\n",
      "  warnings.warn(\"FP16 is not supported on CPU; using FP32 instead\")\n"
     ]
    },
    {
     "name": "stdout",
     "output_type": "stream",
     "text": [
      "- (79/500)Process file: ./data/database_sa1_Jan08_Mar19_cleaned_utt_0000008412-2\n",
      "- GroundTruth: <unk> tiền bảo trợ tài chánh thì tới lúc đó nếu mà người con bên này làm giấy tờ xong hết và coi như là không có vấn đề gì hết á thì cái thời gian quý vị phải đợi sau lúc đó thì cỡ cỡ sáu tới chín tháng sáu tới chín tháng sau thì quý vị sẽ có cái cuộc phỏng vấn\n",
      "- Predicted: tiền bảo trợ tài chánh thì tới lúc đó nếu mà người con bên này làm giấy tờ xong hết và coi như là không có vấn đề gì hết á thì cái thời gian quý vị phải đợi sau lúc đó thì cỡ cũng cỡ 6-9 tháng 6-9 tháng sau thì quý vị sẽ có cái cuộc phỏng vấn\n"
     ]
    },
    {
     "name": "stderr",
     "output_type": "stream",
     "text": [
      "/home/ngo/anaconda3/lib/python3.12/site-packages/whisper/transcribe.py:126: UserWarning: FP16 is not supported on CPU; using FP32 instead\n",
      "  warnings.warn(\"FP16 is not supported on CPU; using FP32 instead\")\n"
     ]
    },
    {
     "name": "stdout",
     "output_type": "stream",
     "text": [
      "- (80/500)Process file: ./data/database_sa1_Jan08_Mar19_cleaned_utt_0000011654-1\n",
      "- GroundTruth: thưa giáo sư vừa nói về cái tuyển sinh trước khi ca hết giờ của chương trình dạ à cái hệ thống tuyển sinh như giáo sư nói đó là bây giờ mình muốn tìm hiểu những cái cái cơ cấu cấu trúc như thế nào họ kiểm tra chặt chẽ hay sao để tránh những sự gian lận\n",
      "- Predicted: thì giáo sư mình nói về cái tuyển sinh trước khi hết giờ của chương trình. cái hệ thống tuyển sinh như giáo sư nói đó là bây giờ mình muốn tìm hiểu những cái cơ cấu, cấu trúc như thế nào họ kiểm tra chặt chẽ ra sao để tránh những cái sự gian lận.\n"
     ]
    },
    {
     "name": "stderr",
     "output_type": "stream",
     "text": [
      "/home/ngo/anaconda3/lib/python3.12/site-packages/whisper/transcribe.py:126: UserWarning: FP16 is not supported on CPU; using FP32 instead\n",
      "  warnings.warn(\"FP16 is not supported on CPU; using FP32 instead\")\n"
     ]
    },
    {
     "name": "stdout",
     "output_type": "stream",
     "text": [
      "- (81/500)Process file: ./data/database_sa1_Jan08_Mar19_cleaned_utt_0000006831-1\n",
      "- GroundTruth: sau đó họ được chuyển đến thủ phủ tỉnh man ni tu ba là guyn ni pếch\n",
      "- Predicted: sau đó họ được chuyển đến thủ phủ tỉnh manitoba là winnipeg.\n"
     ]
    },
    {
     "name": "stderr",
     "output_type": "stream",
     "text": [
      "/home/ngo/anaconda3/lib/python3.12/site-packages/whisper/transcribe.py:126: UserWarning: FP16 is not supported on CPU; using FP32 instead\n",
      "  warnings.warn(\"FP16 is not supported on CPU; using FP32 instead\")\n"
     ]
    },
    {
     "name": "stdout",
     "output_type": "stream",
     "text": [
      "- (82/500)Process file: ./data/database_sa1_Jan08_Mar19_cleaned_utt_0000002044-1\n",
      "- GroundTruth: các bạn đưa ra một cái phen hoặc là một cái kế hoạch ý thì cái quan trọng nhất là bạn sẽ phải có bạn sẽ phải liên lạc bạn sẽ phải à\n",
      "- Predicted: các bạn đưa ra một cái plan hoặc là kiểu một cái kế hoạch ấy thì cái quan trọng nhất là bạn sẽ phải có và sẽ phải liên lạc bạn sẽ phải\n"
     ]
    },
    {
     "name": "stderr",
     "output_type": "stream",
     "text": [
      "/home/ngo/anaconda3/lib/python3.12/site-packages/whisper/transcribe.py:126: UserWarning: FP16 is not supported on CPU; using FP32 instead\n",
      "  warnings.warn(\"FP16 is not supported on CPU; using FP32 instead\")\n"
     ]
    },
    {
     "name": "stdout",
     "output_type": "stream",
     "text": [
      "- (83/500)Process file: ./data/database_sa1_Jan08_Mar19_cleaned_utt_0000000820-1\n",
      "- GroundTruth: hợp thành đội ô lim pích triều tiên thống nhất đầu tiên kể từ khi hai bên chia cắt trong cuộc nội chiến năm một ngàn chín trăm năm mươi\n",
      "- Predicted: hợp thành đội olympic triều tiên thống nhất đầu tiên kể từ khi hai bên chia cắt trong cuộc nội chiến 1950.\n"
     ]
    },
    {
     "name": "stderr",
     "output_type": "stream",
     "text": [
      "/home/ngo/anaconda3/lib/python3.12/site-packages/whisper/transcribe.py:126: UserWarning: FP16 is not supported on CPU; using FP32 instead\n",
      "  warnings.warn(\"FP16 is not supported on CPU; using FP32 instead\")\n"
     ]
    },
    {
     "name": "stdout",
     "output_type": "stream",
     "text": [
      "- (84/500)Process file: ./data/database_sa1_Jan08_Mar19_cleaned_utt_0000007478-1\n",
      "- GroundTruth: có trường học trung tâm thương mại của mỹ các nhà hàng đồ ăn nhanh giúp mang đến những tiện nghi giống như ở quê nhà cho các quân nhân phục vụ tại hàn quốc\n",
      "- Predicted: có trường học, trung tâm thương mạnh của mỹ, các nhà hàng đồ ăn nhanh giúp mang đến những tiện nghi giống như ở quê nhà cho các quân nhân phục vụ tại hàn quốc.\n"
     ]
    },
    {
     "name": "stderr",
     "output_type": "stream",
     "text": [
      "/home/ngo/anaconda3/lib/python3.12/site-packages/whisper/transcribe.py:126: UserWarning: FP16 is not supported on CPU; using FP32 instead\n",
      "  warnings.warn(\"FP16 is not supported on CPU; using FP32 instead\")\n"
     ]
    },
    {
     "name": "stdout",
     "output_type": "stream",
     "text": [
      "- (85/500)Process file: ./data/database_sa1_Jan08_Mar19_cleaned_utt_0000006220-1\n",
      "- GroundTruth: còn con trẻ thì khám phá nhiều trò chơi khác nhau để tất cả đều có được tâm trạng vui vẻ hào hứng cho năm học mới\n",
      "- Predicted: còn con trẻ thì khám phá nhiều trò chơi khác nhau để tất cả đều có được tâm trạng vui vẻ, hào hứng cho năm học mới.\n"
     ]
    },
    {
     "name": "stderr",
     "output_type": "stream",
     "text": [
      "/home/ngo/anaconda3/lib/python3.12/site-packages/whisper/transcribe.py:126: UserWarning: FP16 is not supported on CPU; using FP32 instead\n",
      "  warnings.warn(\"FP16 is not supported on CPU; using FP32 instead\")\n"
     ]
    },
    {
     "name": "stdout",
     "output_type": "stream",
     "text": [
      "- (86/500)Process file: ./data/database_sa1_Jan08_Mar19_cleaned_utt_0000007445-3\n",
      "- GroundTruth: <unk> thương mại với các ngành về đi dạy thì nó ít hơn là khi mình vào chú tâm vào nghiên cứu để về một cái văn hóa của một cái nước nào đó khi mình đọc những cái\n",
      "- Predicted: thương mại với cái ngành về đi dạy thì nó ít hơn là khi mình vào chú tầm vào nghiên cứu về một cái văn hóa của một cái nước nào đó khi mình đọc những cái\n"
     ]
    },
    {
     "name": "stderr",
     "output_type": "stream",
     "text": [
      "/home/ngo/anaconda3/lib/python3.12/site-packages/whisper/transcribe.py:126: UserWarning: FP16 is not supported on CPU; using FP32 instead\n",
      "  warnings.warn(\"FP16 is not supported on CPU; using FP32 instead\")\n"
     ]
    },
    {
     "name": "stdout",
     "output_type": "stream",
     "text": [
      "- (87/500)Process file: ./data/database_sa1_Jan08_Mar19_cleaned_utt_0000008474-1\n",
      "- GroundTruth: nhưng mà\n",
      "- Predicted: nhưng mà khi mình nhìn thấy\n"
     ]
    },
    {
     "name": "stderr",
     "output_type": "stream",
     "text": [
      "/home/ngo/anaconda3/lib/python3.12/site-packages/whisper/transcribe.py:126: UserWarning: FP16 is not supported on CPU; using FP32 instead\n",
      "  warnings.warn(\"FP16 is not supported on CPU; using FP32 instead\")\n"
     ]
    },
    {
     "name": "stdout",
     "output_type": "stream",
     "text": [
      "- (88/500)Process file: ./data/database_sa1_Jan08_Mar19_cleaned_utt_0000012605-2\n",
      "- GroundTruth: iu túp vi ô ây tiếng việt vi đi ô in ta ram với vi ô ây tiếng việt hoặc qua các thiết bị di động với ứng dụng về miễn phí trên ai tun sờ to và hu gồ bờ lây để nhận tất cả thông báo video mới nhất trên kênh iu túp của chúng tôi sau khi nhấn đăng ký quý vị hãy nhấn vào hình chuông bên góc phải ngay dưới vi đi ô muốn đóng góp hình ảnh vi đi ô bài viết cho vi ô ây việt ngữ xin gửi về địa chỉ\n",
      "- Predicted: youtube vnv video, instagram vnv hoặc qua các thiết bị di động với ứng dụng vnv miễn phí trên itunes store và google play để nhận tất cả thông báo video mới nhất trên kênh youtube của chúng tôi sau khi nhấn đăng ký, quý vị hãy nhấn vào hình chuông bên góc phải ngay dưới video bộ nông góp hình ảnh, video, bài viết cho vnv xin gửi về địa chỉ\n"
     ]
    },
    {
     "name": "stderr",
     "output_type": "stream",
     "text": [
      "/home/ngo/anaconda3/lib/python3.12/site-packages/whisper/transcribe.py:126: UserWarning: FP16 is not supported on CPU; using FP32 instead\n",
      "  warnings.warn(\"FP16 is not supported on CPU; using FP32 instead\")\n"
     ]
    },
    {
     "name": "stdout",
     "output_type": "stream",
     "text": [
      "- (89/500)Process file: ./data/database_sa1_Jan08_Mar19_cleaned_utt_0000007806-1\n",
      "- GroundTruth: không lâu sau khi chính quyền tổng thống đo nồ trăm ra tín hiệu mở ngỏ khả năng tái gia nhập ti pi pi thủ tướng việt nam nguyễn xuân phúc muốn mở rộng một phiên bản mới của hiệp định đối tác xuyên thái bình dương tới mỹ và những nước khác\n",
      "- Predicted: không lâu sau khi chính quyền tổng thống donald trump ra tín hiệu mở ngỏ khả năng tái gia nhập tpp, thủ tướng việt nam nguyễn xuân phúc muốn mở rộng một phiên bản mới của hiệp định đối tác xuyên thái bình dương tới mỹ và những nước khác.\n"
     ]
    },
    {
     "name": "stderr",
     "output_type": "stream",
     "text": [
      "/home/ngo/anaconda3/lib/python3.12/site-packages/whisper/transcribe.py:126: UserWarning: FP16 is not supported on CPU; using FP32 instead\n",
      "  warnings.warn(\"FP16 is not supported on CPU; using FP32 instead\")\n"
     ]
    },
    {
     "name": "stdout",
     "output_type": "stream",
     "text": [
      "- (90/500)Process file: ./data/database_sa1_Jan08_Mar19_cleaned_utt_0000002471-1\n",
      "- GroundTruth: những mẫu thực vật được cho vào deo si li ca thả vào ni tơ lỏng và ép thành một cuốn sách tiêu bản khô của viện bảo tàng\n",
      "- Predicted: những bẫu thực vật được cho vào gel silica, thả vào nita lỏng và ép thành một cuốn sách tiêu bản khô của viện bảo tàng.\n"
     ]
    },
    {
     "name": "stderr",
     "output_type": "stream",
     "text": [
      "/home/ngo/anaconda3/lib/python3.12/site-packages/whisper/transcribe.py:126: UserWarning: FP16 is not supported on CPU; using FP32 instead\n",
      "  warnings.warn(\"FP16 is not supported on CPU; using FP32 instead\")\n"
     ]
    },
    {
     "name": "stdout",
     "output_type": "stream",
     "text": [
      "- (91/500)Process file: ./data/database_sa1_Jan08_Mar19_cleaned_utt_0000003761-1\n",
      "- GroundTruth: chưa có ai trả lời được bởi vì\n",
      "- Predicted: chưa có ai trả lời được bởi vì\n"
     ]
    },
    {
     "name": "stderr",
     "output_type": "stream",
     "text": [
      "/home/ngo/anaconda3/lib/python3.12/site-packages/whisper/transcribe.py:126: UserWarning: FP16 is not supported on CPU; using FP32 instead\n",
      "  warnings.warn(\"FP16 is not supported on CPU; using FP32 instead\")\n"
     ]
    },
    {
     "name": "stdout",
     "output_type": "stream",
     "text": [
      "- (92/500)Process file: ./data/database_sa1_Jan08_Mar19_cleaned_utt_0000007335-1\n",
      "- GroundTruth: văn phòng của tổng thống phi líp pin ca ngợi các phi công vì đã phớt lờ các cảnh báo và các mối đe dọa của trung quốc được cho là đặc biệt hung hăng trong chuyến bay chở các phóng viên đến khu vực cách đảo nhân tạo do trung quốc bồi đắp vào cuối tuần qua máy bay hải quân hoa kỳ cũng đã bị trung quốc cảnh báo ít nhất năm lần nhưng dường như trung quốc gia cảnh báo đối với máy bay mỹ lịch sự hơn đối với máy bay phi líp pin\n",
      "- Predicted: văn phòng của tổng thống philippines ca ngợi các phi công vì đã phất lờ các cảnh báo và các mối đe dọa của trung quốc được cho là đặc biệt hung hăng. trong chuyến bay trên các phòng viên đến khu vực các đảo nhân tạo do trung quốc bồi đáp vào cuối tuần qua, máy bay hải quân hoa kỳ cũng đã bị trung quốc cảnh báo ít nhất 5 lần. nhưng dường như trung quốc ra cảnh báo đối với máy bay mỹ lịch sự hơn đối với máy bay philippines.\n"
     ]
    },
    {
     "name": "stderr",
     "output_type": "stream",
     "text": [
      "/home/ngo/anaconda3/lib/python3.12/site-packages/whisper/transcribe.py:126: UserWarning: FP16 is not supported on CPU; using FP32 instead\n",
      "  warnings.warn(\"FP16 is not supported on CPU; using FP32 instead\")\n"
     ]
    },
    {
     "name": "stdout",
     "output_type": "stream",
     "text": [
      "- (93/500)Process file: ./data/database_sa1_Jan08_Mar19_cleaned_utt_0000003339-1\n",
      "- GroundTruth: một lý do khác là chính quyền quảng châu đang trấn áp hàng ngàn người ở quá hạn thị thực truy bắt những người ở quá hạn thị thực vào thời điểm đang cố gắng ngăn chặn sự lây lan của ê bô la\n",
      "- Predicted: một lý do khác là chính quyền quảng châu đang trấn áp hàng ngàn người ở quá hạn thị thực. truy bắt những người ở quá hạn thị thực vào thời điểm đang cố gắng ngăn chặn sự lây lan của ebola,\n"
     ]
    },
    {
     "name": "stderr",
     "output_type": "stream",
     "text": [
      "/home/ngo/anaconda3/lib/python3.12/site-packages/whisper/transcribe.py:126: UserWarning: FP16 is not supported on CPU; using FP32 instead\n",
      "  warnings.warn(\"FP16 is not supported on CPU; using FP32 instead\")\n"
     ]
    },
    {
     "name": "stdout",
     "output_type": "stream",
     "text": [
      "- (94/500)Process file: ./data/database_sa1_Jan08_Mar19_cleaned_utt_0000011365-1\n",
      "- GroundTruth: tuy nhiên ngày càng có nhiều người quan tâm về trường nảy sinh trực tuyến\n",
      "- Predicted: tuy nhiên, ngày càng có nhiều người quan tâm về trường nữ sinh trực tuyến.\n"
     ]
    },
    {
     "name": "stderr",
     "output_type": "stream",
     "text": [
      "/home/ngo/anaconda3/lib/python3.12/site-packages/whisper/transcribe.py:126: UserWarning: FP16 is not supported on CPU; using FP32 instead\n",
      "  warnings.warn(\"FP16 is not supported on CPU; using FP32 instead\")\n"
     ]
    },
    {
     "name": "stdout",
     "output_type": "stream",
     "text": [
      "- (95/500)Process file: ./data/database_sa1_Jan08_Mar19_cleaned_utt_0000000629-1\n",
      "- GroundTruth: phát ngôn viên lê hải bình một lần nữa lặp lại các tuyên bố trước đây về việc việt nam có đầy đủ cơ sở pháp lý và chứng cứ lịch sử về chủ quyền không tranh cãi đối với hai quần đảo hoàng sa và trường sa\n",
      "- Predicted: phát ngôn viên lê hải bình một lần nữa lặp lại các tuyên bố trước đây về việc việt nam có đầy đủ cơ sở pháp lý và chứng cứ lịch sử về chủ quyền không tranh cãi đối với hai quần đảo hoàng sa và trường sa.\n"
     ]
    },
    {
     "name": "stderr",
     "output_type": "stream",
     "text": [
      "/home/ngo/anaconda3/lib/python3.12/site-packages/whisper/transcribe.py:126: UserWarning: FP16 is not supported on CPU; using FP32 instead\n",
      "  warnings.warn(\"FP16 is not supported on CPU; using FP32 instead\")\n"
     ]
    },
    {
     "name": "stdout",
     "output_type": "stream",
     "text": [
      "- (96/500)Process file: ./data/database_sa1_Jan08_Mar19_cleaned_utt_0000002197-1\n",
      "- GroundTruth: nó nó nó sưng lên nó nằm ở trong <unk>\n",
      "- Predicted: nó xuyên lên, nó nằm ở trong...\n"
     ]
    },
    {
     "name": "stderr",
     "output_type": "stream",
     "text": [
      "/home/ngo/anaconda3/lib/python3.12/site-packages/whisper/transcribe.py:126: UserWarning: FP16 is not supported on CPU; using FP32 instead\n",
      "  warnings.warn(\"FP16 is not supported on CPU; using FP32 instead\")\n"
     ]
    },
    {
     "name": "stdout",
     "output_type": "stream",
     "text": [
      "- (97/500)Process file: ./data/database_sa1_Jan08_Mar19_cleaned_utt_0000010269-1\n",
      "- GroundTruth: nếu mà yếu như vậy thì nó có ảnh hưởng tới các chức năng của gương mặt thí dụ như cười có còn tự nhiên hay không hay là\n",
      "- Predicted: nếu mà nó yếu như vậy thì nó có ảnh hưởng tới cái chức năng của gương mặt, ví dụ như cười, có còn tự nhiên hay không?\n"
     ]
    },
    {
     "name": "stderr",
     "output_type": "stream",
     "text": [
      "/home/ngo/anaconda3/lib/python3.12/site-packages/whisper/transcribe.py:126: UserWarning: FP16 is not supported on CPU; using FP32 instead\n",
      "  warnings.warn(\"FP16 is not supported on CPU; using FP32 instead\")\n"
     ]
    },
    {
     "name": "stdout",
     "output_type": "stream",
     "text": [
      "- (98/500)Process file: ./data/database_sa1_Jan08_Mar19_cleaned_utt_0000002711-1\n",
      "- GroundTruth: tối thứ năm hàng tuần\n",
      "- Predicted: tối thứ 5 hàng tuần\n"
     ]
    },
    {
     "name": "stderr",
     "output_type": "stream",
     "text": [
      "/home/ngo/anaconda3/lib/python3.12/site-packages/whisper/transcribe.py:126: UserWarning: FP16 is not supported on CPU; using FP32 instead\n",
      "  warnings.warn(\"FP16 is not supported on CPU; using FP32 instead\")\n"
     ]
    },
    {
     "name": "stdout",
     "output_type": "stream",
     "text": [
      "- (99/500)Process file: ./data/database_sa1_Jan08_Mar19_cleaned_utt_0000012444-1\n",
      "- GroundTruth: cũng như các chuyên gia tại các cơ quan nhà nước và các tổ chức khác các báo cho hay\n",
      "- Predicted: cũng như các chuyên gia tại các cơ quan nhà nước và các tổ chức khác, các báo cho hay.\n"
     ]
    },
    {
     "name": "stderr",
     "output_type": "stream",
     "text": [
      "/home/ngo/anaconda3/lib/python3.12/site-packages/whisper/transcribe.py:126: UserWarning: FP16 is not supported on CPU; using FP32 instead\n",
      "  warnings.warn(\"FP16 is not supported on CPU; using FP32 instead\")\n"
     ]
    },
    {
     "name": "stdout",
     "output_type": "stream",
     "text": [
      "- (100/500)Process file: ./data/database_sa1_Jan08_Mar19_cleaned_utt_0000010190-1\n",
      "- GroundTruth: mười ba ký ra nước ngoài cộng tác với báo phờ nôm pênh pốt tuần này thôi việc để phản đối điều mà họ cho là những hành vi can thiệp vào công tác biên tập sau khi tờ báo của cam pu chia được bán cho một doanh nhân ma lay si a tờ phờ nôm pênh pốt đổi chủ trong bối cảnh có nhiều lo ngại về chiến dịch đàn áp của thủ tướng hun sen nhắm vào những người chỉ trích ông trước cuộc tổng tuyển cử dự kiến diễn ra vào ngày hai mươi chín tháng bảy tới đây mười ba biên tập viên và phóng viên nộp đơn xin nghỉ việc hôm mùng bảy và tám tháng năm sau khi chủ nhân tờ báo tỷ phú hầm mỏ người úc biu câu lần báo bán từ phờ nôm pênh pốt cho nhà đầu tư ma lay xi a xi va cu ma ghe na pa ti chủ công ty quan hệ công chúng mà danh sách thân chủ có tên của thủ tướng campuchia hun sen phờ nôm pênh pốt hoạt động từ năm một ngàn chín trăm chín hai gây dựng được uy tín nhờ các bài tường trình độc lập đôi khi chỉ trích chính phủ về các vấn đề như khai thác gỗ bất hợp pháp hoặc phơi bày nạn tham nhũng các nhóm bảo vệ nhân quyền và các cơ quan báo chí quốc tế bày tỏ quan ngại rằng việc bán tờ báo phờ nôm pênh pốt có thể báo hiệu sẽ kết thúc của một nền truyền thông độc lập ở cam pu chia trước cuộc tổng tuyển cử tháng bảy\n",
      "- Predicted: 13 ký giá nước ngoài cộng tác về báo phnom penh post tuần này thôi việc để phản đối điều mà họ cho là những hành vi can thiệp và công tác biên tập sau khi tờ báo của campuchia được bán cho một doanh nhân malaysia. tờ phnom penh post đổi chủ trong bối cảnh có nhiều lo ngại về chiến dịch đàn áp của thủ tướng hun sen nhắm vào những người chỉ trích ông trước cuộc tổng tuyển cử dự kiến diễn ra vào ngày 29 tháng 7 tới đây. 13 biên tập viên và phóng viên nộp đơn xin nghỉ việc hôm 7 và 8 tháng 5 sau khi chủ nhân tờ báo, tỷ phú hầm mỏ người úc bill cole, loan báo bán tờ phnom penh post cho nhà đầu tư malaysia sivakumar ganapati, chủ công ty quan hệ công chúng mà danh sách thần chủ có tên của thủ tướng campuchia hun sen. phnom penh post hoạt động từ năm 1992, gây dựng được uy tín nhờ các bài tương trình độc lập, đôi khi chỉ trích chính phủ về các vấn đề như khái thác hỗ bất hợp pháp hoặc phơi bày nạn tham nhũng. các nhóm bảo vệ nhân quyền và các cơ quan báo chí quốc tế bày tỏ quan ngại rằng việc bán tờ báo phnom penh post có thể bảo hiệu sẽ kết thúc của một nền truyền thông độc lập ở campuchia trước cuộc tổng tuyển cử tháng 7.\n"
     ]
    },
    {
     "name": "stderr",
     "output_type": "stream",
     "text": [
      "/home/ngo/anaconda3/lib/python3.12/site-packages/whisper/transcribe.py:126: UserWarning: FP16 is not supported on CPU; using FP32 instead\n",
      "  warnings.warn(\"FP16 is not supported on CPU; using FP32 instead\")\n"
     ]
    },
    {
     "name": "stdout",
     "output_type": "stream",
     "text": [
      "- (101/500)Process file: ./data/database_sa1_Jan08_Mar19_cleaned_utt_0000005855-1\n",
      "- GroundTruth: cái mô đó mô mỡ đó nó càng ngày càng phát triển nó đẩy cái mắt ra phía trước\n",
      "- Predicted: cái mô mỡ đó càng ngày càng phát triển nên nó đẩy mắt ra phía trước.\n"
     ]
    },
    {
     "name": "stderr",
     "output_type": "stream",
     "text": [
      "/home/ngo/anaconda3/lib/python3.12/site-packages/whisper/transcribe.py:126: UserWarning: FP16 is not supported on CPU; using FP32 instead\n",
      "  warnings.warn(\"FP16 is not supported on CPU; using FP32 instead\")\n"
     ]
    },
    {
     "name": "stdout",
     "output_type": "stream",
     "text": [
      "- (102/500)Process file: ./data/database_sa1_Jan08_Mar19_cleaned_utt_0000012509-1\n",
      "- GroundTruth: người mỹ gốc phi líp pin vừa quan tâm đến quê hương họ vừa quan tâm đến tình hình đất nước nơi họ đang sống\n",
      "- Predicted: người mỹ gốc philippines vừa quan tâm đến quê hương họ, vừa quan tâm đến tình hình đất nước nơi họ đang sống.\n"
     ]
    },
    {
     "name": "stderr",
     "output_type": "stream",
     "text": [
      "/home/ngo/anaconda3/lib/python3.12/site-packages/whisper/transcribe.py:126: UserWarning: FP16 is not supported on CPU; using FP32 instead\n",
      "  warnings.warn(\"FP16 is not supported on CPU; using FP32 instead\")\n"
     ]
    },
    {
     "name": "stdout",
     "output_type": "stream",
     "text": [
      "- (103/500)Process file: ./data/database_sa1_Jan08_Mar19_cleaned_utt_0000006121-1\n",
      "- GroundTruth: hay hiệp hội giáo dân cồn dầu tiến sĩ nguyễn đình thắng giám đốc điều hành pi pi ét ô ét cho biết phái đoàn của ông gồm trên chục người từ nhiều quốc gia\n",
      "- Predicted: hay hiệp hội giáo dân công dọc. tiến sĩ nguyễn đình thắng, giám đốc điều hành bpsos cho biết, phái đoàn của ông gồm trên chục người từ nhiều quốc gia.\n"
     ]
    },
    {
     "name": "stderr",
     "output_type": "stream",
     "text": [
      "/home/ngo/anaconda3/lib/python3.12/site-packages/whisper/transcribe.py:126: UserWarning: FP16 is not supported on CPU; using FP32 instead\n",
      "  warnings.warn(\"FP16 is not supported on CPU; using FP32 instead\")\n"
     ]
    },
    {
     "name": "stdout",
     "output_type": "stream",
     "text": [
      "- (104/500)Process file: ./data/database_sa1_Jan08_Mar19_cleaned_utt_0000008005-1\n",
      "- GroundTruth: chính phủ của chúng tôi vẫn không thay đổi trong nguyên tắc phi hạt nhân hóa bán đảo triều tiên điều mà bộ trưởng quốc phòng cho biết hôm qua có thể được hiểu là chúng ta cần tìm ra các biện pháp đối phó thực tiễn bằng cách xem xét tất cả các giải pháp quân sự hiện có trong tình hình an ninh nghiêm trọng trước các mối đe dọa hạt nhân và tên lửa của triều tiên\n",
      "- Predicted: chính phủ của chúng tôi vẫn không thay đổi trong nguyên tắc phi hạt nhân hóa bán đảo triều tiên. điều mà bộ trưởng quốc phòng cho biết hôm qua có thể được hiểu là chúng ta cần tìm ra các biện pháp đối phó thực tiễn bằng cách xem xét tất cả các giải pháp quân sự hiện có trong tình hình an ninh nghiêm trọng trước các mối đe dọa hạt nhân và tên lửa của triều tiên.\n"
     ]
    },
    {
     "name": "stderr",
     "output_type": "stream",
     "text": [
      "/home/ngo/anaconda3/lib/python3.12/site-packages/whisper/transcribe.py:126: UserWarning: FP16 is not supported on CPU; using FP32 instead\n",
      "  warnings.warn(\"FP16 is not supported on CPU; using FP32 instead\")\n"
     ]
    },
    {
     "name": "stdout",
     "output_type": "stream",
     "text": [
      "- (105/500)Process file: ./data/database_sa1_Jan08_Mar19_cleaned_utt_0000001653-1\n",
      "- GroundTruth: trà my kính mời quý vị đến với chương trình quép cát của bang việt ngữ đài tiếng nói hoa kỳ trong những năm gần đây nước mỹ xuất hiện một phong trào sản xuất bia lớn mạnh được biết với tên gọi là bia thủ công\n",
      "- Predicted: trần my kính mời quý vị đến với chương trình webcast của ban việt nữ đài tiếng nói hoa kỳ. trong những năm gần đây, nước mỹ xuất hiện một phong trào sản xuất bia lớn mạnh, được biết với tên gọi là bia thủ công.\n"
     ]
    },
    {
     "name": "stderr",
     "output_type": "stream",
     "text": [
      "/home/ngo/anaconda3/lib/python3.12/site-packages/whisper/transcribe.py:126: UserWarning: FP16 is not supported on CPU; using FP32 instead\n",
      "  warnings.warn(\"FP16 is not supported on CPU; using FP32 instead\")\n"
     ]
    },
    {
     "name": "stdout",
     "output_type": "stream",
     "text": [
      "- (106/500)Process file: ./data/database_sa1_Jan08_Mar19_cleaned_utt_0000011291-2\n",
      "- GroundTruth: cả hai bên thậm chí không thể đàm phán bởi những vấn đề này <unk>\n",
      "- Predicted: cả hai bên thậm chí không thể đàm phán về những vấn đề này\n"
     ]
    },
    {
     "name": "stderr",
     "output_type": "stream",
     "text": [
      "/home/ngo/anaconda3/lib/python3.12/site-packages/whisper/transcribe.py:126: UserWarning: FP16 is not supported on CPU; using FP32 instead\n",
      "  warnings.warn(\"FP16 is not supported on CPU; using FP32 instead\")\n"
     ]
    },
    {
     "name": "stdout",
     "output_type": "stream",
     "text": [
      "- (107/500)Process file: ./data/database_sa1_Jan08_Mar19_cleaned_utt_0000010495-1\n",
      "- GroundTruth: từ rạp chiếu phim mang nét đặc trưng trung hoa tại trung tâm hô ly guốt tới một chốn thư giãn nổi tiếng từ xa xưa của giới làm phim có tên là cà phê phô mô sa văn hóa trung hoa và đông phương đã mê hoặc ho ly guốt từ những ngày đầu của ngành công nghiệp điện ảnh\n",
      "- Predicted: từ rạp chứa phim mang nét đặc trưng trung hoa tại trung tâm hollywood, tới một trúng thư giãn nổi tiếng từ xa xưa của giới làm phim có tên là café formosa, văn hóa trung hoa và đông phương đã mê hoạt hollywood từ những ngày đầu của ngành công nghiệp điện ảnh.\n"
     ]
    },
    {
     "name": "stderr",
     "output_type": "stream",
     "text": [
      "/home/ngo/anaconda3/lib/python3.12/site-packages/whisper/transcribe.py:126: UserWarning: FP16 is not supported on CPU; using FP32 instead\n",
      "  warnings.warn(\"FP16 is not supported on CPU; using FP32 instead\")\n"
     ]
    },
    {
     "name": "stdout",
     "output_type": "stream",
     "text": [
      "- (108/500)Process file: ./data/database_sa1_Jan08_Mar19_cleaned_utt_0000011220-1\n",
      "- GroundTruth: cái cưa nhỏ cái lưỡi cưa nhỏ thì họ cưa vào vào vào tay các thầy nếu mà các thầy <unk>\n",
      "- Predicted: các bạn hãy đăng kí cho kênh lalaschool để không bỏ lỡ những video hấp dẫn\n"
     ]
    },
    {
     "name": "stderr",
     "output_type": "stream",
     "text": [
      "/home/ngo/anaconda3/lib/python3.12/site-packages/whisper/transcribe.py:126: UserWarning: FP16 is not supported on CPU; using FP32 instead\n",
      "  warnings.warn(\"FP16 is not supported on CPU; using FP32 instead\")\n"
     ]
    },
    {
     "name": "stdout",
     "output_type": "stream",
     "text": [
      "- (109/500)Process file: ./data/database_sa1_Jan08_Mar19_cleaned_utt_0000009686-1\n",
      "- GroundTruth: ông đã bị giới chức bắc triều tiên câu lưu tại thủ đô bình nhưỡng trong khi thực hiện một sứ mạng nhân đạo tới nước này một thân hữu của mục sư hông su niêm nói với bằng tiếng triều tiên của đài vi uây rằng vị mục sư tới thủ đô của bắc triều tiên hôm ba mươi mốt tháng giêng và kể từ đó gia đình cũng như bạn bè không có tin tức gì từ ông khi ông\n",
      "- Predicted: ông đã bị giới chức bắc triều tiên cầu lưu tại thủ đô bình nhưỡng, trong khi thực hiện một sứ mạng nhân đạo tới nước này. một thân hữu của mục sư hồn sol lim nói với bàn tiếng triều tiên của đài voa rằng vị mục sư tới thủ đô của bắc triều tiên hôm 31 tháng giêng, và kể từ đó gia đình cũng như bạn bè không có tin tức gì từ ông.\n"
     ]
    },
    {
     "name": "stderr",
     "output_type": "stream",
     "text": [
      "/home/ngo/anaconda3/lib/python3.12/site-packages/whisper/transcribe.py:126: UserWarning: FP16 is not supported on CPU; using FP32 instead\n",
      "  warnings.warn(\"FP16 is not supported on CPU; using FP32 instead\")\n"
     ]
    },
    {
     "name": "stdout",
     "output_type": "stream",
     "text": [
      "- (110/500)Process file: ./data/database_sa1_Jan08_Mar19_cleaned_utt_0000011829-1\n",
      "- GroundTruth: hồi tháng giêng với hàn thuyết tuyên bố điều đó sẽ không xảy ra\n",
      "- Predicted: hồi tháng giêng với hàng tweet tuyên bố điều đó sẽ không xảy ra.\n"
     ]
    },
    {
     "name": "stderr",
     "output_type": "stream",
     "text": [
      "/home/ngo/anaconda3/lib/python3.12/site-packages/whisper/transcribe.py:126: UserWarning: FP16 is not supported on CPU; using FP32 instead\n",
      "  warnings.warn(\"FP16 is not supported on CPU; using FP32 instead\")\n"
     ]
    },
    {
     "name": "stdout",
     "output_type": "stream",
     "text": [
      "- (111/500)Process file: ./data/database_sa1_Jan08_Mar19_cleaned_utt_0000009179-1\n",
      "- GroundTruth: cái đây là em bán lại cho cái nhà làm giống nhưng phải là em làm giống như này là hết một tuấn nếu mà tới khuya mà bán không được là bỏ bán không được là em bỏ hết nó nứt ra là nó chua bỏ hôi\n",
      "- Predicted: cái đây là em bán lại cho cái nhà làm giống chứ không phải là em làm giống. cái này là em rai hết một tuần. nếu mà tới khi mà bán không được là bỏ. bán không được là em bỏ hết. nó nứt ra là nó chua bỏ thôi.\n"
     ]
    },
    {
     "name": "stderr",
     "output_type": "stream",
     "text": [
      "/home/ngo/anaconda3/lib/python3.12/site-packages/whisper/transcribe.py:126: UserWarning: FP16 is not supported on CPU; using FP32 instead\n",
      "  warnings.warn(\"FP16 is not supported on CPU; using FP32 instead\")\n"
     ]
    },
    {
     "name": "stdout",
     "output_type": "stream",
     "text": [
      "Lỗi khi xử lý ./data/database_sa1_Jan08_Mar19_utt_0000012655-1.wav: [Errno 2] No such file or directory: './data/database_sa1_Jan08_Mar19_utt_0000012655-1.txt'\n"
     ]
    },
    {
     "name": "stderr",
     "output_type": "stream",
     "text": [
      "/home/ngo/anaconda3/lib/python3.12/site-packages/whisper/transcribe.py:126: UserWarning: FP16 is not supported on CPU; using FP32 instead\n",
      "  warnings.warn(\"FP16 is not supported on CPU; using FP32 instead\")\n"
     ]
    },
    {
     "name": "stdout",
     "output_type": "stream",
     "text": [
      "- (113/500)Process file: ./data/database_sa1_Jan08_Mar19_cleaned_utt_0000000762-1\n",
      "- GroundTruth: quý vị đã theo dõi tin tức của đài tiếng nói hoa kỳ các chương trình ra đi ô vi đi ô của chúng tôi trên vi ô ây tiếng việt chấm com có thể xem dễ dàng khi dùng trình duyệt ô pê ra trang phếch búc vi ô ây tiếng việt\n",
      "- Predicted: các quý vị đã theo dõi tin tức của đài tiếng nói hoa kỳ, các chương trình radio, video của chúng tôi trên voa.com. có thể xem dễ dàng khi dùng trình duyệt opera, trang facebook voa tiếng việt.\n"
     ]
    },
    {
     "name": "stderr",
     "output_type": "stream",
     "text": [
      "/home/ngo/anaconda3/lib/python3.12/site-packages/whisper/transcribe.py:126: UserWarning: FP16 is not supported on CPU; using FP32 instead\n",
      "  warnings.warn(\"FP16 is not supported on CPU; using FP32 instead\")\n"
     ]
    },
    {
     "name": "stdout",
     "output_type": "stream",
     "text": [
      "- (114/500)Process file: ./data/database_sa1_Jan08_Mar19_cleaned_utt_0000002087-1\n",
      "- GroundTruth: cũng cũng được làm cho ngắn gọn hơn chữ\n",
      "- Predicted: cũng được làm cho ngắn gọn hơn chữ.\n"
     ]
    },
    {
     "name": "stderr",
     "output_type": "stream",
     "text": [
      "/home/ngo/anaconda3/lib/python3.12/site-packages/whisper/transcribe.py:126: UserWarning: FP16 is not supported on CPU; using FP32 instead\n",
      "  warnings.warn(\"FP16 is not supported on CPU; using FP32 instead\")\n"
     ]
    },
    {
     "name": "stdout",
     "output_type": "stream",
     "text": [
      "- (115/500)Process file: ./data/database_sa1_Jan08_Mar19_cleaned_utt_0000009195-1\n",
      "- GroundTruth: một trung tâm mới hỗ trợ cho các doanh nghiệp sử dụng công nghệ sạch tại việt nam vừa khai trương hôm mười một tháng mười hai ngân hàng thế giới cho hay trung tâm đổi mới sáng tạo ứng phó với biến đổi khí hậu việt nam gọi tắt là\n",
      "- Predicted: một trung tâm mới hỗ trợ cho các doanh nghiệp sử dụng công nghệ sạch tại việt nam vừa khai trương hôm 11 tháng 12. ngân hàng thế giới cho hay trung tâm đổi mới sáng tạo ứng phó với biến đổi khí hậu việt nam gọi tắt là vnđ.\n"
     ]
    },
    {
     "name": "stderr",
     "output_type": "stream",
     "text": [
      "/home/ngo/anaconda3/lib/python3.12/site-packages/whisper/transcribe.py:126: UserWarning: FP16 is not supported on CPU; using FP32 instead\n",
      "  warnings.warn(\"FP16 is not supported on CPU; using FP32 instead\")\n"
     ]
    },
    {
     "name": "stdout",
     "output_type": "stream",
     "text": [
      "- (116/500)Process file: ./data/database_sa1_Jan08_Mar19_cleaned_utt_0000010945-1\n",
      "- GroundTruth: khi các em nhỏ hăng hái muốn học tự các em học\n",
      "- Predicted: khi các em nhỏ hàng hái muốn học, tự các em học.\n"
     ]
    },
    {
     "name": "stderr",
     "output_type": "stream",
     "text": [
      "/home/ngo/anaconda3/lib/python3.12/site-packages/whisper/transcribe.py:126: UserWarning: FP16 is not supported on CPU; using FP32 instead\n",
      "  warnings.warn(\"FP16 is not supported on CPU; using FP32 instead\")\n"
     ]
    },
    {
     "name": "stdout",
     "output_type": "stream",
     "text": [
      "- (117/500)Process file: ./data/database_sa1_Jan08_Mar19_cleaned_utt_0000009220-1\n",
      "- GroundTruth: và ông không phải là những người chống chế độ hay phản đối chính quyền nhà nước cần phải dẹp bỏ các trạm bê ô tê bẩn ngày đêm bóc lột người dân bên cạnh đó chính quyền cần đối thoại biết lắng nghe và hành xử một cách công bằng công tâm với nhân dân\n",
      "- Predicted: và ông không phải là những người chống chế độ hay phản đối chính quyền. nhà nước cần phải dẹp bỏ các trạm bot bẩn ngày đêm bóp lột người dân. bên cạnh đó, chính quyền cần đối thoại, biết lắng nghe và hành xử một cách công bằng, công tâm với nhân dân.\n"
     ]
    },
    {
     "name": "stderr",
     "output_type": "stream",
     "text": [
      "/home/ngo/anaconda3/lib/python3.12/site-packages/whisper/transcribe.py:126: UserWarning: FP16 is not supported on CPU; using FP32 instead\n",
      "  warnings.warn(\"FP16 is not supported on CPU; using FP32 instead\")\n"
     ]
    },
    {
     "name": "stdout",
     "output_type": "stream",
     "text": [
      "- (118/500)Process file: ./data/database_sa1_Jan08_Mar19_cleaned_utt_0000008726-2\n",
      "- GroundTruth: sáng thì họ đóng cửa họ đi làm hết rồi còn vài ông già bà lão ở nhà thôi\n",
      "- Predicted: sáng nay họ đóng cửa đi làm hết, còn vài ông già bà lão ở nhà thôi.\n"
     ]
    },
    {
     "name": "stderr",
     "output_type": "stream",
     "text": [
      "/home/ngo/anaconda3/lib/python3.12/site-packages/whisper/transcribe.py:126: UserWarning: FP16 is not supported on CPU; using FP32 instead\n",
      "  warnings.warn(\"FP16 is not supported on CPU; using FP32 instead\")\n"
     ]
    },
    {
     "name": "stdout",
     "output_type": "stream",
     "text": [
      "- (119/500)Process file: ./data/database_sa1_Jan08_Mar19_cleaned_utt_0000009008-1\n",
      "- GroundTruth: để giành lại thế đa số hạ viện hơn là ở thượng viện các cử tri sẽ bầu bốn trăm ba mươi lăm ghế hạ viện\n",
      "- Predicted: để giành lại thấy đa số ở hạ viện hơn là ở thượng viện. các cử tri sẽ bỏ 435 ghế hạ viện.\n"
     ]
    },
    {
     "name": "stderr",
     "output_type": "stream",
     "text": [
      "/home/ngo/anaconda3/lib/python3.12/site-packages/whisper/transcribe.py:126: UserWarning: FP16 is not supported on CPU; using FP32 instead\n",
      "  warnings.warn(\"FP16 is not supported on CPU; using FP32 instead\")\n"
     ]
    },
    {
     "name": "stdout",
     "output_type": "stream",
     "text": [
      "- (120/500)Process file: ./data/database_sa1_Jan08_Mar19_cleaned_utt_0000001861-1\n",
      "- GroundTruth: bài báo cũng chỉ trích những người mà họ gọi là mang tư tưởng thời chiến tranh lạnh ở goa sin tơn muốn xem vấn đề này là cơ hội để kiềm chế trung quốc và cản trở sự phát triển của trung quốc\n",
      "- Predicted: bài báo cũng chỉ trích những người mà họ gọi là mang tư tưởng thời chiến tranh lạnh ở washington, muốn xem vấn đề này là cơ hội để kiềm chế trung quốc và cản trở sự phát triển của trung quốc.\n"
     ]
    },
    {
     "name": "stderr",
     "output_type": "stream",
     "text": [
      "/home/ngo/anaconda3/lib/python3.12/site-packages/whisper/transcribe.py:126: UserWarning: FP16 is not supported on CPU; using FP32 instead\n",
      "  warnings.warn(\"FP16 is not supported on CPU; using FP32 instead\")\n"
     ]
    },
    {
     "name": "stdout",
     "output_type": "stream",
     "text": [
      "- (121/500)Process file: ./data/database_sa1_Jan08_Mar19_cleaned_utt_0000010832-1\n",
      "- GroundTruth: tác phẩm của lê bi đíp gồm chính các máy ảnh và những bức hình một triển lãm ở quê hương ông vùng ca linh ninh ráp máy ảnh của ông được bán với giá một trăm năm mươi đô la nhưng những bức ảnh thì vô giá\n",
      "- Predicted: tác phẩm của lebedev gồm chính các máy ảnh và những bức hình một triển lãm mà quê hương ông, vùng kaliningrad. máy ảnh của ông được bán với giá 150 đô la, nhưng những bức ảnh thì vô giá.\n"
     ]
    },
    {
     "name": "stderr",
     "output_type": "stream",
     "text": [
      "/home/ngo/anaconda3/lib/python3.12/site-packages/whisper/transcribe.py:126: UserWarning: FP16 is not supported on CPU; using FP32 instead\n",
      "  warnings.warn(\"FP16 is not supported on CPU; using FP32 instead\")\n"
     ]
    },
    {
     "name": "stdout",
     "output_type": "stream",
     "text": [
      "- (122/500)Process file: ./data/database_sa1_Jan08_Mar19_cleaned_utt_0000011142-2\n",
      "- GroundTruth: <unk> nghỉ có tầm vóc mang ý nghĩa rất lớn và vô cùng giá trị tất để cho cả các tôn giáo cũng như là các tổ chức nói lên cái tiếng nói của mình\n",
      "- Predicted: thầu nghị có tâm pháp mang một ý nghĩa rất là lớn và vô cùng giá trị để cho tất cả các tôn giáo cũng như các tổ chức nói lên cái tiên nói của mình.\n"
     ]
    },
    {
     "name": "stderr",
     "output_type": "stream",
     "text": [
      "/home/ngo/anaconda3/lib/python3.12/site-packages/whisper/transcribe.py:126: UserWarning: FP16 is not supported on CPU; using FP32 instead\n",
      "  warnings.warn(\"FP16 is not supported on CPU; using FP32 instead\")\n"
     ]
    },
    {
     "name": "stdout",
     "output_type": "stream",
     "text": [
      "- (123/500)Process file: ./data/database_sa1_Jan08_Mar19_cleaned_utt_0000009621-1\n",
      "- GroundTruth: linh mục nguyễn văn hùng cho biết mục đích thứ hai của cuộc biểu tình là để đánh động người lao động ở việt nam\n",
      "- Predicted: linh bục nguyễn văn hùng cho biết mục đích thứ hai của cuộc biểu tình là để đánh động người lao động ở việt nam.\n"
     ]
    },
    {
     "name": "stderr",
     "output_type": "stream",
     "text": [
      "/home/ngo/anaconda3/lib/python3.12/site-packages/whisper/transcribe.py:126: UserWarning: FP16 is not supported on CPU; using FP32 instead\n",
      "  warnings.warn(\"FP16 is not supported on CPU; using FP32 instead\")\n"
     ]
    },
    {
     "name": "stdout",
     "output_type": "stream",
     "text": [
      "- (124/500)Process file: ./data/database_sa1_Jan08_Mar19_cleaned_utt_0000011603-1\n",
      "- GroundTruth: động thái này đánh dấu cao điểm của một đêm đầy kịch tính tại điện ca pi tô nơi mà các dân biểu cộng hòa nhiều lần trở lại phòng họp\n",
      "- Predicted: động thái này đánh dấu cao điểm của một đêm đầy kịch tính tại điện capitol, nơi mà các dân biểu cộng hòa nhiều lần trở lại phòng họp.\n"
     ]
    },
    {
     "name": "stderr",
     "output_type": "stream",
     "text": [
      "/home/ngo/anaconda3/lib/python3.12/site-packages/whisper/transcribe.py:126: UserWarning: FP16 is not supported on CPU; using FP32 instead\n",
      "  warnings.warn(\"FP16 is not supported on CPU; using FP32 instead\")\n"
     ]
    },
    {
     "name": "stdout",
     "output_type": "stream",
     "text": [
      "- (125/500)Process file: ./data/database_sa1_Jan08_Mar19_cleaned_utt_0000005589-2\n",
      "- GroundTruth: <unk> căm phẫn trung quốc xâm chiếm việt nam lên đến tột cùng bà nguyễn thị nhung mẹ phương uyên\n",
      "- Predicted: từ căm phẫn trung quốc xâm chiếm việt nam lên đến tộc cụng. ba nguyễn thị nhung, mẹ phương uyên\n"
     ]
    },
    {
     "name": "stderr",
     "output_type": "stream",
     "text": [
      "/home/ngo/anaconda3/lib/python3.12/site-packages/whisper/transcribe.py:126: UserWarning: FP16 is not supported on CPU; using FP32 instead\n",
      "  warnings.warn(\"FP16 is not supported on CPU; using FP32 instead\")\n"
     ]
    },
    {
     "name": "stdout",
     "output_type": "stream",
     "text": [
      "- (126/500)Process file: ./data/database_sa1_Jan08_Mar19_cleaned_utt_0000006275-1\n",
      "- GroundTruth: ban chỉ đạo phòng chống lụt bão trung ương cho biết gần hai trăm năm mươi ngàn nhà cửa bị nước lũ nhận chìm và gần ba ngàn héc ta hoa màu bị phá hủy\n",
      "- Predicted: ban chỉ đạo phòng chống lục bảo trung ương cho biết gần 250.000 nhà cửa bị nước lũ nhận chìm và gần 3.000 hectare hoa màu bị phá hủy.\n"
     ]
    },
    {
     "name": "stderr",
     "output_type": "stream",
     "text": [
      "/home/ngo/anaconda3/lib/python3.12/site-packages/whisper/transcribe.py:126: UserWarning: FP16 is not supported on CPU; using FP32 instead\n",
      "  warnings.warn(\"FP16 is not supported on CPU; using FP32 instead\")\n"
     ]
    },
    {
     "name": "stdout",
     "output_type": "stream",
     "text": [
      "- (127/500)Process file: ./data/database_sa1_Jan08_Mar19_cleaned_utt_0000008941-4\n",
      "- GroundTruth: nhiều hơn\n",
      "- Predicted: đến cộng đồng việt nam nhiều hơn.\n"
     ]
    },
    {
     "name": "stderr",
     "output_type": "stream",
     "text": [
      "/home/ngo/anaconda3/lib/python3.12/site-packages/whisper/transcribe.py:126: UserWarning: FP16 is not supported on CPU; using FP32 instead\n",
      "  warnings.warn(\"FP16 is not supported on CPU; using FP32 instead\")\n"
     ]
    },
    {
     "name": "stdout",
     "output_type": "stream",
     "text": [
      "- (128/500)Process file: ./data/database_sa1_Jan08_Mar19_cleaned_utt_0000003889-1\n",
      "- GroundTruth: thứ hạng của việt nam trong bản báo cáo năm nay không thay đổi so với năm trước đó phi đom hao xếp việt nam hạng thứ một trăm tám mươi hai trên tổng số một trăm chín mươi bảy quốc gia và lãnh thổ được khảo sát về tự do báo chí\n",
      "- Predicted: thứ hạng của việt nam trong bản báo cáo năm nay không thay đổi so với năm trước đó. freedom house xếp việt nam hạng thứ 182 trên tổng số 197 quốc gia và lãnh thổ được khảo sát về tự do báo chí.\n"
     ]
    },
    {
     "name": "stderr",
     "output_type": "stream",
     "text": [
      "/home/ngo/anaconda3/lib/python3.12/site-packages/whisper/transcribe.py:126: UserWarning: FP16 is not supported on CPU; using FP32 instead\n",
      "  warnings.warn(\"FP16 is not supported on CPU; using FP32 instead\")\n"
     ]
    },
    {
     "name": "stdout",
     "output_type": "stream",
     "text": [
      "- (129/500)Process file: ./data/database_sa1_Jan08_Mar19_cleaned_utt_0000001103-1\n",
      "- GroundTruth: làm như vậy chúng ta đang loại bỏ những chính sách đưa tới việc các quân nhân chuyển giới\n",
      "- Predicted: làm như vậy chúng ta đang loại bỏ những chính sách đưa tới việc các quân nhân chuyển giới.\n"
     ]
    },
    {
     "name": "stderr",
     "output_type": "stream",
     "text": [
      "/home/ngo/anaconda3/lib/python3.12/site-packages/whisper/transcribe.py:126: UserWarning: FP16 is not supported on CPU; using FP32 instead\n",
      "  warnings.warn(\"FP16 is not supported on CPU; using FP32 instead\")\n"
     ]
    },
    {
     "name": "stdout",
     "output_type": "stream",
     "text": [
      "- (130/500)Process file: ./data/database_sa1_Jan08_Mar19_cleaned_utt_0000010029-1\n",
      "- GroundTruth: trung quốc đã mở những chuyến du hành này vào năm hai nghìn mười ba từ tỉnh hải nam trên cơ sở thử nghiệm\n",
      "- Predicted: trung quốc đã mở những chuyến du hành này vào năm 2013 từ tỉnh hải nam trên cơ sở thử nghiệm.\n"
     ]
    },
    {
     "name": "stderr",
     "output_type": "stream",
     "text": [
      "/home/ngo/anaconda3/lib/python3.12/site-packages/whisper/transcribe.py:126: UserWarning: FP16 is not supported on CPU; using FP32 instead\n",
      "  warnings.warn(\"FP16 is not supported on CPU; using FP32 instead\")\n"
     ]
    },
    {
     "name": "stdout",
     "output_type": "stream",
     "text": [
      "- (131/500)Process file: ./data/database_sa1_Jan08_Mar19_cleaned_utt_0000009984-1\n",
      "- GroundTruth: các công ty mỹ phía rời trung quốc mà về lại mỹ thì có thể là chúng ta đang chứng kiến <unk>\n",
      "- Predicted: có công ty mỹ phía rời trung quốc mà về lại mỹ thì có thể là chúng ta có đang chứng kiến\n"
     ]
    },
    {
     "name": "stderr",
     "output_type": "stream",
     "text": [
      "/home/ngo/anaconda3/lib/python3.12/site-packages/whisper/transcribe.py:126: UserWarning: FP16 is not supported on CPU; using FP32 instead\n",
      "  warnings.warn(\"FP16 is not supported on CPU; using FP32 instead\")\n"
     ]
    },
    {
     "name": "stdout",
     "output_type": "stream",
     "text": [
      "- (132/500)Process file: ./data/database_sa1_Jan08_Mar19_cleaned_utt_0000008457-1\n",
      "- GroundTruth: qua những chuyện kể từ người lớn và qua thầy cô giáo khi chúng tôi học các môn học về tây tạng chúng tôi được học rất nhiều về lịch sử và tôi thực sự cảm thấy rất gắn kết với văn hóa tây tạng tôi cũng mừng tượng được đất nước tây tạng như thế nào được bao quanh bởi các dãy núi và tù viện\n",
      "- Predicted: qua những chuyện kể từ người lớn và qua thầy cô giáo, khi chúng tôi học các môn học về tây tạng, chúng tôi được học rất nhiều về lịch sử và tôi thực sự cảm thấy rất gắn kết với văn hóa tây tạng. tôi cũng mừng tượng được đất nước tây tạng như thế nào, được bao quanh bởi các dãy núi và tù viện.\n"
     ]
    },
    {
     "name": "stderr",
     "output_type": "stream",
     "text": [
      "/home/ngo/anaconda3/lib/python3.12/site-packages/whisper/transcribe.py:126: UserWarning: FP16 is not supported on CPU; using FP32 instead\n",
      "  warnings.warn(\"FP16 is not supported on CPU; using FP32 instead\")\n"
     ]
    },
    {
     "name": "stdout",
     "output_type": "stream",
     "text": [
      "- (133/500)Process file: ./data/database_sa1_Jan08_Mar19_cleaned_utt_0000000678-1\n",
      "- GroundTruth: điều đó theo ông là mục tiêu tối hậu của các nhà khoa học\n",
      "- Predicted: điều đó, theo ông, là mục tiêu tối hậu của các nhà khoa học.\n"
     ]
    },
    {
     "name": "stderr",
     "output_type": "stream",
     "text": [
      "/home/ngo/anaconda3/lib/python3.12/site-packages/whisper/transcribe.py:126: UserWarning: FP16 is not supported on CPU; using FP32 instead\n",
      "  warnings.warn(\"FP16 is not supported on CPU; using FP32 instead\")\n"
     ]
    },
    {
     "name": "stdout",
     "output_type": "stream",
     "text": [
      "- (134/500)Process file: ./data/database_sa1_Jan08_Mar19_cleaned_utt_0000001816-1\n",
      "- GroundTruth: người ta ước tính rằng hai mươi lăm phần trăm bệnh nhân tiểu đường sẽ bị loét chân đây là một vấn đề nghiêm trọng trên toàn thế giới và ở anh nó còn đẩy nhanh tiến trình cắt cụt\n",
      "- Predicted: người ta ước tính rằng 25% bệnh nhân tiểu đường sẽ bị đoát chân. đây là một vấn đề nghiêm trọng trên toàn thế giới và ở anh, nó còn đẩy nhanh tiến trình cắt cụt.\n"
     ]
    },
    {
     "name": "stderr",
     "output_type": "stream",
     "text": [
      "/home/ngo/anaconda3/lib/python3.12/site-packages/whisper/transcribe.py:126: UserWarning: FP16 is not supported on CPU; using FP32 instead\n",
      "  warnings.warn(\"FP16 is not supported on CPU; using FP32 instead\")\n"
     ]
    },
    {
     "name": "stdout",
     "output_type": "stream",
     "text": [
      "- (135/500)Process file: ./data/database_sa1_Jan08_Mar19_cleaned_utt_0000009668-1\n",
      "- GroundTruth: phóng thích những tù nhân người mỹ đã được công bố ngày thứ bảy\n",
      "- Predicted: phóng thích những tù nhân người mỹ đã được công bố ngày thứ bảy.\n"
     ]
    },
    {
     "name": "stderr",
     "output_type": "stream",
     "text": [
      "/home/ngo/anaconda3/lib/python3.12/site-packages/whisper/transcribe.py:126: UserWarning: FP16 is not supported on CPU; using FP32 instead\n",
      "  warnings.warn(\"FP16 is not supported on CPU; using FP32 instead\")\n"
     ]
    },
    {
     "name": "stdout",
     "output_type": "stream",
     "text": [
      "- (136/500)Process file: ./data/database_sa1_Jan08_Mar19_cleaned_utt_0000005716-1\n",
      "- GroundTruth: bắc kinh nói tàu việt nam đâm vào tàu trung quốc ở biển đông phơ lớp pin thúc đẩy bộ quy tắc ứng xử biển đông tại thượng đỉnh a si an phơ lớp pin phớt lờ yêu cầu phóng thích ngư dân trung quốc\n",
      "- Predicted: bắc kinh nói tàu việt nam đâm vào tàu trung quốc ở biển đông philippines thúc đẩy bộ quy tắc ứng xử biển đông tại thượng đỉnh asean philippines phớt lợi yêu cầu phóng thích người dân trung quốc\n"
     ]
    },
    {
     "name": "stderr",
     "output_type": "stream",
     "text": [
      "/home/ngo/anaconda3/lib/python3.12/site-packages/whisper/transcribe.py:126: UserWarning: FP16 is not supported on CPU; using FP32 instead\n",
      "  warnings.warn(\"FP16 is not supported on CPU; using FP32 instead\")\n"
     ]
    },
    {
     "name": "stdout",
     "output_type": "stream",
     "text": [
      "- (137/500)Process file: ./data/database_sa1_Jan08_Mar19_cleaned_utt_0000001611-1\n",
      "- GroundTruth: khúc biến tấu sắc màu của phở phở từ lâu đã trở thành món ăn ngon đặc trưng cho quốc hồn quốc túy của người việt nam trong lòng bạn bè thế giới trong vòng vài năm gần đây sài gòn xuất hiện một loại bánh phở với đầy màu sắc và được chế biến tại chỗ mang đến nhiều khám phá vô cùng thú vị của thực khách ngoài việc bánh phở tươi được sản xuất bằng một loại máy riêng đặt ngay tại quán món phở này còn khoác lên mình chiếc áo mới với nhiều màu sắc khác nhau khiến món phở quen thuộc với người dân việt nam bỗng trở nên khác lạ phong phú và đặc sắc hơn\n",
      "- Predicted: khúc biến tấu sắc màu của phở phở từ lâu đã trở thành món ăn ngon đặc trưng cho quốc hồn quốc túy của người việt nam trong lòng bạn bè thế giới trong vòng vài năm gần đây, sài gòn xuất hiện một loại bánh phở với đầy màu sắc và được chế biến tại chỗ mang đến nhiều khám phá vô cùng thú vị của thực khách ngoài việc bánh phở tươi được sản xuất bằng một loại máy riêng đặt ngay tại quán món phở này còn khoác lên mình chiếc áo mới với nhiều màu sắc khác nhau khiến món phở quen thuộc với người dân việt nam bỗng trở nên khác lạ, phong phú và đặc sắc hơn\n"
     ]
    },
    {
     "name": "stderr",
     "output_type": "stream",
     "text": [
      "/home/ngo/anaconda3/lib/python3.12/site-packages/whisper/transcribe.py:126: UserWarning: FP16 is not supported on CPU; using FP32 instead\n",
      "  warnings.warn(\"FP16 is not supported on CPU; using FP32 instead\")\n"
     ]
    },
    {
     "name": "stdout",
     "output_type": "stream",
     "text": [
      "- (138/500)Process file: ./data/database_sa1_Jan08_Mar19_cleaned_utt_0000008867-1\n",
      "- GroundTruth: ngoại trưởng rôn ke ri nói nếu bắt tay với nhau mỹ và nga có thể tạo ra một sự khác biệt đáng kể tại sia ri a ông ke ri lên tiếng hôm mười lăm tháng mười hai tại mốt cô va nơi ông họp bàn với các giới chức hàng đầu của nga về vai trò của mốt cô va tại sia ri a và u cờ rai na\n",
      "- Predicted: ngoại trưởng john kerry nói nếu bắt tay với nhau, mỹ và nga có thể tạo ra một sự khác biệt đáng kể tại syria ông kerry lên tiếng hôm 15 tháng 12 tại moscow, nơi ông họp bàn với các giới chức hàng đầu của nga về vai trò của moscow tại syria và ukraine\n"
     ]
    },
    {
     "name": "stderr",
     "output_type": "stream",
     "text": [
      "/home/ngo/anaconda3/lib/python3.12/site-packages/whisper/transcribe.py:126: UserWarning: FP16 is not supported on CPU; using FP32 instead\n",
      "  warnings.warn(\"FP16 is not supported on CPU; using FP32 instead\")\n"
     ]
    },
    {
     "name": "stdout",
     "output_type": "stream",
     "text": [
      "- (139/500)Process file: ./data/database_sa1_Jan08_Mar19_cleaned_utt_0000000072-1\n",
      "- GroundTruth: bây giờ mình nói từ thẻ xanh hai năm tới thẻ xanh vĩnh viễn minh đang ờ nói về thẻ xanh nhưng mà có quá nhiều câu hỏi\n",
      "- Predicted: bây giờ mình nói từ thẻ xanh 2 năm tới thẻ xanh vĩnh viễn mình đang nói về thẻ xanh nhưng mà có quá nhiều câu hỏi\n"
     ]
    },
    {
     "name": "stderr",
     "output_type": "stream",
     "text": [
      "/home/ngo/anaconda3/lib/python3.12/site-packages/whisper/transcribe.py:126: UserWarning: FP16 is not supported on CPU; using FP32 instead\n",
      "  warnings.warn(\"FP16 is not supported on CPU; using FP32 instead\")\n"
     ]
    },
    {
     "name": "stdout",
     "output_type": "stream",
     "text": [
      "- (140/500)Process file: ./data/database_sa1_Jan08_Mar19_cleaned_utt_0000008418-1\n",
      "- GroundTruth: trước khi giữ chức tổng giám đốc công ty nông nghiệp sài gòn ông hùng từng là chỉ huy trưởng lực lượng thanh niên xung phong thành phố hồ chí minh sau khi bị bắt ở sài gòn hôm sáu tháng bảy ông đã bị di lý ra hà nội để phục vụ công tác điều tra\n",
      "- Predicted: trước khi giữ chức tổng giám đốc công ty nông nghiệp sài gòn, ông hùng từng là chỉ huy trưởng lực lượng thanh niên xuân phong thành phố hồ chí minh. sau khi bị bắt ở sài gòn hôm 6 tháng 7, ông đã bị di lý ra hà nội để phục vụ công tác điều tra.\n"
     ]
    },
    {
     "name": "stderr",
     "output_type": "stream",
     "text": [
      "/home/ngo/anaconda3/lib/python3.12/site-packages/whisper/transcribe.py:126: UserWarning: FP16 is not supported on CPU; using FP32 instead\n",
      "  warnings.warn(\"FP16 is not supported on CPU; using FP32 instead\")\n"
     ]
    },
    {
     "name": "stdout",
     "output_type": "stream",
     "text": [
      "- (141/500)Process file: ./data/database_sa1_Jan08_Mar19_cleaned_utt_0000010986-2\n",
      "- GroundTruth: <unk> bố hai năm tám của giơ lóc gơ việt nam là đại sứ mỹ tại\n",
      "- Predicted: tuyên bố 258 của giới blogger việt nam là đại sứ mỹ tại...\n"
     ]
    },
    {
     "name": "stderr",
     "output_type": "stream",
     "text": [
      "/home/ngo/anaconda3/lib/python3.12/site-packages/whisper/transcribe.py:126: UserWarning: FP16 is not supported on CPU; using FP32 instead\n",
      "  warnings.warn(\"FP16 is not supported on CPU; using FP32 instead\")\n"
     ]
    },
    {
     "name": "stdout",
     "output_type": "stream",
     "text": [
      "- (142/500)Process file: ./data/database_sa1_Jan08_Mar19_cleaned_utt_0000003600-1\n",
      "- GroundTruth: nhưng mặt khác việc bảo tồn văn hóa giữ lại cái nề nếp của người việt hải ngoại và vô cùng quan trọng có như vậy thì chúng ta mới không bị mất gốc sau này\n",
      "- Predicted: nhưng mà cái việc bảo tồn văn hóa, giữ lại cái nề nếp của người việt hoài ngoại là vô cùng quan trọng. có như vậy đó thì chúng ta mới không bị mất gốc sau này.\n"
     ]
    },
    {
     "name": "stderr",
     "output_type": "stream",
     "text": [
      "/home/ngo/anaconda3/lib/python3.12/site-packages/whisper/transcribe.py:126: UserWarning: FP16 is not supported on CPU; using FP32 instead\n",
      "  warnings.warn(\"FP16 is not supported on CPU; using FP32 instead\")\n"
     ]
    },
    {
     "name": "stdout",
     "output_type": "stream",
     "text": [
      "- (143/500)Process file: ./data/database_sa1_Jan08_Mar19_cleaned_utt_0000010157-1\n",
      "- GroundTruth: cảnh sát anh điều tra vụ án ba mươi chín người chết trong thùng xe tải loan báo bắt giữ hai nghi can bị tình nghi buôn người hôm hai mươi lăm tháng mười thi thể của ba mươi mốt đàn ông và tám phụ nữ được phát hiện hôm hai mươi ba tháng mười ở khu vực e sếch gần thủ đô anh quốc một người đàn ông ba mươi tám tuổi và một phụ nữ bị bắt ở tây bắc nước anh vì bị nghi đồng lõa buôn người và sát nhân cảnh sát anh cho hay họ tin là các nạn nhân là công dân trung quốc đại sứ quán trung quốc tại lân đân nói đã gửi người tới e sếch tìm hiểu sự việc trong khi bắc kinh kêu gọi anh nghiêm trị những ai liên quan tài xế xe tải hai mươi lăm tuổi đang bị thẩm vấn như một nghi can giết người chiếc xe này đi từ cảng giê bốc của bỉ tới anh tờ gờ lô bồ tham của nhà nước trung quốc ngày hai mươi lăm tháng mười đăng bài xã luận nói anh phải chịu một phần trách nhiệm đối với những cái chết này\n",
      "- Predicted: cảnh sát anh điều tra vụ án 39 người chết trong thùng xe tải loan báo bắt giữ 2 nghi can bị tình nghi buôn người hôm 25 tháng 10. thi thể của 31 đàn ông và 8 phụ nữ được phát hiện hôm 23 tháng 10 ở khu vực essex, gần thủ đô anh quốc. một người đàn ông 38 tuổi và một phụ nữ bị bắt ở tây bắc nước anh vì bị nghi đồng lõa buôn người và sát nhân. cảnh sát anh cho hay họ tin các nạn nhân là công dân trung quốc. tài sứ quán trung quốc tại london nói đã gửi người từ essex tìm hiểu sự việc trong khi bắc kinh kêu gọi anh nghiêm trị những ai liên quan. tài sứ xe tải 25 tuổi đang bị thẩm vấn như một nghi can giết người. chiếc xe này đi từ càng redbrook của bỉ tới anh. tờ global times của nhà nước trung quốc ngày 25 tháng 10 đăng bài xá luận nói anh phải chịu một phần trách nhiệm đối với những cái chết này.\n"
     ]
    },
    {
     "name": "stderr",
     "output_type": "stream",
     "text": [
      "/home/ngo/anaconda3/lib/python3.12/site-packages/whisper/transcribe.py:126: UserWarning: FP16 is not supported on CPU; using FP32 instead\n",
      "  warnings.warn(\"FP16 is not supported on CPU; using FP32 instead\")\n"
     ]
    },
    {
     "name": "stdout",
     "output_type": "stream",
     "text": [
      "- (144/500)Process file: ./data/database_sa1_Jan08_Mar19_cleaned_utt_0000001008-1\n",
      "- GroundTruth: nga sẽ chuyển giao hai tàu ngầm điện đi a den lớp va sáp dan ca cho việt nam vào năm sau việt nam năm hai nghìn lẻ chín đặt mua sáu tàu ngầm của nga trong một hợp đồng trị giá hai tỷ đô la một động thái được xem là nỗ lực tăng cường lực lượng trước sự bành trướng không ngừng của trung quốc ở biển đông\n",
      "- Predicted: nga sẽ chuyển giao 2 tàu ngầm điện dienzen lovashav-yanka cho việt nam vào năm sau. việt nam năm 2009 đặt mua 6 tàu ngầm của nga trong một hợp đồng trị giá 2 tỷ đô la, một động thái được xem là nỗ lực tăng cường lực lượng trước sự bành trướng không ngừng của trung quốc ở biển đồng.\n"
     ]
    },
    {
     "name": "stderr",
     "output_type": "stream",
     "text": [
      "/home/ngo/anaconda3/lib/python3.12/site-packages/whisper/transcribe.py:126: UserWarning: FP16 is not supported on CPU; using FP32 instead\n",
      "  warnings.warn(\"FP16 is not supported on CPU; using FP32 instead\")\n"
     ]
    },
    {
     "name": "stdout",
     "output_type": "stream",
     "text": [
      "- (145/500)Process file: ./data/database_sa1_Jan08_Mar19_cleaned_utt_0000007123-1\n",
      "- GroundTruth: được các sản phẩm nông nghiệp hữu cơ là hầu như là không bao giờ gọi là sử không sử dụng bất cứ một loại phân và thuốc bảo vệ thực vật nào\n",
      "- Predicted: được các sản phẩm nông nghiệp. phá hiếu cơ là hầu như là không bao giờ gọi là không sử dụng bất cứ một loại phân và thuốc bảo vệ thực vật nào.\n"
     ]
    },
    {
     "name": "stderr",
     "output_type": "stream",
     "text": [
      "/home/ngo/anaconda3/lib/python3.12/site-packages/whisper/transcribe.py:126: UserWarning: FP16 is not supported on CPU; using FP32 instead\n",
      "  warnings.warn(\"FP16 is not supported on CPU; using FP32 instead\")\n"
     ]
    },
    {
     "name": "stdout",
     "output_type": "stream",
     "text": [
      "- (146/500)Process file: ./data/database_sa1_Jan08_Mar19_cleaned_utt_0000006273-1\n",
      "- GroundTruth: ba mươi sáu người chết vì lũ tại miền trung việt nam tính tới ngày mười tám tháng mười một trong khi tám mươi ngàn người khác\n",
      "- Predicted: 36 người chết vì lũ tại miền trung việt nam tính tới ngày 18 tháng 11, trong khi 80.000 người khác.\n"
     ]
    },
    {
     "name": "stderr",
     "output_type": "stream",
     "text": [
      "/home/ngo/anaconda3/lib/python3.12/site-packages/whisper/transcribe.py:126: UserWarning: FP16 is not supported on CPU; using FP32 instead\n",
      "  warnings.warn(\"FP16 is not supported on CPU; using FP32 instead\")\n"
     ]
    },
    {
     "name": "stdout",
     "output_type": "stream",
     "text": [
      "- (147/500)Process file: ./data/database_sa1_Jan08_Mar19_cleaned_utt_0000011178-2\n",
      "- GroundTruth: bằng việc đồng ý bắt đầu các cuộc đàm phán về một bộ quy tắc ứng xử được chờ đợi từ lâu cho vùng biển này các nhà phân tích nói bắc kinh đang lợi dụng tình hình tương đối yên ổn để lặng lẽ củng cố sự kiểm soát của họ đối với vùng biển\n",
      "- Predicted: bằng việc đồng ý bắt đầu các cuộc đàm phán về một bộ quy tắc ứng xử được chờ đợi từ lâu cho vùng biển này. các nhà phân tích nói bắc kinh đang lợi dụng tình hình tương đối yên ồn để lãng lẽ củng cố sự kiểm soát của họ đối với vùng biển.\n"
     ]
    },
    {
     "name": "stderr",
     "output_type": "stream",
     "text": [
      "/home/ngo/anaconda3/lib/python3.12/site-packages/whisper/transcribe.py:126: UserWarning: FP16 is not supported on CPU; using FP32 instead\n",
      "  warnings.warn(\"FP16 is not supported on CPU; using FP32 instead\")\n"
     ]
    },
    {
     "name": "stdout",
     "output_type": "stream",
     "text": [
      "- (148/500)Process file: ./data/database_sa1_Jan08_Mar19_cleaned_utt_0000009398-2\n",
      "- GroundTruth: <unk> đề tầm soát thì cũng tương đối dễ nhưng mà người bệnh đó họ phải\n",
      "- Predicted: về tầm soát cũng tương đối dễ nhưng mà người bệnh đó họ phải\n"
     ]
    },
    {
     "name": "stderr",
     "output_type": "stream",
     "text": [
      "/home/ngo/anaconda3/lib/python3.12/site-packages/whisper/transcribe.py:126: UserWarning: FP16 is not supported on CPU; using FP32 instead\n",
      "  warnings.warn(\"FP16 is not supported on CPU; using FP32 instead\")\n"
     ]
    },
    {
     "name": "stdout",
     "output_type": "stream",
     "text": [
      "- (149/500)Process file: ./data/database_sa1_Jan08_Mar19_cleaned_utt_0000004490-1\n",
      "- GroundTruth: ô tôi tới đây với một số người bạn và thực sự thì tôi cũng rất thích văn hóa á châu đặc biệt là văn hóa nhật bản nên rõ ràng là tôi không thể bỏ qua triển lãm này được\n",
      "- Predicted: ồ, tôi tới đây với một số người bạn và thực sự thì tôi cũng rất thích văn hóa a châu, đặc biệt là văn hóa nhật bản, nên rõ ràng là tôi không thể bỏ qua triển lãm này được.\n"
     ]
    },
    {
     "name": "stderr",
     "output_type": "stream",
     "text": [
      "/home/ngo/anaconda3/lib/python3.12/site-packages/whisper/transcribe.py:126: UserWarning: FP16 is not supported on CPU; using FP32 instead\n",
      "  warnings.warn(\"FP16 is not supported on CPU; using FP32 instead\")\n"
     ]
    },
    {
     "name": "stdout",
     "output_type": "stream",
     "text": [
      "- (150/500)Process file: ./data/database_sa1_Jan08_Mar19_cleaned_utt_0000008325-1\n",
      "- GroundTruth: nghệ thuật đường phố như một tiếng reo vui của thời gian và con người sau quá\n",
      "- Predicted: nghệ thuật đường phố như một tiếng ra vui của thời gian và con người.\n"
     ]
    },
    {
     "name": "stderr",
     "output_type": "stream",
     "text": [
      "/home/ngo/anaconda3/lib/python3.12/site-packages/whisper/transcribe.py:126: UserWarning: FP16 is not supported on CPU; using FP32 instead\n",
      "  warnings.warn(\"FP16 is not supported on CPU; using FP32 instead\")\n"
     ]
    },
    {
     "name": "stdout",
     "output_type": "stream",
     "text": [
      "- (151/500)Process file: ./data/database_sa1_Jan08_Mar19_cleaned_utt_0000010425-1\n",
      "- GroundTruth: vì vậy cho nên là là các cái doanh nghiệp thì là buộc phải chi hoặc là họ phải ngoan ngoãn\n",
      "- Predicted: vì vậy cho nên là các doanh nghiệp thì là buộc phải đi hoặc là họ phải ngoan ngoãn.\n"
     ]
    },
    {
     "name": "stderr",
     "output_type": "stream",
     "text": [
      "/home/ngo/anaconda3/lib/python3.12/site-packages/whisper/transcribe.py:126: UserWarning: FP16 is not supported on CPU; using FP32 instead\n",
      "  warnings.warn(\"FP16 is not supported on CPU; using FP32 instead\")\n"
     ]
    },
    {
     "name": "stdout",
     "output_type": "stream",
     "text": [
      "- (152/500)Process file: ./data/database_sa1_Jan08_Mar19_cleaned_utt_0000010184-1\n",
      "- GroundTruth: chiếc pho gờ tê mới nhất này được làm không chỉ để kỷ niệm năm mươi lăm chiếc gờ tê bốn mươi giành giải lơ măng năm một nghìn chín trăm sáu mươi sáu mà còn quay lại địa điểm cũ và làm lại điều đó\n",
      "- Predicted: chiếc ford gt mới nhất này được làm không chỉ để kỷ niệm 50 năm trước gt40 giành giải lơ măng năm 1966 mà còn quay lại địa điểm cũ và làm lại điều đó\n"
     ]
    },
    {
     "name": "stderr",
     "output_type": "stream",
     "text": [
      "/home/ngo/anaconda3/lib/python3.12/site-packages/whisper/transcribe.py:126: UserWarning: FP16 is not supported on CPU; using FP32 instead\n",
      "  warnings.warn(\"FP16 is not supported on CPU; using FP32 instead\")\n"
     ]
    },
    {
     "name": "stdout",
     "output_type": "stream",
     "text": [
      "- (153/500)Process file: ./data/database_sa1_Jan08_Mar19_cleaned_utt_0000012080-1\n",
      "- GroundTruth: đa số người việt mình vì không có rành ngôn ngữ thành ra cứ thi tới thì luôn hoài không được\n",
      "- Predicted: đa số người việt mình không có rành ngôn ngữ, thành ra cứ thi tới thi luôn hoài không được.\n"
     ]
    },
    {
     "name": "stderr",
     "output_type": "stream",
     "text": [
      "/home/ngo/anaconda3/lib/python3.12/site-packages/whisper/transcribe.py:126: UserWarning: FP16 is not supported on CPU; using FP32 instead\n",
      "  warnings.warn(\"FP16 is not supported on CPU; using FP32 instead\")\n"
     ]
    },
    {
     "name": "stdout",
     "output_type": "stream",
     "text": [
      "- (154/500)Process file: ./data/database_sa1_Jan08_Mar19_cleaned_utt_0000008279-1\n",
      "- GroundTruth: thì điều đó sẽ có những hệ quả sâu rộng vượt ra ngoài khía cạnh quân sự\n",
      "- Predicted: thì điều đó sẽ có những hệ quả sâu rộng vượt ra ngoài khía cạnh quân sự.\n"
     ]
    },
    {
     "name": "stderr",
     "output_type": "stream",
     "text": [
      "/home/ngo/anaconda3/lib/python3.12/site-packages/whisper/transcribe.py:126: UserWarning: FP16 is not supported on CPU; using FP32 instead\n",
      "  warnings.warn(\"FP16 is not supported on CPU; using FP32 instead\")\n"
     ]
    },
    {
     "name": "stdout",
     "output_type": "stream",
     "text": [
      "- (155/500)Process file: ./data/database_sa1_Jan08_Mar19_cleaned_utt_0000012233-1\n",
      "- GroundTruth: mục đích là đạt tới cái gọi là vùng đất xanh đưa địa điểm này thoát ra khỏi những hạn chế về phóng xạ\n",
      "- Predicted: mục đích là đạt tới cái gọi là vùng đất xanh, đưa địa điểm này thoát ra khỏi những hạn chế về phóng xạ.\n"
     ]
    },
    {
     "name": "stderr",
     "output_type": "stream",
     "text": [
      "/home/ngo/anaconda3/lib/python3.12/site-packages/whisper/transcribe.py:126: UserWarning: FP16 is not supported on CPU; using FP32 instead\n",
      "  warnings.warn(\"FP16 is not supported on CPU; using FP32 instead\")\n"
     ]
    },
    {
     "name": "stdout",
     "output_type": "stream",
     "text": [
      "- (156/500)Process file: ./data/database_sa1_Jan08_Mar19_cleaned_utt_0000003706-1\n",
      "- GroundTruth: khi mà mà về để cho người biết cái hay rồi thế mình cũng phải biết dở của mình chớ mình tự mình mình phải trách mình và mình phải làm cách nào đế để mà thay đổi những cái gì gọi là xấu xí\n",
      "- Predicted: khi mà để cho mình biết cái hay rồi, chúng mình cũng phải biết tin giả của mình chứ. mình phải trách mình và mình phải làm cách nào để mà thay đổi những cái gì gọi là sống tí.\n"
     ]
    },
    {
     "name": "stderr",
     "output_type": "stream",
     "text": [
      "/home/ngo/anaconda3/lib/python3.12/site-packages/whisper/transcribe.py:126: UserWarning: FP16 is not supported on CPU; using FP32 instead\n",
      "  warnings.warn(\"FP16 is not supported on CPU; using FP32 instead\")\n"
     ]
    },
    {
     "name": "stdout",
     "output_type": "stream",
     "text": [
      "- (157/500)Process file: ./data/database_sa1_Jan08_Mar19_cleaned_utt_0000001673-1\n",
      "- GroundTruth: trong đó vốn vay tín dụng ưu đãi của chính phủ trung quốc là một trăm sáu mươi chín triệu đô la\n",
      "- Predicted: trong đó, vốn vay tín dụng ưu đại của chính phủ trung quốc là 169 triệu đô la.\n"
     ]
    },
    {
     "name": "stderr",
     "output_type": "stream",
     "text": [
      "/home/ngo/anaconda3/lib/python3.12/site-packages/whisper/transcribe.py:126: UserWarning: FP16 is not supported on CPU; using FP32 instead\n",
      "  warnings.warn(\"FP16 is not supported on CPU; using FP32 instead\")\n"
     ]
    },
    {
     "name": "stdout",
     "output_type": "stream",
     "text": [
      "- (158/500)Process file: ./data/database_sa1_Jan08_Mar19_cleaned_utt_0000000692-1\n",
      "- GroundTruth: các nhà phân tích cho rằng các công ty dầu hỏa nước ngoài quan tâm đến hồ sơ dự thầu\n",
      "- Predicted: các nhà phân tích cho rằng các công ty dầu hỏa nước ngoài quan tâm đến hồ sơ dự thầu,\n"
     ]
    },
    {
     "name": "stderr",
     "output_type": "stream",
     "text": [
      "/home/ngo/anaconda3/lib/python3.12/site-packages/whisper/transcribe.py:126: UserWarning: FP16 is not supported on CPU; using FP32 instead\n",
      "  warnings.warn(\"FP16 is not supported on CPU; using FP32 instead\")\n"
     ]
    },
    {
     "name": "stdout",
     "output_type": "stream",
     "text": [
      "- (159/500)Process file: ./data/database_sa1_Jan08_Mar19_cleaned_utt_0000001073-1\n",
      "- GroundTruth: nhân viên cứu hộ và những người đứng xem tại thị trấn pô rét reo mừng khi một người đàn ông được mang ra khỏi đống đổ nát và được chuyển đến một cơ sở y tế gần đó\n",
      "- Predicted: nhân viên cứu hộ và những người đứng xem tại thị trấn porek giao mừng khi một người đàn ông được mang ra khỏi đống đổ nát và được chuyển đến một cơ sở y tế gần đó.\n"
     ]
    },
    {
     "name": "stderr",
     "output_type": "stream",
     "text": [
      "/home/ngo/anaconda3/lib/python3.12/site-packages/whisper/transcribe.py:126: UserWarning: FP16 is not supported on CPU; using FP32 instead\n",
      "  warnings.warn(\"FP16 is not supported on CPU; using FP32 instead\")\n"
     ]
    },
    {
     "name": "stdout",
     "output_type": "stream",
     "text": [
      "- (160/500)Process file: ./data/database_sa1_Jan08_Mar19_cleaned_utt_0000005118-4\n",
      "- GroundTruth: tức là một en rim cần cho việc kiểm soát cờ có thể do bị tác động do tiếp xúc với chất độc chẳng hạn như thuốc diệt côn trùng hoặc chất độc thần kinh như chất vi ích hay sa rin\n",
      "- Predicted: tức là một enzyme cần cho việc kiểm soát cơ, có thể do bị tác động do tiếp xúc với chất độc, chẳng hạn như thuốc diệt công trùng hoặc chất độc thần kinh như chất vx hay sarin.\n"
     ]
    },
    {
     "name": "stderr",
     "output_type": "stream",
     "text": [
      "/home/ngo/anaconda3/lib/python3.12/site-packages/whisper/transcribe.py:126: UserWarning: FP16 is not supported on CPU; using FP32 instead\n",
      "  warnings.warn(\"FP16 is not supported on CPU; using FP32 instead\")\n"
     ]
    },
    {
     "name": "stdout",
     "output_type": "stream",
     "text": [
      "- (161/500)Process file: ./data/database_sa1_Jan08_Mar19_cleaned_utt_0000010985-2\n",
      "- GroundTruth: ông bèn xây một căn nhà rộng gấp năm lần căn nhà tí hon thăm bờ uýt mà ông xây lần đầu\n",
      "- Predicted: ông bèn xây một căn nhà rộng gấp 5 lần căn nhà tihon-tamberweed mà ông xây lần đầu\n"
     ]
    },
    {
     "name": "stderr",
     "output_type": "stream",
     "text": [
      "/home/ngo/anaconda3/lib/python3.12/site-packages/whisper/transcribe.py:126: UserWarning: FP16 is not supported on CPU; using FP32 instead\n",
      "  warnings.warn(\"FP16 is not supported on CPU; using FP32 instead\")\n"
     ]
    },
    {
     "name": "stdout",
     "output_type": "stream",
     "text": [
      "- (162/500)Process file: ./data/database_sa1_Jan08_Mar19_cleaned_utt_0000006721-1\n",
      "- GroundTruth: ở phổ nhị thành phố nổi tiếng về loại chè đen có mùi gắt nét li có một trạm thu mua và trung tâm cà phê đặt dưới sự quản lý của ông bút chơi đệt mện ông nói thách thức đầu tiên là phổ biến kiến thức cho nông dân\n",
      "- Predicted: ở phố nhị, thành phố nổi tiếng về loại trà đen có mùi gắt, nestlé có một trạm thu mua và trung tâm cà phê, đặt dưới sự quản lý của ông walter desma. ông nói, thách thức đầu tiên là phổ biến kiến thức cho nông dân.\n"
     ]
    },
    {
     "name": "stderr",
     "output_type": "stream",
     "text": [
      "/home/ngo/anaconda3/lib/python3.12/site-packages/whisper/transcribe.py:126: UserWarning: FP16 is not supported on CPU; using FP32 instead\n",
      "  warnings.warn(\"FP16 is not supported on CPU; using FP32 instead\")\n"
     ]
    },
    {
     "name": "stdout",
     "output_type": "stream",
     "text": [
      "- (163/500)Process file: ./data/database_sa1_Jan08_Mar19_cleaned_utt_0000000419-1\n",
      "- GroundTruth: <unk> cho na tô cho đến là\n",
      "- Predicted: cho dato cho đến là\n"
     ]
    },
    {
     "name": "stderr",
     "output_type": "stream",
     "text": [
      "/home/ngo/anaconda3/lib/python3.12/site-packages/whisper/transcribe.py:126: UserWarning: FP16 is not supported on CPU; using FP32 instead\n",
      "  warnings.warn(\"FP16 is not supported on CPU; using FP32 instead\")\n"
     ]
    },
    {
     "name": "stdout",
     "output_type": "stream",
     "text": [
      "- (164/500)Process file: ./data/database_sa1_Jan08_Mar19_cleaned_utt_0000007062-1\n",
      "- GroundTruth: en a bách gâu\n",
      "- Predicted: in africa.\n"
     ]
    },
    {
     "name": "stderr",
     "output_type": "stream",
     "text": [
      "/home/ngo/anaconda3/lib/python3.12/site-packages/whisper/transcribe.py:126: UserWarning: FP16 is not supported on CPU; using FP32 instead\n",
      "  warnings.warn(\"FP16 is not supported on CPU; using FP32 instead\")\n"
     ]
    },
    {
     "name": "stdout",
     "output_type": "stream",
     "text": [
      "- (165/500)Process file: ./data/database_sa1_Jan08_Mar19_cleaned_utt_0000004639-1\n",
      "- GroundTruth: tin cho hay phó bộ trưởng tư pháp hoa kỳ rốt rô sừn sờ tai người giám sát cuộc điều tra về sự can thiệp của nga vào bầu cử mỹ năm hai nghìn mười sáu\n",
      "- Predicted: tin cho hay phó bộ trưởng tư pháp hoa kỳ rod rosenstein, người giám sát cục điều tra về sự can thiệp của nga vào bầu cử mỹ năm 2016,\n"
     ]
    },
    {
     "name": "stderr",
     "output_type": "stream",
     "text": [
      "/home/ngo/anaconda3/lib/python3.12/site-packages/whisper/transcribe.py:126: UserWarning: FP16 is not supported on CPU; using FP32 instead\n",
      "  warnings.warn(\"FP16 is not supported on CPU; using FP32 instead\")\n"
     ]
    },
    {
     "name": "stdout",
     "output_type": "stream",
     "text": [
      "- (166/500)Process file: ./data/database_sa1_Jan08_Mar19_cleaned_utt_0000005034-1\n",
      "- GroundTruth: việc các nước tại đây nghĩ rằng các quy định đó có nghĩa là trung quốc sẽ có thái độ cứng rắn hơn trong cuộc tranh chấp chủ quyền biển đảo quan ngại càng lên cao vì trên nguyên tắc hải nam có quyền quản lý và tài phán\n",
      "- Predicted: vì các nước tại đây nghĩ rằng các quy định đó có nghĩa là trung quốc sẽ có thay độ cứng rắn hơn trong cuộc tranh chấp chủ quyền biển đảo. quan ngại càng lên cao vì trên nguyên tắc hải nam có quyền quản lý và tài phán.\n"
     ]
    },
    {
     "name": "stderr",
     "output_type": "stream",
     "text": [
      "/home/ngo/anaconda3/lib/python3.12/site-packages/whisper/transcribe.py:126: UserWarning: FP16 is not supported on CPU; using FP32 instead\n",
      "  warnings.warn(\"FP16 is not supported on CPU; using FP32 instead\")\n"
     ]
    },
    {
     "name": "stdout",
     "output_type": "stream",
     "text": [
      "- (167/500)Process file: ./data/database_sa1_Jan08_Mar19_cleaned_utt_0000012529-1\n",
      "- GroundTruth: trời nắng và bầu trời phối lớp mờ mờ có màu xám xịt nếu là màn sương thì vào giờ giấc này sương cũng đã tan ghi nhận ý kiến từ một số cư dân\n",
      "- Predicted: trời nắng và bầu trời phủ lớp mờ mờ có màu xám xịt. nếu là mạng sương thì vào giờ giấc này sương cũng đã tan, ghi nhận ý kiến từ một số cư dân.\n"
     ]
    },
    {
     "name": "stderr",
     "output_type": "stream",
     "text": [
      "/home/ngo/anaconda3/lib/python3.12/site-packages/whisper/transcribe.py:126: UserWarning: FP16 is not supported on CPU; using FP32 instead\n",
      "  warnings.warn(\"FP16 is not supported on CPU; using FP32 instead\")\n"
     ]
    },
    {
     "name": "stdout",
     "output_type": "stream",
     "text": [
      "- (168/500)Process file: ./data/database_sa1_Jan08_Mar19_cleaned_utt_0000000801-1\n",
      "- GroundTruth: ngay sau khi cuộc gặp thượng đỉnh giữa mỹ và triều tiên kết thúc ở sing ga po chiều ngày mười hai tháng sáu bộ ngoại giao việt nam lập tức lên tiếng hoan nghênh kết quả của cuộc gặp được cho là lịch sử giữa tổng thống đo nồ trăm và chủ tịch kim giong um\n",
      "- Predicted: ngay sau khi cuộc gặp thượng đỉnh giữa mỹ và triều tiên kết thúc ở singapore chiều ngày 12 tháng 6, bộ ngoại giao việt nam lập tức lên tiếng hoan nghênh kết quả của cuộc gặp được cho là lịch sử giữa tổng thống donald trump và chủ tịch kim jong un.\n"
     ]
    },
    {
     "name": "stderr",
     "output_type": "stream",
     "text": [
      "/home/ngo/anaconda3/lib/python3.12/site-packages/whisper/transcribe.py:126: UserWarning: FP16 is not supported on CPU; using FP32 instead\n",
      "  warnings.warn(\"FP16 is not supported on CPU; using FP32 instead\")\n"
     ]
    },
    {
     "name": "stdout",
     "output_type": "stream",
     "text": [
      "- (169/500)Process file: ./data/database_sa1_Jan08_Mar19_cleaned_utt_0000000477-1\n",
      "- GroundTruth: sẽ nhận được một bộ sưu tập quần áo mới một số tiền không được tiết lộ và một căn hộ ở thành phố niu oóc\n",
      "- Predicted: sẽ nhận được một bộ siêu tập quần áo mới, một số tiền không được tiết lộ và một căn hộ ở thành phố new york.\n"
     ]
    },
    {
     "name": "stderr",
     "output_type": "stream",
     "text": [
      "/home/ngo/anaconda3/lib/python3.12/site-packages/whisper/transcribe.py:126: UserWarning: FP16 is not supported on CPU; using FP32 instead\n",
      "  warnings.warn(\"FP16 is not supported on CPU; using FP32 instead\")\n"
     ]
    },
    {
     "name": "stdout",
     "output_type": "stream",
     "text": [
      "- (170/500)Process file: ./data/database_sa1_Jan08_Mar19_cleaned_utt_0000003214-1\n",
      "- GroundTruth: chào mừng quý vị đến với chương trình phóng sự của đài vi ô ây ung thư vú là loại ung thư phổ biến nhất ở phụ nữ trên toàn thế giới\n",
      "- Predicted: chào mừng quý vị đến với chương trình phóng sự của đài vua ung thư vú là loại ung thư phổ biến nhất ở phụ nữ trên toàn thế giới\n"
     ]
    },
    {
     "name": "stderr",
     "output_type": "stream",
     "text": [
      "/home/ngo/anaconda3/lib/python3.12/site-packages/whisper/transcribe.py:126: UserWarning: FP16 is not supported on CPU; using FP32 instead\n",
      "  warnings.warn(\"FP16 is not supported on CPU; using FP32 instead\")\n"
     ]
    },
    {
     "name": "stdout",
     "output_type": "stream",
     "text": [
      "- (171/500)Process file: ./data/database_sa1_Jan08_Mar19_cleaned_utt_0000004057-1\n",
      "- GroundTruth: bà đã cho đăng tải một vi đê ô chỉ trích cuộc chiến chống ma túy của tổng thống rô đi gô đu téc tê\n",
      "- Predicted: bà đã cho đăng tải một video chỉ trích cuộc chiến chống ma túy của tổng thống rodrigo duterte.\n"
     ]
    },
    {
     "name": "stderr",
     "output_type": "stream",
     "text": [
      "/home/ngo/anaconda3/lib/python3.12/site-packages/whisper/transcribe.py:126: UserWarning: FP16 is not supported on CPU; using FP32 instead\n",
      "  warnings.warn(\"FP16 is not supported on CPU; using FP32 instead\")\n"
     ]
    },
    {
     "name": "stdout",
     "output_type": "stream",
     "text": [
      "- (172/500)Process file: ./data/database_sa1_Jan08_Mar19_cleaned_utt_0000006118-1\n",
      "- GroundTruth: phản biện phần trình bày của các nhóm xã hội dân sự do nhà nước việt nam tổ chức để phản ánh thực trạng nhân quyền trong nước trước khu vực và quốc tế\n",
      "- Predicted: phán biện phần trình bày của các nhóm xã hội dân sự do nhà nước việt nam tổ chức để phản ánh thực trạng nhân quyền trong nước, trước khu vực và quốc tế.\n"
     ]
    },
    {
     "name": "stderr",
     "output_type": "stream",
     "text": [
      "/home/ngo/anaconda3/lib/python3.12/site-packages/whisper/transcribe.py:126: UserWarning: FP16 is not supported on CPU; using FP32 instead\n",
      "  warnings.warn(\"FP16 is not supported on CPU; using FP32 instead\")\n"
     ]
    },
    {
     "name": "stdout",
     "output_type": "stream",
     "text": [
      "- (173/500)Process file: ./data/database_sa1_Jan08_Mar19_cleaned_utt_0000000028-1\n",
      "- GroundTruth: theo bà đây là một sự thật đã được thừa nhận rộng rãi\n",
      "- Predicted: theo bà, đây là một sự thật đã được thừa nhận rộng rãi.\n"
     ]
    },
    {
     "name": "stderr",
     "output_type": "stream",
     "text": [
      "/home/ngo/anaconda3/lib/python3.12/site-packages/whisper/transcribe.py:126: UserWarning: FP16 is not supported on CPU; using FP32 instead\n",
      "  warnings.warn(\"FP16 is not supported on CPU; using FP32 instead\")\n"
     ]
    },
    {
     "name": "stdout",
     "output_type": "stream",
     "text": [
      "- (174/500)Process file: ./data/database_sa1_Jan08_Mar19_cleaned_utt_0000002007-1\n",
      "- GroundTruth: người dân không phàn nàn coi đó là chuyện thường nhưng các giới chức đối xử với họ một cách tồi tệ nói ngắn gọn thời điểm này thật khó khăn nếu anh là một người sy ri a ở đây\n",
      "- Predicted: người dân không phàn nàn, coi đó là chuyện thường, nhưng các giới chức đối xử với họ một cách tồi tệ. nói ngắn gọn, thời điểm này thật khó khăn nếu anh là một người syria ở đây.\n"
     ]
    },
    {
     "name": "stderr",
     "output_type": "stream",
     "text": [
      "/home/ngo/anaconda3/lib/python3.12/site-packages/whisper/transcribe.py:126: UserWarning: FP16 is not supported on CPU; using FP32 instead\n",
      "  warnings.warn(\"FP16 is not supported on CPU; using FP32 instead\")\n"
     ]
    },
    {
     "name": "stdout",
     "output_type": "stream",
     "text": [
      "- (175/500)Process file: ./data/database_sa1_Jan08_Mar19_cleaned_utt_0000004473-1\n",
      "- GroundTruth: tại vì theo ờ những cái\n",
      "- Predicted: tại vì theo những cái...\n"
     ]
    },
    {
     "name": "stderr",
     "output_type": "stream",
     "text": [
      "/home/ngo/anaconda3/lib/python3.12/site-packages/whisper/transcribe.py:126: UserWarning: FP16 is not supported on CPU; using FP32 instead\n",
      "  warnings.warn(\"FP16 is not supported on CPU; using FP32 instead\")\n"
     ]
    },
    {
     "name": "stdout",
     "output_type": "stream",
     "text": [
      "- (176/500)Process file: ./data/database_sa1_Jan08_Mar19_cleaned_utt_0000010561-1\n",
      "- GroundTruth: đây là sâu diễn mới của nhóm bờ lu men biểu diễn chung với dàn nhạc ho ly út bâu ở lót en giơ lớt\n",
      "- Predicted: đây là show diễn mới của nhóm blue man, biểu diễn chung với dân nhạc hollywood bowl ở los angeles.\n"
     ]
    },
    {
     "name": "stderr",
     "output_type": "stream",
     "text": [
      "/home/ngo/anaconda3/lib/python3.12/site-packages/whisper/transcribe.py:126: UserWarning: FP16 is not supported on CPU; using FP32 instead\n",
      "  warnings.warn(\"FP16 is not supported on CPU; using FP32 instead\")\n"
     ]
    },
    {
     "name": "stdout",
     "output_type": "stream",
     "text": [
      "- (177/500)Process file: ./data/database_sa1_Jan08_Mar19_cleaned_utt_0000008030-1\n",
      "- GroundTruth: thì mấy mấy tay cờ chỉ được hưởng lợi và hoa kỳ chỉ bị thất lợi thành đã cái hiệp ước nào đó trên giấy tờ thì rất tốt nhưng mà thực thi và kiểm kê và và thi hành ớ đó là một yếu tố khác nữa cơ\n",
      "- Predicted: mỹ tây cơ chỉ được hưởng lợi và hoa kỳ chỉ bị thất lợi thành ra cái hiệp ước nào đó trên giấy tờ thì rất tốt nhưng mà thực thi và kiểm kê và thi hành là một yếu tố khác nữa kìa\n"
     ]
    },
    {
     "name": "stderr",
     "output_type": "stream",
     "text": [
      "/home/ngo/anaconda3/lib/python3.12/site-packages/whisper/transcribe.py:126: UserWarning: FP16 is not supported on CPU; using FP32 instead\n",
      "  warnings.warn(\"FP16 is not supported on CPU; using FP32 instead\")\n"
     ]
    },
    {
     "name": "stdout",
     "output_type": "stream",
     "text": [
      "- (178/500)Process file: ./data/database_sa1_Jan08_Mar19_cleaned_utt_0000011870-1\n",
      "- GroundTruth: sau khi nấu suốt mười mấy tiếng nước phở đã sẵn sàng\n",
      "- Predicted: sau khi nấu suốt mười mấy tiếng, nước phở đã sẵn sàng.\n"
     ]
    },
    {
     "name": "stderr",
     "output_type": "stream",
     "text": [
      "/home/ngo/anaconda3/lib/python3.12/site-packages/whisper/transcribe.py:126: UserWarning: FP16 is not supported on CPU; using FP32 instead\n",
      "  warnings.warn(\"FP16 is not supported on CPU; using FP32 instead\")\n"
     ]
    },
    {
     "name": "stdout",
     "output_type": "stream",
     "text": [
      "- (179/500)Process file: ./data/database_sa1_Jan08_Mar19_cleaned_utt_0000009930-1\n",
      "- GroundTruth: nước mắm cá linh sau khi ủ còn qua công đoạn nấu bà tuyết kể\n",
      "- Predicted: nước mắm cá linh sau khi ủ còn qua công đoạn nấu bà tuyết kể.\n"
     ]
    },
    {
     "name": "stderr",
     "output_type": "stream",
     "text": [
      "/home/ngo/anaconda3/lib/python3.12/site-packages/whisper/transcribe.py:126: UserWarning: FP16 is not supported on CPU; using FP32 instead\n",
      "  warnings.warn(\"FP16 is not supported on CPU; using FP32 instead\")\n"
     ]
    },
    {
     "name": "stdout",
     "output_type": "stream",
     "text": [
      "- (180/500)Process file: ./data/database_sa1_Jan08_Mar19_cleaned_utt_0000005217-1\n",
      "- GroundTruth: thưa giáo sư nhưng mà nói về quy định giáo sư cũng có nói là\n",
      "- Predicted: thưa giáo sư, nhưng mà nói về quy định giáo sư cũng có nói là\n"
     ]
    },
    {
     "name": "stderr",
     "output_type": "stream",
     "text": [
      "/home/ngo/anaconda3/lib/python3.12/site-packages/whisper/transcribe.py:126: UserWarning: FP16 is not supported on CPU; using FP32 instead\n",
      "  warnings.warn(\"FP16 is not supported on CPU; using FP32 instead\")\n"
     ]
    },
    {
     "name": "stdout",
     "output_type": "stream",
     "text": [
      "- (181/500)Process file: ./data/database_sa1_Jan08_Mar19_cleaned_utt_0000004559-1\n",
      "- GroundTruth: khi nhiệt độ giảm mạnh trong mùa đông khắc nghiệt ở bang mi ni sô ta những cư dân min <unk>\n",
      "- Predicted: khi nhiệt độ giảm mạnh trong mùa đông khắc nghiệt ở bang minnesota, những cư dân minneapolis,\n"
     ]
    },
    {
     "name": "stderr",
     "output_type": "stream",
     "text": [
      "/home/ngo/anaconda3/lib/python3.12/site-packages/whisper/transcribe.py:126: UserWarning: FP16 is not supported on CPU; using FP32 instead\n",
      "  warnings.warn(\"FP16 is not supported on CPU; using FP32 instead\")\n"
     ]
    },
    {
     "name": "stdout",
     "output_type": "stream",
     "text": [
      "- (182/500)Process file: ./data/database_sa1_Jan08_Mar19_cleaned_utt_0000005292-5\n",
      "- GroundTruth: <unk> cái triệu chứng là chúng ta bị ngứa ngáy rồi có những mạch máu giống như là cái mạng nhện để quý vị chờ tôi để đưa những dấu hiệu với việc có thể thấy là để chúng tôi mà cái này da thì chúng ta thấy thì ờ đấy quý vị thấy đây là là cái cái bụng chướng này cái bụng bự <unk>\n",
      "- Predicted: cái chiều trứng là chúng ta bị ngứa ngáy. rồi có những mạch máu giống như là cái màng nhẹn. để quý vị chờ tôi để đưa những cái dấu hiệu quý vị có thể thấy. để chúng tôi mở cái này ra. thì chúng ta thấy thì... đây quý vị thấy đây là cái bụng trướng nè. cái bụng bơ...\n"
     ]
    },
    {
     "name": "stderr",
     "output_type": "stream",
     "text": [
      "/home/ngo/anaconda3/lib/python3.12/site-packages/whisper/transcribe.py:126: UserWarning: FP16 is not supported on CPU; using FP32 instead\n",
      "  warnings.warn(\"FP16 is not supported on CPU; using FP32 instead\")\n"
     ]
    },
    {
     "name": "stdout",
     "output_type": "stream",
     "text": [
      "- (183/500)Process file: ./data/database_sa1_Jan08_Mar19_cleaned_utt_0000007339-1\n",
      "- GroundTruth: họ làm việc từ mười một giờ đêm ngày hôm nay cho đến năm giờ sáng ngày hôm sau người ở nhà chuẩn bị để đi bán cá luộc hến bán các loại hải sản khác cho đến ba giờ chiều có lúc công việc này kéo dài đến bảy giờ đêm một ngày quần quật làm việc của một gia đình năm sáu người có thể giúp họ kiếm được từ một trăm đến ba trăm ngàn đồng không có mức cao hơn với số tiền nhỏ này mọi sinh hoạt gia đình đều dựa vào từ việc giỗ chạp cưới hỏi phải trái với xóm giềng hai ngày tết đều nhờ vào mẹ lưới con cá con hến\n",
      "- Predicted: họ làm việc từ 11 giờ đêm ngày hôm nay cho đến 5 giờ sáng ngày hôm sau. người ở nhà chuẩn bị để đi bán cá, luộc hến, bán các loại hà sản khác cho đến 3 giờ chiều. có lúc công việc này kéo dài đến 7 giờ đêm. một ngày cuồng cuộc làm việc của một gia đình 5-6 người có thể giúp họ kiếm được từ 100 đến 300 ngàn đồng, không có mức cao hơn. với số tiền nhỏ này, mọi sinh hoạt gia đình đều dựa vào từ việc dộ chạp, cưới hỏi, phai trái với xóm giềng 2 ngày tết đều nhờ vào mẹ lưới, con cá, con hến.\n"
     ]
    },
    {
     "name": "stderr",
     "output_type": "stream",
     "text": [
      "/home/ngo/anaconda3/lib/python3.12/site-packages/whisper/transcribe.py:126: UserWarning: FP16 is not supported on CPU; using FP32 instead\n",
      "  warnings.warn(\"FP16 is not supported on CPU; using FP32 instead\")\n"
     ]
    },
    {
     "name": "stdout",
     "output_type": "stream",
     "text": [
      "- (184/500)Process file: ./data/database_sa1_Jan08_Mar19_cleaned_utt_0000009266-4\n",
      "- GroundTruth: <unk> đây là điều kiện đi dạo hoặc đĩa cháy hết tôi muốn có ở nhà đi mau\n",
      "- Predicted: đi biển đi dài hết mỹ chay, hết mô cỏ nhà đi mô.\n"
     ]
    },
    {
     "name": "stderr",
     "output_type": "stream",
     "text": [
      "/home/ngo/anaconda3/lib/python3.12/site-packages/whisper/transcribe.py:126: UserWarning: FP16 is not supported on CPU; using FP32 instead\n",
      "  warnings.warn(\"FP16 is not supported on CPU; using FP32 instead\")\n"
     ]
    },
    {
     "name": "stdout",
     "output_type": "stream",
     "text": [
      "- (185/500)Process file: ./data/database_sa1_Jan08_Mar19_cleaned_utt_0000009743-1\n",
      "- GroundTruth: hai đối tượng được bộ công an nhận diện là ngô xuân tùng và lê văn thành sinh năm tám mươi tám cả hai một từ thái nguyên và một từ quảng ngãi đều đang cư ngụ tại sài gòn khi bị bắt công an nói thành được tùng thuê mở tài khoản tại ngân hàng sa com banh\n",
      "- Predicted: hai đối tượng được bộ công an nhận diện là ngô xuân tùng và lê văn thành, sinh năm 88. cả hai, một từ thái nguyên và một từ quảng ngãi, đều đang cư ngụ tại sài gòn khi bị bắt. công an nói thành được tùng thuê mở tài khoản tại ngân hàng sát công ban.\n"
     ]
    },
    {
     "name": "stderr",
     "output_type": "stream",
     "text": [
      "/home/ngo/anaconda3/lib/python3.12/site-packages/whisper/transcribe.py:126: UserWarning: FP16 is not supported on CPU; using FP32 instead\n",
      "  warnings.warn(\"FP16 is not supported on CPU; using FP32 instead\")\n"
     ]
    },
    {
     "name": "stdout",
     "output_type": "stream",
     "text": [
      "- (186/500)Process file: ./data/database_sa1_Jan08_Mar19_cleaned_utt_0000005023-1\n",
      "- GroundTruth: cô cho biết vẫn sử dụng hàng sản xuất ở trung quốc nhưng sẽ không mua hàng mới của nước này trong tương lai\n",
      "- Predicted: cô cho biết vẫn sử dụng hàng sản xuất ở trung quốc, nhưng sẽ không mua hàng mới của nước này trong tương lai.\n"
     ]
    },
    {
     "name": "stderr",
     "output_type": "stream",
     "text": [
      "/home/ngo/anaconda3/lib/python3.12/site-packages/whisper/transcribe.py:126: UserWarning: FP16 is not supported on CPU; using FP32 instead\n",
      "  warnings.warn(\"FP16 is not supported on CPU; using FP32 instead\")\n"
     ]
    },
    {
     "name": "stdout",
     "output_type": "stream",
     "text": [
      "- (187/500)Process file: ./data/database_sa1_Jan08_Mar19_cleaned_utt_0000009663-1\n",
      "- GroundTruth: chí do những mối hận thù quá khứ của cộng đồng người việt hải ngoại chống đối nhà nước việt nam làm ảnh hưởng đến quan hệ việt mỹ và sự phát triển của quốc gia bác sĩ nguyễn quốc quân phản bác\n",
      "- Predicted: do những mối hận thù quá khứ của cộng đồng người việt hải ngoại, chống đối nhà nước việt nam làm ảnh hưởng đến quan hệ việt-mỹ và sự phát triển của quốc gia. bác sĩ nguyễn quốc quân phản bạc.\n"
     ]
    },
    {
     "name": "stderr",
     "output_type": "stream",
     "text": [
      "/home/ngo/anaconda3/lib/python3.12/site-packages/whisper/transcribe.py:126: UserWarning: FP16 is not supported on CPU; using FP32 instead\n",
      "  warnings.warn(\"FP16 is not supported on CPU; using FP32 instead\")\n"
     ]
    },
    {
     "name": "stdout",
     "output_type": "stream",
     "text": [
      "- (188/500)Process file: ./data/database_sa1_Jan08_Mar19_cleaned_utt_0000007096-2\n",
      "- GroundTruth: sống bằng nghề gì hết\n",
      "- Predicted: come on, lydia.\n"
     ]
    },
    {
     "name": "stderr",
     "output_type": "stream",
     "text": [
      "/home/ngo/anaconda3/lib/python3.12/site-packages/whisper/transcribe.py:126: UserWarning: FP16 is not supported on CPU; using FP32 instead\n",
      "  warnings.warn(\"FP16 is not supported on CPU; using FP32 instead\")\n"
     ]
    },
    {
     "name": "stdout",
     "output_type": "stream",
     "text": [
      "- (189/500)Process file: ./data/database_sa1_Jan08_Mar19_cleaned_utt_0000011413-1\n",
      "- GroundTruth: phó giám đốc đặc trách châu á của hiu mưn rai chơ goát ông phiu rô bơ sưn nói các nhận định của tổng thống chưa đi đủ xa và ông phản đối việc ông ô ba ma mô tả là đã có tiến bộ khiêm nhượng về nhân quyền ở việt nam vì ông cho rằng đã có rất ít hoặc chưa có tiến bộ nào\n",
      "- Predicted: phó giám đốc đặc trách châu á của human rights watch, ông phil robertson nói các nhận định của tổng thống chưa đi đủ xa và ông phản đối việc ông obama mô tả là đã có tiến bộ khiêm nhượng về nhân quyền ở việt nam, vì ông cho rằng đã có rất ít hoặc chưa có tiến bộ nào.\n"
     ]
    },
    {
     "name": "stderr",
     "output_type": "stream",
     "text": [
      "/home/ngo/anaconda3/lib/python3.12/site-packages/whisper/transcribe.py:126: UserWarning: FP16 is not supported on CPU; using FP32 instead\n",
      "  warnings.warn(\"FP16 is not supported on CPU; using FP32 instead\")\n"
     ]
    },
    {
     "name": "stdout",
     "output_type": "stream",
     "text": [
      "- (190/500)Process file: ./data/database_sa1_Jan08_Mar19_cleaned_utt_0000007852-1\n",
      "- GroundTruth: vẫn còn đang tiếp tục chỉnh sửa để làm cơ sở cho các cuộc đàm phán cê ô cê trong tương lai roai đờ đã được xem qua bản dự thảo tuyên bố chung của mười nước thành viên a si an trong đó có đề cập đến một thỏa thuận an ninh mạng với nga\n",
      "- Predicted: vẫn còn đang tiếp tục trình sửa để làm cơ sở cho các cuộc đàm phán cuc trong tương lai. reuters đã được xem qua bản dự thảo tuyên bố chung của 10 nước thành viên asean, trong đó có đề cập đến một thỏa thuận an ninh mạng với nga.\n"
     ]
    },
    {
     "name": "stderr",
     "output_type": "stream",
     "text": [
      "/home/ngo/anaconda3/lib/python3.12/site-packages/whisper/transcribe.py:126: UserWarning: FP16 is not supported on CPU; using FP32 instead\n",
      "  warnings.warn(\"FP16 is not supported on CPU; using FP32 instead\")\n"
     ]
    },
    {
     "name": "stdout",
     "output_type": "stream",
     "text": [
      "- (191/500)Process file: ./data/database_sa1_Jan08_Mar19_cleaned_utt_0000009993-1\n",
      "- GroundTruth: và thứ ba kêu gọi việt nam nới lỏng những hạn chế đối với việc sử dụng in tơ nét và các trang mạng xã hội lá thư của dân biểu ét hôi về phần lớn được coi là kết quả của nhiều cuộc vận động của người việt tại hoa kỳ trong vài năm trở lại đây\n",
      "- Predicted: và thứ ba, kêu gọi việt nam nới lòng những hạn chế đối với việc sử dụng internet và các trang mạng xã hội. lá thư của dân biểu ed royce về phần lớn được coi là kết quả của nhiều cuộc vận động của người việt tại hoa kỳ trong vài năm trở lại đây.\n"
     ]
    },
    {
     "name": "stderr",
     "output_type": "stream",
     "text": [
      "/home/ngo/anaconda3/lib/python3.12/site-packages/whisper/transcribe.py:126: UserWarning: FP16 is not supported on CPU; using FP32 instead\n",
      "  warnings.warn(\"FP16 is not supported on CPU; using FP32 instead\")\n"
     ]
    },
    {
     "name": "stdout",
     "output_type": "stream",
     "text": [
      "- (192/500)Process file: ./data/database_sa1_Jan08_Mar19_cleaned_utt_0000002641-1\n",
      "- GroundTruth: thiết bị đã kích hoạt chân của hai con khỉ bị bại liệt bằng cách truyền các tín hiệu não không dây bỏ qua những tổn thương tủy sống của chúng thông tin viên vi âu ây tường trình thêm chi tiết\n",
      "- Predicted: thiết bị đã kích hoạt chân của hai con khỉ bị bài liệt bằng cách truyền các tín hiệu não không dây, bỏ qua những tổn thương tụi sống của chúng. thông tin viên voa tương trình thêm chi tiết.\n"
     ]
    },
    {
     "name": "stderr",
     "output_type": "stream",
     "text": [
      "/home/ngo/anaconda3/lib/python3.12/site-packages/whisper/transcribe.py:126: UserWarning: FP16 is not supported on CPU; using FP32 instead\n",
      "  warnings.warn(\"FP16 is not supported on CPU; using FP32 instead\")\n"
     ]
    },
    {
     "name": "stdout",
     "output_type": "stream",
     "text": [
      "- (193/500)Process file: ./data/database_sa1_Jan08_Mar19_cleaned_utt_0000003951-1\n",
      "- GroundTruth: tế người mỹ rất hào phóng trong việc chi tiền để trang trí nhà cửa trong dịp lễ nô en vì thế mà không chỉ những góc phố con đường luôn được trang trí đầy màu sắc mà người ta cũng bỏ rất nhiều tiền ra để mua các loại như là cây thông nô en đèn nhấp nháy hay những thứ quà khác\n",
      "- Predicted: thực tế người mỹ rất hào phóng trong việc chi tiền để trang trí nhà cửa trong dịp lễ noel. vì thế mà không chỉ những góc phố con đường luôn được trang trí đầy màu sắc, mà người ta cũng bỏ rất nhiều tiền ra để mua các loại như là cây thông noel này, đèn nhấp nháy hay những thứ quà khác.\n"
     ]
    },
    {
     "name": "stderr",
     "output_type": "stream",
     "text": [
      "/home/ngo/anaconda3/lib/python3.12/site-packages/whisper/transcribe.py:126: UserWarning: FP16 is not supported on CPU; using FP32 instead\n",
      "  warnings.warn(\"FP16 is not supported on CPU; using FP32 instead\")\n"
     ]
    },
    {
     "name": "stdout",
     "output_type": "stream",
     "text": [
      "- (194/500)Process file: ./data/database_sa1_Jan08_Mar19_cleaned_utt_0000011218-1\n",
      "- GroundTruth: cũng tại buổi họp báo hôm ba mươi tháng bảy ông cảnh tuyên bố chỉ có một trung quốc trên thế giới này và đài loan là một phần của trung quốc và nói thêm rằng bắc kinh cương quyết phản đối bất kỳ hình thức nào của các hoạt động đòi độc lập của đài loan theo xao chai nơ mo ninh bút\n",
      "- Predicted: cũng tại buổi họp báo hôm 30 tháng 7, ông cảnh tuyên bố chỉ có một trung quốc trên thế giới này và đài loan là một phần của trung quốc. và nói thêm rằng bắc kinh cương quyết phản đối bất kỳ hình thức nào của các hoạt động đòi độc lập của đài loan, theo south china morning post.\n"
     ]
    },
    {
     "name": "stderr",
     "output_type": "stream",
     "text": [
      "/home/ngo/anaconda3/lib/python3.12/site-packages/whisper/transcribe.py:126: UserWarning: FP16 is not supported on CPU; using FP32 instead\n",
      "  warnings.warn(\"FP16 is not supported on CPU; using FP32 instead\")\n"
     ]
    },
    {
     "name": "stdout",
     "output_type": "stream",
     "text": [
      "- (195/500)Process file: ./data/database_sa1_Jan08_Mar19_cleaned_utt_0000002194-1\n",
      "- GroundTruth: dạ vầng câu hỏi của gia phạm cháu tám tuổi hay bị khịt mũi át xì nhảy mũi tối ngủ hay ho khan tiếng lớn làm thế nào để khỏi\n",
      "- Predicted: dạ vâng, câu hỏi của ga phạm, cháu 8 tuổi hay bị khịch mũi, áp xì, nhảy mũi, tối ngủ hay ho khang tiếng lớn, làm thế nào để khỏi?\n"
     ]
    },
    {
     "name": "stderr",
     "output_type": "stream",
     "text": [
      "/home/ngo/anaconda3/lib/python3.12/site-packages/whisper/transcribe.py:126: UserWarning: FP16 is not supported on CPU; using FP32 instead\n",
      "  warnings.warn(\"FP16 is not supported on CPU; using FP32 instead\")\n"
     ]
    },
    {
     "name": "stdout",
     "output_type": "stream",
     "text": [
      "- (196/500)Process file: ./data/database_sa1_Jan08_Mar19_cleaned_utt_0000003131-1\n",
      "- GroundTruth: nó đã giúp tôi hiểu rằng kiểm soát được lượng thuốc mình uống rất quan trọng nhờ viên đa chức năng này mà tôi không bỏ cữ thuốc nào và tôi luôn uống đúng lượng thuốc cần uống\n",
      "- Predicted: nó đã giúp tôi hiểu rằng kiểm soát được lượng thuốc mình uống rất quan trọng. nhờ viên đa chức năng này mà tôi không bỏ cứ thuốc nào, và tôi luôn uống đúng lượng thuốc cần uống.\n"
     ]
    },
    {
     "name": "stderr",
     "output_type": "stream",
     "text": [
      "/home/ngo/anaconda3/lib/python3.12/site-packages/whisper/transcribe.py:126: UserWarning: FP16 is not supported on CPU; using FP32 instead\n",
      "  warnings.warn(\"FP16 is not supported on CPU; using FP32 instead\")\n"
     ]
    },
    {
     "name": "stdout",
     "output_type": "stream",
     "text": [
      "- (197/500)Process file: ./data/database_sa1_Jan08_Mar19_cleaned_utt_0000000111-1\n",
      "- GroundTruth: mọi người đã thử các kiểu ăn kiêng và luyện tập khác nhau mà không hiệu quả họ thấy nếch kịt như một cách để thấy được sự rõ ràng hơn về những gì đang thay đổi trên cơ thể của họ\n",
      "- Predicted: mọi người đã thử các kiểu ăn kiêng và luyện tập khác nhau mà không hiệu quả. họ thấy naked như một cách để thấy được sự rõ ràng hơn về những gì đang thay đổi trên cơ thể của họ.\n"
     ]
    },
    {
     "name": "stderr",
     "output_type": "stream",
     "text": [
      "/home/ngo/anaconda3/lib/python3.12/site-packages/whisper/transcribe.py:126: UserWarning: FP16 is not supported on CPU; using FP32 instead\n",
      "  warnings.warn(\"FP16 is not supported on CPU; using FP32 instead\")\n"
     ]
    },
    {
     "name": "stdout",
     "output_type": "stream",
     "text": [
      "- (198/500)Process file: ./data/database_sa1_Jan08_Mar19_cleaned_utt_0000001593-1\n",
      "- GroundTruth: và sau khi bỏ nhiều công sức nhiều giờ lao động những lần máy bay trực thăng bay qua những lần vệ tinh quay quanh nguyên vật liệu và ý tưởng sáng tạo khơi mào thì tác phẩm nghệ thuật này sẽ biến mất vào tháng mười một ít ra thì chúng ta vẫn có thể nhìn được toàn cảnh ở đây\n",
      "- Predicted: và sau khi bỏ nhiều công sức, nhiều giờ lao động, những lần máy bay trực thăng bay qua, những lần vệ tinh quay quanh, nguyên vật liệu và ý tưởng sáng tạo khơi màu, thì tác phẩm nghệ thuật này sẽ biến mất vào tháng 11. ít ra thì chúng ta vẫn có thể nhìn được toàn cảnh ở đây.\n"
     ]
    },
    {
     "name": "stderr",
     "output_type": "stream",
     "text": [
      "/home/ngo/anaconda3/lib/python3.12/site-packages/whisper/transcribe.py:126: UserWarning: FP16 is not supported on CPU; using FP32 instead\n",
      "  warnings.warn(\"FP16 is not supported on CPU; using FP32 instead\")\n"
     ]
    },
    {
     "name": "stdout",
     "output_type": "stream",
     "text": [
      "- (199/500)Process file: ./data/database_sa1_Jan08_Mar19_cleaned_utt_0000003171-1\n",
      "- GroundTruth: ông cho rằng tương lai của khối này hiện đang đứng trước rủi ro bởi các mối quan hệ giữa các nước có tuyên bố chủ quyền ngày càng trở nên mong manh hơn\n",
      "- Predicted: ông cho rằng tương lai của khối này hiện đang đứng trước rủi ro bởi các mối quan hệ giữa các nước có tuyên bố chủ quyền ngày càng trở nên mong manh hơn.\n"
     ]
    },
    {
     "name": "stderr",
     "output_type": "stream",
     "text": [
      "/home/ngo/anaconda3/lib/python3.12/site-packages/whisper/transcribe.py:126: UserWarning: FP16 is not supported on CPU; using FP32 instead\n",
      "  warnings.warn(\"FP16 is not supported on CPU; using FP32 instead\")\n"
     ]
    },
    {
     "name": "stdout",
     "output_type": "stream",
     "text": [
      "- (200/500)Process file: ./data/database_sa1_Jan08_Mar19_cleaned_utt_0000005611-1\n",
      "- GroundTruth: nếu mình hông dữ nó thì mình chết còn gì sống đến bây giờ\n",
      "- Predicted: nếu mình không giữ hơn nó thì mình chết còn gì sống đến bây giờ\n"
     ]
    },
    {
     "name": "stderr",
     "output_type": "stream",
     "text": [
      "/home/ngo/anaconda3/lib/python3.12/site-packages/whisper/transcribe.py:126: UserWarning: FP16 is not supported on CPU; using FP32 instead\n",
      "  warnings.warn(\"FP16 is not supported on CPU; using FP32 instead\")\n"
     ]
    },
    {
     "name": "stdout",
     "output_type": "stream",
     "text": [
      "- (201/500)Process file: ./data/database_sa1_Jan08_Mar19_cleaned_utt_0000010830-1\n",
      "- GroundTruth: nó không qua xử lý và theo cách này máy ảnh tôi làm ra không bóng láng đây là một bề mặt gỗ rất đặc thù được sóng biển rửa sạch\n",
      "- Predicted: nó không qua xử lý và theo cách này máy ảnh tôi làm ra không bóng láng. đây là một bề mặt gỗ rất đặc thù được sóng biển rửa sạch.\n"
     ]
    },
    {
     "name": "stderr",
     "output_type": "stream",
     "text": [
      "/home/ngo/anaconda3/lib/python3.12/site-packages/whisper/transcribe.py:126: UserWarning: FP16 is not supported on CPU; using FP32 instead\n",
      "  warnings.warn(\"FP16 is not supported on CPU; using FP32 instead\")\n"
     ]
    },
    {
     "name": "stdout",
     "output_type": "stream",
     "text": [
      "- (202/500)Process file: ./data/database_sa1_Jan08_Mar19_cleaned_utt_0000002494-1\n",
      "- GroundTruth: cho rằng đã uống thuốc giảm đau chứa phen ta nin quá liều các tua tham quan sẽ đưa người xem qua các sờ tiu đi ô ghi âm và míc nhạc\n",
      "- Predicted: cho rằng đã uống thuốc giảm đau chứa fentanyl quá liều. các tour thăm quan sẽ đưa người xem qua các studio, ghi âm và mix nhạc.\n"
     ]
    },
    {
     "name": "stderr",
     "output_type": "stream",
     "text": [
      "/home/ngo/anaconda3/lib/python3.12/site-packages/whisper/transcribe.py:126: UserWarning: FP16 is not supported on CPU; using FP32 instead\n",
      "  warnings.warn(\"FP16 is not supported on CPU; using FP32 instead\")\n"
     ]
    },
    {
     "name": "stdout",
     "output_type": "stream",
     "text": [
      "- (203/500)Process file: ./data/database_sa1_Jan08_Mar19_cleaned_utt_0000000861-1\n",
      "- GroundTruth: dòng xưa vẫn tôi lượn lờ bên ngoài lăng mộ như dòng thời gian miêng việt qua lịch sử qua số phận của một con người một dân tộc một quốc gia\n",
      "- Predicted: dòng xưa vẫn tôi lựng lờ bên ngoài lang mộ, như dòng thời gian miên viện qua lịch sử, qua số phận của một con người, một dân tộc, một quốc gia.\n"
     ]
    },
    {
     "name": "stderr",
     "output_type": "stream",
     "text": [
      "/home/ngo/anaconda3/lib/python3.12/site-packages/whisper/transcribe.py:126: UserWarning: FP16 is not supported on CPU; using FP32 instead\n",
      "  warnings.warn(\"FP16 is not supported on CPU; using FP32 instead\")\n"
     ]
    },
    {
     "name": "stdout",
     "output_type": "stream",
     "text": [
      "- (204/500)Process file: ./data/database_sa1_Jan08_Mar19_cleaned_utt_0000000140-1\n",
      "- GroundTruth: bà cho biết cuộc đua của bà đang diễn ra gay go vì số phiếu khiếm diện gửi lại không nhiều như trông đợi và bà đang nỗ lực hết sức để huy động nhiều phiếu của cử tri gốc việt nhất có thể\n",
      "- Predicted: bà cho biết cuộc đua của bà đang diễn ra gây go vì số phiếu khiếm diện gửi lại không nhiều như trong đợi, và bà đang nỗ lực hết sức để huy động nhiều phiếu của cử tri gốc việt nhất có thể.\n"
     ]
    },
    {
     "name": "stderr",
     "output_type": "stream",
     "text": [
      "/home/ngo/anaconda3/lib/python3.12/site-packages/whisper/transcribe.py:126: UserWarning: FP16 is not supported on CPU; using FP32 instead\n",
      "  warnings.warn(\"FP16 is not supported on CPU; using FP32 instead\")\n"
     ]
    },
    {
     "name": "stdout",
     "output_type": "stream",
     "text": [
      "- (205/500)Process file: ./data/database_sa1_Jan08_Mar19_cleaned_utt_0000000682-1\n",
      "- GroundTruth: dạ cho chính quyền việt nam điều mà chính quyền việt nam rất cần bởi vì kinh tế việt nam hiện nay đang ở ngưỡng của khủng hoảng thế thì cái việc đó lại lại càng kích thích chính quyền việt nam\n",
      "- Predicted: cho chính quyền việt nam. điều mà chính quyền việt nam rất cần bởi vì kinh tế việt nam hiện nay đang ở ngưỡng của khủng hoảng. thế thì cái việc đó lại càng kích thích chính quyền việt nam.\n"
     ]
    },
    {
     "name": "stderr",
     "output_type": "stream",
     "text": [
      "/home/ngo/anaconda3/lib/python3.12/site-packages/whisper/transcribe.py:126: UserWarning: FP16 is not supported on CPU; using FP32 instead\n",
      "  warnings.warn(\"FP16 is not supported on CPU; using FP32 instead\")\n"
     ]
    },
    {
     "name": "stdout",
     "output_type": "stream",
     "text": [
      "- (206/500)Process file: ./data/database_sa1_Jan08_Mar19_cleaned_utt_0000008459-1\n",
      "- GroundTruth: chúng tôi có chính nghĩa một ngày nào đó chúng tôi sẽ quay về tây tạng tôi tin điều đó\n",
      "- Predicted: chúng tôi có chính nghĩa, một ngày nào đó chúng tôi sẽ quay về tây tạng, tôi tin điều đó.\n"
     ]
    },
    {
     "name": "stderr",
     "output_type": "stream",
     "text": [
      "/home/ngo/anaconda3/lib/python3.12/site-packages/whisper/transcribe.py:126: UserWarning: FP16 is not supported on CPU; using FP32 instead\n",
      "  warnings.warn(\"FP16 is not supported on CPU; using FP32 instead\")\n"
     ]
    },
    {
     "name": "stdout",
     "output_type": "stream",
     "text": [
      "- (207/500)Process file: ./data/database_sa1_Jan08_Mar19_cleaned_utt_0000004355-1\n",
      "- GroundTruth: gian lận gian lận phờ róc mình coi như mình lừa đảo người ta mà với số tiền hơn là mười ngàn cái số tiền những cái người mà mình lừa đảo mà họ mất hơn mười ngàn thì cái đó là ach vơ ry pho nì\n",
      "- Predicted: giang lặng, fraud, mình coi như mình lừa đảo người ta mà số tiền là hơn 10 ngàn. số tiền những người mình lừa đảo mà họ mắc hơn 10 ngàn. thì cái đó là aggregate felony.\n"
     ]
    },
    {
     "name": "stderr",
     "output_type": "stream",
     "text": [
      "/home/ngo/anaconda3/lib/python3.12/site-packages/whisper/transcribe.py:126: UserWarning: FP16 is not supported on CPU; using FP32 instead\n",
      "  warnings.warn(\"FP16 is not supported on CPU; using FP32 instead\")\n"
     ]
    },
    {
     "name": "stdout",
     "output_type": "stream",
     "text": [
      "- (208/500)Process file: ./data/database_sa1_Jan08_Mar19_cleaned_utt_0000004669-1\n",
      "- GroundTruth: ví dụ thu nhập trung bình của một gia đình người mỹ gốc phi bằng khoảng năm mươi chín phần trăm của <unk>\n",
      "- Predicted: ví dụ, thu nhập trung bình của một gia đình người mỹ úc phi bằng khoảng 59% của một gia đình mỹ úc phi.\n"
     ]
    },
    {
     "name": "stderr",
     "output_type": "stream",
     "text": [
      "/home/ngo/anaconda3/lib/python3.12/site-packages/whisper/transcribe.py:126: UserWarning: FP16 is not supported on CPU; using FP32 instead\n",
      "  warnings.warn(\"FP16 is not supported on CPU; using FP32 instead\")\n"
     ]
    },
    {
     "name": "stdout",
     "output_type": "stream",
     "text": [
      "- (209/500)Process file: ./data/database_sa1_Jan08_Mar19_cleaned_utt_0000003007-2\n",
      "- GroundTruth: <unk> đi làm nó coi như nối nhịp cầu của họ tới lúc nào mà bên phía nước mẹ đẻ có thể chấp nhận họ quay trở\n",
      "- Predicted: để đi làm đó coi như nối nhịp cầu của họ tới lúc nào mà bên nước mà đẻ có thể chấp nhận họ quay trở ngay\n"
     ]
    },
    {
     "name": "stderr",
     "output_type": "stream",
     "text": [
      "/home/ngo/anaconda3/lib/python3.12/site-packages/whisper/transcribe.py:126: UserWarning: FP16 is not supported on CPU; using FP32 instead\n",
      "  warnings.warn(\"FP16 is not supported on CPU; using FP32 instead\")\n"
     ]
    },
    {
     "name": "stdout",
     "output_type": "stream",
     "text": [
      "- (210/500)Process file: ./data/database_sa1_Jan08_Mar19_cleaned_utt_0000011763-1\n",
      "- GroundTruth: chúng tôi có khoảng một trăm ba mươi người đăng ký và chúng tôi đã đợi chín ngày rồi\n",
      "- Predicted: chúng tôi có khoảng 130 người đăng ký và chúng tôi đã đợi 9 ngày rồi.\n"
     ]
    },
    {
     "name": "stderr",
     "output_type": "stream",
     "text": [
      "/home/ngo/anaconda3/lib/python3.12/site-packages/whisper/transcribe.py:126: UserWarning: FP16 is not supported on CPU; using FP32 instead\n",
      "  warnings.warn(\"FP16 is not supported on CPU; using FP32 instead\")\n"
     ]
    },
    {
     "name": "stdout",
     "output_type": "stream",
     "text": [
      "- (211/500)Process file: ./data/database_sa1_Jan08_Mar19_cleaned_utt_0000000544-1\n",
      "- GroundTruth: với thái độ hiên ngang cương quyết ông ren si đã được hàng ngàn người ủng hộ ra đón tại sân bay pờ lom pen hôm thứ sáu\n",
      "- Predicted: với thay đổi hiên ngang, cương quyết, ông renzi đã được hàng ngàn người ủng hộ ra đón tại sân bay phnom penh hôm thứ sáu.\n"
     ]
    },
    {
     "name": "stderr",
     "output_type": "stream",
     "text": [
      "/home/ngo/anaconda3/lib/python3.12/site-packages/whisper/transcribe.py:126: UserWarning: FP16 is not supported on CPU; using FP32 instead\n",
      "  warnings.warn(\"FP16 is not supported on CPU; using FP32 instead\")\n"
     ]
    },
    {
     "name": "stdout",
     "output_type": "stream",
     "text": [
      "- (212/500)Process file: ./data/database_sa1_Jan08_Mar19_cleaned_utt_0000010643-1\n",
      "- GroundTruth: dạ thưa giáo sư đinh trí thiện hỏi là học sinh trung học phổ thông phải có tiêu chuẩn nào để xin học bổng của trường đại học công giáo hoa kỳ\n",
      "- Predicted: thưa giáo sư đinh trí thiện hỏi là học sinh trung học phổ thông phải có tiêu chuẩn nào để xin học bổng của trường đại học công giáo hoa kỳ?\n"
     ]
    },
    {
     "name": "stderr",
     "output_type": "stream",
     "text": [
      "/home/ngo/anaconda3/lib/python3.12/site-packages/whisper/transcribe.py:126: UserWarning: FP16 is not supported on CPU; using FP32 instead\n",
      "  warnings.warn(\"FP16 is not supported on CPU; using FP32 instead\")\n"
     ]
    },
    {
     "name": "stdout",
     "output_type": "stream",
     "text": [
      "- (213/500)Process file: ./data/database_sa1_Jan08_Mar19_cleaned_utt_0000010871-1\n",
      "- GroundTruth: xe chúng tôi đi thử có ếch roai bám đường và bột tốt không có vấn đề gì\n",
      "- Predicted: xe chúng tôi đi thử có x-drive bám đường vào cuộc tốt không có vấn đề gì\n"
     ]
    },
    {
     "name": "stderr",
     "output_type": "stream",
     "text": [
      "/home/ngo/anaconda3/lib/python3.12/site-packages/whisper/transcribe.py:126: UserWarning: FP16 is not supported on CPU; using FP32 instead\n",
      "  warnings.warn(\"FP16 is not supported on CPU; using FP32 instead\")\n"
     ]
    },
    {
     "name": "stdout",
     "output_type": "stream",
     "text": [
      "- (214/500)Process file: ./data/database_sa1_Jan08_Mar19_cleaned_utt_0000004175-1\n",
      "- GroundTruth: tất cả những người thiểu số ở trung quốc có quyền tự do tôn giáo theo luật lệ và họ tự do tin vào bất kỳ tôn giáo nào họ lựa chọn bà nói trung quốc hy vọng mỹ tôn trọng thực tế và nhìn nhận đúng đắn tránh thiên vị và đưa ra những phát biểu làm tổn hại sự tin cậy lẫn nhau\n",
      "- Predicted: tất cả những người thiếu số ở trung quốc có quyền tự do tôn giáo theo luật lệ và họ tự do tin vào bất kỳ tôn giáo nào họ lựa chọn. bà nói, trung quốc hy vọng mỹ tôn trọng thực tế và nhìn nhận đúng đắn, tránh thiên vị và đưa ra những phát biểu làm tổn hại sự tin cậy lẫn nhau.\n"
     ]
    },
    {
     "name": "stderr",
     "output_type": "stream",
     "text": [
      "/home/ngo/anaconda3/lib/python3.12/site-packages/whisper/transcribe.py:126: UserWarning: FP16 is not supported on CPU; using FP32 instead\n",
      "  warnings.warn(\"FP16 is not supported on CPU; using FP32 instead\")\n"
     ]
    },
    {
     "name": "stdout",
     "output_type": "stream",
     "text": [
      "- (215/500)Process file: ./data/database_sa1_Jan08_Mar19_cleaned_utt_0000010603-1\n",
      "- GroundTruth: đi và phía u cờ rai na đã thực hiện thỏa thuận ngừng bắn tuy nhiên nga đã không làm như vậy bà nói vào lúc này lộ đồ duy nhất cho các nước là xuống thang tình hình tháng trước bà méc ken cho biết liên minh châu âu sẽ không dỡ bỏ\n",
      "- Predicted: và phía ukraine đã thực hiện thỏa thuận ngừng bắn. tuy nhiên, nga đã không làm như vậy. bà nói, vào lúc này, lộ đồ duy nhất cho các nước là xuống thang tình hình. tháng trước, bà merkel cho biết liên minh châu âu sẽ không dỡ bỏ.\n"
     ]
    },
    {
     "name": "stderr",
     "output_type": "stream",
     "text": [
      "/home/ngo/anaconda3/lib/python3.12/site-packages/whisper/transcribe.py:126: UserWarning: FP16 is not supported on CPU; using FP32 instead\n",
      "  warnings.warn(\"FP16 is not supported on CPU; using FP32 instead\")\n"
     ]
    },
    {
     "name": "stdout",
     "output_type": "stream",
     "text": [
      "- (216/500)Process file: ./data/database_sa1_Jan08_Mar19_cleaned_utt_0000000005-1\n",
      "- GroundTruth: hôn thê hôn phu có nghĩa là chưa có cái giấy hôn thú nếu mà vậy thì kết cục bảo lãnh phải làm coi như là cái người mà được bảo lãnh hoặc phải ở nước ngoài con cái họ không <unk>\n",
      "- Predicted: hôn thê hôn phu có nghĩa là chưa có giấy hôn thú. nếu mà vậy thì cuộc bảo lãnh phải làm coi như là người được bảo lãnh họ phải ở nước ngoài.\n"
     ]
    },
    {
     "name": "stderr",
     "output_type": "stream",
     "text": [
      "/home/ngo/anaconda3/lib/python3.12/site-packages/whisper/transcribe.py:126: UserWarning: FP16 is not supported on CPU; using FP32 instead\n",
      "  warnings.warn(\"FP16 is not supported on CPU; using FP32 instead\")\n"
     ]
    },
    {
     "name": "stdout",
     "output_type": "stream",
     "text": [
      "- (217/500)Process file: ./data/database_sa1_Jan08_Mar19_cleaned_utt_0000012436-1\n",
      "- GroundTruth: mười bốn tháng mười hai tô ky ô hoan nghênh các cuộc tham vấn chính thức về một bộ quy tắc mà trung quốc và a si an đề ra từ giữa tháng chín năm nay\n",
      "- Predicted: 14 tháng 12, tokyo hoan nghênh các cuộc tham vấn chính thức về một bộ quy tắc mà trung quốc và asean đề ra từ giữa tháng 9 năm nay.\n"
     ]
    },
    {
     "name": "stderr",
     "output_type": "stream",
     "text": [
      "/home/ngo/anaconda3/lib/python3.12/site-packages/whisper/transcribe.py:126: UserWarning: FP16 is not supported on CPU; using FP32 instead\n",
      "  warnings.warn(\"FP16 is not supported on CPU; using FP32 instead\")\n"
     ]
    },
    {
     "name": "stdout",
     "output_type": "stream",
     "text": [
      "- (218/500)Process file: ./data/database_sa1_Jan08_Mar19_cleaned_utt_0000003791-1\n",
      "- GroundTruth: trong đó có nêu trường hợp của bờ lốc gơ cộng tác viên ó ây nguyễn văn hóa cộng tác viên vi u ây lê anh hùng và cộng tác viên ó ây trương duy nhất\n",
      "- Predicted: trong đó có nêu trường hợp của blogger, cộng tác viên rfa nguyễn văn hóa, cộng tác viên voa lê anh hùng và cộng tác viên rfa trương duy nhất.\n"
     ]
    },
    {
     "name": "stderr",
     "output_type": "stream",
     "text": [
      "/home/ngo/anaconda3/lib/python3.12/site-packages/whisper/transcribe.py:126: UserWarning: FP16 is not supported on CPU; using FP32 instead\n",
      "  warnings.warn(\"FP16 is not supported on CPU; using FP32 instead\")\n"
     ]
    },
    {
     "name": "stdout",
     "output_type": "stream",
     "text": [
      "- (219/500)Process file: ./data/database_sa1_Jan08_Mar19_cleaned_utt_0000002094-1\n",
      "- GroundTruth: ở thái lan các cộng đồng dọc theo sông mê công nói đập đôn sa hông sẽ gây thiệt hại cho nguồn sinh nhai của họ lệ thuộc chủ yếu vào cá của dòng sông và các tài nguyên thiên nhiên khác\n",
      "- Predicted: ở thái lan, các cộng đồng dọc theo sông mekong nói đập đôn sahong sẽ gây thiệt hại cho nguồn sinh nhai của họ, lệ thuộc chủ yếu vào cá của dòng sông và các tài nguyên thiên nhiên khác.\n"
     ]
    },
    {
     "name": "stderr",
     "output_type": "stream",
     "text": [
      "/home/ngo/anaconda3/lib/python3.12/site-packages/whisper/transcribe.py:126: UserWarning: FP16 is not supported on CPU; using FP32 instead\n",
      "  warnings.warn(\"FP16 is not supported on CPU; using FP32 instead\")\n"
     ]
    },
    {
     "name": "stdout",
     "output_type": "stream",
     "text": [
      "- (220/500)Process file: ./data/database_sa1_Jan08_Mar19_cleaned_utt_0000005580-3\n",
      "- GroundTruth: ra một\n",
      "- Predicted: \n"
     ]
    },
    {
     "name": "stderr",
     "output_type": "stream",
     "text": [
      "/home/ngo/anaconda3/lib/python3.12/site-packages/whisper/transcribe.py:126: UserWarning: FP16 is not supported on CPU; using FP32 instead\n",
      "  warnings.warn(\"FP16 is not supported on CPU; using FP32 instead\")\n"
     ]
    },
    {
     "name": "stdout",
     "output_type": "stream",
     "text": [
      "- (221/500)Process file: ./data/database_sa1_Jan08_Mar19_cleaned_utt_0000001461-1\n",
      "- GroundTruth: không ngờ cho đến khi các nhà khảo cứu đặt những thiết bị cảm biến lên đầu các em và đo lường phản ứng của các em với âm thanh trước và sau khi học\n",
      "- Predicted: không ngờ cho đến khi các nhà khảo cứu đặt những thiết bị cảm biến lên đầu các em và đo lường phản ứng của các em với âm thanh trước và sau khi học.\n"
     ]
    },
    {
     "name": "stderr",
     "output_type": "stream",
     "text": [
      "/home/ngo/anaconda3/lib/python3.12/site-packages/whisper/transcribe.py:126: UserWarning: FP16 is not supported on CPU; using FP32 instead\n",
      "  warnings.warn(\"FP16 is not supported on CPU; using FP32 instead\")\n"
     ]
    },
    {
     "name": "stdout",
     "output_type": "stream",
     "text": [
      "- (222/500)Process file: ./data/database_sa1_Jan08_Mar19_cleaned_utt_0000009798-2\n",
      "- GroundTruth: lúc đó cái thai đã được sáu tháng rưỡi trong suốt bảy tháng hai mươi mốt ngày tôi không chơi thuốc và hoàn toàn tỉnh táo lúc đó tôi sống cùng nhà với bố chồng và vào ngày mùng ba tháng mười một năm hai ngàn mười ba ông ấy lao xe từ đường vào sân nhà đâm chết con gái tôi tôi chứng kiến tận mắt cảnh tượng đó\n",
      "- Predicted: lúc đó cái thai đã được 6 tháng rưỡi trong suốt 7 tháng 21 ngày tôi không chơi thuốc và hoàn toàn tỉnh táo lúc đó tôi sống cùng nhà với bố chồng và vào ngày 3 tháng 11 năm 2013 ông ấy leo xe từ đường vào sân nhà đâm chết con gái tôi tôi chứng kiến tận mắt cảnh tượng đó\n"
     ]
    },
    {
     "name": "stderr",
     "output_type": "stream",
     "text": [
      "/home/ngo/anaconda3/lib/python3.12/site-packages/whisper/transcribe.py:126: UserWarning: FP16 is not supported on CPU; using FP32 instead\n",
      "  warnings.warn(\"FP16 is not supported on CPU; using FP32 instead\")\n"
     ]
    },
    {
     "name": "stdout",
     "output_type": "stream",
     "text": [
      "- (223/500)Process file: ./data/database_sa1_Jan08_Mar19_cleaned_utt_0000006852-1\n",
      "- GroundTruth: món chả giò cái tiệm nhỏ này là nguồn sống cho gia đình anh từ mười bảy năm nay\n",
      "- Predicted: món chả giò cái tiệm nhỏ này là nguồn sống cho gia đình anh từ 17 năm nay\n"
     ]
    },
    {
     "name": "stderr",
     "output_type": "stream",
     "text": [
      "/home/ngo/anaconda3/lib/python3.12/site-packages/whisper/transcribe.py:126: UserWarning: FP16 is not supported on CPU; using FP32 instead\n",
      "  warnings.warn(\"FP16 is not supported on CPU; using FP32 instead\")\n"
     ]
    },
    {
     "name": "stdout",
     "output_type": "stream",
     "text": [
      "- (224/500)Process file: ./data/database_sa1_Jan08_Mar19_cleaned_utt_0000000839-1\n",
      "- GroundTruth: tuần trước một tòa án ở thành phố chí minh kết án mười bốn năm tù đối với hai công dân mỹ gốc việt về tội hoạt động chống phá chính quyền nhân dân\n",
      "- Predicted: tuần trước, một tòa án ở tp.hcm kết án 14 năm tù đối với 2 công dân mỹ gốc việt về tội hoạt động chống phá chính quyền nhân dân.\n"
     ]
    },
    {
     "name": "stderr",
     "output_type": "stream",
     "text": [
      "/home/ngo/anaconda3/lib/python3.12/site-packages/whisper/transcribe.py:126: UserWarning: FP16 is not supported on CPU; using FP32 instead\n",
      "  warnings.warn(\"FP16 is not supported on CPU; using FP32 instead\")\n"
     ]
    },
    {
     "name": "stdout",
     "output_type": "stream",
     "text": [
      "- (225/500)Process file: ./data/database_sa1_Jan08_Mar19_cleaned_utt_0000002010-1\n",
      "- GroundTruth: ông ri át cho biết nhà ông ở a lép po đã bị phá hủy và một người con trai của ông đi lính đã thiệt mạng\n",
      "- Predicted: ông riad cho biết nhà ông ở aleppo đã bị phá hủy và một người con trai của ông đi lính đã thiệt mạng.\n"
     ]
    },
    {
     "name": "stderr",
     "output_type": "stream",
     "text": [
      "/home/ngo/anaconda3/lib/python3.12/site-packages/whisper/transcribe.py:126: UserWarning: FP16 is not supported on CPU; using FP32 instead\n",
      "  warnings.warn(\"FP16 is not supported on CPU; using FP32 instead\")\n"
     ]
    },
    {
     "name": "stdout",
     "output_type": "stream",
     "text": [
      "- (226/500)Process file: ./data/database_sa1_Jan08_Mar19_cleaned_utt_0000009082-1\n",
      "- GroundTruth: trung quốc nói những mối quan hệ quân sự đang gia tăng của goa sinh tơn và sự hiện diện của mỹ trong khu vực là điều đang khơi lên căng thẳng ở biển đông không phải những tuyên bố chủ quyền rộng lớn của bắc kinh chồng lấn những vùng đặc quyền kinh tế của những nước khác dù quốc tế đã kêu gọi bắc kinh chấp hành phán quyết trung quốc nói rằng họ sẽ phớt lờ phán quyết mà dự kiến sẽ được đưa ra trong vài tuần tới những quan chức mỹ nói rằng việc tăng cường quân lực không nhắm vào trung quốc nhưng những lo ngại về những ý đồ và hành động của bắc kinh trong khu vực rõ ràng đang đóng một vai trò\n",
      "- Predicted: trung quốc nói những mối quan hệ quân sự đang gia tăng của washington và sự hiện diện của mỹ trong khu vực là điều đang khơi lên căng thẳng ở biển đông, không phải những tuyên bố truyền quyến rộng lớn của bắc kinh trồng lấn những vùng đặc quyền kinh tế của những nước khác. dù quốc tế đã kêu gọi bắc kinh chấp hành phán quyết, trung quốc nói rằng họ sẽ phất lở phán quyết mà dự kiến sẽ được đưa ra trong vài tuần tới. những quan chức mỹ nói rằng việc tăng cường quân lực không nhắm vào trung quốc, nhưng những lo ngại về những ý đồ và hành động của bắc kinh trong khu vực rõ ràng đang đóng một vai trò.\n"
     ]
    },
    {
     "name": "stderr",
     "output_type": "stream",
     "text": [
      "/home/ngo/anaconda3/lib/python3.12/site-packages/whisper/transcribe.py:126: UserWarning: FP16 is not supported on CPU; using FP32 instead\n",
      "  warnings.warn(\"FP16 is not supported on CPU; using FP32 instead\")\n"
     ]
    },
    {
     "name": "stdout",
     "output_type": "stream",
     "text": [
      "- (227/500)Process file: ./data/database_sa1_Jan08_Mar19_cleaned_utt_0000005963-1\n",
      "- GroundTruth: để hiểu cặn kẽ về những bệnh thoái hóa thần kinh như a day mờ\n",
      "- Predicted: để hiểu cận kẽ về những bệnh thoải hóa thần kinh như alzheimer.\n"
     ]
    },
    {
     "name": "stderr",
     "output_type": "stream",
     "text": [
      "/home/ngo/anaconda3/lib/python3.12/site-packages/whisper/transcribe.py:126: UserWarning: FP16 is not supported on CPU; using FP32 instead\n",
      "  warnings.warn(\"FP16 is not supported on CPU; using FP32 instead\")\n"
     ]
    },
    {
     "name": "stdout",
     "output_type": "stream",
     "text": [
      "- (228/500)Process file: ./data/database_sa1_Jan08_Mar19_cleaned_utt_0000006087-1\n",
      "- GroundTruth: xảy ra hôm mười một tháng giêng nạn nhân là một nông dân chăn vịt mười tám tuổi ở hậu giang theo tổ chức y tế thế giới việt nam là một trong những nước có nhiều người chết vì cúm gia cầm nhất trong khu vực đông nam á với khoảng sáu mươi ca tử vong tính từ năm hai ngàn lẻ ba\n",
      "- Predicted: xảy ra hôm 11 tháng giêng, nạn nhân là một nông dân chăn vịt 18 tuổi ở hậu giang. theo tổ chức y tế thế giới, việt nam là một trong những nước có nhiều người chết vì cúm da cầm nhất trong khu vực đông nam á, với khoảng 60 ca tử vong, tính từ năm 2003.\n"
     ]
    },
    {
     "name": "stderr",
     "output_type": "stream",
     "text": [
      "/home/ngo/anaconda3/lib/python3.12/site-packages/whisper/transcribe.py:126: UserWarning: FP16 is not supported on CPU; using FP32 instead\n",
      "  warnings.warn(\"FP16 is not supported on CPU; using FP32 instead\")\n"
     ]
    },
    {
     "name": "stdout",
     "output_type": "stream",
     "text": [
      "- (229/500)Process file: ./data/database_sa1_Jan08_Mar19_cleaned_utt_0000003971-1\n",
      "- GroundTruth: dù ông a bê đã bày tỏ sự ủng hộ trung thành cho chính sách gây áp lực tối đa của ông troăm\n",
      "- Predicted: dù ông abe đã bày tỏ sự ủng hộ trung thành cho chính sách gây áp lực tối đa của ông trump.\n"
     ]
    },
    {
     "name": "stderr",
     "output_type": "stream",
     "text": [
      "/home/ngo/anaconda3/lib/python3.12/site-packages/whisper/transcribe.py:126: UserWarning: FP16 is not supported on CPU; using FP32 instead\n",
      "  warnings.warn(\"FP16 is not supported on CPU; using FP32 instead\")\n"
     ]
    },
    {
     "name": "stdout",
     "output_type": "stream",
     "text": [
      "- (230/500)Process file: ./data/database_sa1_Jan08_Mar19_cleaned_utt_0000000517-1\n",
      "- GroundTruth: họ giô trong biển mình họ bắt mình giờ là cứ ghe tàu mình họ phá hủy hết những cái tín hiệu định vị những bằng chứng mà xác thực là họ tịch thu họ hủy hết rồi bắt đầu họ tới họ ngâm mình qua đây bị giam vô thời hạn\n",
      "- Predicted: họ vô trong biển mình, họ bắt mình vô là cứ ghe tàu mình, họ phá quỷ hết những cái tín hiệu định vị, những cái bằng chứng mà chắc thật là họ tịch thu, họ quỷ hết. rồi bắt đầu họ cứ ngâm mình. qua đây là bị giam vô tàu hẹn.\n"
     ]
    },
    {
     "name": "stderr",
     "output_type": "stream",
     "text": [
      "/home/ngo/anaconda3/lib/python3.12/site-packages/whisper/transcribe.py:126: UserWarning: FP16 is not supported on CPU; using FP32 instead\n",
      "  warnings.warn(\"FP16 is not supported on CPU; using FP32 instead\")\n"
     ]
    },
    {
     "name": "stdout",
     "output_type": "stream",
     "text": [
      "- (231/500)Process file: ./data/database_sa1_Jan08_Mar19_cleaned_utt_0000012182-1\n",
      "- GroundTruth: ông đo na trăm rõ rệt đã dựng nên một hệ thống trong đó quyền hành chánh văn phòng không được rõ rệt trên thương trường ông quen với việc nhiều người có thể gõ cửa vào nói chuyện trực tiếp và khi lên cầm quyền ông muốn điều hành theo cách đó\n",
      "- Predicted: ông donald trump rõ rệt đã dựng nên một hệ thống trong đó quyền hành chánh văn phòng không được rõ rệt. trên thương trường, ông quen với việc nhiều người có thể gõ cửa vào nói chuyện trực tiếp, và khi lên cầm quyền, ông muốn điều hành theo cách đó.\n"
     ]
    },
    {
     "name": "stderr",
     "output_type": "stream",
     "text": [
      "/home/ngo/anaconda3/lib/python3.12/site-packages/whisper/transcribe.py:126: UserWarning: FP16 is not supported on CPU; using FP32 instead\n",
      "  warnings.warn(\"FP16 is not supported on CPU; using FP32 instead\")\n"
     ]
    },
    {
     "name": "stdout",
     "output_type": "stream",
     "text": [
      "- (232/500)Process file: ./data/database_sa1_Jan08_Mar19_cleaned_utt_0000004570-1\n",
      "- GroundTruth: tất nhiên vẫn còn một chiếc cần điều chỉnh đối với công nghệ vi a nói chung tôi tin rằng khi lần đầu tiên trải nghiệm bạn chắc chắn sẽ mất phương hướng nhưng khi bạn trải nghiệm một vài lần thì bạn sẽ quen với nó\n",
      "- Predicted: tất nhiên vẫn còn một thuyết cần điều chỉnh đối với công nghệ vr nói chung. tôi tin rằng khi lần đầu tiên trải nghiệm bạn chắc chắn sẽ bắt phơi hướng, nhưng khi bạn trải nghiệm một vài lần thì bạn sẽ quen với nó.\n"
     ]
    },
    {
     "name": "stderr",
     "output_type": "stream",
     "text": [
      "/home/ngo/anaconda3/lib/python3.12/site-packages/whisper/transcribe.py:126: UserWarning: FP16 is not supported on CPU; using FP32 instead\n",
      "  warnings.warn(\"FP16 is not supported on CPU; using FP32 instead\")\n"
     ]
    },
    {
     "name": "stdout",
     "output_type": "stream",
     "text": [
      "- (233/500)Process file: ./data/database_sa1_Jan08_Mar19_cleaned_utt_0000004466-1\n",
      "- GroundTruth: trà my thân chào quý vị và các bạn đang đến với chương trình hỏi đáp trực tiếp du học hoa kỳ tối thứ hai với giáo sư tiến sĩ gion cương nguyễn nguyên hiệu trưởng trường kỹ sư đại học công giáo hoa kỳ xin chào giáo\n",
      "- Predicted: trong khi thân chào quý vị và các bạn đang đến với chương trình hỏi đáp trực tiếp du học hoa kỳ tối thứ 2 với giáo sư tiến sĩ charles cường nguyễn, nguyên hiệu trưởng trường kỵ sư đại học công giáo hoa kỳ. xin chào giáo sư.\n"
     ]
    },
    {
     "name": "stderr",
     "output_type": "stream",
     "text": [
      "/home/ngo/anaconda3/lib/python3.12/site-packages/whisper/transcribe.py:126: UserWarning: FP16 is not supported on CPU; using FP32 instead\n",
      "  warnings.warn(\"FP16 is not supported on CPU; using FP32 instead\")\n"
     ]
    },
    {
     "name": "stdout",
     "output_type": "stream",
     "text": [
      "- (234/500)Process file: ./data/database_sa1_Jan08_Mar19_cleaned_utt_0000001654-1\n",
      "- GroundTruth: do những nhà máy bia loại nhỏ sản xuất ngành nghề thủ công trong năm qua tăng mười một phần trăm về khối lượng và tăng mười hai phần trăm tính theo đô la so với năm ngoái một trong những loại bia mới được khởi hứng từ những tổ phụ của nước mỹ trong đó có ông do goa sinh tơn\n",
      "- Predicted: do những nhà máy bia loại nhỏ sản xuất. ngành bia thủ công trong năm qua tăng 11% về khối lượng và tăng 12% tính theo đô la so với năm ngoái. một trong những loại bia mới được khởi hứng từ những tổ phụ của nước mỹ, trong đó có ông george washington.\n"
     ]
    },
    {
     "name": "stderr",
     "output_type": "stream",
     "text": [
      "/home/ngo/anaconda3/lib/python3.12/site-packages/whisper/transcribe.py:126: UserWarning: FP16 is not supported on CPU; using FP32 instead\n",
      "  warnings.warn(\"FP16 is not supported on CPU; using FP32 instead\")\n"
     ]
    },
    {
     "name": "stdout",
     "output_type": "stream",
     "text": [
      "- (235/500)Process file: ./data/database_sa1_Jan08_Mar19_cleaned_utt_0000006803-1\n",
      "- GroundTruth: chúng tôi còn không biết mặt mũi số tiền đền bù nó ra sao cả nhà tôi bị dựng dậy giữa đêm vì nghe thấy <unk>\n",
      "- Predicted: chúng tôi còn không biết mặt mũi số tiền để bù nó ra sao. cả nhà tôi bị dựng dậy giữa đêm vì nghe thầy mời.\n"
     ]
    },
    {
     "name": "stderr",
     "output_type": "stream",
     "text": [
      "/home/ngo/anaconda3/lib/python3.12/site-packages/whisper/transcribe.py:126: UserWarning: FP16 is not supported on CPU; using FP32 instead\n",
      "  warnings.warn(\"FP16 is not supported on CPU; using FP32 instead\")\n"
     ]
    },
    {
     "name": "stdout",
     "output_type": "stream",
     "text": [
      "- (236/500)Process file: ./data/database_sa1_Jan08_Mar19_cleaned_utt_0000004581-1\n",
      "- GroundTruth: có nội dung ông tuấn có nguy cơ ung thư vì ăn hải sản nhiễm độc\n",
      "- Predicted: có nội dung ông tuấn có nguy cơ ung thư vì ăn hải sản nhiễm độc.\n"
     ]
    },
    {
     "name": "stderr",
     "output_type": "stream",
     "text": [
      "/home/ngo/anaconda3/lib/python3.12/site-packages/whisper/transcribe.py:126: UserWarning: FP16 is not supported on CPU; using FP32 instead\n",
      "  warnings.warn(\"FP16 is not supported on CPU; using FP32 instead\")\n"
     ]
    },
    {
     "name": "stdout",
     "output_type": "stream",
     "text": [
      "- (237/500)Process file: ./data/database_sa1_Jan08_Mar19_cleaned_utt_0000001917-1\n",
      "- GroundTruth: <unk> chứng chỉ mà ờ cư lít lao ơ mà trong hai năm đầu sẽ được công nhận cái câu hỏi đó rất là tổng quán bởi thế rất khó khăn mà để trả lời\n",
      "- Predicted: chính trị credit hour trong hai năm đầu sẽ được công nhận. câu hỏi đó rất là tổng quát và rất là khó khăn để trả lời.\n"
     ]
    },
    {
     "name": "stderr",
     "output_type": "stream",
     "text": [
      "/home/ngo/anaconda3/lib/python3.12/site-packages/whisper/transcribe.py:126: UserWarning: FP16 is not supported on CPU; using FP32 instead\n",
      "  warnings.warn(\"FP16 is not supported on CPU; using FP32 instead\")\n"
     ]
    },
    {
     "name": "stdout",
     "output_type": "stream",
     "text": [
      "- (238/500)Process file: ./data/database_sa1_Jan08_Mar19_cleaned_utt_0000005295-1\n",
      "- GroundTruth: đe dọa tới tuyến đường biển huyết mạch và kế sinh nhai của hàng triệu người dân\n",
      "- Predicted: đe dọa tới tuyến đường biển huyết mạch và kế sinh nhai của hàng triệu người dân.\n"
     ]
    },
    {
     "name": "stderr",
     "output_type": "stream",
     "text": [
      "/home/ngo/anaconda3/lib/python3.12/site-packages/whisper/transcribe.py:126: UserWarning: FP16 is not supported on CPU; using FP32 instead\n",
      "  warnings.warn(\"FP16 is not supported on CPU; using FP32 instead\")\n"
     ]
    },
    {
     "name": "stdout",
     "output_type": "stream",
     "text": [
      "- (239/500)Process file: ./data/database_sa1_Jan08_Mar19_cleaned_utt_0000008694-1\n",
      "- GroundTruth: cựu ngoại trưởng mỹ hơ lơ ri cơ lin tưn và thượng nghị sĩ bang vơ mon vơ ni san đơ đã đấu khẩu quyết liệt trong cuộc tranh luận một chọi một đầu tiên của họ sau hội nghị đầu phiếu ở bang ai ô ba bà cơ lin tưn và ông san đơ tiếp tục cãi nhau về việc ai mới thực sự là người có tư tưởng cấp tiến trong cuộc đua tổng thống ba rắc ô ba ma hứa sẽ cung cấp hỗ trợ tài chính và những hỗ trợ khác cho cô lôm bi a trong khi chính phủ nước này chuẩn bị hoàn tất một thỏa thuận hòa bình với phiến quân du kích cánh tả đã chiến đấu chống lại chính phủ suốt hơn năm mươi năm qua ông ô ba ma loan báo những chương trình này sau cuộc hội kiến tổng thống cô lôm bi a người hâm mộ đang tưởng nhớ biểu tượng âm nhạc bảy mươi bốn tuổi mo rít goay người sáng lập ban nhạc ớt guyn en phai ơ người em trai của ông và cũng là người đồng sáng lập ban nhạc xác nhận ông đã qua đời vào thứ năm\n",
      "- Predicted: cựu ngoại trưởng mỹ hillary clinton và thượng nghị sĩ bang vermont bernie sanders đã đấu khẩu quyết liệt trong cuộc tranh luận 1-1 đầu tiên của họ sau hội nghị đầu phiếu ở bang iowa. bà clinton và ông sanders tiếp tục cãi nhau về việc ai mới thật sự là người có tư tưởng cấp tiến trong cuộc đua. tổng thống barack obama hứa sẽ cung cấp hỗ trợ tài chính và những hỗ trợ khác cho colombia, trong khi chính phủ nước này chuẩn bị hoàn tất một thỏa thuận hòa bình với phiến quân du kích cánh tả, đã chiến đấu chống lại chính phủ suốt hơn 50 năm qua. ông obama loan báo những chương trình này sau cuộc hội kiến tổng thống colombia. người hâm mộ đang tưởng nhớ biểu tượng âm nhạc 74 tuổi morris white, người sáng lập ban nhạc earth, wind & fire, người em trai của ông và cũng là người đồng sáng lập ban nhạc xác nhận ông đã qua đời vào thứ năm.\n"
     ]
    },
    {
     "name": "stderr",
     "output_type": "stream",
     "text": [
      "/home/ngo/anaconda3/lib/python3.12/site-packages/whisper/transcribe.py:126: UserWarning: FP16 is not supported on CPU; using FP32 instead\n",
      "  warnings.warn(\"FP16 is not supported on CPU; using FP32 instead\")\n"
     ]
    },
    {
     "name": "stdout",
     "output_type": "stream",
     "text": [
      "- (240/500)Process file: ./data/database_sa1_Jan08_Mar19_cleaned_utt_0000005351-1\n",
      "- GroundTruth: thật khó mà tưởng tượng được giờ\n",
      "- Predicted: thật khó mà tưởng tượng được ra.\n"
     ]
    },
    {
     "name": "stderr",
     "output_type": "stream",
     "text": [
      "/home/ngo/anaconda3/lib/python3.12/site-packages/whisper/transcribe.py:126: UserWarning: FP16 is not supported on CPU; using FP32 instead\n",
      "  warnings.warn(\"FP16 is not supported on CPU; using FP32 instead\")\n"
     ]
    },
    {
     "name": "stdout",
     "output_type": "stream",
     "text": [
      "- (241/500)Process file: ./data/database_sa1_Jan08_Mar19_cleaned_utt_0000012625-1\n",
      "- GroundTruth: đừng tin điều đó động cơ hiện đại khác với động cơ cũ và dùng các loại dầu đặc hơn có thể dẫn đến đủ loại vấn đề thứ nhất nó có thể dẫn đến tuần hoàn kém trong động cơ vì nó quá đặc tôi ăn kém có thể dẫn đến những vấn đề mà chúng ta thấy ở đây\n",
      "- Predicted: đừng tin điều đó. động cơ hiện đại khác với động cơ cũ và dùng các loại dầu đặc hơn có thể dẫn đến đủ loại vấn đề. thứ nhất, nó có thể dẫn đến tuần hoàn kém trong động cơ vì nó quá đặc. tuần hoàn kém có thể dẫn đến những vấn đề mà chúng ta thấy ở đây.\n"
     ]
    },
    {
     "name": "stderr",
     "output_type": "stream",
     "text": [
      "/home/ngo/anaconda3/lib/python3.12/site-packages/whisper/transcribe.py:126: UserWarning: FP16 is not supported on CPU; using FP32 instead\n",
      "  warnings.warn(\"FP16 is not supported on CPU; using FP32 instead\")\n"
     ]
    },
    {
     "name": "stdout",
     "output_type": "stream",
     "text": [
      "- (242/500)Process file: ./data/database_sa1_Jan08_Mar19_cleaned_utt_0000006256-1\n",
      "- GroundTruth: chúng tôi đang nỗ lực làm việc đó và chúng tôi kỳ vọng i ran cũng tuân thủ đúng những cam kết của họ\n",
      "- Predicted: chúng tôi đang nỗ lực làm việc đó và chúng tôi kỳ vọng iran cũng tuân thủ đúng những cam kết của họ.\n"
     ]
    },
    {
     "name": "stderr",
     "output_type": "stream",
     "text": [
      "/home/ngo/anaconda3/lib/python3.12/site-packages/whisper/transcribe.py:126: UserWarning: FP16 is not supported on CPU; using FP32 instead\n",
      "  warnings.warn(\"FP16 is not supported on CPU; using FP32 instead\")\n"
     ]
    },
    {
     "name": "stdout",
     "output_type": "stream",
     "text": [
      "- (243/500)Process file: ./data/database_sa1_Jan08_Mar19_cleaned_utt_0000009570-1\n",
      "- GroundTruth: với chuyên gia về hôn nhân đồng tính phán quyết rằng lệnh cấm vi phạm những quyền hiến định cơ bản chính quyền bang và tổng\n",
      "- Predicted: virginia về hôn nhân đồng tính, phán quyết rằng lệnh cấm vi phạm những quyền hiến định cơ bản.\n"
     ]
    },
    {
     "name": "stderr",
     "output_type": "stream",
     "text": [
      "/home/ngo/anaconda3/lib/python3.12/site-packages/whisper/transcribe.py:126: UserWarning: FP16 is not supported on CPU; using FP32 instead\n",
      "  warnings.warn(\"FP16 is not supported on CPU; using FP32 instead\")\n"
     ]
    },
    {
     "name": "stdout",
     "output_type": "stream",
     "text": [
      "- (244/500)Process file: ./data/database_sa1_Jan08_Mar19_cleaned_utt_0000004049-1\n",
      "- GroundTruth: hoàng hậu giang thì nó ít ưa chuộng tại vì bụng nó cục với trái nó ớ ít nữa tại vì ngồi dưới ờ thường thường\n",
      "- Predicted: còn hậu gian thì nó ít ưa chuộng, tại vì bụng nó cục với trái nó ít nữa. tại vì gọi với thương thương.\n"
     ]
    },
    {
     "name": "stderr",
     "output_type": "stream",
     "text": [
      "/home/ngo/anaconda3/lib/python3.12/site-packages/whisper/transcribe.py:126: UserWarning: FP16 is not supported on CPU; using FP32 instead\n",
      "  warnings.warn(\"FP16 is not supported on CPU; using FP32 instead\")\n"
     ]
    },
    {
     "name": "stdout",
     "output_type": "stream",
     "text": [
      "- (245/500)Process file: ./data/database_sa1_Jan08_Mar19_cleaned_utt_0000006942-3\n",
      "- GroundTruth: <unk> cải thiện được nhiều hơn trước khi đi nghĩ đến chuyện đi phẫu thuật thưa bác sĩ\n",
      "- Predicted: cải thiện được nhiều hơn trước khi nghĩ tới chuyện đi phẫu thuật từ bác sĩ.\n"
     ]
    },
    {
     "name": "stderr",
     "output_type": "stream",
     "text": [
      "/home/ngo/anaconda3/lib/python3.12/site-packages/whisper/transcribe.py:126: UserWarning: FP16 is not supported on CPU; using FP32 instead\n",
      "  warnings.warn(\"FP16 is not supported on CPU; using FP32 instead\")\n"
     ]
    },
    {
     "name": "stdout",
     "output_type": "stream",
     "text": [
      "- (246/500)Process file: ./data/database_sa1_Jan08_Mar19_cleaned_utt_0000004769-1\n",
      "- GroundTruth: lắng nghe cô ấy hát một cách đầy cảm xúc hát về nỗi đau về tự do vào đức tin và những điều đang diễn ra tại việt nam khiến tôi cảm thấy thật may mắn khi có được những trải nghiệm âm nhạc này\n",
      "- Predicted: lắng nghe cô ấy hát một cách đầy cảm xúc, hát về nỗi đau, về tự do, vào đức tin và những điều đang diễn ra tại việt nam khiến tôi cảm thấy thật may mắn khi có được những trải nghiệm âm nhạc này.\n"
     ]
    },
    {
     "name": "stderr",
     "output_type": "stream",
     "text": [
      "/home/ngo/anaconda3/lib/python3.12/site-packages/whisper/transcribe.py:126: UserWarning: FP16 is not supported on CPU; using FP32 instead\n",
      "  warnings.warn(\"FP16 is not supported on CPU; using FP32 instead\")\n"
     ]
    },
    {
     "name": "stdout",
     "output_type": "stream",
     "text": [
      "- (247/500)Process file: ./data/database_sa1_Jan08_Mar19_cleaned_utt_0000007410-1\n",
      "- GroundTruth: nhà chức trách nói rằng vụ nổ chiếc tàu trên bốn ngàn tấn này xảy ra sáng hôm mười lăm tháng giêng\n",
      "- Predicted: nhà chức trách nói rằng vụ nổ chiếc tàu trên 4.000 tấn này xảy ra sáng hôm 15 tháng giêng\n"
     ]
    },
    {
     "name": "stderr",
     "output_type": "stream",
     "text": [
      "/home/ngo/anaconda3/lib/python3.12/site-packages/whisper/transcribe.py:126: UserWarning: FP16 is not supported on CPU; using FP32 instead\n",
      "  warnings.warn(\"FP16 is not supported on CPU; using FP32 instead\")\n"
     ]
    },
    {
     "name": "stdout",
     "output_type": "stream",
     "text": [
      "- (248/500)Process file: ./data/database_sa1_Jan08_Mar19_cleaned_utt_0000010377-1\n",
      "- GroundTruth: vì vậy trong quá trình xạ trị theo hình ảnh chụp em a ai bác sĩ có thể sử dụng công cụ của tôi để biết chính xác vị trí tuyến tụy từ đó họ có thể sử dụng bức xạ một cách hiệu quả hơn giảm việc làm hại tới các tế bào hoặc cơ quan khỏe mạnh khác\n",
      "- Predicted: vì vậy, trong quá trình xạ trị theo hình ảnh chụp mri, bác sĩ có thể sử dụng công cụ của tôi để biết chính xác vị trí tuyến tụy. từ đó họ có thể sử dụng bức xạ một cách hiệu quả hơn, giảm việc làm hại tới các tế bào hoặc cơ quan khỏe mạnh khác.\n"
     ]
    },
    {
     "name": "stderr",
     "output_type": "stream",
     "text": [
      "/home/ngo/anaconda3/lib/python3.12/site-packages/whisper/transcribe.py:126: UserWarning: FP16 is not supported on CPU; using FP32 instead\n",
      "  warnings.warn(\"FP16 is not supported on CPU; using FP32 instead\")\n"
     ]
    },
    {
     "name": "stdout",
     "output_type": "stream",
     "text": [
      "- (249/500)Process file: ./data/database_sa1_Jan08_Mar19_cleaned_utt_0000004092-1\n",
      "- GroundTruth: cuộc điều tra cũng đã phát hiện ra công ty này lót tay ít nhất ba trăm ba mươi nghìn đô la cho các bác sĩ để kê đơn những loại thuốc nhất định của vi en pho mao cho các bệnh nhân\n",
      "- Predicted: cuộc điều tra cũng đã phát hiện ra công ty này lót tay ít nhất 330.000 đô la cho các bác sĩ để kê đơn những loại thuốc nhất định của vn pharma cho các bệnh nhân.\n"
     ]
    },
    {
     "name": "stderr",
     "output_type": "stream",
     "text": [
      "/home/ngo/anaconda3/lib/python3.12/site-packages/whisper/transcribe.py:126: UserWarning: FP16 is not supported on CPU; using FP32 instead\n",
      "  warnings.warn(\"FP16 is not supported on CPU; using FP32 instead\")\n"
     ]
    },
    {
     "name": "stdout",
     "output_type": "stream",
     "text": [
      "- (250/500)Process file: ./data/database_sa1_Jan08_Mar19_cleaned_utt_0000008303-1\n",
      "- GroundTruth: cho một học sinh mười sáu tuổi\n",
      "- Predicted: cho một học sinh 16 tuổi.\n"
     ]
    },
    {
     "name": "stderr",
     "output_type": "stream",
     "text": [
      "/home/ngo/anaconda3/lib/python3.12/site-packages/whisper/transcribe.py:126: UserWarning: FP16 is not supported on CPU; using FP32 instead\n",
      "  warnings.warn(\"FP16 is not supported on CPU; using FP32 instead\")\n"
     ]
    },
    {
     "name": "stdout",
     "output_type": "stream",
     "text": [
      "- (251/500)Process file: ./data/database_sa1_Jan08_Mar19_cleaned_utt_0000002033-1\n",
      "- GroundTruth: khi ngành công nghiệp điện ảnh mới được hình thành\n",
      "- Predicted: khi ngành công nghiệp điện ảnh mới được hình thành.\n"
     ]
    },
    {
     "name": "stderr",
     "output_type": "stream",
     "text": [
      "/home/ngo/anaconda3/lib/python3.12/site-packages/whisper/transcribe.py:126: UserWarning: FP16 is not supported on CPU; using FP32 instead\n",
      "  warnings.warn(\"FP16 is not supported on CPU; using FP32 instead\")\n"
     ]
    },
    {
     "name": "stdout",
     "output_type": "stream",
     "text": [
      "- (252/500)Process file: ./data/database_sa1_Jan08_Mar19_cleaned_utt_0000012422-1\n",
      "- GroundTruth: với phu quân biu cờ lin tơn và con gái cheo xi đứng kế bên và trước hàng trăm ủng hộ viên cũng như các nhân viên\n",
      "- Predicted: với phu quân bill clinton và con gái chelsea đứng kế bên và trước hàng trăm ủng hộ viên cũng như các nhân viên.\n"
     ]
    },
    {
     "name": "stderr",
     "output_type": "stream",
     "text": [
      "/home/ngo/anaconda3/lib/python3.12/site-packages/whisper/transcribe.py:126: UserWarning: FP16 is not supported on CPU; using FP32 instead\n",
      "  warnings.warn(\"FP16 is not supported on CPU; using FP32 instead\")\n"
     ]
    },
    {
     "name": "stdout",
     "output_type": "stream",
     "text": [
      "- (253/500)Process file: ./data/database_sa1_Jan08_Mar19_cleaned_utt_0000012570-1\n",
      "- GroundTruth: chiếc xe máy này từng là biểu tượng của tương lai và tính cơ động kinh tế giờ là biểu tượng cho một cái gì đó khác\n",
      "- Predicted: chiếc xe máy này từng là biểu tượng của tương lai và tính cơ động kinh tế, giờ là biểu tượng cho một cái gì đó khác.\n"
     ]
    },
    {
     "name": "stderr",
     "output_type": "stream",
     "text": [
      "/home/ngo/anaconda3/lib/python3.12/site-packages/whisper/transcribe.py:126: UserWarning: FP16 is not supported on CPU; using FP32 instead\n",
      "  warnings.warn(\"FP16 is not supported on CPU; using FP32 instead\")\n"
     ]
    },
    {
     "name": "stdout",
     "output_type": "stream",
     "text": [
      "- (254/500)Process file: ./data/database_sa1_Jan08_Mar19_cleaned_utt_0000011723-1\n",
      "- GroundTruth: đảng cộng sản việt nam cử đặc sứ sang trung quốc để xoa dịu căng thẳng\n",
      "- Predicted: đảng cộng sản việt nam cử đặc sứ sang trung quốc để xoa dịu căng thẳng.\n"
     ]
    },
    {
     "name": "stderr",
     "output_type": "stream",
     "text": [
      "/home/ngo/anaconda3/lib/python3.12/site-packages/whisper/transcribe.py:126: UserWarning: FP16 is not supported on CPU; using FP32 instead\n",
      "  warnings.warn(\"FP16 is not supported on CPU; using FP32 instead\")\n"
     ]
    },
    {
     "name": "stdout",
     "output_type": "stream",
     "text": [
      "- (255/500)Process file: ./data/database_sa1_Jan08_Mar19_cleaned_utt_0000012339-1\n",
      "- GroundTruth: ờ nhưng mà hiện tại thấy rõ đó là nếu việt nam không lợi dụng cái cơ hội này để bành trướng kí kí kí kí mức sản xuất kí công nghệ cao <unk>\n",
      "- Predicted: nhưng mà hiện tại thấy rõ đó là nếu việt nam không lợi dụng cơ hội này để bành trướng mức sản xuất công nghệ cao đó,\n"
     ]
    },
    {
     "name": "stderr",
     "output_type": "stream",
     "text": [
      "/home/ngo/anaconda3/lib/python3.12/site-packages/whisper/transcribe.py:126: UserWarning: FP16 is not supported on CPU; using FP32 instead\n",
      "  warnings.warn(\"FP16 is not supported on CPU; using FP32 instead\")\n"
     ]
    },
    {
     "name": "stdout",
     "output_type": "stream",
     "text": [
      "- (256/500)Process file: ./data/database_sa1_Jan08_Mar19_cleaned_utt_0000003373-1\n",
      "- GroundTruth: còn sinh viên này cho biết cô nghĩ rằng trừng phạt với nga là không công bằng vì người anh kiếm chuyện để cổ động viên đánh nhau\n",
      "- Predicted: còn sinh viên này cho biết, cô nghĩ rằng trừng phạt phía nga là không công bằng vì người anh kiếm chuyện để cổ động viên đánh nhau.\n"
     ]
    },
    {
     "name": "stderr",
     "output_type": "stream",
     "text": [
      "/home/ngo/anaconda3/lib/python3.12/site-packages/whisper/transcribe.py:126: UserWarning: FP16 is not supported on CPU; using FP32 instead\n",
      "  warnings.warn(\"FP16 is not supported on CPU; using FP32 instead\")\n"
     ]
    },
    {
     "name": "stdout",
     "output_type": "stream",
     "text": [
      "- (257/500)Process file: ./data/database_sa1_Jan08_Mar19_cleaned_utt_0000002986-1\n",
      "- GroundTruth: rất là giống như vui vẻ giống nhau\n",
      "- Predicted: rất là giống như vui vẻ giống nhau\n"
     ]
    },
    {
     "name": "stderr",
     "output_type": "stream",
     "text": [
      "/home/ngo/anaconda3/lib/python3.12/site-packages/whisper/transcribe.py:126: UserWarning: FP16 is not supported on CPU; using FP32 instead\n",
      "  warnings.warn(\"FP16 is not supported on CPU; using FP32 instead\")\n"
     ]
    },
    {
     "name": "stdout",
     "output_type": "stream",
     "text": [
      "- (258/500)Process file: ./data/database_sa1_Jan08_Mar19_cleaned_utt_0000009732-1\n",
      "- GroundTruth: và ngay bây giờ là phần tin quốc tế\n",
      "- Predicted: và ngay bây giờ là phần tin quốc tế\n"
     ]
    },
    {
     "name": "stderr",
     "output_type": "stream",
     "text": [
      "/home/ngo/anaconda3/lib/python3.12/site-packages/whisper/transcribe.py:126: UserWarning: FP16 is not supported on CPU; using FP32 instead\n",
      "  warnings.warn(\"FP16 is not supported on CPU; using FP32 instead\")\n"
     ]
    },
    {
     "name": "stdout",
     "output_type": "stream",
     "text": [
      "- (259/500)Process file: ./data/database_sa1_Jan08_Mar19_cleaned_utt_0000004043-2\n",
      "- GroundTruth: những người có ảnh hưởng đến công chúng nói chung\n",
      "- Predicted: những người có ảnh hưởng đến công chúng nói chung.\n"
     ]
    },
    {
     "name": "stderr",
     "output_type": "stream",
     "text": [
      "/home/ngo/anaconda3/lib/python3.12/site-packages/whisper/transcribe.py:126: UserWarning: FP16 is not supported on CPU; using FP32 instead\n",
      "  warnings.warn(\"FP16 is not supported on CPU; using FP32 instead\")\n"
     ]
    },
    {
     "name": "stdout",
     "output_type": "stream",
     "text": [
      "- (260/500)Process file: ./data/database_sa1_Jan08_Mar19_cleaned_utt_0000003236-1\n",
      "- GroundTruth: ông cho rằng những nhận định của họ về sự suy sụp của nền kinh tế mỹ là những nhận định sai lạc và chỉ phục vụ các mục tiêu chính trị đảng phái\n",
      "- Predicted: ông cho rằng những nhận định của họ về sự suy sụp của nền kinh tế mỹ là những nhận định sai lạc và chỉ phục vụ các mục tiêu chính trị đảng phái.\n"
     ]
    },
    {
     "name": "stderr",
     "output_type": "stream",
     "text": [
      "/home/ngo/anaconda3/lib/python3.12/site-packages/whisper/transcribe.py:126: UserWarning: FP16 is not supported on CPU; using FP32 instead\n",
      "  warnings.warn(\"FP16 is not supported on CPU; using FP32 instead\")\n"
     ]
    },
    {
     "name": "stdout",
     "output_type": "stream",
     "text": [
      "- (261/500)Process file: ./data/database_sa1_Jan08_Mar19_cleaned_utt_0000000045-1\n",
      "- GroundTruth: nó làm người dân mặc dù nhìn thì rất bình thường nhưng mà rất rất là rộn ràng từ từ trên các đường phố và trên mỗi con mỗi con người\n",
      "- Predicted: nó làm người dân mặc dù nhìn thì rất là bình thường nhưng mà rất là rộng ràng trên các đường phố và trên mỗi con người.\n"
     ]
    },
    {
     "name": "stderr",
     "output_type": "stream",
     "text": [
      "/home/ngo/anaconda3/lib/python3.12/site-packages/whisper/transcribe.py:126: UserWarning: FP16 is not supported on CPU; using FP32 instead\n",
      "  warnings.warn(\"FP16 is not supported on CPU; using FP32 instead\")\n"
     ]
    },
    {
     "name": "stdout",
     "output_type": "stream",
     "text": [
      "- (262/500)Process file: ./data/database_sa1_Jan08_Mar19_cleaned_utt_0000002774-1\n",
      "- GroundTruth: khi được hỏi rằng liệu hoa kỳ đã thoát ra khỏi bóng ma chiến tranh việt nam hay chưa ông tom doăn sừn cựu trợ lý cho tổng thống li đôn doăn sừn nói\n",
      "- Predicted: khi được hỏi rằng liệu hoa kỳ đã thoát ra khỏi bóng ma chiến tranh việt nam hay chưa, ông tom johnson, cựu trợ lý cho tổng thống lyndon johnson nói\n"
     ]
    },
    {
     "name": "stderr",
     "output_type": "stream",
     "text": [
      "/home/ngo/anaconda3/lib/python3.12/site-packages/whisper/transcribe.py:126: UserWarning: FP16 is not supported on CPU; using FP32 instead\n",
      "  warnings.warn(\"FP16 is not supported on CPU; using FP32 instead\")\n"
     ]
    },
    {
     "name": "stdout",
     "output_type": "stream",
     "text": [
      "- (263/500)Process file: ./data/database_sa1_Jan08_Mar19_cleaned_utt_0000004194-1\n",
      "- GroundTruth: thì ở tại hoa kỳ đã có những nhóm bác sĩ chuyên viên họ đối phó với những đột quỵ gọi là hờ chít hát một cái chim của họ giống như đột quỵ do não họ cũng có một nhóm chuyên viên để mà kí kí kí xe cứu thương họp báo trước đó là thứ khó hiện nay tôi có một người bị đột quỵ\n",
      "- Predicted: thì tại hoa kỳ nó có những nhóm bác sĩ chuyên viên họ đối phó với những đột quỵ gọi là heart attack một team của họ giống như là đột quỵ nho não họ cũng có một nhóm chuyên viên để mà cái xe cứu thương họ báo trước hồi đó là hiện nay tôi có một người bị đột quỵ\n"
     ]
    },
    {
     "name": "stderr",
     "output_type": "stream",
     "text": [
      "/home/ngo/anaconda3/lib/python3.12/site-packages/whisper/transcribe.py:126: UserWarning: FP16 is not supported on CPU; using FP32 instead\n",
      "  warnings.warn(\"FP16 is not supported on CPU; using FP32 instead\")\n"
     ]
    },
    {
     "name": "stdout",
     "output_type": "stream",
     "text": [
      "- (264/500)Process file: ./data/database_sa1_Jan08_Mar19_cleaned_utt_0000007065-1\n",
      "- GroundTruth: họ sẽ luồn cho một cái cái cái bộ bồn đó là điêu khéc rắc\n",
      "- Predicted: họ sẽ lồn ra một bộ bòn là họ điêu khét rất\n"
     ]
    },
    {
     "name": "stderr",
     "output_type": "stream",
     "text": [
      "/home/ngo/anaconda3/lib/python3.12/site-packages/whisper/transcribe.py:126: UserWarning: FP16 is not supported on CPU; using FP32 instead\n",
      "  warnings.warn(\"FP16 is not supported on CPU; using FP32 instead\")\n"
     ]
    },
    {
     "name": "stdout",
     "output_type": "stream",
     "text": [
      "- (265/500)Process file: ./data/database_sa1_Jan08_Mar19_cleaned_utt_0000009167-1\n",
      "- GroundTruth: nhưng đáng tiếc là trình độ quan trí của việt nam rất là thấp mà cái biểu hiện về thiếu kỹ năng truyền thông chỉ là một\n",
      "- Predicted: nên đáng tiếc là trình độ quan trú của việt nam rất là thấp mà cái biểu hiện về chiếu thủ năng truyền thông chỉ là một.\n"
     ]
    },
    {
     "name": "stderr",
     "output_type": "stream",
     "text": [
      "/home/ngo/anaconda3/lib/python3.12/site-packages/whisper/transcribe.py:126: UserWarning: FP16 is not supported on CPU; using FP32 instead\n",
      "  warnings.warn(\"FP16 is not supported on CPU; using FP32 instead\")\n"
     ]
    },
    {
     "name": "stdout",
     "output_type": "stream",
     "text": [
      "- (266/500)Process file: ./data/database_sa1_Jan08_Mar19_cleaned_utt_0000005430-2\n",
      "- GroundTruth: tình nguyện viên tham gia\n",
      "- Predicted: bạn tình nguyện viên tham gia\n"
     ]
    },
    {
     "name": "stderr",
     "output_type": "stream",
     "text": [
      "/home/ngo/anaconda3/lib/python3.12/site-packages/whisper/transcribe.py:126: UserWarning: FP16 is not supported on CPU; using FP32 instead\n",
      "  warnings.warn(\"FP16 is not supported on CPU; using FP32 instead\")\n"
     ]
    },
    {
     "name": "stdout",
     "output_type": "stream",
     "text": [
      "- (267/500)Process file: ./data/database_sa1_Jan08_Mar19_cleaned_utt_0000000318-1\n",
      "- GroundTruth: biết tất cả những điều đó điều chúng tôi muốn xác định là chiếc ép chín mươi cái tên mà dân cuồng tín bê mờ vê kép biết đến có đi theo xu hướng của bê mờ vê kép là trở thành một chiếc xe không tầm thường hay không\n",
      "- Predicted: biết tất cả những điều đó, điều chúng tôi muốn xác định là chiếc f90, cái tên mà dân quần tín bmw biết đến, có đi theo xu hướng của bmw là trở thành một chiếc xe không tầm thường hay không?\n"
     ]
    },
    {
     "name": "stderr",
     "output_type": "stream",
     "text": [
      "/home/ngo/anaconda3/lib/python3.12/site-packages/whisper/transcribe.py:126: UserWarning: FP16 is not supported on CPU; using FP32 instead\n",
      "  warnings.warn(\"FP16 is not supported on CPU; using FP32 instead\")\n"
     ]
    },
    {
     "name": "stdout",
     "output_type": "stream",
     "text": [
      "- (268/500)Process file: ./data/database_sa1_Jan08_Mar19_cleaned_utt_0000009358-1\n",
      "- GroundTruth: xin chào tôi là gion đây vít với mo đờ uých trong chương trình này hiu đai tăng tính thể thao cho xe e lan choa tát gót cảnh báo về rò rỉ để tránh hỏng hóc dách mác cờ luyện tập nghiêm túc trên đường đi và chiếc cúp pê lớn mơ sơ đi ây em gi gia lai i sáu mươi ba ét sành điệu và chạy nhanh\n",
      "- Predicted: xin chào, tôi là john davis với motor week. trong chương trình này, hyundai tăng tính thể thao cho xe elantra. petgold cảnh báo về dò dỉ để tránh hồng hóc. jack maskell luyện tập nghiên túc trên đường đi. và chiếc coupe lớn mercedes amg gla 63s sành điệu và chạy nhanh.\n"
     ]
    },
    {
     "name": "stderr",
     "output_type": "stream",
     "text": [
      "/home/ngo/anaconda3/lib/python3.12/site-packages/whisper/transcribe.py:126: UserWarning: FP16 is not supported on CPU; using FP32 instead\n",
      "  warnings.warn(\"FP16 is not supported on CPU; using FP32 instead\")\n"
     ]
    },
    {
     "name": "stdout",
     "output_type": "stream",
     "text": [
      "- (269/500)Process file: ./data/database_sa1_Jan08_Mar19_cleaned_utt_0000007980-1\n",
      "- GroundTruth: đã lên tiếng cảnh báo và bày tỏ quan ngại sau khi bắt gặp trên trang phây xờ búc hình ảnh kẻ tấn công họ\n",
      "- Predicted: đã lên tiếng cảnh báo và bày tỏ quan ngại sau khi bắt gặp trên trang facebook hình ảnh kẻ tấn công họ.\n"
     ]
    },
    {
     "name": "stderr",
     "output_type": "stream",
     "text": [
      "/home/ngo/anaconda3/lib/python3.12/site-packages/whisper/transcribe.py:126: UserWarning: FP16 is not supported on CPU; using FP32 instead\n",
      "  warnings.warn(\"FP16 is not supported on CPU; using FP32 instead\")\n"
     ]
    },
    {
     "name": "stdout",
     "output_type": "stream",
     "text": [
      "- (270/500)Process file: ./data/database_sa1_Jan08_Mar19_cleaned_utt_0000005890-2\n",
      "- GroundTruth: ò nạn lạm phát thấp hơn thì lại đưa ra cái cái chương trình gọi là tiền lãi thấp hơn thì kích thích kinh tế của trung qua âu châu cũng giống như trung như hoa kỳ đang ở trong tình trạng đó thành ra mô muốn gỡ ra rất là khó vì cái sự tràn nhập về dịch vụ và nhất là hàng hóa của trung quốc bên âu châu thơi\n",
      "- Predicted: nạn lạng pháp thấp hơn thì lại đưa ra cái chương trình gọi là tiền lãi thấp hơn thì kích thích kinh tế. âu châu cũng giống như hoa kỳ, đang ở trong tình trạng đó, thành ra muốn gỡ ra rất là khó vì cái sự tràn nhập về dịch vụ và nhất là hàng hóa của trung quốc bên âu châu thôi.\n"
     ]
    },
    {
     "name": "stderr",
     "output_type": "stream",
     "text": [
      "/home/ngo/anaconda3/lib/python3.12/site-packages/whisper/transcribe.py:126: UserWarning: FP16 is not supported on CPU; using FP32 instead\n",
      "  warnings.warn(\"FP16 is not supported on CPU; using FP32 instead\")\n"
     ]
    },
    {
     "name": "stdout",
     "output_type": "stream",
     "text": [
      "- (271/500)Process file: ./data/database_sa1_Jan08_Mar19_cleaned_utt_0000001685-2\n",
      "- GroundTruth: <unk> mo ninh pốt cho biết hôm mười lăm tháng mười một ở việt nam ông e pơ dự kiến sẽ gặp bộ trưởng quốc phòng ngô xuân lịch\n",
      "- Predicted: và morning post cho biết hôm 15 tháng 11. ở việt nam, ông esper dự kiến sẽ gặp bộ trưởng quốc phòng ngô xuân lịch.\n"
     ]
    },
    {
     "name": "stderr",
     "output_type": "stream",
     "text": [
      "/home/ngo/anaconda3/lib/python3.12/site-packages/whisper/transcribe.py:126: UserWarning: FP16 is not supported on CPU; using FP32 instead\n",
      "  warnings.warn(\"FP16 is not supported on CPU; using FP32 instead\")\n"
     ]
    },
    {
     "name": "stdout",
     "output_type": "stream",
     "text": [
      "- (272/500)Process file: ./data/database_sa1_Jan08_Mar19_cleaned_utt_0000005984-2\n",
      "- GroundTruth: tổng thống đô nan trăm đề nghị tòa bạch ốc là nơi họp thượng đỉnh với tổng thống nga vờ la đi mia pu tin nhân cuộc điện đàm tháng trước khi hai nhà lãnh đạo thảo\n",
      "- Predicted: tổng thống donald trump đề nghị tòa bạch ốc là nơi họp thượng đỉnh với tổng thống nga vladimir putin nhân cuộc điện đàm tháng trước khi nhà lãnh đạo thảo luận\n"
     ]
    },
    {
     "name": "stderr",
     "output_type": "stream",
     "text": [
      "/home/ngo/anaconda3/lib/python3.12/site-packages/whisper/transcribe.py:126: UserWarning: FP16 is not supported on CPU; using FP32 instead\n",
      "  warnings.warn(\"FP16 is not supported on CPU; using FP32 instead\")\n"
     ]
    },
    {
     "name": "stdout",
     "output_type": "stream",
     "text": [
      "- (273/500)Process file: ./data/database_sa1_Jan08_Mar19_cleaned_utt_0000005385-1\n",
      "- GroundTruth: qua kênh diu túp vê o a tiếng việt vi đê ô trang phây búc vê o a tiếng việt hoặc qua các thiết bị di động với ứng dụng vê ô a miễn phí trên ai tun sờ to và gu gồ pờ lây\n",
      "- Predicted: qua kênh youtube voa tiếng việt video, trang facebook voa tiếng việt hoặc qua các thiết bị di động với ứng dụng voa miễn phí trên itunes store và google play.\n"
     ]
    },
    {
     "name": "stderr",
     "output_type": "stream",
     "text": [
      "/home/ngo/anaconda3/lib/python3.12/site-packages/whisper/transcribe.py:126: UserWarning: FP16 is not supported on CPU; using FP32 instead\n",
      "  warnings.warn(\"FP16 is not supported on CPU; using FP32 instead\")\n"
     ]
    },
    {
     "name": "stdout",
     "output_type": "stream",
     "text": [
      "- (274/500)Process file: ./data/database_sa1_Jan08_Mar19_cleaned_utt_0000000241-1\n",
      "- GroundTruth: những người tuần hành cho biết họ muốn trắc nghiệm sức chịu đựng của cảnh sát đối với một cuộc tụ tập lớn tại thủ đô của nga sau khi tổng thống vờ la đia mia pu tin tuyên thệ nhậm chức cho nhiệm kỳ thứ ba được một tuần\n",
      "- Predicted: những người tuần hành cho biết họ muốn trách nghiệm sức chịu đựng của cảnh sát đối với một cuộc tụ tập lớn tại thủ đô của nga sau khi tổng thống vladimir putin tuyên thệ nhậm chức cho nhiệm kỳ thứ ba được một tuần.\n"
     ]
    },
    {
     "name": "stderr",
     "output_type": "stream",
     "text": [
      "/home/ngo/anaconda3/lib/python3.12/site-packages/whisper/transcribe.py:126: UserWarning: FP16 is not supported on CPU; using FP32 instead\n",
      "  warnings.warn(\"FP16 is not supported on CPU; using FP32 instead\")\n"
     ]
    },
    {
     "name": "stdout",
     "output_type": "stream",
     "text": [
      "- (275/500)Process file: ./data/database_sa1_Jan08_Mar19_cleaned_utt_0000002601-1\n",
      "- GroundTruth: hơn năm mươi nhà hoạt động nhân quyền và bờ lốc gơ đã bị kết án tù trong năm hai nghìn không trăm mười tám và đây được coi là một trong những đợt đàn áp nghiêm trọng nhất trong những năm gần <unk>\n",
      "- Predicted: hơn 50 nhà hoạt động nhân quyền và blogger đã bị kết án tù trong năm 2018. và đây được coi là một trong những đợt đàn áp nghiêm trọng nhất trong những năm gần đây.\n"
     ]
    },
    {
     "name": "stderr",
     "output_type": "stream",
     "text": [
      "/home/ngo/anaconda3/lib/python3.12/site-packages/whisper/transcribe.py:126: UserWarning: FP16 is not supported on CPU; using FP32 instead\n",
      "  warnings.warn(\"FP16 is not supported on CPU; using FP32 instead\")\n"
     ]
    },
    {
     "name": "stdout",
     "output_type": "stream",
     "text": [
      "- (276/500)Process file: ./data/database_sa1_Jan08_Mar19_cleaned_utt_0000007922-1\n",
      "- GroundTruth: tôi nghĩ rằng mình đang mơ chưa bao giờ thấy nơi nào bán rượu và sự trung thực đến vậy cho nên tôi đã không chi trả đúng giá mà còn muốn cho nhiều hơn nữa\n",
      "- Predicted: tôi nghĩ rằng mình đang mơ chưa bao giờ thấy nơi nào bán rượu và sự trung thực đến vậy cho nên tôi đã không chỉ trả đúng giá mà còn muốn cho nhiều hơn nữa\n"
     ]
    },
    {
     "name": "stderr",
     "output_type": "stream",
     "text": [
      "/home/ngo/anaconda3/lib/python3.12/site-packages/whisper/transcribe.py:126: UserWarning: FP16 is not supported on CPU; using FP32 instead\n",
      "  warnings.warn(\"FP16 is not supported on CPU; using FP32 instead\")\n"
     ]
    },
    {
     "name": "stdout",
     "output_type": "stream",
     "text": [
      "- (277/500)Process file: ./data/database_sa1_Jan08_Mar19_cleaned_utt_0000012074-1\n",
      "- GroundTruth: khác nghèo hơn chấp nhận bỏ ngày công để thuê thuyền mà ra khơi đời sống ở đây khá chật vật vì ngoài chuyện biển nghèo nàn người dân phải cạnh tranh mua bán với người trung quốc trong các khu chợ việc bức xúc với người trung quốc như một lẽ tự nhiên\n",
      "- Predicted: khác nghèo hơn chấp nhận bọn ngài công để thuê thuyền mà ra khơi. đời sống ở đây khá chật vật, vì ngoài chuyện biện nghèo nàng, người dân phải cạnh tranh mua bán với người trung quốc trong các khu chợ. việc bức xúc với người trung quốc như một lệ tự nhiên.\n"
     ]
    },
    {
     "name": "stderr",
     "output_type": "stream",
     "text": [
      "/home/ngo/anaconda3/lib/python3.12/site-packages/whisper/transcribe.py:126: UserWarning: FP16 is not supported on CPU; using FP32 instead\n",
      "  warnings.warn(\"FP16 is not supported on CPU; using FP32 instead\")\n"
     ]
    },
    {
     "name": "stdout",
     "output_type": "stream",
     "text": [
      "- (278/500)Process file: ./data/database_sa1_Jan08_Mar19_cleaned_utt_0000009330-1\n",
      "- GroundTruth: như hoa kỳ và anh quốc theo một cuộc nghiên cứu do trung tâm nghiên cứu biu thực hiện hãng tin ây bi hôm thứ sáu dẫn phúc trình của trung tâm nghiên cứu biu tường thuật rằng\n",
      "- Predicted: như hoa kỳ và anh quốc, theo một cuộc nghiên cứu do trung tâm nghiên cứu pew thực hiện. hãng tin ap hôm thứ sáu dẫn phục trình của trung tâm nghiên cứu pew từng thuận rằng\n"
     ]
    },
    {
     "name": "stderr",
     "output_type": "stream",
     "text": [
      "/home/ngo/anaconda3/lib/python3.12/site-packages/whisper/transcribe.py:126: UserWarning: FP16 is not supported on CPU; using FP32 instead\n",
      "  warnings.warn(\"FP16 is not supported on CPU; using FP32 instead\")\n"
     ]
    },
    {
     "name": "stdout",
     "output_type": "stream",
     "text": [
      "- (279/500)Process file: ./data/database_sa1_Jan08_Mar19_cleaned_utt_0000011117-1\n",
      "- GroundTruth: cùng với dự luật đơn vị hành chính kinh tế đặc biệt gọi tắt là luật đặc khu dự luật an ninh mạng là một trong hai nguyên nhân chính dẫn đến các cuộc biểu tình rầm rộ trên cả nước\n",
      "- Predicted: cùng với dự luật đơn vị hành chính kinh tế đặc biệt, gọi tắt là luật đặc khu, dự luật an ninh mạng là một trong hai nguyên nhân chính dẫn đến các cuộc biểu tình rầm rộ trên cả nước.\n"
     ]
    },
    {
     "name": "stderr",
     "output_type": "stream",
     "text": [
      "/home/ngo/anaconda3/lib/python3.12/site-packages/whisper/transcribe.py:126: UserWarning: FP16 is not supported on CPU; using FP32 instead\n",
      "  warnings.warn(\"FP16 is not supported on CPU; using FP32 instead\")\n"
     ]
    },
    {
     "name": "stdout",
     "output_type": "stream",
     "text": [
      "- (280/500)Process file: ./data/database_sa1_Jan08_Mar19_cleaned_utt_0000000246-1\n",
      "- GroundTruth: đó là vấn đề nêu gương của cán bộ đảng viên nhà nước các cấp\n",
      "- Predicted: đó là vấn đề nêu gương của cán bộ đảng viên nhà nước ca cấp.\n"
     ]
    },
    {
     "name": "stderr",
     "output_type": "stream",
     "text": [
      "/home/ngo/anaconda3/lib/python3.12/site-packages/whisper/transcribe.py:126: UserWarning: FP16 is not supported on CPU; using FP32 instead\n",
      "  warnings.warn(\"FP16 is not supported on CPU; using FP32 instead\")\n"
     ]
    },
    {
     "name": "stdout",
     "output_type": "stream",
     "text": [
      "- (281/500)Process file: ./data/database_sa1_Jan08_Mar19_cleaned_utt_0000007449-1\n",
      "- GroundTruth: quen thuộc của nhiều bạn trẻ hà nội thay cho những câu chuyện bóng đá hay những vụ án hình sự gây chấn động dư luận như thường thấy\n",
      "- Predicted: quân thuộc của nhiều bạn trẻ hà nội, thay cho những câu chuyện bóng đá hay những vụ án hình sự gây chấn động duy luận như thường thấy.\n"
     ]
    },
    {
     "name": "stderr",
     "output_type": "stream",
     "text": [
      "/home/ngo/anaconda3/lib/python3.12/site-packages/whisper/transcribe.py:126: UserWarning: FP16 is not supported on CPU; using FP32 instead\n",
      "  warnings.warn(\"FP16 is not supported on CPU; using FP32 instead\")\n"
     ]
    },
    {
     "name": "stdout",
     "output_type": "stream",
     "text": [
      "- (282/500)Process file: ./data/database_sa1_Jan08_Mar19_cleaned_utt_0000006982-1\n",
      "- GroundTruth: các nhà cung cấp như đờ róc bóc gu gồ tri hay hay a ma dôn ẹt ba nói là dịch vụ của họ an toàn bảo mật tuyệt đối nhưng các chuyên gia máy tính cho rằng cách bảo mật nên nằm trong tay người sử dụng\n",
      "- Predicted: các nhà cung cấp như dropbox, google drive hay amazon s3 nói là dịch vụ của họ an toàn, bảo mật tuyệt đối. nhưng các chuyên gia máy tính cho rằng cách bảo mật nên nằm trong tay người sử dụng.\n"
     ]
    },
    {
     "name": "stderr",
     "output_type": "stream",
     "text": [
      "/home/ngo/anaconda3/lib/python3.12/site-packages/whisper/transcribe.py:126: UserWarning: FP16 is not supported on CPU; using FP32 instead\n",
      "  warnings.warn(\"FP16 is not supported on CPU; using FP32 instead\")\n"
     ]
    },
    {
     "name": "stdout",
     "output_type": "stream",
     "text": [
      "- (283/500)Process file: ./data/database_sa1_Jan08_Mar19_cleaned_utt_0000003456-1\n",
      "- GroundTruth: sự kiện này diễn ra trong lúc hàn quốc kỷ niệm bảy mươi <unk>\n",
      "- Predicted: sự kiện này diễn ra trong lúc hàn quốc kỷ niệm 70 tháng.\n"
     ]
    },
    {
     "name": "stderr",
     "output_type": "stream",
     "text": [
      "/home/ngo/anaconda3/lib/python3.12/site-packages/whisper/transcribe.py:126: UserWarning: FP16 is not supported on CPU; using FP32 instead\n",
      "  warnings.warn(\"FP16 is not supported on CPU; using FP32 instead\")\n"
     ]
    },
    {
     "name": "stdout",
     "output_type": "stream",
     "text": [
      "- (284/500)Process file: ./data/database_sa1_Jan08_Mar19_cleaned_utt_0000003956-1\n",
      "- GroundTruth: ở sài gòn có rất nhiều lòng thơm thảo nhiều người tốt bụng phát tâm nguyện lo bữa ăn cho người nghèo người bệnh người khuyết tật người bán vé số cả người vô gia cư ngoài lòng lề đường bữa ăn nụ cười ở đền đức mẹ hằng cứu giúp là một trong vô số thơm thảo đó\n",
      "- Predicted: ở sài gòn có rất nhiều lòng thơm thảo, nhiều người tốt bụng phát tâm nguyện lo bữa ăn cho người nghèo, người bệnh, người khuyết tập, người bán vé số, cả người vô gia cư ngoài lòng lề đường. bữa ăn nụ cười ở đền đức mẹ hằng cứu giúp là một trong vô số thơm thảo đó.\n"
     ]
    },
    {
     "name": "stderr",
     "output_type": "stream",
     "text": [
      "/home/ngo/anaconda3/lib/python3.12/site-packages/whisper/transcribe.py:126: UserWarning: FP16 is not supported on CPU; using FP32 instead\n",
      "  warnings.warn(\"FP16 is not supported on CPU; using FP32 instead\")\n"
     ]
    },
    {
     "name": "stdout",
     "output_type": "stream",
     "text": [
      "- (285/500)Process file: ./data/database_sa1_Jan08_Mar19_cleaned_utt_0000010049-1\n",
      "- GroundTruth: vai trò của các ông là những người lãnh đạo\n",
      "- Predicted: vãi to của cả ông là những người lạc đảo.\n"
     ]
    },
    {
     "name": "stderr",
     "output_type": "stream",
     "text": [
      "/home/ngo/anaconda3/lib/python3.12/site-packages/whisper/transcribe.py:126: UserWarning: FP16 is not supported on CPU; using FP32 instead\n",
      "  warnings.warn(\"FP16 is not supported on CPU; using FP32 instead\")\n"
     ]
    },
    {
     "name": "stdout",
     "output_type": "stream",
     "text": [
      "- (286/500)Process file: ./data/database_sa1_Jan08_Mar19_cleaned_utt_0000010300-1\n",
      "- GroundTruth: trong cuộc gọi điện thoại bất ngờ về nhà cho mẹ vào sáng ngày mùng sáu tháng bảy bóc gờ mẹ nấm tuyên bố bắt đầu tuyệt thực cho đến khi nào chạy giam giải quyết việc liên tục bị bạn tù đe dọa đến mức phải cầu xin mẹ hàng tháng thăm con để biết sinh mạng của con còn hay đã mất\n",
      "- Predicted: trong cuộc gọi điện thoại bất ngờ về nhà cho mẹ vào sáng ngày 6 tháng 7, blogger mẹ nấm tuyên bố bắt đầu tuyệt thực cho đến khi nào chạy giam giải quyết việc liên tục bị bạn tù đe dọa, đến mức phải cầu xin mẹ hàng tháng thăm con để biết sinh mạng của con còn hay đã mất.\n"
     ]
    },
    {
     "name": "stderr",
     "output_type": "stream",
     "text": [
      "/home/ngo/anaconda3/lib/python3.12/site-packages/whisper/transcribe.py:126: UserWarning: FP16 is not supported on CPU; using FP32 instead\n",
      "  warnings.warn(\"FP16 is not supported on CPU; using FP32 instead\")\n"
     ]
    },
    {
     "name": "stdout",
     "output_type": "stream",
     "text": [
      "- (287/500)Process file: ./data/database_sa1_Jan08_Mar19_cleaned_utt_0000005827-1\n",
      "- GroundTruth: với chương trình đào tạo ép di a tôi nghĩ chúng tôi đã đào tạo ra gần một nghìn cử nhân hiện đang làm việc tại ngành đường sắt sinh viên của chúng tôi có mặt tại nhiều vị trí công tác từ phòng lái bảo dưỡng bộ phận hành khách\n",
      "- Predicted: với chương trình đào tạo sga, tôi nghĩ chúng tôi đã đào tạo ra gần 1.000 cử nhân hiện đang làm việc tại ngành đường sắt. sinh viên của chúng tôi có mặt tại nhiều vị trí công tác, từ phòng lái, bảo dưỡng, bộ phận hành khách.\n"
     ]
    },
    {
     "name": "stderr",
     "output_type": "stream",
     "text": [
      "/home/ngo/anaconda3/lib/python3.12/site-packages/whisper/transcribe.py:126: UserWarning: FP16 is not supported on CPU; using FP32 instead\n",
      "  warnings.warn(\"FP16 is not supported on CPU; using FP32 instead\")\n"
     ]
    },
    {
     "name": "stdout",
     "output_type": "stream",
     "text": [
      "- (288/500)Process file: ./data/database_sa1_Jan08_Mar19_cleaned_utt_0000001068-1\n",
      "- GroundTruth: đi ngang qua trong vùng biển ngoài khơi thành phố cảng thanh đảo ở phía đông cuộc diễn hành hôm hai mươi ba tháng tư quy tụ ba mươi hai tàu và ba mươi chín máy bay của trung quốc\n",
      "- Predicted: đi ngang qua trong vùng biển ngoài khơi, thành phố cảng thanh đảo ở phía đông. cuộc diễn ảnh hôm 23 tháng 4, quy tụ 32 tàu và 39 máy bay của trung quốc.\n"
     ]
    },
    {
     "name": "stderr",
     "output_type": "stream",
     "text": [
      "/home/ngo/anaconda3/lib/python3.12/site-packages/whisper/transcribe.py:126: UserWarning: FP16 is not supported on CPU; using FP32 instead\n",
      "  warnings.warn(\"FP16 is not supported on CPU; using FP32 instead\")\n"
     ]
    },
    {
     "name": "stdout",
     "output_type": "stream",
     "text": [
      "- (289/500)Process file: ./data/database_sa1_Jan08_Mar19_cleaned_utt_0000006589-1\n",
      "- GroundTruth: tại vê nê zu ê la các nhà lập pháp trung thành với ông ma đu rô đã tước quyền miễn trừ mà ông hoan goai đô được hưởng trong tư cách là một thành viên quốc hội mở đường cho việc bắt giữ ông hành động này diễn ra một ngày sau khi chánh án tối cao pháp viện vê nê zu ê la kêu gọi bắt giữ ông goai đô vì vi phạm lệnh của tối cao pháp viện cấm ông xuất cảnh\n",
      "- Predicted: tại venezuela, các nhà lập pháp trung thành với ông maduro đã tức quyền miễn trừ mà ông juan guaido được hưởng trong tư cách là một thành viên quốc hội, mở đường cho việc bắt giữ ông. hành động này diễn ra một ngày sau khi trạng án tối cao pháp viện venezuela kêu gọi bắt giữ ông guaido vì vi phạm lệnh của tối cao pháp viện cấm ông xuất cảnh.\n"
     ]
    },
    {
     "name": "stderr",
     "output_type": "stream",
     "text": [
      "/home/ngo/anaconda3/lib/python3.12/site-packages/whisper/transcribe.py:126: UserWarning: FP16 is not supported on CPU; using FP32 instead\n",
      "  warnings.warn(\"FP16 is not supported on CPU; using FP32 instead\")\n"
     ]
    },
    {
     "name": "stdout",
     "output_type": "stream",
     "text": [
      "- (290/500)Process file: ./data/database_sa1_Jan08_Mar19_cleaned_utt_0000007001-1\n",
      "- GroundTruth: đảng cộng sản nga đang sử dụng những hình ảnh của nền văn hóa póp và văn hóa tây phương để thu hút những người trẻ tuổi nhưng quảng bá chủ nghĩa cộng sản cho giới trẻ hiện đại nga không phải là chuyện\n",
      "- Predicted: đảng cộng sản nga đang sử dụng những hình ảnh của nền văn hóa pop và văn hóa tây phương để thu hút những người trẻ tuổi. nhưng quảng bá chương nghị cộng sản cho giới trẻ hiện đại nga không phải là chuyện gì.\n"
     ]
    },
    {
     "name": "stderr",
     "output_type": "stream",
     "text": [
      "/home/ngo/anaconda3/lib/python3.12/site-packages/whisper/transcribe.py:126: UserWarning: FP16 is not supported on CPU; using FP32 instead\n",
      "  warnings.warn(\"FP16 is not supported on CPU; using FP32 instead\")\n"
     ]
    },
    {
     "name": "stdout",
     "output_type": "stream",
     "text": [
      "- (291/500)Process file: ./data/database_sa1_Jan08_Mar19_cleaned_utt_0000007080-1\n",
      "- GroundTruth: uốn ra tạo sản phẩm ra rồi xong mình mới rũ lại khoan hàng cho mấy ông lái này đó rồi xong mình mới chuyển xuống ghe cho mấy ông nữa đó nói chung là rất nhiều giai đoạn\n",
      "- Predicted: uống ra, tạo sản phẩm ra, rồi xong mình mới vũ lợi phân hàng cho mấy ông lái này. rồi xong mấy ổng, mình mới chuyển xuống ghe cho mấy ổng nữa. nó nói chung là rất là nhiều giai đoạn.\n"
     ]
    },
    {
     "name": "stderr",
     "output_type": "stream",
     "text": [
      "/home/ngo/anaconda3/lib/python3.12/site-packages/whisper/transcribe.py:126: UserWarning: FP16 is not supported on CPU; using FP32 instead\n",
      "  warnings.warn(\"FP16 is not supported on CPU; using FP32 instead\")\n"
     ]
    },
    {
     "name": "stdout",
     "output_type": "stream",
     "text": [
      "- (292/500)Process file: ./data/database_sa1_Jan08_Mar19_cleaned_utt_0000008546-1\n",
      "- GroundTruth: các nguyên nhân tòa bạch ốc seo sen đơ mùng bảy tháng giêng lên báo trên thuýt tờ rằng\n",
      "- Predicted: và nguyên nhân tổng bệnh úc sarah sanders hôm 7 tháng giêng lên báo trên twitter rằng\n"
     ]
    },
    {
     "name": "stderr",
     "output_type": "stream",
     "text": [
      "/home/ngo/anaconda3/lib/python3.12/site-packages/whisper/transcribe.py:126: UserWarning: FP16 is not supported on CPU; using FP32 instead\n",
      "  warnings.warn(\"FP16 is not supported on CPU; using FP32 instead\")\n"
     ]
    },
    {
     "name": "stdout",
     "output_type": "stream",
     "text": [
      "- (293/500)Process file: ./data/database_sa1_Jan08_Mar19_cleaned_utt_0000001530-1\n",
      "- GroundTruth: không thể nào tóm tắt được như vậy bởi vì\n",
      "- Predicted: nó không có thể nào tóm tắt là như vậy được bởi vì\n"
     ]
    },
    {
     "name": "stderr",
     "output_type": "stream",
     "text": [
      "/home/ngo/anaconda3/lib/python3.12/site-packages/whisper/transcribe.py:126: UserWarning: FP16 is not supported on CPU; using FP32 instead\n",
      "  warnings.warn(\"FP16 is not supported on CPU; using FP32 instead\")\n"
     ]
    },
    {
     "name": "stdout",
     "output_type": "stream",
     "text": [
      "- (294/500)Process file: ./data/database_sa1_Jan08_Mar19_cleaned_utt_0000008033-1\n",
      "- GroundTruth: vẻ đẹp nguyên sơ của nó là chủ đề của một cuộc triển lãm nhiếp ảnh mới tại viện bảo tàng lịch sử tự nhiên quốc gia sờ mít tho ni ần ở oa sinh tơn\n",
      "- Predicted: vẻ đẹp nguyên sơ của nó là chủ đề của một cuộc triển lãm nhiếp ảnh mới tại viện bảo tàng lịch sử tự nhiên quốc gia smithsonian ở washington.\n"
     ]
    },
    {
     "name": "stderr",
     "output_type": "stream",
     "text": [
      "/home/ngo/anaconda3/lib/python3.12/site-packages/whisper/transcribe.py:126: UserWarning: FP16 is not supported on CPU; using FP32 instead\n",
      "  warnings.warn(\"FP16 is not supported on CPU; using FP32 instead\")\n"
     ]
    },
    {
     "name": "stdout",
     "output_type": "stream",
     "text": [
      "- (295/500)Process file: ./data/database_sa1_Jan08_Mar19_cleaned_utt_0000010555-1\n",
      "- GroundTruth: o lan đô đã đem lại một trọng điểm mới cho cuộc vận động trong súng ống đó là ngăn cấm những người bị nghi\n",
      "- Predicted: orlando đã đem lại một trọng điểm mới cho cuộc vận động chống sung ống, đó là ngăn cấm những người bị nghi.\n"
     ]
    },
    {
     "name": "stderr",
     "output_type": "stream",
     "text": [
      "/home/ngo/anaconda3/lib/python3.12/site-packages/whisper/transcribe.py:126: UserWarning: FP16 is not supported on CPU; using FP32 instead\n",
      "  warnings.warn(\"FP16 is not supported on CPU; using FP32 instead\")\n"
     ]
    },
    {
     "name": "stdout",
     "output_type": "stream",
     "text": [
      "- (296/500)Process file: ./data/database_sa1_Jan08_Mar19_cleaned_utt_0000011227-1\n",
      "- GroundTruth: chúng có kỷ luật không nhạy cảm quá đáng môi trường tự nhiên của chúng là được phi trên các đồng cỏ thế mà chúng bị đặt vào hoàn cảnh này khi chúng phải đứng yên bằng cách nào đó chúng cũng nghiêng mình trước các vị anh hùng đã nằm xuống vì đất nước do đó mà đây là một dịp vô cùng đặc biệt đối với tôi làm thế nào để ngựa thay đổi và huấn luyện chúng cho có kỷ luật cao chẳng khác nào các binh sĩ trong quân đội\n",
      "- Predicted: chúng có kỷ luật không nhạy cảm quá đáng. môi trường tự nhiên của chúng là được phi trên các đồng cỏ. thế mà chúng bị đặt vào hoàn cảnh này, khi chúng phải đứng yên. bằng cách nào đó, chúng cũng nghiêng mình trước các vị anh hùng đã nằm xuống vì đất nước. do đó mà đây là một dịp vô cùng đặc biệt đối với tôi. làm thế nào để ngựa thay đổi và húng lượng chúng cho có kỷ luật cao chẳng khác nào các binh sĩ trong quân đội.\n"
     ]
    },
    {
     "name": "stderr",
     "output_type": "stream",
     "text": [
      "/home/ngo/anaconda3/lib/python3.12/site-packages/whisper/transcribe.py:126: UserWarning: FP16 is not supported on CPU; using FP32 instead\n",
      "  warnings.warn(\"FP16 is not supported on CPU; using FP32 instead\")\n"
     ]
    },
    {
     "name": "stdout",
     "output_type": "stream",
     "text": [
      "- (297/500)Process file: ./data/database_sa1_Jan08_Mar19_cleaned_utt_0000007042-1\n",
      "- GroundTruth: việt nam phát hiện hai mươi bảy cuộc tấn công có chủ đích vào hệ thống máy chủ trung tâm báo chí của hội nghị a pếch bộ trưởng thông tin truyền thông trương minh tuấn ngày mười bảy tháng mười một loan báo\n",
      "- Predicted: việt nam phát hiện 27 cuộc tấn công có chủ đích vào hệ thống máy chủ, trung tâm báo chí của hội nghị apec. bộ trưởng thông tin truyền thông trương minh tuấn ngày 17 tháng 11 loàn báo.\n"
     ]
    },
    {
     "name": "stderr",
     "output_type": "stream",
     "text": [
      "/home/ngo/anaconda3/lib/python3.12/site-packages/whisper/transcribe.py:126: UserWarning: FP16 is not supported on CPU; using FP32 instead\n",
      "  warnings.warn(\"FP16 is not supported on CPU; using FP32 instead\")\n"
     ]
    },
    {
     "name": "stdout",
     "output_type": "stream",
     "text": [
      "- (298/500)Process file: ./data/database_sa1_Jan08_Mar19_cleaned_utt_0000004899-1\n",
      "- GroundTruth: yêu cầu họ ký tên và viết vài hàng động viên để gửi vào nhà tù cho ông\n",
      "- Predicted: yêu cầu họ ký tên và viết vài hàng động viên để gửi vào nhà tổ cho ông.\n"
     ]
    },
    {
     "name": "stderr",
     "output_type": "stream",
     "text": [
      "/home/ngo/anaconda3/lib/python3.12/site-packages/whisper/transcribe.py:126: UserWarning: FP16 is not supported on CPU; using FP32 instead\n",
      "  warnings.warn(\"FP16 is not supported on CPU; using FP32 instead\")\n"
     ]
    },
    {
     "name": "stdout",
     "output_type": "stream",
     "text": [
      "- (299/500)Process file: ./data/database_sa1_Jan08_Mar19_cleaned_utt_0000005719-1\n",
      "- GroundTruth: và yêu cầu hà nội phải rút hết tàu ra khỏi nơi mà bắc kinh cho đặt giàn khoan hải dương chín tám một\n",
      "- Predicted: và yêu cầu hà nội phải rút hết tàu ra khỏi nơi mà bắc kinh cho đặt dàn khoang hải dương 981.\n"
     ]
    },
    {
     "name": "stderr",
     "output_type": "stream",
     "text": [
      "/home/ngo/anaconda3/lib/python3.12/site-packages/whisper/transcribe.py:126: UserWarning: FP16 is not supported on CPU; using FP32 instead\n",
      "  warnings.warn(\"FP16 is not supported on CPU; using FP32 instead\")\n"
     ]
    },
    {
     "name": "stdout",
     "output_type": "stream",
     "text": [
      "- (300/500)Process file: ./data/database_sa1_Jan08_Mar19_cleaned_utt_0000004895-1\n",
      "- GroundTruth: thêm một lóc gơ bị bắt về tội danh lợi dụng các quyền tự do dân chủ xâm phạm lợi ích nhà nước theo điều hai năm tám bộ luật hình sự việt nam\n",
      "- Predicted: thêm một blogger bị bắt về tội danh lợi dụng các quyền tự do dân chủ, xâm phạm lợi ích nhà nước theo điều 258 bộ luật hình sự việt nam\n"
     ]
    },
    {
     "name": "stderr",
     "output_type": "stream",
     "text": [
      "/home/ngo/anaconda3/lib/python3.12/site-packages/whisper/transcribe.py:126: UserWarning: FP16 is not supported on CPU; using FP32 instead\n",
      "  warnings.warn(\"FP16 is not supported on CPU; using FP32 instead\")\n"
     ]
    },
    {
     "name": "stdout",
     "output_type": "stream",
     "text": [
      "- (301/500)Process file: ./data/database_sa1_Jan08_Mar19_cleaned_utt_0000004105-1\n",
      "- GroundTruth: vi ô ây goép sai in tơ nét diu tút là nơi nghe xem đọc thông tin chính xác nhanh nhạy nhiều thể loại kết nối với các bờ loóc gơ trao đổi với các độc giả khắp nơi nhận bản tin hằng ngày qua i meo\n",
      "- Predicted: voa website, internet, youtube là nơi nghe, xem, đọc thông tin chính xác, nhanh nhạy, nhiều thế loại, kết nối với các blogger, trao đổi với các độc giả khắp nơi, nhận bản tin hằng ngày qua email.\n"
     ]
    },
    {
     "name": "stderr",
     "output_type": "stream",
     "text": [
      "/home/ngo/anaconda3/lib/python3.12/site-packages/whisper/transcribe.py:126: UserWarning: FP16 is not supported on CPU; using FP32 instead\n",
      "  warnings.warn(\"FP16 is not supported on CPU; using FP32 instead\")\n"
     ]
    },
    {
     "name": "stdout",
     "output_type": "stream",
     "text": [
      "- (302/500)Process file: ./data/database_sa1_Jan08_Mar19_cleaned_utt_0000003425-2\n",
      "- GroundTruth: nhiều lần rồi bảy mươi bốn bảy mươi chín tám mươi tám\n",
      "- Predicted: nhiều lần rồi, 74, 79, 88.\n"
     ]
    },
    {
     "name": "stderr",
     "output_type": "stream",
     "text": [
      "/home/ngo/anaconda3/lib/python3.12/site-packages/whisper/transcribe.py:126: UserWarning: FP16 is not supported on CPU; using FP32 instead\n",
      "  warnings.warn(\"FP16 is not supported on CPU; using FP32 instead\")\n"
     ]
    },
    {
     "name": "stdout",
     "output_type": "stream",
     "text": [
      "- (303/500)Process file: ./data/database_sa1_Jan08_Mar19_cleaned_utt_0000004487-1\n",
      "- GroundTruth: nếu như gian trưng bày cổ vật và những tác phẩm nghệ thuật trung hoa chủ yếu là những hiện vật gốm sứ thì gian trưng bày giới thiệu nghệ thuật nhật bản lại là những tác phẩm điêu khắc gỗ tuyệt đẹp ở đây du khách có thể được chiêm ngưỡng những tác phẩm điêu khắc đặc biệt sinh động\n",
      "- Predicted: nếu như gian trưng bày cổ vật và những tác phẩm nghệ thuật trung hoa chủ yếu là những hiện vật gốm xứ, thì gian trưng bày giới thiệu nghệ thuật nhật bản lại là những tác phẩm điêu khắc gỗ tuyệt đẹp. ở đây, du khách có thể được chiêm ngưỡng những tác phẩm điêu khắc đặc biệt sinh động.\n"
     ]
    },
    {
     "name": "stderr",
     "output_type": "stream",
     "text": [
      "/home/ngo/anaconda3/lib/python3.12/site-packages/whisper/transcribe.py:126: UserWarning: FP16 is not supported on CPU; using FP32 instead\n",
      "  warnings.warn(\"FP16 is not supported on CPU; using FP32 instead\")\n"
     ]
    },
    {
     "name": "stdout",
     "output_type": "stream",
     "text": [
      "- (304/500)Process file: ./data/database_sa1_Jan08_Mar19_cleaned_utt_0000010283-1\n",
      "- GroundTruth: vi đi ô trên vê o a tiếng việt chấm com có thể xem dễ dàng\n",
      "- Predicted: video trên voatiếngviệt.com có thể xem dễ dàng\n"
     ]
    },
    {
     "name": "stderr",
     "output_type": "stream",
     "text": [
      "/home/ngo/anaconda3/lib/python3.12/site-packages/whisper/transcribe.py:126: UserWarning: FP16 is not supported on CPU; using FP32 instead\n",
      "  warnings.warn(\"FP16 is not supported on CPU; using FP32 instead\")\n"
     ]
    },
    {
     "name": "stdout",
     "output_type": "stream",
     "text": [
      "- (305/500)Process file: ./data/database_sa1_Jan08_Mar19_cleaned_utt_0000011803-1\n",
      "- GroundTruth: phát ngôn nhân bộ ngoại giao trung quốc hồng lỗi ngày tám tháng mười nhấn mạnh bất kỳ thay đổi nào trong thỏa thuận hiện thời cũng không nên vượt quá các mối quan hệ song phương\n",
      "- Predicted: phát hôn nhân bộ ngoại giao trung quốc hồng lỗi ngày 8 tháng 10 nhấn mạnh, bất kỳ thay đổi nào trong thỏa thuận hiện thời cũng không nên vượt quá các mối quan hệ song phương.\n"
     ]
    },
    {
     "name": "stderr",
     "output_type": "stream",
     "text": [
      "/home/ngo/anaconda3/lib/python3.12/site-packages/whisper/transcribe.py:126: UserWarning: FP16 is not supported on CPU; using FP32 instead\n",
      "  warnings.warn(\"FP16 is not supported on CPU; using FP32 instead\")\n"
     ]
    },
    {
     "name": "stdout",
     "output_type": "stream",
     "text": [
      "- (306/500)Process file: ./data/database_sa1_Jan08_Mar19_cleaned_utt_0000003345-1\n",
      "- GroundTruth: đoạt giải nô ben hóa học năm hai ngàn mười chín họ là tác giả của các loại pin li thi um i ông chúng ta dùng hằng ngày cho điện thoại\n",
      "- Predicted: đoạt giải nobel hóa học năm 2019. họ là tác giả của các loại pin lithium-ion chúng ta dùng hàng ngày cho điện thoại.\n"
     ]
    },
    {
     "name": "stderr",
     "output_type": "stream",
     "text": [
      "/home/ngo/anaconda3/lib/python3.12/site-packages/whisper/transcribe.py:126: UserWarning: FP16 is not supported on CPU; using FP32 instead\n",
      "  warnings.warn(\"FP16 is not supported on CPU; using FP32 instead\")\n"
     ]
    },
    {
     "name": "stdout",
     "output_type": "stream",
     "text": [
      "- (307/500)Process file: ./data/database_sa1_Jan08_Mar19_cleaned_utt_0000008461-1\n",
      "- GroundTruth: đó là nội dung bản tin hôm nay xin tạm biệt và hẹn gặp lại\n",
      "- Predicted: đó là nội dung bản tin hôm nay. xin tạm biệt và hẹn gặp lại.\n"
     ]
    },
    {
     "name": "stderr",
     "output_type": "stream",
     "text": [
      "/home/ngo/anaconda3/lib/python3.12/site-packages/whisper/transcribe.py:126: UserWarning: FP16 is not supported on CPU; using FP32 instead\n",
      "  warnings.warn(\"FP16 is not supported on CPU; using FP32 instead\")\n"
     ]
    },
    {
     "name": "stdout",
     "output_type": "stream",
     "text": [
      "- (308/500)Process file: ./data/database_sa1_Jan08_Mar19_cleaned_utt_0000000579-1\n",
      "- GroundTruth: xin được mỹ ờ chấp thuận đó thì cái thời gian mà chờ mỹ xét duyệt bao lâu nữa thưa luật sư\n",
      "- Predicted: sinh được mỹ chấp thuận thì cái thời gian mà chờ mỹ xét việc bao lâu nữa thưa luật sư\n"
     ]
    },
    {
     "name": "stderr",
     "output_type": "stream",
     "text": [
      "/home/ngo/anaconda3/lib/python3.12/site-packages/whisper/transcribe.py:126: UserWarning: FP16 is not supported on CPU; using FP32 instead\n",
      "  warnings.warn(\"FP16 is not supported on CPU; using FP32 instead\")\n"
     ]
    },
    {
     "name": "stdout",
     "output_type": "stream",
     "text": [
      "- (309/500)Process file: ./data/database_sa1_Jan08_Mar19_cleaned_utt_0000001648-1\n",
      "- GroundTruth: nhiều người biểu tình chống ông tập\n",
      "- Predicted: nhiều người đã biểu tình chúng ôm tập.\n"
     ]
    },
    {
     "name": "stderr",
     "output_type": "stream",
     "text": [
      "/home/ngo/anaconda3/lib/python3.12/site-packages/whisper/transcribe.py:126: UserWarning: FP16 is not supported on CPU; using FP32 instead\n",
      "  warnings.warn(\"FP16 is not supported on CPU; using FP32 instead\")\n"
     ]
    },
    {
     "name": "stdout",
     "output_type": "stream",
     "text": [
      "- (310/500)Process file: ./data/database_sa1_Jan08_Mar19_cleaned_utt_0000010034-1\n",
      "- GroundTruth: có thể cản trở những nỗ lực của ngành du lịch quần đảo hoàng sa thường bị ảnh hưởng bởi bão nhiệt đới và gió mạnh chai na đây ly nói\n",
      "- Predicted: có thể cản trở những nỗ lực của ngành du lịch. quần đảo hoàng sa thường bị ảnh hưởng bởi bão nhiệt đới và gió mạnh, jenna daly nói.\n"
     ]
    },
    {
     "name": "stderr",
     "output_type": "stream",
     "text": [
      "/home/ngo/anaconda3/lib/python3.12/site-packages/whisper/transcribe.py:126: UserWarning: FP16 is not supported on CPU; using FP32 instead\n",
      "  warnings.warn(\"FP16 is not supported on CPU; using FP32 instead\")\n"
     ]
    },
    {
     "name": "stdout",
     "output_type": "stream",
     "text": [
      "- (311/500)Process file: ./data/database_sa1_Jan08_Mar19_cleaned_utt_0000004951-1\n",
      "- GroundTruth: họ vẫn cho rằng đối với việt nam thì phải xử phát triển cái cái cái vấn đề quân sự trong đó có vấn đề phong kiến cũng đề hình thức để dằn mặt việt nam\n",
      "- Predicted: họ vẫn cho rằng là đối với việt nam thì phải phát triển cái vấn đề quân sự, để trong đó có vấn đề phong tiến, cũng để hình thức mà để dọn mặt việt nam.\n"
     ]
    },
    {
     "name": "stderr",
     "output_type": "stream",
     "text": [
      "/home/ngo/anaconda3/lib/python3.12/site-packages/whisper/transcribe.py:126: UserWarning: FP16 is not supported on CPU; using FP32 instead\n",
      "  warnings.warn(\"FP16 is not supported on CPU; using FP32 instead\")\n"
     ]
    },
    {
     "name": "stdout",
     "output_type": "stream",
     "text": [
      "- (312/500)Process file: ./data/database_sa1_Jan08_Mar19_cleaned_utt_0000011417-1\n",
      "- GroundTruth: kẻo lại là cách sử dụng tốt công nghệ để giúp giải quyết vấn đề tham nhũng nhưng tôi lo là ứng dụng này sẽ làm cơ quan của chúng tôi bị tràn ngập bởi những tố cáo chống tham nhũng tuy nhiên ứng dụng này rất hữu ích cho công việc của chúng tôi và thủ tướng của chúng tôi đã ủng hộ dự án này\n",
      "- Predicted: nó là cách sử dụng tốt công nghệ để giúp giải quyết vấn đề thạm nhũng. nhưng tôi lo là ứng dụng này sẽ làm cơ quan của chúng tôi bị tràn ngập bởi những tố cáo chống thạm nhũng. tuy nhiên, ứng dụng này rất hữu ích cho công việc của chúng tôi. và thủ tướng của chúng tôi đã ủng hộ dự án này.\n"
     ]
    },
    {
     "name": "stderr",
     "output_type": "stream",
     "text": [
      "/home/ngo/anaconda3/lib/python3.12/site-packages/whisper/transcribe.py:126: UserWarning: FP16 is not supported on CPU; using FP32 instead\n",
      "  warnings.warn(\"FP16 is not supported on CPU; using FP32 instead\")\n"
     ]
    },
    {
     "name": "stdout",
     "output_type": "stream",
     "text": [
      "- (313/500)Process file: ./data/database_sa1_Jan08_Mar19_cleaned_utt_0000007482-1\n",
      "- GroundTruth: trung tá pu cát cố gắng không phản ứng thái quá với những thông tin đại loại như các cuộc thử tên lửa hạt nhân của miền bắc đang có nguy cơ châm ngòi chiến sự\n",
      "- Predicted: trung tá pukas cố gắng không phản ứng thay quá với những thông tin đại loại như các cuộc thử tiên lửa hạt nhân của miền bắc đang có nguy cơ châm ngòi chiến dự.\n"
     ]
    },
    {
     "name": "stderr",
     "output_type": "stream",
     "text": [
      "/home/ngo/anaconda3/lib/python3.12/site-packages/whisper/transcribe.py:126: UserWarning: FP16 is not supported on CPU; using FP32 instead\n",
      "  warnings.warn(\"FP16 is not supported on CPU; using FP32 instead\")\n"
     ]
    },
    {
     "name": "stdout",
     "output_type": "stream",
     "text": [
      "- (314/500)Process file: ./data/database_sa1_Jan08_Mar19_cleaned_utt_0000001050-1\n",
      "- GroundTruth: ủy ban cứu trợ người vượt biển bi pi ét ô ét tổ chức chuyên vận động nhân quyền việt nam cho biết buổi tường trình hôm nay nằm trong khuôn khổ chiến dịch kêu gọi tổng thống đo là trăm lưu ý thực trạng nhân quyền việt nam trong chuyến công du tháng mười một sắp tới\n",
      "- Predicted: ủy ban cứu trợ người vượt biển, bpsos, tổ chức chuyên vận động nhân quyền việt nam, cho biết buổi tự trình hôm nay nằm trong khuôn khổ chiến dịch kêu gọi tổng thống donald trump lưu ý thực trạng nhân quyền việt nam trong chuyến công du tháng 11 sắp tới.\n"
     ]
    },
    {
     "name": "stderr",
     "output_type": "stream",
     "text": [
      "/home/ngo/anaconda3/lib/python3.12/site-packages/whisper/transcribe.py:126: UserWarning: FP16 is not supported on CPU; using FP32 instead\n",
      "  warnings.warn(\"FP16 is not supported on CPU; using FP32 instead\")\n"
     ]
    },
    {
     "name": "stdout",
     "output_type": "stream",
     "text": [
      "- (315/500)Process file: ./data/database_sa1_Jan08_Mar19_cleaned_utt_0000000889-1\n",
      "- GroundTruth: và để xem các nhà sản xuất từ các nước này có nhận trợ cấp từ chính phủ hay không thông báo của bộ đề ngày ba mươi tháng bảy cho biết các cuộc điều tra này được khởi xướng dựa trên yêu cầu của liên minh thương mại tháp gió gồm nhiều công ty sản xuất tháp gió tại mỹ\n",
      "- Predicted: và để xem các nhà sản xuất từ các nước này có nhận trợ cấp từ chính phủ hay không. thông báo của bộ đề ngày 30 tháng 7 cho biết các cuộc điều tra này được khởi xướng dựa trên yêu cầu của liên minh thương mại tháp gió cùng nhiều công ty sản xuất tháp gió tại mỹ.\n"
     ]
    },
    {
     "name": "stderr",
     "output_type": "stream",
     "text": [
      "/home/ngo/anaconda3/lib/python3.12/site-packages/whisper/transcribe.py:126: UserWarning: FP16 is not supported on CPU; using FP32 instead\n",
      "  warnings.warn(\"FP16 is not supported on CPU; using FP32 instead\")\n"
     ]
    },
    {
     "name": "stdout",
     "output_type": "stream",
     "text": [
      "- (316/500)Process file: ./data/database_sa1_Jan08_Mar19_cleaned_utt_0000005248-1\n",
      "- GroundTruth: i ran ngày mười hai tháng tám hé lộ hệ thống phòng thủ phi đạn nâng cấp nội địa theo mô tả của giới hữu trách nước này có tầm hoạt động tới bốn trăm cây số và có thể chống lại phi đạn đạn đạo phi đạn hành trình và máy bay không người lái\n",
      "- Predicted: iran ngày 12 tháng 8 hé lộ hệ thống phòng thủ phi đạn nâng cấp nội địa theo mô tả của giới hữu trách nước này có tầm hoạt động tới 400km và có thể chống lại phi đạn đạn đạo, phi đạn hành trình và máy bay không người lái.\n"
     ]
    },
    {
     "name": "stderr",
     "output_type": "stream",
     "text": [
      "/home/ngo/anaconda3/lib/python3.12/site-packages/whisper/transcribe.py:126: UserWarning: FP16 is not supported on CPU; using FP32 instead\n",
      "  warnings.warn(\"FP16 is not supported on CPU; using FP32 instead\")\n"
     ]
    },
    {
     "name": "stdout",
     "output_type": "stream",
     "text": [
      "- (317/500)Process file: ./data/database_sa1_Jan08_Mar19_cleaned_utt_0000008627-1\n",
      "- GroundTruth: trong một góc nhỏ yên tĩnh của khu phố vốn đông đúc nhộn nhịp này những người đàn ông vốn không ưa sự ồn ào đang tự tìm cho mình một bữa trưa\n",
      "- Predicted: trong một góc nhỏ yên tĩnh của khu phố vốn đông đúc nhộn nhịp này, những người đàn ông vốn không ưa sự ồn ào đang tự tìm cho mình một bữa trưa.\n"
     ]
    },
    {
     "name": "stderr",
     "output_type": "stream",
     "text": [
      "/home/ngo/anaconda3/lib/python3.12/site-packages/whisper/transcribe.py:126: UserWarning: FP16 is not supported on CPU; using FP32 instead\n",
      "  warnings.warn(\"FP16 is not supported on CPU; using FP32 instead\")\n"
     ]
    },
    {
     "name": "stdout",
     "output_type": "stream",
     "text": [
      "- (318/500)Process file: ./data/database_sa1_Jan08_Mar19_cleaned_utt_0000001704-1\n",
      "- GroundTruth: đó là cái điểm chính nó sẽ ảnh hưởng đến đến cái\n",
      "- Predicted: đó là cái điểm chính, nó sẽ ảnh hưởng đến cái...\n"
     ]
    },
    {
     "name": "stderr",
     "output_type": "stream",
     "text": [
      "/home/ngo/anaconda3/lib/python3.12/site-packages/whisper/transcribe.py:126: UserWarning: FP16 is not supported on CPU; using FP32 instead\n",
      "  warnings.warn(\"FP16 is not supported on CPU; using FP32 instead\")\n"
     ]
    },
    {
     "name": "stdout",
     "output_type": "stream",
     "text": [
      "- (319/500)Process file: ./data/database_sa1_Jan08_Mar19_cleaned_utt_0000011840-1\n",
      "- GroundTruth: chó ở các quận nội thành vào năm hai nghìn không trăm hai mươi mốt chánh văn phòng nội các nhật ông y ô si hi đê xư ga hôm mười tám tháng chín nói rằng cuộc diễn tập của tàu ngầm của nước này ở biển đông trước khi tới việt nam hoàn toàn không nhắm vào các hành động của trung quốc ở vùng biển tranh chấp\n",
      "- Predicted: chó ở các quận nội thành vào năm 2021. tránh văn phòng nội các nhật, ông yoshihide suga hôm 18 tháng 9 nói rằng cuộc diễn tập của tàu ngầm của nước này ở biển đông trước khi tới việt nam hoàn toàn không nhắm vào các hành động của trung quốc ở vùng biển tranh chấp.\n"
     ]
    },
    {
     "name": "stderr",
     "output_type": "stream",
     "text": [
      "/home/ngo/anaconda3/lib/python3.12/site-packages/whisper/transcribe.py:126: UserWarning: FP16 is not supported on CPU; using FP32 instead\n",
      "  warnings.warn(\"FP16 is not supported on CPU; using FP32 instead\")\n"
     ]
    },
    {
     "name": "stdout",
     "output_type": "stream",
     "text": [
      "- (320/500)Process file: ./data/database_sa1_Jan08_Mar19_cleaned_utt_0000011066-1\n",
      "- GroundTruth: tôi xin thông báo ngày hai mươi ba tháng hai sẽ là ngày viện trợ nhân đạo vào vê nê duê la vì vậy từ hôm nay chúng ta sẽ cùng tất cả các ngành những người vận chuyển y tá bác sĩ tự mình tổ chức\n",
      "- Predicted: tôi xin thông báo ngày 23 tháng 2 sẽ là ngày viện trợ nhân đạo vào venezuela. vì vậy, từ hôm nay chúng ta sẽ cùng tất cả các ngành, những người vận chuyển, y tá, bác sĩ tự mình tổ chức.\n"
     ]
    },
    {
     "name": "stderr",
     "output_type": "stream",
     "text": [
      "/home/ngo/anaconda3/lib/python3.12/site-packages/whisper/transcribe.py:126: UserWarning: FP16 is not supported on CPU; using FP32 instead\n",
      "  warnings.warn(\"FP16 is not supported on CPU; using FP32 instead\")\n"
     ]
    },
    {
     "name": "stdout",
     "output_type": "stream",
     "text": [
      "- (321/500)Process file: ./data/database_sa1_Jan08_Mar19_cleaned_utt_0000012474-1\n",
      "- GroundTruth: đạo diễn bic ca lô nói rằng điều này đã thực sự xảy ra\n",
      "- Predicted: đạo diễn piccolo nói rằng điều này đã thực sự xảy ra.\n"
     ]
    },
    {
     "name": "stderr",
     "output_type": "stream",
     "text": [
      "/home/ngo/anaconda3/lib/python3.12/site-packages/whisper/transcribe.py:126: UserWarning: FP16 is not supported on CPU; using FP32 instead\n",
      "  warnings.warn(\"FP16 is not supported on CPU; using FP32 instead\")\n"
     ]
    },
    {
     "name": "stdout",
     "output_type": "stream",
     "text": [
      "- (322/500)Process file: ./data/database_sa1_Jan08_Mar19_cleaned_utt_0000005110-2\n",
      "- GroundTruth: <unk> visa để mình đi qua mỹ nó rất là thấp bởi vì giống như quý vị nói con trai của quý vị đã làm giấy tờ bảo lãnh cho quý vị rồi\n",
      "- Predicted: visa để mà đi qua mỹ nó rất là thấp bởi vì giống như quý vị nói con trai của quý vị đã làm giấy tờ võ lãnh cho quý vị rồi\n"
     ]
    },
    {
     "name": "stderr",
     "output_type": "stream",
     "text": [
      "/home/ngo/anaconda3/lib/python3.12/site-packages/whisper/transcribe.py:126: UserWarning: FP16 is not supported on CPU; using FP32 instead\n",
      "  warnings.warn(\"FP16 is not supported on CPU; using FP32 instead\")\n"
     ]
    },
    {
     "name": "stdout",
     "output_type": "stream",
     "text": [
      "- (323/500)Process file: ./data/database_sa1_Jan08_Mar19_cleaned_utt_0000004353-1\n",
      "- GroundTruth: hoặc tới lúc nào sở di trú họ\n",
      "- Predicted: hoặc tới lúc nào sở dĩ chủ họ nói,\n"
     ]
    },
    {
     "name": "stderr",
     "output_type": "stream",
     "text": [
      "/home/ngo/anaconda3/lib/python3.12/site-packages/whisper/transcribe.py:126: UserWarning: FP16 is not supported on CPU; using FP32 instead\n",
      "  warnings.warn(\"FP16 is not supported on CPU; using FP32 instead\")\n"
     ]
    },
    {
     "name": "stdout",
     "output_type": "stream",
     "text": [
      "- (324/500)Process file: ./data/database_sa1_Jan08_Mar19_cleaned_utt_0000009909-1\n",
      "- GroundTruth: tổng thư ký a si an khi bà trình ủy nhiệm thư hôm mười chín tháng ba tại văn phòng tổng thư ký ở da các ta\n",
      "- Predicted: tổng thư ký asean khi bà trình ủy nhiệm thư hôm 19 tháng 3 tại văn phòng tổng thư ký ở jakarta.\n"
     ]
    },
    {
     "name": "stderr",
     "output_type": "stream",
     "text": [
      "/home/ngo/anaconda3/lib/python3.12/site-packages/whisper/transcribe.py:126: UserWarning: FP16 is not supported on CPU; using FP32 instead\n",
      "  warnings.warn(\"FP16 is not supported on CPU; using FP32 instead\")\n"
     ]
    },
    {
     "name": "stdout",
     "output_type": "stream",
     "text": [
      "- (325/500)Process file: ./data/database_sa1_Jan08_Mar19_cleaned_utt_0000001859-1\n",
      "- GroundTruth: thông tấn xã chính thức của nhà nước trung quốc ngày mười bảy tháng chín đăng bài xã luận nêu lập trường của trung quốc rằng biển đông không phải và không nên là một vấn đề giữa mỹ với trung quốc trong bối cảnh chủ tịch trung quốc tập cận bình sắp có chuyến công du tới mỹ\n",
      "- Predicted: thông tấn xã chính thức của nhà nước trung quốc ngày 17 tháng 9 đăng bài xã luận nêu lập trường của trung quốc rằng biển đông không phải và không nên là một vấn đề giữa mỹ với trung quốc. trong bối cảnh chủ tịch trung quốc tập cận bình sắp có chuyến công dù tới mỹ,\n"
     ]
    },
    {
     "name": "stderr",
     "output_type": "stream",
     "text": [
      "/home/ngo/anaconda3/lib/python3.12/site-packages/whisper/transcribe.py:126: UserWarning: FP16 is not supported on CPU; using FP32 instead\n",
      "  warnings.warn(\"FP16 is not supported on CPU; using FP32 instead\")\n"
     ]
    },
    {
     "name": "stdout",
     "output_type": "stream",
     "text": [
      "- (326/500)Process file: ./data/database_sa1_Jan08_Mar19_cleaned_utt_0000005285-1\n",
      "- GroundTruth: tàu chở dầu của việt nam bị mất tích giữa bối cảnh nạn hải tặc đang leo thang trong khu vực đông nam á cục hàng hải quốc tế nói vụ việc này càng làm tăng thêm quan ngại về xu hướng mới của các cuộc tấn công do cướp biển gây ra giới chức việt nam cho hay địa điểm nhận được tín hiệu sau cùng của con tàu\n",
      "- Predicted: tàu chở dầu của việt nam bị mất tích giữa bối cảnh nạn hải tặc đang leo thang trong khu vực đông nam á. cục hoàng hải quốc tế nói vụ việc này càng làm tăng thêm quan ngại về xu hướng mới của các cuộc tấn công do cướp biển gây ra. giới chức việt nam cho hay địa điểm nhận được tín hiệu sau cùng của con tàu.\n"
     ]
    },
    {
     "name": "stderr",
     "output_type": "stream",
     "text": [
      "/home/ngo/anaconda3/lib/python3.12/site-packages/whisper/transcribe.py:126: UserWarning: FP16 is not supported on CPU; using FP32 instead\n",
      "  warnings.warn(\"FP16 is not supported on CPU; using FP32 instead\")\n"
     ]
    },
    {
     "name": "stdout",
     "output_type": "stream",
     "text": [
      "- (327/500)Process file: ./data/database_sa1_Jan08_Mar19_cleaned_utt_0000009581-2\n",
      "- GroundTruth: thì\n",
      "- Predicted: yeah.\n"
     ]
    },
    {
     "name": "stderr",
     "output_type": "stream",
     "text": [
      "/home/ngo/anaconda3/lib/python3.12/site-packages/whisper/transcribe.py:126: UserWarning: FP16 is not supported on CPU; using FP32 instead\n",
      "  warnings.warn(\"FP16 is not supported on CPU; using FP32 instead\")\n"
     ]
    },
    {
     "name": "stdout",
     "output_type": "stream",
     "text": [
      "- (328/500)Process file: ./data/database_sa1_Jan08_Mar19_cleaned_utt_0000010789-1\n",
      "- GroundTruth: là không có tác dụng gì đối với những ký à không ảnh hưởng gì đến với những cái <unk>\n",
      "- Predicted: không có tác dụng gì đối với những cái không ảnh hưởng gì đến với những cái\n"
     ]
    },
    {
     "name": "stderr",
     "output_type": "stream",
     "text": [
      "/home/ngo/anaconda3/lib/python3.12/site-packages/whisper/transcribe.py:126: UserWarning: FP16 is not supported on CPU; using FP32 instead\n",
      "  warnings.warn(\"FP16 is not supported on CPU; using FP32 instead\")\n"
     ]
    },
    {
     "name": "stdout",
     "output_type": "stream",
     "text": [
      "- (329/500)Process file: ./data/database_sa1_Jan08_Mar19_cleaned_utt_0000000968-1\n",
      "- GroundTruth: ông sờ wít cho biết trung quốc cũng đã gửi một tàu do thám và vùng đặc quyền kinh tế của mỹ ở ha wai i trong cuộc tập trận hải quân đa quốc gia do hạm đội thái bình dương tổ chức vào năm hai ngàn mười bốn\n",
      "- Predicted: ông swift cho biết trung quốc cũng đã gửi một tàu gia thám vào vùng đặc quyền kinh tế của mỹ ở hawaii trong một tập trận hải quân đa quốc gia do hạm đội thái bình dương tổ chức vào năm 2014.\n"
     ]
    },
    {
     "name": "stderr",
     "output_type": "stream",
     "text": [
      "/home/ngo/anaconda3/lib/python3.12/site-packages/whisper/transcribe.py:126: UserWarning: FP16 is not supported on CPU; using FP32 instead\n",
      "  warnings.warn(\"FP16 is not supported on CPU; using FP32 instead\")\n"
     ]
    },
    {
     "name": "stdout",
     "output_type": "stream",
     "text": [
      "- (330/500)Process file: ./data/database_sa1_Jan08_Mar19_cleaned_utt_0000009970-1\n",
      "- GroundTruth: nghị viện châu âu ngày mười bảy tháng tư thông qua nghị quyết đề nghị ủy ban châu âu đề cập tới các quan ngại nhân quyền khi thương lượng về hiệp định tự do thương mại ép ti ây giữa châu âu với việt nam nghị quyết kêu gọi ủy ban châu âu phải áp dụng phương thức đặt điều kiện ký kết hiệp định ép ti ây dựa trên các tiến bộ cụ thể từ việt nam trong việc cải thiện nhân quyền đặc biệt về quyền tự do ngôn luận tự do thông tin và tự do tôn giáo nghị quyết thúc giục ủy ban châu âu tiến hành việc đánh giá về tác động nhân quyền\n",
      "- Predicted: nghị viện châu âu ngày 17 tháng 4 thông qua nghị quyết đề nghị ủy ban châu âu đề cập tới các quan ngại nhân quyền khi thương lượng về hiệp định tự do thương mại fta giữa châu âu với việt nam. nghị quyết kêu gọi ủy ban châu âu phải áp dụng phương thức đặt điều kiện ký kết hiệp định fta dựa trên các tiến bộ cụ thể từ việt nam trong việc cải thiện nhân quyền, đặc biệt về quyền tự do ngôn luận, tự do thông tin và tự do tôn giáo. nghị quyết thúc giục ủy ban châu âu tiến hành việc đánh giá về tác động nhân quyền\n"
     ]
    },
    {
     "name": "stderr",
     "output_type": "stream",
     "text": [
      "/home/ngo/anaconda3/lib/python3.12/site-packages/whisper/transcribe.py:126: UserWarning: FP16 is not supported on CPU; using FP32 instead\n",
      "  warnings.warn(\"FP16 is not supported on CPU; using FP32 instead\")\n"
     ]
    },
    {
     "name": "stdout",
     "output_type": "stream",
     "text": [
      "- (331/500)Process file: ./data/database_sa1_Jan08_Mar19_cleaned_utt_0000002100-1\n",
      "- GroundTruth: phóng viên của đài vi o ây tường thuật từ niu róc mời quý vị cùng theo dõi\n",
      "- Predicted: phóng viên của đài voa, tường thuật từ new york, mời quý vị cùng theo dõi.\n"
     ]
    },
    {
     "name": "stderr",
     "output_type": "stream",
     "text": [
      "/home/ngo/anaconda3/lib/python3.12/site-packages/whisper/transcribe.py:126: UserWarning: FP16 is not supported on CPU; using FP32 instead\n",
      "  warnings.warn(\"FP16 is not supported on CPU; using FP32 instead\")\n"
     ]
    },
    {
     "name": "stdout",
     "output_type": "stream",
     "text": [
      "- (332/500)Process file: ./data/database_sa1_Jan08_Mar19_cleaned_utt_0000000984-1\n",
      "- GroundTruth: ba mươi tám nót cho biết những thiết bị này có thể được dùng để tiến hành cuộc thử nghiệm và thu thập dữ liệu từ vụ đổ\n",
      "- Predicted: 38 north cho biết những thiết bị này có thể được dùng để tiến hành cuộc thử nghiệm và thu thập dữ liệu từ vụ đổ.\n"
     ]
    },
    {
     "name": "stderr",
     "output_type": "stream",
     "text": [
      "/home/ngo/anaconda3/lib/python3.12/site-packages/whisper/transcribe.py:126: UserWarning: FP16 is not supported on CPU; using FP32 instead\n",
      "  warnings.warn(\"FP16 is not supported on CPU; using FP32 instead\")\n"
     ]
    },
    {
     "name": "stdout",
     "output_type": "stream",
     "text": [
      "- (333/500)Process file: ./data/database_sa1_Jan08_Mar19_cleaned_utt_0000000685-1\n",
      "- GroundTruth: mang tính mềm tức là lẽ ra nếu việt nam chính quyền việt nam mà cải thiện nhân quyền loại bỏ những điều luật phạm nhân quyền trả tự do cho tất cả những người bất đồng chính kiến và từ nay trở về sau không có ờ bắt những người bày tỏ chính kiến của mình một cách hòa bình nữa ấy\n",
      "- Predicted: mang cái tính mềm, tức là lẽ ra nếu việt nam, chính quyền việt nam mà cải thiện nhân quyền, loại bỏ những điều luật phản nhân quyền, trả tự do cho tất cả những người bất đồng chính quyền, và từ nay trở về sau không có bắt những người bày tỏ chính kiến mình một cách hòa bình nữa.\n"
     ]
    },
    {
     "name": "stderr",
     "output_type": "stream",
     "text": [
      "/home/ngo/anaconda3/lib/python3.12/site-packages/whisper/transcribe.py:126: UserWarning: FP16 is not supported on CPU; using FP32 instead\n",
      "  warnings.warn(\"FP16 is not supported on CPU; using FP32 instead\")\n"
     ]
    },
    {
     "name": "stdout",
     "output_type": "stream",
     "text": [
      "- (334/500)Process file: ./data/database_sa1_Jan08_Mar19_cleaned_utt_0000010008-1\n",
      "- GroundTruth: phản đối chính thức của chính phủ việt nam được đưa ra hai ngày sau khi cục hải sự trung quốc\n",
      "- Predicted: phản đối chính thức của chính phủ việt nam được đưa ra 2 ngày sau khi cục hải sự trung quốc.\n"
     ]
    },
    {
     "name": "stderr",
     "output_type": "stream",
     "text": [
      "/home/ngo/anaconda3/lib/python3.12/site-packages/whisper/transcribe.py:126: UserWarning: FP16 is not supported on CPU; using FP32 instead\n",
      "  warnings.warn(\"FP16 is not supported on CPU; using FP32 instead\")\n"
     ]
    },
    {
     "name": "stdout",
     "output_type": "stream",
     "text": [
      "- (335/500)Process file: ./data/database_sa1_Jan08_Mar19_cleaned_utt_0000000033-1\n",
      "- GroundTruth: tướng cam pu chia còn yêu cầu thủ tướng sinh ga po phải điều chỉnh phát biểu không đúng sự thật chút nào này theo lời ông\n",
      "- Predicted: tướng campuchia còn yêu cầu thủ tướng singapore phải điều chỉnh phát biểu không đúng sự thật chút nào này, theo lời ông.\n"
     ]
    },
    {
     "name": "stderr",
     "output_type": "stream",
     "text": [
      "/home/ngo/anaconda3/lib/python3.12/site-packages/whisper/transcribe.py:126: UserWarning: FP16 is not supported on CPU; using FP32 instead\n",
      "  warnings.warn(\"FP16 is not supported on CPU; using FP32 instead\")\n"
     ]
    },
    {
     "name": "stdout",
     "output_type": "stream",
     "text": [
      "- (336/500)Process file: ./data/database_sa1_Jan08_Mar19_cleaned_utt_0000004122-2\n",
      "- GroundTruth: <unk> có một người bị thiệt mạng khi xe của người này bị nước lũ cuốn trôi một số nơi vũ lượng lên tới trên mười xen ti mét trong một giờ\n",
      "- Predicted: có một người bị thiệt mạng khi xe của người này bị nước lũ cuốn trôi. một số nơi vũ lượng lên tới trên 10cm trong một giờ.\n"
     ]
    },
    {
     "name": "stderr",
     "output_type": "stream",
     "text": [
      "/home/ngo/anaconda3/lib/python3.12/site-packages/whisper/transcribe.py:126: UserWarning: FP16 is not supported on CPU; using FP32 instead\n",
      "  warnings.warn(\"FP16 is not supported on CPU; using FP32 instead\")\n"
     ]
    },
    {
     "name": "stdout",
     "output_type": "stream",
     "text": [
      "- (337/500)Process file: ./data/database_sa1_Jan08_Mar19_cleaned_utt_0000004816-1\n",
      "- GroundTruth: cái người mà luôn theo dõi gì đó là\n",
      "- Predicted: một cái người mà luôn nghe giỏi và quan tâm\n"
     ]
    },
    {
     "name": "stderr",
     "output_type": "stream",
     "text": [
      "/home/ngo/anaconda3/lib/python3.12/site-packages/whisper/transcribe.py:126: UserWarning: FP16 is not supported on CPU; using FP32 instead\n",
      "  warnings.warn(\"FP16 is not supported on CPU; using FP32 instead\")\n"
     ]
    },
    {
     "name": "stdout",
     "output_type": "stream",
     "text": [
      "- (338/500)Process file: ./data/database_sa1_Jan08_Mar19_cleaned_utt_0000006345-2\n",
      "- GroundTruth: <unk> phòng trọ và những khách sạn để ở đỡ ở tạm trong thời gian mà tìm chỗ mới\n",
      "- Predicted: phòng trọng về khách sạn để ở tạm trong thời gian tìm chỗ mới.\n"
     ]
    },
    {
     "name": "stderr",
     "output_type": "stream",
     "text": [
      "/home/ngo/anaconda3/lib/python3.12/site-packages/whisper/transcribe.py:126: UserWarning: FP16 is not supported on CPU; using FP32 instead\n",
      "  warnings.warn(\"FP16 is not supported on CPU; using FP32 instead\")\n"
     ]
    },
    {
     "name": "stdout",
     "output_type": "stream",
     "text": [
      "- (339/500)Process file: ./data/database_sa1_Jan08_Mar19_cleaned_utt_0000003862-1\n",
      "- GroundTruth: khách tham quan không chỉ được chiêm ngưỡng hàng chục nghìn cuốn kinh thánh từ khắp nơi trên thế giới đã từng được sử dụng từ nhiều thế kỷ trước đây mà tại bảo tàng độc đáo này người ta còn tìm thấy rất nhiều tác phẩm nghệ thuật quý giá của nghệ thuật thời kỳ phục hưng ở châu âu\n",
      "- Predicted: khách tham quan không chỉ được chiêm ngưỡng hàng chục nghìn cuốn kinh thánh từ khắp nơi trên thế giới đã từng được sử dụng từ nhiều thế kỷ trước đây, mà tại bảo tàng độc đáo này, người ta còn tìm thấy rất nhiều tác phẩm nghệ thuật quý giá của nghệ thuật thời kỳ phục hưng ở châu âu.\n"
     ]
    },
    {
     "name": "stderr",
     "output_type": "stream",
     "text": [
      "/home/ngo/anaconda3/lib/python3.12/site-packages/whisper/transcribe.py:126: UserWarning: FP16 is not supported on CPU; using FP32 instead\n",
      "  warnings.warn(\"FP16 is not supported on CPU; using FP32 instead\")\n"
     ]
    },
    {
     "name": "stdout",
     "output_type": "stream",
     "text": [
      "- (340/500)Process file: ./data/database_sa1_Jan08_Mar19_cleaned_utt_0000005502-1\n",
      "- GroundTruth: các công tố viên cho biết ít nhất một nghi can đã bị thương trong mười chín vụ bô ráp được thực hiện tại những địa điểm ở bên trong\n",
      "- Predicted: các công tố viên cho biết ít nhất một nghi can đã bị thương trong 19 vụ bố ráp, được thực hiện tại những địa điểm ở bên trong.\n"
     ]
    },
    {
     "name": "stderr",
     "output_type": "stream",
     "text": [
      "/home/ngo/anaconda3/lib/python3.12/site-packages/whisper/transcribe.py:126: UserWarning: FP16 is not supported on CPU; using FP32 instead\n",
      "  warnings.warn(\"FP16 is not supported on CPU; using FP32 instead\")\n"
     ]
    },
    {
     "name": "stdout",
     "output_type": "stream",
     "text": [
      "- (341/500)Process file: ./data/database_sa1_Jan08_Mar19_cleaned_utt_0000006552-1\n",
      "- GroundTruth: đại sứ niu ong của miến cho rằng giữa lúc trung quốc đang đối mặt với các căng thẳng quân sự có thể có với phi líp pin và việt nam thì bắc kinh có phần chắc sẽ xoay sang giải quyết một cách ôn hòa vì nếu để cho tranh chấp với bốn nước a sê an căng thẳng bắc kinh e rằng hoa kỳ sẽ can thiệp vào cuộc khủng hoảng đại sứ niu ông đề nghị xử lý các khó khăn này thì miến điện không nên dùng áp lực một chiều với chỉ riêng một quốc gia mà cần phải mở đường cho việc xây dựng lòng tin lẫn nhau giữa các nước trong khi đó nghiên cứu gia về a si an mô tiu gia thì cho rằng miến điện chỉ nên ủng hộ các quốc gia asean trong cuộc tranh chấp\n",
      "- Predicted: đại sứ neon của miến cho rằng, giữa lúc trung quốc đang đối mặt với các căng thẳng quân sự có thể có với philippines và việt nam, thì bắc kinh có phần chắc sẽ xoay sang giải quyết một cách ôn hòa. vì nếu để cho tranh chấp với bốn nước asean căng thẳng, bắc kinh e rằng hoa kỳ sẽ can thiệp vào cuộc khủng hoảng. đại sứ neon đề nghị xử lý các khó khăn này thì miến điện không nên dùng áp lực một chiều với chỉ riêng một quốc gia, mà cần phải mở đường cho việc xây dựng lòng tin lẫn nhau giữa các nước. trong khi đó, nghiên cứu gia về asean muthuja thì cho rằng miến điện chỉ nên ủng hộ các quốc gia asean trong cuộc tranh chấp.\n"
     ]
    },
    {
     "name": "stderr",
     "output_type": "stream",
     "text": [
      "/home/ngo/anaconda3/lib/python3.12/site-packages/whisper/transcribe.py:126: UserWarning: FP16 is not supported on CPU; using FP32 instead\n",
      "  warnings.warn(\"FP16 is not supported on CPU; using FP32 instead\")\n"
     ]
    },
    {
     "name": "stdout",
     "output_type": "stream",
     "text": [
      "- (342/500)Process file: ./data/database_sa1_Jan08_Mar19_cleaned_utt_0000000510-1\n",
      "- GroundTruth: giáo viên trông đợi bạn đạt thành tích cao khi giáo viên có những kỳ vọng tích cực từ đó thực sự khích lệ bạn học tốt hơn\n",
      "- Predicted: giáo viên trong đời bạn đạt thành tích cao. khi giáo viên có những kỳ vọng tích cực, điều đó thực sự thích lệ bạn học tốt hơn.\n"
     ]
    },
    {
     "name": "stderr",
     "output_type": "stream",
     "text": [
      "/home/ngo/anaconda3/lib/python3.12/site-packages/whisper/transcribe.py:126: UserWarning: FP16 is not supported on CPU; using FP32 instead\n",
      "  warnings.warn(\"FP16 is not supported on CPU; using FP32 instead\")\n"
     ]
    },
    {
     "name": "stdout",
     "output_type": "stream",
     "text": [
      "- (343/500)Process file: ./data/database_sa1_Jan08_Mar19_cleaned_utt_0000005574-1\n",
      "- GroundTruth: ông ke ri gặp ngoại trưởng pháp lo rờn pha bi ớt sau một đêm thương thuyết căng thẳng giữa các giới chức đến từ một trăm chín mươi lăm quốc gia tham dự hội nghị pa ri ông pha bi ớt cho biết\n",
      "- Predicted: ông kerry gặp ngoại trưởng pháp laurent fabius sau một đêm thương thuyết căng thẳng giữa các giới chức tới từ 195 quốc gia tham dựng hội nghị paris. ông fabius cho biết,\n"
     ]
    },
    {
     "name": "stderr",
     "output_type": "stream",
     "text": [
      "/home/ngo/anaconda3/lib/python3.12/site-packages/whisper/transcribe.py:126: UserWarning: FP16 is not supported on CPU; using FP32 instead\n",
      "  warnings.warn(\"FP16 is not supported on CPU; using FP32 instead\")\n"
     ]
    },
    {
     "name": "stdout",
     "output_type": "stream",
     "text": [
      "- (344/500)Process file: ./data/database_sa1_Jan08_Mar19_cleaned_utt_0000009033-1\n",
      "- GroundTruth: khá là vui vì có thể làm cái gì về nó cũng được\n",
      "- Predicted: khá là vui vì có thể làm cái gì với nó cũng được.\n"
     ]
    },
    {
     "name": "stderr",
     "output_type": "stream",
     "text": [
      "/home/ngo/anaconda3/lib/python3.12/site-packages/whisper/transcribe.py:126: UserWarning: FP16 is not supported on CPU; using FP32 instead\n",
      "  warnings.warn(\"FP16 is not supported on CPU; using FP32 instead\")\n"
     ]
    },
    {
     "name": "stdout",
     "output_type": "stream",
     "text": [
      "- (345/500)Process file: ./data/database_sa1_Jan08_Mar19_cleaned_utt_0000004302-1\n",
      "- GroundTruth: diễn viên li ép soai bơ đóng vai nhân viên ci ai ây thét quin tơ đồng nghiệp của son bị hoang mang vì thái độ của son tuy nhiên điểm cuốn hút chính của bộ phim là vai e ve lin son được giao cho không ai khác hơn là en giơ ly na gieo lì giô ly không xa lạ gì với những bộ phim hành động và cô có dấu ấn của riêng cô trong những cảnh đấm đá và những màn nguy hiểm\n",
      "- Predicted: diễn viên liev schreiber đóng vai nhân viên cia ted winter, đồng nghiệp của salt, bị hoang mang vì thái độ của salt. tuy nhiên điểm cuốn hút chính của bộ phim là vai evelyn salt được giao cho không ai khác hơn là angelina jolie. jolie không xa lạ gì với những bộ phim hành động và cô có dấu ấn của riêng cô trong những cảnh đấm đá và những màn nguy hiểm.\n"
     ]
    },
    {
     "name": "stderr",
     "output_type": "stream",
     "text": [
      "/home/ngo/anaconda3/lib/python3.12/site-packages/whisper/transcribe.py:126: UserWarning: FP16 is not supported on CPU; using FP32 instead\n",
      "  warnings.warn(\"FP16 is not supported on CPU; using FP32 instead\")\n"
     ]
    },
    {
     "name": "stdout",
     "output_type": "stream",
     "text": [
      "- (346/500)Process file: ./data/database_sa1_Jan08_Mar19_cleaned_utt_0000005551-1\n",
      "- GroundTruth: nhưng từ tháng mười một đến tận ngày thi thứ bảy nào chúng tôi cũng tập hợp chúng tôi dành rất nhiều thời gian cho cuộc thi này\n",
      "- Predicted: nhưng từ tháng 11 đến tận ngày thi thứ 7 nào chúng tôi cũng tập hợp. chúng tôi dành rất nhiều thời gian cho cuộc thi này.\n"
     ]
    },
    {
     "name": "stderr",
     "output_type": "stream",
     "text": [
      "/home/ngo/anaconda3/lib/python3.12/site-packages/whisper/transcribe.py:126: UserWarning: FP16 is not supported on CPU; using FP32 instead\n",
      "  warnings.warn(\"FP16 is not supported on CPU; using FP32 instead\")\n"
     ]
    },
    {
     "name": "stdout",
     "output_type": "stream",
     "text": [
      "- (347/500)Process file: ./data/database_sa1_Jan08_Mar19_cleaned_utt_0000003736-1\n",
      "- GroundTruth: hội đồng thành phố ót ruây trong tuần bỏ phiếu nhất trí thu hồi lại giải thưởng nền tự do của thành phố từng trao cho bà su chi viện dẫn những quan ngại sâu sắc về thực trạng của người hồi giáo rô nhi a trong thời gian bà nắm quyền\n",
      "- Predicted: hội đồng thành phố oxford trong tuần bỏ phiếu nhất trí, thu hồi lại giải thưởng nền tự do của thành phố, tình trao cho bà suu kyi, viện dẫn những quan ngại sổ sắc về thực trạng của người hồi gia rohingya trong thời gian bà nắm quyền.\n"
     ]
    },
    {
     "name": "stderr",
     "output_type": "stream",
     "text": [
      "/home/ngo/anaconda3/lib/python3.12/site-packages/whisper/transcribe.py:126: UserWarning: FP16 is not supported on CPU; using FP32 instead\n",
      "  warnings.warn(\"FP16 is not supported on CPU; using FP32 instead\")\n"
     ]
    },
    {
     "name": "stdout",
     "output_type": "stream",
     "text": [
      "- (348/500)Process file: ./data/database_sa1_Jan08_Mar19_cleaned_utt_0000008636-1\n",
      "- GroundTruth: mà vì các loại ngô bây giờ không thể làm bỏng ngô mèn thén được nữa các loại ngô nếp thuần chủng của đồng bào thiểu số nhanh chóng bị lai phấn với ngô trung quốc ở các ngọn đồi\n",
      "- Predicted: mà vì các loại ngô bây giờ không thể làm bỏng ngô, mèn thén được nữa. các loại ngô nếp thuần trụng của đồng bào thiểu số nhanh chóng bị lai phấn với ngô trung quốc ở các ngọn đồi.\n"
     ]
    },
    {
     "name": "stderr",
     "output_type": "stream",
     "text": [
      "/home/ngo/anaconda3/lib/python3.12/site-packages/whisper/transcribe.py:126: UserWarning: FP16 is not supported on CPU; using FP32 instead\n",
      "  warnings.warn(\"FP16 is not supported on CPU; using FP32 instead\")\n"
     ]
    },
    {
     "name": "stdout",
     "output_type": "stream",
     "text": [
      "- (349/500)Process file: ./data/database_sa1_Jan08_Mar19_cleaned_utt_0000004807-1\n",
      "- GroundTruth: nhờ thế hệ trẻ trả lời qua sờ kai giám đốc điều hành ben gu rưn cho biết\n",
      "- Predicted: nhờ thế hệ trẻ, trả lời qua skype, giám đốc điều hành ben gurin cho biết.\n"
     ]
    },
    {
     "name": "stderr",
     "output_type": "stream",
     "text": [
      "/home/ngo/anaconda3/lib/python3.12/site-packages/whisper/transcribe.py:126: UserWarning: FP16 is not supported on CPU; using FP32 instead\n",
      "  warnings.warn(\"FP16 is not supported on CPU; using FP32 instead\")\n"
     ]
    },
    {
     "name": "stdout",
     "output_type": "stream",
     "text": [
      "- (350/500)Process file: ./data/database_sa1_Jan08_Mar19_cleaned_utt_0000012310-1\n",
      "- GroundTruth: theo trung tâm kiểm soát và phòng ngừa dịch bệnh hoa kỳ hơn ba mươi phần trăm dân mỹ không ngủ đủ giấc vấn đề này tạo ra một thị trường công nghệ mới hứa hẹn đem lại những giấc ngủ ngon mời quý vị theo dõi chi tiết tường trình sau đây\n",
      "- Predicted: theo trung tâm kiểm soát và phòng ngừa dịch bệnh hoa kỳ, hơn 30% dân mỹ không ngủ đủ giấc. vấn đề này tạo ra một thị trường công nghệ mới hứa hẹn đem lại những giấc ngủ ngon. mời quý vị theo dõi chi tiết tường trình sau đây.\n"
     ]
    },
    {
     "name": "stderr",
     "output_type": "stream",
     "text": [
      "/home/ngo/anaconda3/lib/python3.12/site-packages/whisper/transcribe.py:126: UserWarning: FP16 is not supported on CPU; using FP32 instead\n",
      "  warnings.warn(\"FP16 is not supported on CPU; using FP32 instead\")\n"
     ]
    },
    {
     "name": "stdout",
     "output_type": "stream",
     "text": [
      "- (351/500)Process file: ./data/database_sa1_Jan08_Mar19_cleaned_utt_0000012161-1\n",
      "- GroundTruth: thẩm phán liên bang ở me len và oa sinh tơn gia nhập vụ kiện của ha goai i chống lại lệnh cấm du hành tạm thời của tổng thống troăm sự việc xảy ra khi chỉ còn một ngày nữa là sắc lệnh sửa đổi này chính thức có hiệu lực tổng chưởng lý bang ha goai i nói sắc lệnh mới này sẽ gây tổn hại cho cộng đồng hồi giáo du học sinh và kỹ nghệ du lịch của bang\n",
      "- Predicted: thẩm phán liên bang ở maryland và washington gia nhập vụ kiện với hawaii chống lại lệnh cấm du hành tạm thời của tổng thống trump. sự việc xảy ra khi chỉ còn một ngày nữa là xác lệnh sửa đổi này chính thức có hiệu lực. tổng chứng lý bang hawaii nói xác lệnh mới này sẽ gây tổn hại cho cộng đồng ngôi giáo, du học sinh và kỹ nghệ du lịch của bang.\n"
     ]
    },
    {
     "name": "stderr",
     "output_type": "stream",
     "text": [
      "/home/ngo/anaconda3/lib/python3.12/site-packages/whisper/transcribe.py:126: UserWarning: FP16 is not supported on CPU; using FP32 instead\n",
      "  warnings.warn(\"FP16 is not supported on CPU; using FP32 instead\")\n"
     ]
    },
    {
     "name": "stdout",
     "output_type": "stream",
     "text": [
      "- (352/500)Process file: ./data/database_sa1_Jan08_Mar19_cleaned_utt_0000006643-1\n",
      "- GroundTruth: cũng được đựng trong toa lét\n",
      "- Predicted: cũng được đựng trong toilet.\n"
     ]
    },
    {
     "name": "stderr",
     "output_type": "stream",
     "text": [
      "/home/ngo/anaconda3/lib/python3.12/site-packages/whisper/transcribe.py:126: UserWarning: FP16 is not supported on CPU; using FP32 instead\n",
      "  warnings.warn(\"FP16 is not supported on CPU; using FP32 instead\")\n"
     ]
    },
    {
     "name": "stdout",
     "output_type": "stream",
     "text": [
      "- (353/500)Process file: ./data/database_sa1_Jan08_Mar19_cleaned_utt_0000004710-1\n",
      "- GroundTruth: bày tỏ quan ngại về tình trạng của nhà hoạt động lê quốc vương và kêu gọi việt nam bảo đảm ông không bị ngược đãi cho phép ông được tiếp xúc với người nhà cũng như được chăm sóc sức khỏe cần thiết\n",
      "- Predicted: bày tỏ quan ngại về tình trạng của nhà hoạt động lê quốc quân và kêu gọi việt nam bảo đảm ông không bị ngược đải, cho phép ông được tiếp xúc với người nhà cũng như được chăm sóc sức khỏe cần thiết.\n"
     ]
    },
    {
     "name": "stderr",
     "output_type": "stream",
     "text": [
      "/home/ngo/anaconda3/lib/python3.12/site-packages/whisper/transcribe.py:126: UserWarning: FP16 is not supported on CPU; using FP32 instead\n",
      "  warnings.warn(\"FP16 is not supported on CPU; using FP32 instead\")\n"
     ]
    },
    {
     "name": "stdout",
     "output_type": "stream",
     "text": [
      "- (354/500)Process file: ./data/database_sa1_Jan08_Mar19_cleaned_utt_0000000669-1\n",
      "- GroundTruth: bộ ngoại giao phi líp pin cũng đồng thời lên án các hoạt động bất hợp pháp phá hoại môi trường của ngư phủ trung quốc tại bãi cạn vừa kể\n",
      "- Predicted: bộ ngoại giao philippines cũng đồng thời lên án các hoạt động bất hợp pháp và hoại môi trường của ngư phủ trung quốc tại bãi cạn vừa kể.\n"
     ]
    },
    {
     "name": "stderr",
     "output_type": "stream",
     "text": [
      "/home/ngo/anaconda3/lib/python3.12/site-packages/whisper/transcribe.py:126: UserWarning: FP16 is not supported on CPU; using FP32 instead\n",
      "  warnings.warn(\"FP16 is not supported on CPU; using FP32 instead\")\n"
     ]
    },
    {
     "name": "stdout",
     "output_type": "stream",
     "text": [
      "- (355/500)Process file: ./data/database_sa1_Jan08_Mar19_cleaned_utt_0000006697-1\n",
      "- GroundTruth: trong những cuộc chiến một trong những điều khiến chúng ta không trở nên man rợ là biết phân biệt giữa binh lính và dân thường do đó chúng tôi lo ngại rằng vũ khí tự động trong tương lai sẽ không có khả năng phân biệt được một đứa trẻ đang cua một que kem với một người đang cầm vũ khí\n",
      "- Predicted: trong những cuộc chiến, một trong những điều khiến chúng ta không trở nên man dợ là biết phân biệt giữa binh lính và dân thường. do đó, chúng tôi lo ngại rằng vũ khí tự động trong tương lai sẽ không có khả năng phân biệt được một đứa trẻ đang quơ một que kem với một người đang cầm vũ khí.\n"
     ]
    },
    {
     "name": "stderr",
     "output_type": "stream",
     "text": [
      "/home/ngo/anaconda3/lib/python3.12/site-packages/whisper/transcribe.py:126: UserWarning: FP16 is not supported on CPU; using FP32 instead\n",
      "  warnings.warn(\"FP16 is not supported on CPU; using FP32 instead\")\n"
     ]
    },
    {
     "name": "stdout",
     "output_type": "stream",
     "text": [
      "- (356/500)Process file: ./data/database_sa1_Jan08_Mar19_cleaned_utt_0000000706-1\n",
      "- GroundTruth: và chúng ta sẽ thấy đảng này điều chỉnh những thách thức dài hạn của họ\n",
      "- Predicted: và chúng ta sẽ thấy đảng này điều chỉnh những thách thức dài hạn của họ.\n"
     ]
    },
    {
     "name": "stderr",
     "output_type": "stream",
     "text": [
      "/home/ngo/anaconda3/lib/python3.12/site-packages/whisper/transcribe.py:126: UserWarning: FP16 is not supported on CPU; using FP32 instead\n",
      "  warnings.warn(\"FP16 is not supported on CPU; using FP32 instead\")\n"
     ]
    },
    {
     "name": "stdout",
     "output_type": "stream",
     "text": [
      "- (357/500)Process file: ./data/database_sa1_Jan08_Mar19_cleaned_utt_0000011696-1\n",
      "- GroundTruth: hơi phân tâm trong lúc giáo sư trả lời có thể là dạ nếu mà nghe hổng rõ hay hổng\n",
      "- Predicted: hơi phân tâm trong lúc giáo sư trả lời nếu mà nghe không rõ hay không\n"
     ]
    },
    {
     "name": "stderr",
     "output_type": "stream",
     "text": [
      "/home/ngo/anaconda3/lib/python3.12/site-packages/whisper/transcribe.py:126: UserWarning: FP16 is not supported on CPU; using FP32 instead\n",
      "  warnings.warn(\"FP16 is not supported on CPU; using FP32 instead\")\n"
     ]
    },
    {
     "name": "stdout",
     "output_type": "stream",
     "text": [
      "- (358/500)Process file: ./data/database_sa1_Jan08_Mar19_cleaned_utt_0000002192-1\n",
      "- GroundTruth: một trong những chủ trương của tổng thống putin khi tranh cử là chống mỹ sau đó ông không từ bỏ chủ trương này mà còn làm\n",
      "- Predicted: một trong những chủ trương của tổng thống putin khi tranh cử là chống mỹ. sau đó ông không từ bỏ chủ trương này mà còn làm mạng.\n"
     ]
    },
    {
     "name": "stderr",
     "output_type": "stream",
     "text": [
      "/home/ngo/anaconda3/lib/python3.12/site-packages/whisper/transcribe.py:126: UserWarning: FP16 is not supported on CPU; using FP32 instead\n",
      "  warnings.warn(\"FP16 is not supported on CPU; using FP32 instead\")\n"
     ]
    },
    {
     "name": "stdout",
     "output_type": "stream",
     "text": [
      "- (359/500)Process file: ./data/database_sa1_Jan08_Mar19_cleaned_utt_0000005584-1\n",
      "- GroundTruth: tôi không lận đổ thì tất nhiên sẽ lãi đó cũng như những cái cái cái gốc cây mà ví dụ như ở gần suối nó pồ màu những đồ chẳng hạn như đó thì nó vừa rồi nó có tính nghệ thuật rất cô mà nó đẹp nó không ảnh hưởng\n",
      "- Predicted: không được đồ thì tất nhiên là sở lễ đó. có những cái gốc cai mà ví dụ như ở gần chỗ suối như thế nào nó bồ màu như thế nào, chẳng hạn như thế thì nó có tính nghệ thuật nó co mà nó đẹp, nó không ảnh hưởng.\n"
     ]
    },
    {
     "name": "stderr",
     "output_type": "stream",
     "text": [
      "/home/ngo/anaconda3/lib/python3.12/site-packages/whisper/transcribe.py:126: UserWarning: FP16 is not supported on CPU; using FP32 instead\n",
      "  warnings.warn(\"FP16 is not supported on CPU; using FP32 instead\")\n"
     ]
    },
    {
     "name": "stdout",
     "output_type": "stream",
     "text": [
      "- (360/500)Process file: ./data/database_sa1_Jan08_Mar19_cleaned_utt_0000007909-1\n",
      "- GroundTruth: tổng thư ký ban kim mun phải vận dụng thẩm quyền đạo đức của liên hiệp quốc để yêu cầu hà nội phải cấp bách giải quyết các vi phạm nhân quyền nghiêm trọng\n",
      "- Predicted: tổng thư ký bang kim mung phải vận dụng thấm quyền đạo đức của liên hiệp quốc để yêu cầu hà nội phải cấp bách giải quyết các vi phạm nhân quyền nghiêm trọng.\n"
     ]
    },
    {
     "name": "stderr",
     "output_type": "stream",
     "text": [
      "/home/ngo/anaconda3/lib/python3.12/site-packages/whisper/transcribe.py:126: UserWarning: FP16 is not supported on CPU; using FP32 instead\n",
      "  warnings.warn(\"FP16 is not supported on CPU; using FP32 instead\")\n"
     ]
    },
    {
     "name": "stdout",
     "output_type": "stream",
     "text": [
      "- (361/500)Process file: ./data/database_sa1_Jan08_Mar19_cleaned_utt_0000007183-1\n",
      "- GroundTruth: tôi luôn cảm thấy như tôi là người u cờ rai na nếu tôi trở lại đó đúng hai ngày là tôi gần như cảm thấy chưa bao giờ ra đi cả và khi tôi từ u cờ rai na về lại sân bay đa lát\n",
      "- Predicted: tôi luôn cảm thấy như tôi là người ukraine. nếu tôi trở lại đó, đúng hai ngày là tôi gần như cảm thấy chưa bao giờ ra đi cả. và khi tôi từ ukraine về lại sân bay dallas, tôi đã không thể trở lại.\n"
     ]
    },
    {
     "name": "stderr",
     "output_type": "stream",
     "text": [
      "/home/ngo/anaconda3/lib/python3.12/site-packages/whisper/transcribe.py:126: UserWarning: FP16 is not supported on CPU; using FP32 instead\n",
      "  warnings.warn(\"FP16 is not supported on CPU; using FP32 instead\")\n"
     ]
    },
    {
     "name": "stdout",
     "output_type": "stream",
     "text": [
      "- (362/500)Process file: ./data/database_sa1_Jan08_Mar19_cleaned_utt_0000010642-1\n",
      "- GroundTruth: các bạn có cơ hội được mời ở lại nhưng mà tuy nhiên đi du học không có nghĩa là đi định cư dạ nếu các bạn nghĩ rằng đi du học để làm cái nhịp cầu định cư thì cái đó là một cái quan niệm sai lầm dạ nhiều khi tiền mất tật mang <unk>\n",
      "- Predicted: các bạn có cơ hội được mời ở lại nhưng mà tuy nhiên đi du học không có nghĩa là đi định cư nếu các bạn nghĩ rằng đi du học để làm cái nhịp cầu định cư thì cái đó là một cái quan điểm sai lầm nhiều khi tiền mất tật mang\n"
     ]
    },
    {
     "name": "stderr",
     "output_type": "stream",
     "text": [
      "/home/ngo/anaconda3/lib/python3.12/site-packages/whisper/transcribe.py:126: UserWarning: FP16 is not supported on CPU; using FP32 instead\n",
      "  warnings.warn(\"FP16 is not supported on CPU; using FP32 instead\")\n"
     ]
    },
    {
     "name": "stdout",
     "output_type": "stream",
     "text": [
      "- (363/500)Process file: ./data/database_sa1_Jan08_Mar19_cleaned_utt_0000010255-1\n",
      "- GroundTruth: dạ vâng thưa bác sĩ như vậy thì xin hỏi cái độ nhẹ và cái độ cao bác sĩ nói độ nhẹ thì không sao nhưng mà độ cao thì phải à coi chừng là vì nó có những cái tác hại rất là nguy hiểm có thể có những biến chứng nguy hại khác nữa cái độ đó nhẹ như thế nào là nhẹ và như thế nào là cao và để đo được cái độ à thủy ngân nhẹ với lại cái độ thủy ngân cao trong cơ thể có đo bằng các dụng cụ gì\n",
      "- Predicted: dạ vâng, thưa bác sĩ như vậy thì xin hỏi cái độ nhẹ và cái độ cao. bác sĩ nói độ nhẹ thì không sao nhưng mà độ cao thì phải coi chừng là vì nó có những cái tác hại rất là nguy hiểm, có thể có những cái biến chứng nguy hại khác nữa. cái độ đó như thế nào là nhẹ và như thế nào là cao và để đo được cái độ thủy ngân nhẹ với lại cái độ thủy ngân cao trong cơ thể, đo bằng cái dụng cụ gì?\n"
     ]
    },
    {
     "name": "stderr",
     "output_type": "stream",
     "text": [
      "/home/ngo/anaconda3/lib/python3.12/site-packages/whisper/transcribe.py:126: UserWarning: FP16 is not supported on CPU; using FP32 instead\n",
      "  warnings.warn(\"FP16 is not supported on CPU; using FP32 instead\")\n"
     ]
    },
    {
     "name": "stdout",
     "output_type": "stream",
     "text": [
      "- (364/500)Process file: ./data/database_sa1_Jan08_Mar19_cleaned_utt_0000009273-1\n",
      "- GroundTruth: thì cái con số mà quý vị phải nhân ý là cấp năm có nghĩa là ví dụ mà quý vị là hai vợ chồng cộng thêm một người nữa lại càng phải ít nhất là cỡ hai mươi lăm hai mươi sáu ngàn\n",
      "- Predicted: thì con số mà quý vị phải nhân là gấp 5 có nghĩa là ví dụ là 2 người vợ chồng cộng theo 1 người nữa là cầm với ít nhất là cỡ 25-26 ngàn\n"
     ]
    },
    {
     "name": "stderr",
     "output_type": "stream",
     "text": [
      "/home/ngo/anaconda3/lib/python3.12/site-packages/whisper/transcribe.py:126: UserWarning: FP16 is not supported on CPU; using FP32 instead\n",
      "  warnings.warn(\"FP16 is not supported on CPU; using FP32 instead\")\n"
     ]
    },
    {
     "name": "stdout",
     "output_type": "stream",
     "text": [
      "- (365/500)Process file: ./data/database_sa1_Jan08_Mar19_cleaned_utt_0000009666-1\n",
      "- GroundTruth: nhân quyền căn bản cái chuyện mà cần phải thay đổi là điều dĩ nhiên chính họ mới là cái nguồn gốc chính họ mới là vấn đề của đất nước việt nam ngày hôm nay phải thay đổi\n",
      "- Predicted: nhân quyền căn bản, cái chuyện mà cần phải thay đổi là điều dĩ nhiên. chính họ mới là cái nguồn gốc, chính họ mới là vấn đề của đất nước việt nam ngày hôm nay, phải thay đổi.\n"
     ]
    },
    {
     "name": "stderr",
     "output_type": "stream",
     "text": [
      "/home/ngo/anaconda3/lib/python3.12/site-packages/whisper/transcribe.py:126: UserWarning: FP16 is not supported on CPU; using FP32 instead\n",
      "  warnings.warn(\"FP16 is not supported on CPU; using FP32 instead\")\n"
     ]
    },
    {
     "name": "stdout",
     "output_type": "stream",
     "text": [
      "- (366/500)Process file: ./data/database_sa1_Jan08_Mar19_cleaned_utt_0000008413-1\n",
      "- GroundTruth: nhưng mà cái quan trọng là phải làm hết giấy tờ với bên trung tâm thì thực trung tâm thì thực họ nói họ nhận hết giấy tờ rồi họ sẽ gởi hồ sơ về tới lãnh sự tới lúc đó mình mới biết cơ mình có đoán được cái thời gian phỏng vấn là bao lâu\n",
      "- Predicted: nhưng mà cái quan trọng là phải làm hết giấy tờ với bên trung tâm thi thực. trung tâm thi thực họ nói họ nhận hết giấy tờ rồi. họ sẽ gửi hồ sơ về tới lãnh sự. tới lúc đó mình mới biết, mình cứ đoán được cái thời gian phỏng vấn là bao lâu.\n"
     ]
    },
    {
     "name": "stderr",
     "output_type": "stream",
     "text": [
      "/home/ngo/anaconda3/lib/python3.12/site-packages/whisper/transcribe.py:126: UserWarning: FP16 is not supported on CPU; using FP32 instead\n",
      "  warnings.warn(\"FP16 is not supported on CPU; using FP32 instead\")\n"
     ]
    },
    {
     "name": "stdout",
     "output_type": "stream",
     "text": [
      "- (367/500)Process file: ./data/database_sa1_Jan08_Mar19_cleaned_utt_0000003372-1\n",
      "- GroundTruth: tại mốt câu một số người bày tỏ sự ủng hộ đối với cổ động viên nga sinh viên người nga này nói đó là những người yêu nước họ đang bảo vệ danh dự của họ\n",
      "- Predicted: tại moscow, một số người bày tỏ sự ủng hộ đối với cổ động viên nga. sinh viên người nga này nói, đó là những người yêu nước, họ đang bảo vệ danh dự của họ.\n"
     ]
    },
    {
     "name": "stderr",
     "output_type": "stream",
     "text": [
      "/home/ngo/anaconda3/lib/python3.12/site-packages/whisper/transcribe.py:126: UserWarning: FP16 is not supported on CPU; using FP32 instead\n",
      "  warnings.warn(\"FP16 is not supported on CPU; using FP32 instead\")\n"
     ]
    },
    {
     "name": "stdout",
     "output_type": "stream",
     "text": [
      "- (368/500)Process file: ./data/database_sa1_Jan08_Mar19_cleaned_utt_0000002870-1\n",
      "- GroundTruth: chúng tôi có thể sẽ phải cắt giảm số lượng nhân viên của mình kể từ khi ngân sách bị đình trệ đã có hàng chục tổ chức phi lợi nhuận tại i li noi đã phải đóng cửa tăng hoạt động\n",
      "- Predicted: chúng tôi có thể sẽ phải cắt giảm số lượng nhân viên của mình. kể từ khi ngân sách bị đình trệ, đã có hàng chục tổ chức phi lợi nhuận tại illinois đã phải đóng cửa tăng hoạt động.\n"
     ]
    },
    {
     "name": "stderr",
     "output_type": "stream",
     "text": [
      "/home/ngo/anaconda3/lib/python3.12/site-packages/whisper/transcribe.py:126: UserWarning: FP16 is not supported on CPU; using FP32 instead\n",
      "  warnings.warn(\"FP16 is not supported on CPU; using FP32 instead\")\n"
     ]
    },
    {
     "name": "stdout",
     "output_type": "stream",
     "text": [
      "- (369/500)Process file: ./data/database_sa1_Jan08_Mar19_cleaned_utt_0000005308-1\n",
      "- GroundTruth: được chiếu lại vào lúc sáu giờ rưỡi chiều cùng ngày và bốn giờ sáng hôm sau phần tin tức thời sự lúc bảy giờ sáng được tiếp nối bằng chương trình dạy tiếng anh tin tức và các chương trình ra di ô vi đê ô của đài vi âu ây có trên trang nhà\n",
      "- Predicted: được chiếm lại vào lúc 6h30 chiều cùng ngày và 4h sáng hôm sau. phần tin tức thời sự lúc 7h sáng được tiếp nối bằng chương trình dạy tiếng anh. tin tức và các chương trình radio, video của đài voa có trên trang nhà.\n"
     ]
    },
    {
     "name": "stderr",
     "output_type": "stream",
     "text": [
      "/home/ngo/anaconda3/lib/python3.12/site-packages/whisper/transcribe.py:126: UserWarning: FP16 is not supported on CPU; using FP32 instead\n",
      "  warnings.warn(\"FP16 is not supported on CPU; using FP32 instead\")\n"
     ]
    },
    {
     "name": "stdout",
     "output_type": "stream",
     "text": [
      "- (370/500)Process file: ./data/database_sa1_Jan08_Mar19_cleaned_utt_0000001513-1\n",
      "- GroundTruth: người ta cũng có thể tự chiêm nghiệm về những điều đã diễn ra trong cuộc sống để cùng nhìn nhận lại và sống hiền hòa nhân ái hơn\n",
      "- Predicted: người ta cũng có thể tự chiêm nghiệm về những điều đã diễn ra trong cuộc sống để cùng nhìn nhận lại và sống hiền hòa, nhân ái hơn.\n"
     ]
    },
    {
     "name": "stderr",
     "output_type": "stream",
     "text": [
      "/home/ngo/anaconda3/lib/python3.12/site-packages/whisper/transcribe.py:126: UserWarning: FP16 is not supported on CPU; using FP32 instead\n",
      "  warnings.warn(\"FP16 is not supported on CPU; using FP32 instead\")\n"
     ]
    },
    {
     "name": "stdout",
     "output_type": "stream",
     "text": [
      "- (371/500)Process file: ./data/database_sa1_Jan08_Mar19_cleaned_utt_0000005018-1\n",
      "- GroundTruth: một thách thức khác mà tân tổng thống pháp phải đối mặt là cải cách thị trường nhân dụng giảm tỷ lệ thất nghiệp còn rất cao ở trong nước\n",
      "- Predicted: một thách thức khác mà tân tổng thống pháp phải đối mặt là cải cách thị trường nhân dụng, giảm tỷ lệ thất nghiệp còn rất cao ở trong nước.\n"
     ]
    },
    {
     "name": "stderr",
     "output_type": "stream",
     "text": [
      "/home/ngo/anaconda3/lib/python3.12/site-packages/whisper/transcribe.py:126: UserWarning: FP16 is not supported on CPU; using FP32 instead\n",
      "  warnings.warn(\"FP16 is not supported on CPU; using FP32 instead\")\n"
     ]
    },
    {
     "name": "stdout",
     "output_type": "stream",
     "text": [
      "- (372/500)Process file: ./data/database_sa1_Jan08_Mar19_cleaned_utt_0000005641-1\n",
      "- GroundTruth: khi lớn lên tôi nhận ra rằng chúng tôi không phải gia đình duy nhất đối mặt với vấn đề này có hàng ngàn gia đình gặp phải rắc rối tương tự phần lớn các trường hợp thậm chí còn tệ hơn khi mà chi phí chăm sóc cho người thân trở nên quá đắt đỏ\n",
      "- Predicted: khi lần lên tôi nhận ra rằng chúng tôi không phải gia đình duy nhất đối mặt với vấn đề này. có hàng ngàn gia đình gặp phải rắc rối tương tự. phần lớn các trường hợp thậm chí còn tệ hơn khi mà chi phí chăm sóc cho người thân trở nên quá đắt đỏ.\n"
     ]
    },
    {
     "name": "stderr",
     "output_type": "stream",
     "text": [
      "/home/ngo/anaconda3/lib/python3.12/site-packages/whisper/transcribe.py:126: UserWarning: FP16 is not supported on CPU; using FP32 instead\n",
      "  warnings.warn(\"FP16 is not supported on CPU; using FP32 instead\")\n"
     ]
    },
    {
     "name": "stdout",
     "output_type": "stream",
     "text": [
      "- (373/500)Process file: ./data/database_sa1_Jan08_Mar19_cleaned_utt_0000004202-1\n",
      "- GroundTruth: phi líp pin cẩn trọng trước tuyên bố của đại sứ trung quốc mã khắc khanh nói rằng bắc kinh sẵn sàng cùng hợp tác để thăm dò khai thác dầu khí ở biển đông\n",
      "- Predicted: philippines cẩn trọng trước tuyên bố của đại sứ trung quốc mã khắc khanh, nói rằng bắc kinh sẵn sàng cùng hợp tác để tham dò khai thác dầu khí ở biển đông.\n"
     ]
    },
    {
     "name": "stderr",
     "output_type": "stream",
     "text": [
      "/home/ngo/anaconda3/lib/python3.12/site-packages/whisper/transcribe.py:126: UserWarning: FP16 is not supported on CPU; using FP32 instead\n",
      "  warnings.warn(\"FP16 is not supported on CPU; using FP32 instead\")\n"
     ]
    },
    {
     "name": "stdout",
     "output_type": "stream",
     "text": [
      "- (374/500)Process file: ./data/database_sa1_Jan08_Mar19_cleaned_utt_0000003858-1\n",
      "- GroundTruth: về sự kiện mà nông dân này cho là xảy ra giống với mình năm năm trước ông phương nói rằng người dân xã đồng tâm theo lời ông không còn niềm tin và đã bị đẩy tới bước đường cùng ông nói thêm rằng nếu tình hình không có lối thoát thì rất là nguy hiểm và gây tác động xấu cho xã hội\n",
      "- Predicted: về sự kiện mà nông dân này cho là xảy ra giống với mình 5 năm trước, ông vừa nói rằng người dân xã đồng tâm, theo lời ông, không còn niềm tin và đã bị đẩy tới bước đường cùng. ông nói thêm rằng nếu tình hình không có lối thoát thì rất là nguy hiểm và gây tác động xấu cho xã hội.\n"
     ]
    },
    {
     "name": "stderr",
     "output_type": "stream",
     "text": [
      "/home/ngo/anaconda3/lib/python3.12/site-packages/whisper/transcribe.py:126: UserWarning: FP16 is not supported on CPU; using FP32 instead\n",
      "  warnings.warn(\"FP16 is not supported on CPU; using FP32 instead\")\n"
     ]
    },
    {
     "name": "stdout",
     "output_type": "stream",
     "text": [
      "- (375/500)Process file: ./data/database_sa1_Jan08_Mar19_cleaned_utt_0000002700-1\n",
      "- GroundTruth: phải có một trình tự tố tụng\n",
      "- Predicted: phải có một tình tự tố tụng.\n"
     ]
    },
    {
     "name": "stderr",
     "output_type": "stream",
     "text": [
      "/home/ngo/anaconda3/lib/python3.12/site-packages/whisper/transcribe.py:126: UserWarning: FP16 is not supported on CPU; using FP32 instead\n",
      "  warnings.warn(\"FP16 is not supported on CPU; using FP32 instead\")\n"
     ]
    },
    {
     "name": "stdout",
     "output_type": "stream",
     "text": [
      "- (376/500)Process file: ./data/database_sa1_Jan08_Mar19_cleaned_utt_0000000623-1\n",
      "- GroundTruth: con đường sai dọc dải trường sơn để đưa vũ khí quân nhu và lực lượng vào miền nam một thờ nay là con đường lô nhô những mái nhà của người đồng bào thiểu số và những khu hàng quán những làng giải trí\n",
      "- Predicted: con đường sẽ dọc dạy trường sơn để đưa vũ khí, quân nhu và lực lượng vào miếng nam mục thở. nay là con đường lô nhô những mái nhà của người đồng bào thiệu số và những khu hàng quán, những làng giải trí.\n"
     ]
    },
    {
     "name": "stderr",
     "output_type": "stream",
     "text": [
      "/home/ngo/anaconda3/lib/python3.12/site-packages/whisper/transcribe.py:126: UserWarning: FP16 is not supported on CPU; using FP32 instead\n",
      "  warnings.warn(\"FP16 is not supported on CPU; using FP32 instead\")\n"
     ]
    },
    {
     "name": "stdout",
     "output_type": "stream",
     "text": [
      "- (377/500)Process file: ./data/database_sa1_Jan08_Mar19_cleaned_utt_0000001298-2\n",
      "- GroundTruth: tôi biết thì nếu các bạn muốn học về ngành quản trị kinh doanh thì có rất là nhiều đại học\n",
      "- Predicted: tôi biết thì nếu các bạn muốn học về ngành quản trị kinh doanh thì có rất nhiều đại học.\n"
     ]
    },
    {
     "name": "stderr",
     "output_type": "stream",
     "text": [
      "/home/ngo/anaconda3/lib/python3.12/site-packages/whisper/transcribe.py:126: UserWarning: FP16 is not supported on CPU; using FP32 instead\n",
      "  warnings.warn(\"FP16 is not supported on CPU; using FP32 instead\")\n"
     ]
    },
    {
     "name": "stdout",
     "output_type": "stream",
     "text": [
      "- (378/500)Process file: ./data/database_sa1_Jan08_Mar19_cleaned_utt_0000012654-1\n",
      "- GroundTruth: à và có các con tới giai đoạn thứ ba nữa là ví dụ tự nhiên mà cái cái ngành rô bốt là bên này tự nhiên đang cần một số lượng người cần làm gấp nhưng mà nước mỹ ở nước mỹ để họ không có tìm được cái số lượng người đó nên họ muốn đưa người nước ngoài vào thì trong ba cái trường hợp đó thì các công ty bên này có thể xin <unk>\n",
      "- Predicted: và có giai đoạn thứ 3 nữa là ví dụ tự nhiên mà cái ngành đó bên này tự nhiên đang cần một số lượng người cần làm gấp nhưng mà ở nước mỹ này họ không có tìm được số lượng người đó nên họ muốn đưa người nước ngoài vào. thì trong 3 trường hợp đó thì công ty bên này có thể xin...\n"
     ]
    },
    {
     "name": "stderr",
     "output_type": "stream",
     "text": [
      "/home/ngo/anaconda3/lib/python3.12/site-packages/whisper/transcribe.py:126: UserWarning: FP16 is not supported on CPU; using FP32 instead\n",
      "  warnings.warn(\"FP16 is not supported on CPU; using FP32 instead\")\n"
     ]
    },
    {
     "name": "stdout",
     "output_type": "stream",
     "text": [
      "- (379/500)Process file: ./data/database_sa1_Jan08_Mar19_cleaned_utt_0000009312-1\n",
      "- GroundTruth: còn riêng các trung tâm xi s ai s này nó là một cách trung tâm nghiên cứu nó có rất là nhiều chuyên gia trong từng lĩnh vực đang làm việc ở đó thì mình với cái nguyện vọng muốn tới tận trung tâm xi s ai s nghiên cứu và thực tập và học hỏi từ những chuyên gia đó nó có xuất học <unk>\n",
      "- Predicted: còn riêng cái trung tâm csis này nó là một cái trung tâm nghiên cứu, nó có rất là nhiều chuyên gia trong từng lĩnh vực đang làm việc ở đó. thì mình với cái nguyện vọng là muốn tới tận trung tâm csis nghiên cứu và thực tập và học hỏi từ những chuyên gia đó.\n"
     ]
    },
    {
     "name": "stderr",
     "output_type": "stream",
     "text": [
      "/home/ngo/anaconda3/lib/python3.12/site-packages/whisper/transcribe.py:126: UserWarning: FP16 is not supported on CPU; using FP32 instead\n",
      "  warnings.warn(\"FP16 is not supported on CPU; using FP32 instead\")\n"
     ]
    },
    {
     "name": "stdout",
     "output_type": "stream",
     "text": [
      "- (380/500)Process file: ./data/database_sa1_Jan08_Mar19_cleaned_utt_0000004323-1\n",
      "- GroundTruth: kể từ lúc chính quyền dẹp hai khu trại dưới gầm cầu ở ken sinh tơn số lượng người sốc thuốc tăng vọt\n",
      "- Predicted: kể từ lúc chính quyền dẹp hai khu trại dưới gầm cầu ở kensington, số lượng người sốt thuốc tăng vọt.\n"
     ]
    },
    {
     "name": "stderr",
     "output_type": "stream",
     "text": [
      "/home/ngo/anaconda3/lib/python3.12/site-packages/whisper/transcribe.py:126: UserWarning: FP16 is not supported on CPU; using FP32 instead\n",
      "  warnings.warn(\"FP16 is not supported on CPU; using FP32 instead\")\n"
     ]
    },
    {
     "name": "stdout",
     "output_type": "stream",
     "text": [
      "- (381/500)Process file: ./data/database_sa1_Jan08_Mar19_cleaned_utt_0000007809-1\n",
      "- GroundTruth: theo tiến sĩ trần toàn thắng phó giám đốc ban môi trường kinh doanh và cạnh tranh của ci em cho rằng mỹ cũng sẽ hưởng lợi nếu trở lại ti pi pi vì sẽ có môi trường đầu tư thuận lợi hơn\n",
      "- Predicted: theo tiến sĩ trần toàn thắng, phó giám đốc ban môi trường kinh doanh và cảnh tranh của cm cho rằng mỹ cũng sẽ hưởng lợi nếu trở lại tpp vì sẽ có môi trường đầu tư thuận lợi hơn.\n"
     ]
    },
    {
     "name": "stderr",
     "output_type": "stream",
     "text": [
      "/home/ngo/anaconda3/lib/python3.12/site-packages/whisper/transcribe.py:126: UserWarning: FP16 is not supported on CPU; using FP32 instead\n",
      "  warnings.warn(\"FP16 is not supported on CPU; using FP32 instead\")\n"
     ]
    },
    {
     "name": "stdout",
     "output_type": "stream",
     "text": [
      "- (382/500)Process file: ./data/database_sa1_Jan08_Mar19_cleaned_utt_0000009352-1\n",
      "- GroundTruth: năm tui học để ngủ đi ngay trên con đường phan đình phùng đi ngang qua nhà rẽ qua huệ hông qua\n",
      "- Predicted: năm tôi học để ngủ, đi hay trên con đường phan phùng, đi ngang qua nhà dẻ qua quệ.\n"
     ]
    },
    {
     "name": "stderr",
     "output_type": "stream",
     "text": [
      "/home/ngo/anaconda3/lib/python3.12/site-packages/whisper/transcribe.py:126: UserWarning: FP16 is not supported on CPU; using FP32 instead\n",
      "  warnings.warn(\"FP16 is not supported on CPU; using FP32 instead\")\n"
     ]
    },
    {
     "name": "stdout",
     "output_type": "stream",
     "text": [
      "- (383/500)Process file: ./data/database_sa1_Jan08_Mar19_cleaned_utt_0000009583-7\n",
      "- GroundTruth: <unk> đó mà không có mua mà chưa vào <unk>\n",
      "- Predicted: cái đó mà không có mua, mà chưa vào.\n"
     ]
    },
    {
     "name": "stderr",
     "output_type": "stream",
     "text": [
      "/home/ngo/anaconda3/lib/python3.12/site-packages/whisper/transcribe.py:126: UserWarning: FP16 is not supported on CPU; using FP32 instead\n",
      "  warnings.warn(\"FP16 is not supported on CPU; using FP32 instead\")\n"
     ]
    },
    {
     "name": "stdout",
     "output_type": "stream",
     "text": [
      "- (384/500)Process file: ./data/database_sa1_Jan08_Mar19_cleaned_utt_0000002602-1\n",
      "- GroundTruth: chuyến thăm của thủ tướng pháp trùng với thời điểm việt nam công bố dự thảo nghị định áp dụng luật an ninh mạng thực thi bộ luật hà khắc này người dân việt nam có một tháng tính từ ngày mùng hai tháng mười một đến mùng hai tháng mười hai để góp ý về dự thảo nghị định hướng dẫn luật an ninh mạng mới được bộ công an công bố chính thức\n",
      "- Predicted: chuyên thăm của thủ tướng pháp chung với thời điểm việt nam công bố dự thảo, ghi định áp dụng luật an ninh mạng thực thi bộ luật hạ khắc này. người dân việt nam có một tháng, tính từ ngày 2 tháng 11 đến 2 tháng 12 để góp ý về dự thảo, ghi định, hướng dẫn luật an ninh mạng mới được bộ công an công bố chính thức.\n"
     ]
    },
    {
     "name": "stderr",
     "output_type": "stream",
     "text": [
      "/home/ngo/anaconda3/lib/python3.12/site-packages/whisper/transcribe.py:126: UserWarning: FP16 is not supported on CPU; using FP32 instead\n",
      "  warnings.warn(\"FP16 is not supported on CPU; using FP32 instead\")\n"
     ]
    },
    {
     "name": "stdout",
     "output_type": "stream",
     "text": [
      "- (385/500)Process file: ./data/database_sa1_Jan08_Mar19_cleaned_utt_0000008045-1\n",
      "- GroundTruth: con tôi thì muốn xem khủng long nhưng tôi và vợ tôi thì phải đến đây rồi\n",
      "- Predicted: con tôi thì muốn xem khủng long, nhưng tôi và vợ tôi thì phải đến đây rồi.\n"
     ]
    },
    {
     "name": "stderr",
     "output_type": "stream",
     "text": [
      "/home/ngo/anaconda3/lib/python3.12/site-packages/whisper/transcribe.py:126: UserWarning: FP16 is not supported on CPU; using FP32 instead\n",
      "  warnings.warn(\"FP16 is not supported on CPU; using FP32 instead\")\n"
     ]
    },
    {
     "name": "stdout",
     "output_type": "stream",
     "text": [
      "- (386/500)Process file: ./data/database_sa1_Jan08_Mar19_cleaned_utt_0000005701-1\n",
      "- GroundTruth: hoa kỳ thống kê có năm mươi tám ngàn hai trăm tám mươi hai quân nhân mỹ tữ trận và hàng ngàn binh sĩ mỹ bị thương trong cuộc chiến việt nam hiện còn gần một ngàn ba trăm công dân mỹ mất tích chưa được tìm thấy ở việt nam\n",
      "- Predicted: hoa kỳ thống kê có 58.282 quân nhân mỹ tử trận và hàng ngàn binh sĩ mỹ bị thương trong cuộc chiến việt nam. hiện còn gần 1.300 quân nhân mỹ mất tích chưa được tìm thấy ở việt nam.\n"
     ]
    },
    {
     "name": "stderr",
     "output_type": "stream",
     "text": [
      "/home/ngo/anaconda3/lib/python3.12/site-packages/whisper/transcribe.py:126: UserWarning: FP16 is not supported on CPU; using FP32 instead\n",
      "  warnings.warn(\"FP16 is not supported on CPU; using FP32 instead\")\n"
     ]
    },
    {
     "name": "stdout",
     "output_type": "stream",
     "text": [
      "- (387/500)Process file: ./data/database_sa1_Jan08_Mar19_cleaned_utt_0000008071-1\n",
      "- GroundTruth: một số thứ tôi tự tạo ra cái bàn này thực sự là một trong những thứ tôi đã tự làm lấy đó là một thử nghiệm làm thử với các kỹ thuật khác nhau\n",
      "- Predicted: một số thứ tôi tự tạo ra, cái bàn này thực sự là một trong những thứ tôi đã tự làm lấy. đó là một thử nghiệm, làm thử với các kỹ thuật khác nhau.\n"
     ]
    },
    {
     "name": "stderr",
     "output_type": "stream",
     "text": [
      "/home/ngo/anaconda3/lib/python3.12/site-packages/whisper/transcribe.py:126: UserWarning: FP16 is not supported on CPU; using FP32 instead\n",
      "  warnings.warn(\"FP16 is not supported on CPU; using FP32 instead\")\n"
     ]
    },
    {
     "name": "stdout",
     "output_type": "stream",
     "text": [
      "- (388/500)Process file: ./data/database_sa1_Jan08_Mar19_cleaned_utt_0000010275-1\n",
      "- GroundTruth: ông không thực sự muốn đưa chính sách đối ngoại vào nghị trình thảo luận bởi vì đây sẽ là một vấn đề đặc biệt phức tạp mà ông sẽ rất khó xử lý\n",
      "- Predicted: ông không thật sự muốn đưa chính sách đối ngoại vào nghị trình thảo luận, bởi vì đây sẽ là một vấn đề đặc biệt phức tạp mà ông sẽ rất khó xử lý.\n"
     ]
    },
    {
     "name": "stderr",
     "output_type": "stream",
     "text": [
      "/home/ngo/anaconda3/lib/python3.12/site-packages/whisper/transcribe.py:126: UserWarning: FP16 is not supported on CPU; using FP32 instead\n",
      "  warnings.warn(\"FP16 is not supported on CPU; using FP32 instead\")\n"
     ]
    },
    {
     "name": "stdout",
     "output_type": "stream",
     "text": [
      "- (389/500)Process file: ./data/database_sa1_Jan08_Mar19_cleaned_utt_0000000240-1\n",
      "- GroundTruth: khoảng mười ngàn người nga ngày mười ba tháng năm biểu tình tại thủ đô phản đối chính phủ của tổng thống vờ la đi mia pu tin\n",
      "- Predicted: khoảng 10.000 người nga ngày 13 tháng 5 biểu tình tại thủ đô phản đối chính phủ của tổng thống vladimir putin.\n"
     ]
    },
    {
     "name": "stderr",
     "output_type": "stream",
     "text": [
      "/home/ngo/anaconda3/lib/python3.12/site-packages/whisper/transcribe.py:126: UserWarning: FP16 is not supported on CPU; using FP32 instead\n",
      "  warnings.warn(\"FP16 is not supported on CPU; using FP32 instead\")\n"
     ]
    },
    {
     "name": "stdout",
     "output_type": "stream",
     "text": [
      "- (390/500)Process file: ./data/database_sa1_Jan08_Mar19_cleaned_utt_0000002631-1\n",
      "- GroundTruth: thì thực tế thì người dân ở ba xã kỳ long kỳ liên kỳ phương khi thấy người trung quốc <unk>\n",
      "- Predicted: khi thực tế, người dẫn bà xã đến khi lắng, khi liên, khi phương, thì thấy người trung quốc.\n"
     ]
    },
    {
     "name": "stderr",
     "output_type": "stream",
     "text": [
      "/home/ngo/anaconda3/lib/python3.12/site-packages/whisper/transcribe.py:126: UserWarning: FP16 is not supported on CPU; using FP32 instead\n",
      "  warnings.warn(\"FP16 is not supported on CPU; using FP32 instead\")\n"
     ]
    },
    {
     "name": "stdout",
     "output_type": "stream",
     "text": [
      "- (391/500)Process file: ./data/database_sa1_Jan08_Mar19_cleaned_utt_0000002847-2\n",
      "- GroundTruth: thứ nhất mỹ uyên cũng cho biết rằng là sau phiên xử thì coi là hết sức là bị sốc đối với bản án\n",
      "- Predicted: thứ nhất, viên cũng cho biết rằng là sao viên sợ tụi con là hết sức là bị sốc đối với bản án.\n"
     ]
    },
    {
     "name": "stderr",
     "output_type": "stream",
     "text": [
      "/home/ngo/anaconda3/lib/python3.12/site-packages/whisper/transcribe.py:126: UserWarning: FP16 is not supported on CPU; using FP32 instead\n",
      "  warnings.warn(\"FP16 is not supported on CPU; using FP32 instead\")\n"
     ]
    },
    {
     "name": "stdout",
     "output_type": "stream",
     "text": [
      "- (392/500)Process file: ./data/database_sa1_Jan08_Mar19_cleaned_utt_0000003029-1\n",
      "- GroundTruth: đô li một người cổ súy dự án xe đạp công cộng phản bác ý kiến cho rằng xe đạp điện không an toàn\n",
      "- Predicted: dolly, một người cổ suý dự án xe đạp công cộng, phản báo ý kiến cho rằng xe đạp điện không an toàn.\n"
     ]
    },
    {
     "name": "stderr",
     "output_type": "stream",
     "text": [
      "/home/ngo/anaconda3/lib/python3.12/site-packages/whisper/transcribe.py:126: UserWarning: FP16 is not supported on CPU; using FP32 instead\n",
      "  warnings.warn(\"FP16 is not supported on CPU; using FP32 instead\")\n"
     ]
    },
    {
     "name": "stdout",
     "output_type": "stream",
     "text": [
      "- (393/500)Process file: ./data/database_sa1_Jan08_Mar19_cleaned_utt_0000005333-1\n",
      "- GroundTruth: của cơ thể hoặc là do một vài loại thảo mộc bộ phận cơ thể chẳng hạn thí dụ như gan\n",
      "- Predicted: của cơ thể hoặc là do một hoài loại thảo mộc bổ phát của cơ thể chẳng hạn thế chủ như là gan\n"
     ]
    },
    {
     "name": "stderr",
     "output_type": "stream",
     "text": [
      "/home/ngo/anaconda3/lib/python3.12/site-packages/whisper/transcribe.py:126: UserWarning: FP16 is not supported on CPU; using FP32 instead\n",
      "  warnings.warn(\"FP16 is not supported on CPU; using FP32 instead\")\n"
     ]
    },
    {
     "name": "stdout",
     "output_type": "stream",
     "text": [
      "- (394/500)Process file: ./data/database_sa1_Jan08_Mar19_cleaned_utt_0000005452-1\n",
      "- GroundTruth: chúng tôi nhắm vào giới thượng lưu với loại máy bay này mẫu này chúng tôi cũng có các loại hình khác máy bay thăm dò dầu khí ngoài khơi máy bay tìm kiếm cứu hộ nhưng chiếc này là chiếc mẫu được thiết kế cho các thương gia có nội thất sang trọng\n",
      "- Predicted: chúng tôi nhắm vào giới thượng lưu với loại máy bay này, mẫu này. chúng tôi cũng có các loại hình khác máy bay thăm dò dầu khí ngoài khơi, máy bay tìm kiếm cứu hộ, nhưng chiếc này là chiếc mẫu được thiết kế cho các thương gia có nội thất sàng trọng.\n"
     ]
    },
    {
     "name": "stderr",
     "output_type": "stream",
     "text": [
      "/home/ngo/anaconda3/lib/python3.12/site-packages/whisper/transcribe.py:126: UserWarning: FP16 is not supported on CPU; using FP32 instead\n",
      "  warnings.warn(\"FP16 is not supported on CPU; using FP32 instead\")\n"
     ]
    },
    {
     "name": "stdout",
     "output_type": "stream",
     "text": [
      "- (395/500)Process file: ./data/database_sa1_Jan08_Mar19_cleaned_utt_0000007259-1\n",
      "- GroundTruth: nhưng mà trong thời gian vừa qua có rất nhiều người người ta nộp cái đơn nhất như vậy ờ họ bị sở di trú quay ngược lại và nói là cái này là bị đì lây bớt sờ tế vịch vịch có nghĩa là cái giấy khai sinh này bị khai chậm và sở di trú họ đòi hỏi rằng là cái người đứng ra bảo lãnh phải chứng minh thêm là những người này là đúng là con của họ ví dụ họ phải lấy à tài liệu của ờ cái bệnh viện mà lúc mà cháu được sinh ra\n",
      "- Predicted: nhưng mà trong thời gian vừa qua, có rất nhiều người người ta nộp cái đơn như vậy. họ bị sở di trú quay ngược lại là nói là cái này là bị delay birth certificate. có nghĩa là cái giấy khai sinh này bị khai chậm. và sở di trú họ đòi hỏi là cái người đứng ra bảo lệnh phải chứng minh thêm là những cái người này là đúng là con của họ. ví dụ, họ phải lấy tài liệu của cái bệnh viện mà lúc mà cháu được sinh ra.\n"
     ]
    },
    {
     "name": "stderr",
     "output_type": "stream",
     "text": [
      "/home/ngo/anaconda3/lib/python3.12/site-packages/whisper/transcribe.py:126: UserWarning: FP16 is not supported on CPU; using FP32 instead\n",
      "  warnings.warn(\"FP16 is not supported on CPU; using FP32 instead\")\n"
     ]
    },
    {
     "name": "stdout",
     "output_type": "stream",
     "text": [
      "- (396/500)Process file: ./data/database_sa1_Jan08_Mar19_cleaned_utt_0000007445-2\n",
      "- GroundTruth: <unk> những phân ngành nào tại vì những huấn luyện vào những phân cảnh đó nó khác hẳn thí dụ bây giờ mình muốn đi học tiếp lên tiến sĩ\n",
      "- Predicted: những phân ngành nào tại vì những cái huấn luyện vào những cái phân ngành đó nó khác hẳn ví dụ bây giờ mình muốn đi học tiếp lên tiến sĩ\n"
     ]
    },
    {
     "name": "stderr",
     "output_type": "stream",
     "text": [
      "/home/ngo/anaconda3/lib/python3.12/site-packages/whisper/transcribe.py:126: UserWarning: FP16 is not supported on CPU; using FP32 instead\n",
      "  warnings.warn(\"FP16 is not supported on CPU; using FP32 instead\")\n"
     ]
    },
    {
     "name": "stdout",
     "output_type": "stream",
     "text": [
      "- (397/500)Process file: ./data/database_sa1_Jan08_Mar19_cleaned_utt_0000001968-1\n",
      "- GroundTruth: và điều này vi phạm hiến pháp hoa kỳ đơn kiện được hơn một trăm chín mươi thượng nghị sĩ và dân biểu đảng dân chủ đệ nạp hôm mười bốn tháng sáu\n",
      "- Predicted: và điều này vi phạm hiến pháp hoa kỳ. đơn kiện được hơn 190 thượng nghị sĩ và dân biểu đảng dân chủ đệ nạp hôm 14 tháng 6.\n"
     ]
    },
    {
     "name": "stderr",
     "output_type": "stream",
     "text": [
      "/home/ngo/anaconda3/lib/python3.12/site-packages/whisper/transcribe.py:126: UserWarning: FP16 is not supported on CPU; using FP32 instead\n",
      "  warnings.warn(\"FP16 is not supported on CPU; using FP32 instead\")\n"
     ]
    },
    {
     "name": "stdout",
     "output_type": "stream",
     "text": [
      "- (398/500)Process file: ./data/database_sa1_Jan08_Mar19_cleaned_utt_0000012361-1\n",
      "- GroundTruth: bắt đầu từ ngã tư đường ết và đường số bẩy phố tàu đi si kéo dài đến hết ngã tư giao cắt với đường số năm đây là khu vực được coi thuộc diện đông đúc nhộn nhịp nhất của oa sinh tơn đi si với một ga tàu điện ngầm rất thuận tiện cho việc đi lại tất nhiên đến với phố tàu thì chuyện ăn uống thường được quan tâm hàng đầu và hương vị châu á đã có thể bắt gặp ngay từ khi mới đặt chân tới đây hơn thế những quán ăn nhỏ nhắn nơi mà người ta có thể ngồi ăn ngay trên vỉa hè theo đúng thói quen sinh hoạt tại trung quốc cũng như phần lớn các nước châu á thực sự khiến nhiều người thích thú\n",
      "- Predicted: bắt đầu từ ngã tư đường s và đường số 7, phố tàu dc kéo dài đến hết ngã tư giao cắt với đường số 5. đây là khu vực được coi thuộc diện đông đúc nhộn nhịp nhất của washington dc với một ga tàu điện ngầm rất thuận tiện cho việc đi lại. tất nhiên, đến với phố tàu thì chuyện ăn uống thường được quan tâm hàng đầu, và hương vị châu á đã có thể bắt gặp ngay từ khi mới đặt chân tới đây. hơn thế, những quán ăn nhỏ nhắn, nơi mà người ta có thể ngồi ăn ngay trên vỉa hè theo đúng thói quen sinh hoạt tại trung quốc, cũng như phần lớn các nước châu á, thực sự khiến nhiều người thích thú.\n"
     ]
    },
    {
     "name": "stderr",
     "output_type": "stream",
     "text": [
      "/home/ngo/anaconda3/lib/python3.12/site-packages/whisper/transcribe.py:126: UserWarning: FP16 is not supported on CPU; using FP32 instead\n",
      "  warnings.warn(\"FP16 is not supported on CPU; using FP32 instead\")\n"
     ]
    },
    {
     "name": "stdout",
     "output_type": "stream",
     "text": [
      "- (399/500)Process file: ./data/database_sa1_Jan08_Mar19_cleaned_utt_0000002279-1\n",
      "- GroundTruth: tổng thống bút ông ấy là một người có khẩu vị khá phổ thông ông không đặc biệt thích một món nào nhưng thứ duy nhất ông ấy ghét đó là súp lơ xanh vậy nên chúng tôi phải đảm bảo rằng không có cây súp lơ nào trong bữa ăn của ông\n",
      "- Predicted: tổng thống bush, ông ấy là một người có khẩu vị khá phổ thông. ông không đặc biệt thích một món nào. nhưng thứ duy nhất ông ấy ghét đó là súp lơ xanh. vậy nên chúng tôi phải đảm bảo rằng không có cây súp lơ nào trong bữa ăn của ông.\n"
     ]
    },
    {
     "name": "stderr",
     "output_type": "stream",
     "text": [
      "/home/ngo/anaconda3/lib/python3.12/site-packages/whisper/transcribe.py:126: UserWarning: FP16 is not supported on CPU; using FP32 instead\n",
      "  warnings.warn(\"FP16 is not supported on CPU; using FP32 instead\")\n"
     ]
    },
    {
     "name": "stdout",
     "output_type": "stream",
     "text": [
      "- (400/500)Process file: ./data/database_sa1_Jan08_Mar19_cleaned_utt_0000008451-1\n",
      "- GroundTruth: anh em rất là đoàn kết mỗi thứ năm á nó có cho anh em đi ờ nó gọi là đi ra chùa nhưng mà thực ra thì anh em tới đó\n",
      "- Predicted: anh em rất là đoàn kết, mỗi thứ năm nó có cho anh em đi, nó gọi là đi ra chùa nhưng mà thật ra thì anh em tới đó.\n"
     ]
    },
    {
     "name": "stderr",
     "output_type": "stream",
     "text": [
      "/home/ngo/anaconda3/lib/python3.12/site-packages/whisper/transcribe.py:126: UserWarning: FP16 is not supported on CPU; using FP32 instead\n",
      "  warnings.warn(\"FP16 is not supported on CPU; using FP32 instead\")\n"
     ]
    },
    {
     "name": "stdout",
     "output_type": "stream",
     "text": [
      "- (401/500)Process file: ./data/database_sa1_Jan08_Mar19_cleaned_utt_0000011785-1\n",
      "- GroundTruth: để cho sinh viên họ đi học cái trường mình thì họ dùng cái là\n",
      "- Predicted: để cho sinh viên họ đi học cái trường mình thì họ dùng cái là\n"
     ]
    },
    {
     "name": "stderr",
     "output_type": "stream",
     "text": [
      "/home/ngo/anaconda3/lib/python3.12/site-packages/whisper/transcribe.py:126: UserWarning: FP16 is not supported on CPU; using FP32 instead\n",
      "  warnings.warn(\"FP16 is not supported on CPU; using FP32 instead\")\n"
     ]
    },
    {
     "name": "stdout",
     "output_type": "stream",
     "text": [
      "- (402/500)Process file: ./data/database_sa1_Jan08_Mar19_cleaned_utt_0000007573-1\n",
      "- GroundTruth: có phê nôn ở trong một trăm bao nhiêu mẫu trên nghìn mẫu đấy\n",
      "- Predicted: có phenol ở trong một trang bao nhiêu mẫu trên nghìn mẫu đấy.\n"
     ]
    },
    {
     "name": "stderr",
     "output_type": "stream",
     "text": [
      "/home/ngo/anaconda3/lib/python3.12/site-packages/whisper/transcribe.py:126: UserWarning: FP16 is not supported on CPU; using FP32 instead\n",
      "  warnings.warn(\"FP16 is not supported on CPU; using FP32 instead\")\n"
     ]
    },
    {
     "name": "stdout",
     "output_type": "stream",
     "text": [
      "- (403/500)Process file: ./data/database_sa1_Jan08_Mar19_cleaned_utt_0000007835-1\n",
      "- GroundTruth: họ là những nạn nhân bị ức hiếp bắt bớ tùy tiện tra tấn và giam cầm các vi phạm nhân quyền này là một phần trong chiến dịch đàn áp tôn giáo của việt nam\n",
      "- Predicted: họ là những lạng nhân bị ức hiếp, bắt bớ tùy tiện, tra tấn và giam cầm. các vi phạm nhân quyền này là một phần trong chiến dịch đàn áp tôn giáo của việt nam.\n"
     ]
    },
    {
     "name": "stderr",
     "output_type": "stream",
     "text": [
      "/home/ngo/anaconda3/lib/python3.12/site-packages/whisper/transcribe.py:126: UserWarning: FP16 is not supported on CPU; using FP32 instead\n",
      "  warnings.warn(\"FP16 is not supported on CPU; using FP32 instead\")\n"
     ]
    },
    {
     "name": "stdout",
     "output_type": "stream",
     "text": [
      "- (404/500)Process file: ./data/database_sa1_Jan08_Mar19_cleaned_utt_0000002337-1\n",
      "- GroundTruth: báo tuổi trẻ dẫn các nguồn tin không nêu danh nói giới hữu trách hàng hải việt nam đang theo dõi sát vụ việc sự việc diễn ra vài tuần trước chuyến thăm đầu tiên của tổng bí thư đảng cộng sản việt nam tại mỹ trọng tâm chuyến công du của ông nguyễn phú trọng nhằm thúc đẩy hà nội và goa sinh tơn xích lại gần nhau trong mối quan hệ mà bắc kinh hết sức đề phòng giàn khoan chín tám một tái xuất hiện giữa các mối quan ngại gia tăng trước việc trung quốc đang gia tốc các hoạt động xây dựng ở biển đông mà cả hai nước việt mỹ đều phản đối theo nhận định của phân tích dài lê hồng hiệp thuộc viện nghiên cứu đông nam á ở sinh ga po được roai tơ trích dẫn thì hà nội lần này sẽ không phản đối mạnh như năm ngoái nếu bắc kinh nói giàn khoan chín tám một nằm bên trong vùng đặc quyền kinh tế tính từ đảo hải nam chứ không ở vị trí tranh chấp nóng như ở hoàng sa hồi năm ngoái\n",
      "- Predicted: báo tuổi trẻ dẫn các nguồn tin không nêu danh nói giới hữu trách hàng hải việt nam đang theo dõi sát vụ việc. sự việc diễn ra vài tuần trước chuyến thăm đầu tiên của tổng bí thư đảng cộng sản việt nam tới mỹ. trọng tâm chuyến công dư của ông nguyễn phú trọng nhằm thúc đẩy hà nội và washington xích lại gần nhau trong mối quan hệ mà bắc kinh hết sức đề phòng. giàn khoan 981 tái xuất hiện giữa các mối quan ngại gia tăng trước việc trung quốc đang gia tốc các hoạt động xây dựng ở biển đông mà cả hai nước việt-mỹ đều phản đối. theo nhận định của phân tích gia lê hồng hiệp thuộc viện nghiên cứu đông nam á ở singapore được reuters trích dẫn, thì hà nội lần này sẽ không phản đối mạnh như năm ngoái nếu bắc kinh nói giàn khoan 981 nằm bên trong vùng đặc quyền kinh tế tính từ đảo hải nam, chứ không ở vị trí tranh chấp nóng như ở hoàng sa hồi năm ngoái.\n"
     ]
    },
    {
     "name": "stderr",
     "output_type": "stream",
     "text": [
      "/home/ngo/anaconda3/lib/python3.12/site-packages/whisper/transcribe.py:126: UserWarning: FP16 is not supported on CPU; using FP32 instead\n",
      "  warnings.warn(\"FP16 is not supported on CPU; using FP32 instead\")\n"
     ]
    },
    {
     "name": "stdout",
     "output_type": "stream",
     "text": [
      "- (405/500)Process file: ./data/database_sa1_Jan08_Mar19_cleaned_utt_0000011018-1\n",
      "- GroundTruth: đã có một số sản phẩm năm gờ trên thị trường nhưng các nhà mạng vẫn chưa bắt kịp tiến độ các chuyên gia cho biết khi cuộc sống nhà cửa và xe cộ của chúng ta ngày càng có nhiều kết nối chúng ta sẽ cần tất cả những băng thông mới đó một vài thành phố ở mỹ có gói di động năm gờ nhưng các dịch vụ mới sẽ thực sự được triển khai vào cuối năm sau hoặc thậm chí đến năm hai ngàn hai mươi\n",
      "- Predicted: đã có một số sản phẩm 5g trên thị trường nhưng các nhà mạng vẫn chưa bắt kịp tiến độ các chuyên gia cho biết khi cuộc sống, nhà cửa và xe cộng của chúng ta ngày càng có nhiều kết nối chúng ta sẽ cần tất cả những băng thông mới đó một vài thành phố ở mỹ có gói di động 5g nhưng các dịch vụ mới sẽ thực sự được triển khai vào cuối năm sau hoặc thậm chí đến năm 2020\n"
     ]
    },
    {
     "name": "stderr",
     "output_type": "stream",
     "text": [
      "/home/ngo/anaconda3/lib/python3.12/site-packages/whisper/transcribe.py:126: UserWarning: FP16 is not supported on CPU; using FP32 instead\n",
      "  warnings.warn(\"FP16 is not supported on CPU; using FP32 instead\")\n"
     ]
    },
    {
     "name": "stdout",
     "output_type": "stream",
     "text": [
      "- (406/500)Process file: ./data/database_sa1_Jan08_Mar19_cleaned_utt_0000001806-1\n",
      "- GroundTruth: bong bóng cá được sử dụng làm thuốc kích dục ở trung quốc những ngư dân đánh bắt cá rô ở u gan da cho biết họ đang bị bóc lột trong khi những người khác hưởng lợi thông tấn viên đài vi âu ây có thêm chi tiết mời quý vị theo dỏi\n",
      "- Predicted: bông bóng cá được sử dụng làm thuốc kích dục ở trung quốc. những người dân đánh bắt cá rô ở uganda cho biết họ đang bị bốc lột trong khi những người khác hưởng lợi. thông tin viên đài vua có thêm chi tiết. mời quý vị theo dõi.\n"
     ]
    },
    {
     "name": "stderr",
     "output_type": "stream",
     "text": [
      "/home/ngo/anaconda3/lib/python3.12/site-packages/whisper/transcribe.py:126: UserWarning: FP16 is not supported on CPU; using FP32 instead\n",
      "  warnings.warn(\"FP16 is not supported on CPU; using FP32 instead\")\n"
     ]
    },
    {
     "name": "stdout",
     "output_type": "stream",
     "text": [
      "- (407/500)Process file: ./data/database_sa1_Jan08_Mar19_cleaned_utt_0000004190-1\n",
      "- GroundTruth: tài năng không còn kiểm soát nhịp tim nữa thì cả hai trường hợp đều đưa đến tử vong hết trộm đột quỵ bà may mắn nếu mà người bệnh\n",
      "- Predicted: tại vì nó không còn kiểm soát nhiệt tim nữa thì cả hai trường hợp đều đưa đến tử vong hết dạ trường hợp đột quỵ mà may mắn nếu mà người bình\n"
     ]
    },
    {
     "name": "stderr",
     "output_type": "stream",
     "text": [
      "/home/ngo/anaconda3/lib/python3.12/site-packages/whisper/transcribe.py:126: UserWarning: FP16 is not supported on CPU; using FP32 instead\n",
      "  warnings.warn(\"FP16 is not supported on CPU; using FP32 instead\")\n"
     ]
    },
    {
     "name": "stdout",
     "output_type": "stream",
     "text": [
      "- (408/500)Process file: ./data/database_sa1_Jan08_Mar19_cleaned_utt_0000003306-1\n",
      "- GroundTruth: đây là bản tin vi âu ây ích rét của đài tiếng nói hoa kỳ phát sóng trên truyền hình vệ tinh lúc mười hai giờ trưa ngày mười bốn tháng mười hai giờ việt nam hoài hương xin kính chào quý vị các cựu quan chức vi na lai có thể bị tuyên án tử hình phi đâm nao nói đã đến lúc chính phủ mỹ phải có một hướng tiếp cận nghiêm túc về vấn đề nhân quyền việt nam bắc triều tiên xử tử dượng của ông kim dong un đó là một số tin đáng chú ý sau đây là bản tin chi tiết\n",
      "- Predicted: đây là bản tin voa express của đài tiếng nói hoa kỳ phát sóng trên truyền hình vệ tinh lúc 12h trưa ngày 14 tháng 12 giờ việt nam. hoài hương xin kính chào quý vị. các kiểu quan chức tina lines có thể bị tuyên án tử hình. freedom now nói đã đến lúc chính phủ mỹ phải có một hướng tiếp cận nghiêm túc về vấn đề nhân tiền việt nam. bắc triều tiên từng tầng dựa của ông kim jong un. đó là một số tin đáng chú ý. sau đây là bản tin chi tiết.\n"
     ]
    },
    {
     "name": "stderr",
     "output_type": "stream",
     "text": [
      "/home/ngo/anaconda3/lib/python3.12/site-packages/whisper/transcribe.py:126: UserWarning: FP16 is not supported on CPU; using FP32 instead\n",
      "  warnings.warn(\"FP16 is not supported on CPU; using FP32 instead\")\n"
     ]
    },
    {
     "name": "stdout",
     "output_type": "stream",
     "text": [
      "- (409/500)Process file: ./data/database_sa1_Jan08_Mar19_cleaned_utt_0000010020-1\n",
      "- GroundTruth: na tô hoan nghênh việc quân đội u cờ roai na và quân nổi dậy được nga hậu thuẫn rút ra khỏi miền đông u cờ roai na theo lời tổng thư ký na tô gien tồn bớt phát biểu hôm ba mươi tháng mười và kêu gọi nga thực thi thỏa thuận hòa bình min\n",
      "- Predicted: nato hoan nghênh với quân đội ukraine và quân nổi dậy được nga hậu thuẫn rút ra khỏi miền đông ukraine theo lời tổng thư ký nato jens stoltenberg phát biểu hôm 30 tháng 10 và kêu gọi nga thực thi thỏa thuận hòa bình minsk\n"
     ]
    },
    {
     "name": "stderr",
     "output_type": "stream",
     "text": [
      "/home/ngo/anaconda3/lib/python3.12/site-packages/whisper/transcribe.py:126: UserWarning: FP16 is not supported on CPU; using FP32 instead\n",
      "  warnings.warn(\"FP16 is not supported on CPU; using FP32 instead\")\n"
     ]
    },
    {
     "name": "stdout",
     "output_type": "stream",
     "text": [
      "- (410/500)Process file: ./data/database_sa1_Jan08_Mar19_cleaned_utt_0000012494-2\n",
      "- GroundTruth: có những cái gì đó hay mình thấy được hay mình chia sẻ với bạn bè cũng có bề mặt trái nhưng mà ăn thua mình biết cách sử dụng thì sẽ tốt cho mình\n",
      "- Predicted: có những cái gì đó hay mình thấy được hay mình chia sẻ với bạn bè. cũng có bề mặt trái nhưng mà ăn thua mình biết cách sử dụng thì sẽ tốt cho mình.\n"
     ]
    },
    {
     "name": "stderr",
     "output_type": "stream",
     "text": [
      "/home/ngo/anaconda3/lib/python3.12/site-packages/whisper/transcribe.py:126: UserWarning: FP16 is not supported on CPU; using FP32 instead\n",
      "  warnings.warn(\"FP16 is not supported on CPU; using FP32 instead\")\n"
     ]
    },
    {
     "name": "stdout",
     "output_type": "stream",
     "text": [
      "- (411/500)Process file: ./data/database_sa1_Jan08_Mar19_cleaned_utt_0000009140-1\n",
      "- GroundTruth: phát biểu trên đài truyền hình thụy điển thủ tướng sờ te phừn lo phen nói vụ xe tải lao vào trung tâm thành phố có những dấu hiệu tương tự như một cuộc tấn công khủng bố\n",
      "- Predicted: phát biểu trên đài truyền hình thụy điển, thủ tướng stephen lovell nói vụ xe tải là vào trung tâm thành phố có những dấu hiệu tương tự như một cuộc tấn công cụm bố.\n"
     ]
    },
    {
     "name": "stderr",
     "output_type": "stream",
     "text": [
      "/home/ngo/anaconda3/lib/python3.12/site-packages/whisper/transcribe.py:126: UserWarning: FP16 is not supported on CPU; using FP32 instead\n",
      "  warnings.warn(\"FP16 is not supported on CPU; using FP32 instead\")\n"
     ]
    },
    {
     "name": "stdout",
     "output_type": "stream",
     "text": [
      "- (412/500)Process file: ./data/database_sa1_Jan08_Mar19_cleaned_utt_0000011922-1\n",
      "- GroundTruth: kho bảo quản sinh học đó một địa điểm khác ở oa sinh tơn là cơ sở lớn nhất trên thế giới\n",
      "- Predicted: kho bảo quản sinh học đó, một địa điểm khác ở washington, là cơ sở lớn nhất trên thế giới.\n"
     ]
    },
    {
     "name": "stderr",
     "output_type": "stream",
     "text": [
      "/home/ngo/anaconda3/lib/python3.12/site-packages/whisper/transcribe.py:126: UserWarning: FP16 is not supported on CPU; using FP32 instead\n",
      "  warnings.warn(\"FP16 is not supported on CPU; using FP32 instead\")\n"
     ]
    },
    {
     "name": "stdout",
     "output_type": "stream",
     "text": [
      "- (413/500)Process file: ./data/database_sa1_Jan08_Mar19_cleaned_utt_0000008554-1\n",
      "- GroundTruth: công bằng những phần đất đã lấy của dân rồi sau đó muốn xây gì thì xây\n",
      "- Predicted: công bằng những phần đất đã lấy của dân, rồi sau đó muốn xây gì thì xây.\n"
     ]
    },
    {
     "name": "stderr",
     "output_type": "stream",
     "text": [
      "/home/ngo/anaconda3/lib/python3.12/site-packages/whisper/transcribe.py:126: UserWarning: FP16 is not supported on CPU; using FP32 instead\n",
      "  warnings.warn(\"FP16 is not supported on CPU; using FP32 instead\")\n"
     ]
    },
    {
     "name": "stdout",
     "output_type": "stream",
     "text": [
      "- (414/500)Process file: ./data/database_sa1_Jan08_Mar19_cleaned_utt_0000009636-1\n",
      "- GroundTruth: tùy thuộc vào cách bạn vào cua bạn sẽ thấy có một chút thiếu lái hoặc một lượng nhỏ sự thừa lái đó là cách sắp xếp hoàn hảo nó vẫn cân bằng nhưng vẫn đủ mềm mại để cảm thấy thoải mái và không hề thấy quá thô ráp\n",
      "- Predicted: tuy thuộc vào cách bạn vào cua, bạn sẽ thấy có một chút thiếu lái hoặc một lượng nhỏ sự thừa lái. đó là cách sắp xếp hoàn hảo. nó vẫn cân bằng nhưng vẫn đủ mềm mại để cảm thấy thoải mái và không hề thấy quá thô giáp.\n"
     ]
    },
    {
     "name": "stderr",
     "output_type": "stream",
     "text": [
      "/home/ngo/anaconda3/lib/python3.12/site-packages/whisper/transcribe.py:126: UserWarning: FP16 is not supported on CPU; using FP32 instead\n",
      "  warnings.warn(\"FP16 is not supported on CPU; using FP32 instead\")\n"
     ]
    },
    {
     "name": "stdout",
     "output_type": "stream",
     "text": [
      "- (415/500)Process file: ./data/database_sa1_Jan08_Mar19_cleaned_utt_0000001980-1\n",
      "- GroundTruth: cuộc tập trận này diễn ra một tuần sau khi triều tiên tuyên bố họ đã thử nghiệm phi đạn đạn đạo liên lục địa tiên tiến nhất có khả năng vươn tới lục địa mỹ như một phần trong chương trình vũ khí mà nước này phát triển thách thức các chế tài và những lời lên án của quốc tế\n",
      "- Predicted: cuộc tập trận này diễn ra một tuần sau khi triều tiên tuyên bố họ đã thử nghiệm phi đạn đạn đạo lên lục địa tiên tiến nhất có khả năng vươn tới lục địa mỹ như một phần trong chương trình vũ khí mà nước này phát triển, thách thức các trí tài và những lời liên án của quốc tế.\n"
     ]
    },
    {
     "name": "stderr",
     "output_type": "stream",
     "text": [
      "/home/ngo/anaconda3/lib/python3.12/site-packages/whisper/transcribe.py:126: UserWarning: FP16 is not supported on CPU; using FP32 instead\n",
      "  warnings.warn(\"FP16 is not supported on CPU; using FP32 instead\")\n"
     ]
    },
    {
     "name": "stdout",
     "output_type": "stream",
     "text": [
      "- (416/500)Process file: ./data/database_sa1_Jan08_Mar19_cleaned_utt_0000011643-1\n",
      "- GroundTruth: đây là thịt gà thật nên được nuôi trong phòng thí nghiệm không phải trong trang trại và không phải là gà mà là một tập hợp các tế bào\n",
      "- Predicted: đây là thịt gà thật nhưng được nuôi trong phòng thí nghiệm, không phải trong trang trại và không phải là gà mà là một tập hợp các tế bào.\n"
     ]
    },
    {
     "name": "stderr",
     "output_type": "stream",
     "text": [
      "/home/ngo/anaconda3/lib/python3.12/site-packages/whisper/transcribe.py:126: UserWarning: FP16 is not supported on CPU; using FP32 instead\n",
      "  warnings.warn(\"FP16 is not supported on CPU; using FP32 instead\")\n"
     ]
    },
    {
     "name": "stdout",
     "output_type": "stream",
     "text": [
      "- (417/500)Process file: ./data/database_sa1_Jan08_Mar19_cleaned_utt_0000003578-1\n",
      "- GroundTruth: vua mua a mắc đệ ngũ thoái vị chỉ vài tuần sau khi ông nghỉ điều trị bệnh trong khi có tin đồn rằng ông đã cưới một nữ hoàng sắc đẹp trẻ tuổi người nga ông là quốc vương đầu tiên thoái vị tại quốc gia có đa số dân theo hồi giáo này kể từ khi ma lay si a giành được độc lập từ anh vào năm một nghìn chín trăm năm mươi bảy\n",
      "- Predicted: vua muhammad đệ ngũ thoái vị chỉ vài tuần sau khi ông nghỉ điều trị bệnh, trong khi có các tin nôn rằng ông đã cưới một nữ hoàng sắc đẹp trẻ tuổi người nga. ông là quốc vương đầu tiên thoái vị tại quốc gia có đa số dân theo hồi giáo này, kể từ khi malaysia giành được độc lập từ anh vào năm 1957.\n"
     ]
    },
    {
     "name": "stderr",
     "output_type": "stream",
     "text": [
      "/home/ngo/anaconda3/lib/python3.12/site-packages/whisper/transcribe.py:126: UserWarning: FP16 is not supported on CPU; using FP32 instead\n",
      "  warnings.warn(\"FP16 is not supported on CPU; using FP32 instead\")\n"
     ]
    },
    {
     "name": "stdout",
     "output_type": "stream",
     "text": [
      "- (418/500)Process file: ./data/database_sa1_Jan08_Mar19_cleaned_utt_0000010182-1\n",
      "- GroundTruth: những tình nguyện viên pi sờ gua như những người này ở thủ đô thi ra na ăn ba ni a sẽ giúp thực hiện chương trình này ở nhiều nước\n",
      "- Predicted: những tình nguyện viên peace corps như những người này ở thủ đô tirana ở albania sẽ giúp thực hiện chương trình này ở nhiều nước.\n"
     ]
    },
    {
     "name": "stderr",
     "output_type": "stream",
     "text": [
      "/home/ngo/anaconda3/lib/python3.12/site-packages/whisper/transcribe.py:126: UserWarning: FP16 is not supported on CPU; using FP32 instead\n",
      "  warnings.warn(\"FP16 is not supported on CPU; using FP32 instead\")\n"
     ]
    },
    {
     "name": "stdout",
     "output_type": "stream",
     "text": [
      "- (419/500)Process file: ./data/database_sa1_Jan08_Mar19_cleaned_utt_0000010459-2\n",
      "- GroundTruth: <unk> nốt se vừn trước các quan ngại về an toàn tập đoàn hàn quốc cũng yêu cầu các khách hàng ngưng sử dụng sản phẩm này ngay lập tức hãng này hôm mười một <unk>\n",
      "- Predicted: note 7 trước các quan ngại về an toàn. tạm đoàn hàn quốc cũng yêu cầu các khách hàng ngưng sử dụng sản phẩm này ngay lập tức. hãng này hôm 11 tháng\n"
     ]
    },
    {
     "name": "stderr",
     "output_type": "stream",
     "text": [
      "/home/ngo/anaconda3/lib/python3.12/site-packages/whisper/transcribe.py:126: UserWarning: FP16 is not supported on CPU; using FP32 instead\n",
      "  warnings.warn(\"FP16 is not supported on CPU; using FP32 instead\")\n"
     ]
    },
    {
     "name": "stdout",
     "output_type": "stream",
     "text": [
      "- (420/500)Process file: ./data/database_sa1_Jan08_Mar19_cleaned_utt_0000002726-1\n",
      "- GroundTruth: bà vô gồ nhận xét với ngày càng nhiều người việt nam lên mạng khả năng của chính phủ đảm bảo rằng công dân của mình chỉ tiếp cận điều gọi là thông tin đúng và sạch sẽ sẽ không thể kéo dài\n",
      "- Predicted: bà bogo nhận xét, với ngày càng nhiều người việt nam lên mạng, khả năng của chính phủ đảm bảo rằng công dân của mình chỉ tiếp cận điều gọi là thông tin đúng và sạch sẽ, sẽ không thể kéo dài.\n"
     ]
    },
    {
     "name": "stderr",
     "output_type": "stream",
     "text": [
      "/home/ngo/anaconda3/lib/python3.12/site-packages/whisper/transcribe.py:126: UserWarning: FP16 is not supported on CPU; using FP32 instead\n",
      "  warnings.warn(\"FP16 is not supported on CPU; using FP32 instead\")\n"
     ]
    },
    {
     "name": "stdout",
     "output_type": "stream",
     "text": [
      "- (421/500)Process file: ./data/database_sa1_Jan08_Mar19_cleaned_utt_0000009690-2\n",
      "- GroundTruth: những lãnh đạo sinh viên biểu tình nói họ đã tiến hành đối thoại với các quan chức chính quyền về khả năng tiến hành các cuộc đàm phán chính thức với tư tưởng từ chính vụ ke ri <unk>\n",
      "- Predicted: những lãnh đạo sinh viên biểu tình nói họ đã tiến hành đối thoại với các quan chức chính quyền về khả năng tiến hành các cuộc đàm phán chính thức với ti trưởng ti chính vụ carilla.\n"
     ]
    },
    {
     "name": "stderr",
     "output_type": "stream",
     "text": [
      "/home/ngo/anaconda3/lib/python3.12/site-packages/whisper/transcribe.py:126: UserWarning: FP16 is not supported on CPU; using FP32 instead\n",
      "  warnings.warn(\"FP16 is not supported on CPU; using FP32 instead\")\n"
     ]
    },
    {
     "name": "stdout",
     "output_type": "stream",
     "text": [
      "- (422/500)Process file: ./data/database_sa1_Jan08_Mar19_cleaned_utt_0000007738-1\n",
      "- GroundTruth: trong vài tuần qua tỷ lệ tham gia ủng hộ ông trăm đã tăng nhẹ tuy nhiên ông vẫn là một nhân vật gây chia rẽ nhà phân tích dăm pho ri ờ cho biết\n",
      "- Predicted: trong vài tuần qua, tỉ lệ thăm dò ủng hộ ông trump đã tăng nhẹ, tuy nhiên ông vẫn là một nhân vật gây chia rẽ, nhà phân tích john fordier cho biết.\n"
     ]
    },
    {
     "name": "stderr",
     "output_type": "stream",
     "text": [
      "/home/ngo/anaconda3/lib/python3.12/site-packages/whisper/transcribe.py:126: UserWarning: FP16 is not supported on CPU; using FP32 instead\n",
      "  warnings.warn(\"FP16 is not supported on CPU; using FP32 instead\")\n"
     ]
    },
    {
     "name": "stdout",
     "output_type": "stream",
     "text": [
      "- (423/500)Process file: ./data/database_sa1_Jan08_Mar19_cleaned_utt_0000010025-1\n",
      "- GroundTruth: thêm một cuộc biểu tình chống trung quốc tại hà nội bị trấn áp hàng chục người bị bắt bị đánh đập mạnh tay và bị thương tích\n",
      "- Predicted: thêm một cuộc biểu tình chống trung quốc tại hà nội bị trấn áp, hàng chục người bị bắt, bị đánh đập mạnh tay và bị thương tích.\n"
     ]
    },
    {
     "name": "stderr",
     "output_type": "stream",
     "text": [
      "/home/ngo/anaconda3/lib/python3.12/site-packages/whisper/transcribe.py:126: UserWarning: FP16 is not supported on CPU; using FP32 instead\n",
      "  warnings.warn(\"FP16 is not supported on CPU; using FP32 instead\")\n"
     ]
    },
    {
     "name": "stdout",
     "output_type": "stream",
     "text": [
      "- (424/500)Process file: ./data/database_sa1_Jan08_Mar19_cleaned_utt_0000000986-1\n",
      "- GroundTruth: ông ly đã nhập cảnh từ ma cao hôm mười chín tháng ba nhưng không tham dự được một cuộc họp ở trung quốc đại lục tổ chức ân xá quốc tế nói việc tạm giam ông ly khơi lên nỗi sợ\n",
      "- Predicted: ông li đã nhập cảnh từ macau hôm 19 tháng 3, nhưng không tham dự được một cuộc họp ở trung quốc đại lục. tổ chức ân sát quốc tế nói, việc tạm giam ông li khơi lên lo sợ.\n"
     ]
    },
    {
     "name": "stderr",
     "output_type": "stream",
     "text": [
      "/home/ngo/anaconda3/lib/python3.12/site-packages/whisper/transcribe.py:126: UserWarning: FP16 is not supported on CPU; using FP32 instead\n",
      "  warnings.warn(\"FP16 is not supported on CPU; using FP32 instead\")\n"
     ]
    },
    {
     "name": "stdout",
     "output_type": "stream",
     "text": [
      "- (425/500)Process file: ./data/database_sa1_Jan08_Mar19_cleaned_utt_0000009614-2\n",
      "- GroundTruth: <unk> sinh tơn khuyến cáo rằng chưa nên đặt quá nhiều kỳ vọng rằng ngoại trưởng ke ri sẽ có thể đạt được bất kỳ bước đột phá nào trong chuyến công du này\n",
      "- Predicted: washington khuyến kháo rằng chứa nên đặt quá nhiều kỳ vọng rằng ngoại trưởng kerry sẽ có thể đạt được bất kỳ bước đột phán nào trong chuyến công du này.\n"
     ]
    },
    {
     "name": "stderr",
     "output_type": "stream",
     "text": [
      "/home/ngo/anaconda3/lib/python3.12/site-packages/whisper/transcribe.py:126: UserWarning: FP16 is not supported on CPU; using FP32 instead\n",
      "  warnings.warn(\"FP16 is not supported on CPU; using FP32 instead\")\n"
     ]
    },
    {
     "name": "stdout",
     "output_type": "stream",
     "text": [
      "- (426/500)Process file: ./data/database_sa1_Jan08_Mar19_cleaned_utt_0000012450-1\n",
      "- GroundTruth: chúng tôi bay gần mặt trời hơn bao giờ hết và chúng tôi sẽ chụp những hình ảnh và ghi lại rất nhiều dữ liệu thú vị về mặt trời cũng như gió mặt trời khi chúng phát ra từ mặt trời\n",
      "- Predicted: chúng tôi bay gần mặt trời hơn bao giờ hết, và chúng tôi sẽ chụp những hình ảnh và ghi lại rất nhiều dữ liệu thú vị về mặt trời, cũng như gió mặt trời khi chúng phát ra từ mặt trời.\n"
     ]
    },
    {
     "name": "stderr",
     "output_type": "stream",
     "text": [
      "/home/ngo/anaconda3/lib/python3.12/site-packages/whisper/transcribe.py:126: UserWarning: FP16 is not supported on CPU; using FP32 instead\n",
      "  warnings.warn(\"FP16 is not supported on CPU; using FP32 instead\")\n"
     ]
    },
    {
     "name": "stdout",
     "output_type": "stream",
     "text": [
      "- (427/500)Process file: ./data/database_sa1_Jan08_Mar19_cleaned_utt_0000005079-1\n",
      "- GroundTruth: ngày càng có nhiều bằng chứng về vai trò của ruột đối với sức khỏe toàn diện của con người cả về thể chất lẫn tinh thần để giúp cho ruột mạnh khỏe hơn các nhà nghiên cứu thực phẩm đang tìm cách đưa các vi khuẩn sống được gọi là bờ rồ be o tíc vào tất cả các sản phẩm kể cả bia mời quý vị theo dõi chương trình sau đây\n",
      "- Predicted: ngày càng có nhiều bằng chứng về vai trò của ruột đối với sức khỏe toàn diện của con người, các về thể chất lẫn tinh thần. để giúp cho ruột mạnh khỏe hơn, các nhà nghiên cứu thực phẩm đang tìm cách đưa các vi khuẩn sống được gọi là probiotics vào tất cả các sản phẩm, kể cả bia. mời quý vị theo dõi tương trình sau đây.\n"
     ]
    },
    {
     "name": "stderr",
     "output_type": "stream",
     "text": [
      "/home/ngo/anaconda3/lib/python3.12/site-packages/whisper/transcribe.py:126: UserWarning: FP16 is not supported on CPU; using FP32 instead\n",
      "  warnings.warn(\"FP16 is not supported on CPU; using FP32 instead\")\n"
     ]
    },
    {
     "name": "stdout",
     "output_type": "stream",
     "text": [
      "- (428/500)Process file: ./data/database_sa1_Jan08_Mar19_cleaned_utt_0000003462-1\n",
      "- GroundTruth: nói lục vân tiên nói thơ lục vân tiên và và những hoạt động mà do ủy ban nhân dân tỉnh bến tre tổ chức để kỷ niệm ngày lễ truyền thống của tỉnh và ngày sinh của cụ\n",
      "- Predicted: nói lục vân tiên, nói thơ lục vân tiên và những hoạt động do quỹ ban nhân dân tỉnh bến tre tổ chức để kỷ niệm ngày lễ truyền thống của tỉnh và ngày sinh của cụ.\n"
     ]
    },
    {
     "name": "stderr",
     "output_type": "stream",
     "text": [
      "/home/ngo/anaconda3/lib/python3.12/site-packages/whisper/transcribe.py:126: UserWarning: FP16 is not supported on CPU; using FP32 instead\n",
      "  warnings.warn(\"FP16 is not supported on CPU; using FP32 instead\")\n"
     ]
    },
    {
     "name": "stdout",
     "output_type": "stream",
     "text": [
      "- (429/500)Process file: ./data/database_sa1_Jan08_Mar19_cleaned_utt_0000008409-1\n",
      "- GroundTruth: hơn bốn mươi năm sau khi tấm ảnh chạy bom na pan nổi tiếng của cô bé kim phúc chín tuổi xuất hiện trên báo chí quốc tế và trở thành biểu tượng của chiến tranh việt nam bà kim phúc giờ năm mươi hai tuổi vẫn chịu đựng những đau đớn dù những vết thương do bom na pan gây ra bây giờ đã trở thành những vết sẹo nhưng bà có cơ may có thể chữa lành hẳn các vết sẹo này\n",
      "- Predicted: hơn 40 năm sau khi tấm ảnh chạy bom napalm nổi tiếng của cô bé kim phúc 9 tuổi xuất hiện trên báo chí quốc tế và trở thành biểu tượng của chiến tranh việt nam, bà kim phúc giờ 52 tuổi vẫn chịu đựng những đau đớn dù những vết thương do bom napalm gây ra bây giờ đã trở thành những vết sẹo. nhưng bà có cơ may có thể chữa lành hẳn các vết sẹo này.\n"
     ]
    },
    {
     "name": "stderr",
     "output_type": "stream",
     "text": [
      "/home/ngo/anaconda3/lib/python3.12/site-packages/whisper/transcribe.py:126: UserWarning: FP16 is not supported on CPU; using FP32 instead\n",
      "  warnings.warn(\"FP16 is not supported on CPU; using FP32 instead\")\n"
     ]
    },
    {
     "name": "stdout",
     "output_type": "stream",
     "text": [
      "- (430/500)Process file: ./data/database_sa1_Jan08_Mar19_cleaned_utt_0000011015-1\n",
      "- GroundTruth: mạng năm gờ là gì không đi quá sâu và thuật ngữ chuyên môn nôm na là mạng năm gờ sẽ giúp các thiết bị không dây của bạn có khả năng tài được nhiều hơn những gì bạn đang làm trực tuyến nhanh hơn và hiệu quả hơn\n",
      "- Predicted: mạng 5g là gì? không đi quá sâu vào thuật ngữ chuyên môn, numna là mạng 5g sẽ giúp các thiết bị không dày của bạn có khả năng tải được nhiều hơn những gì bạn đang làm trực tuyến, nhanh hơn và hiệu quả hơn.\n"
     ]
    },
    {
     "name": "stderr",
     "output_type": "stream",
     "text": [
      "/home/ngo/anaconda3/lib/python3.12/site-packages/whisper/transcribe.py:126: UserWarning: FP16 is not supported on CPU; using FP32 instead\n",
      "  warnings.warn(\"FP16 is not supported on CPU; using FP32 instead\")\n"
     ]
    },
    {
     "name": "stdout",
     "output_type": "stream",
     "text": [
      "- (431/500)Process file: ./data/database_sa1_Jan08_Mar19_cleaned_utt_0000010282-1\n",
      "- GroundTruth: cảm ơn quý vị đã theo dõi tin tức của đài tiếng nói hoa kỳ các chương trình ra đi ô\n",
      "- Predicted: cảm ơn quý vị đã theo dõi tin tức của đài tiếng nói hoa kỳ.\n"
     ]
    },
    {
     "name": "stderr",
     "output_type": "stream",
     "text": [
      "/home/ngo/anaconda3/lib/python3.12/site-packages/whisper/transcribe.py:126: UserWarning: FP16 is not supported on CPU; using FP32 instead\n",
      "  warnings.warn(\"FP16 is not supported on CPU; using FP32 instead\")\n"
     ]
    },
    {
     "name": "stdout",
     "output_type": "stream",
     "text": [
      "- (432/500)Process file: ./data/database_sa1_Jan08_Mar19_cleaned_utt_0000007854-1\n",
      "- GroundTruth: hai rù xi\n",
      "- Predicted: hi, lucia.\n"
     ]
    },
    {
     "name": "stderr",
     "output_type": "stream",
     "text": [
      "/home/ngo/anaconda3/lib/python3.12/site-packages/whisper/transcribe.py:126: UserWarning: FP16 is not supported on CPU; using FP32 instead\n",
      "  warnings.warn(\"FP16 is not supported on CPU; using FP32 instead\")\n"
     ]
    },
    {
     "name": "stdout",
     "output_type": "stream",
     "text": [
      "- (433/500)Process file: ./data/database_sa1_Jan08_Mar19_cleaned_utt_0000001395-1\n",
      "- GroundTruth: một số chim thật sự thích bầu bạn với con người và trong trường hợp này pa rách pe ry tìm cách tìm cho chú một người nhận nuôi hiện có khoảng một trăm năm mươi con chim được nuôi ở pa rách pe ry nhưng số nhân viên của tổ chức rất ít\n",
      "- Predicted: một số chim thật sự thích bộ bản với con người và trong trường hợp này, project perry tìm cách tìm cho chúng một người nhận nuôi. hiện có khoảng 150 con chim được nuôi ở project perry, nhưng số nhân viên của tổ chức rất ít.\n"
     ]
    },
    {
     "name": "stderr",
     "output_type": "stream",
     "text": [
      "/home/ngo/anaconda3/lib/python3.12/site-packages/whisper/transcribe.py:126: UserWarning: FP16 is not supported on CPU; using FP32 instead\n",
      "  warnings.warn(\"FP16 is not supported on CPU; using FP32 instead\")\n"
     ]
    },
    {
     "name": "stdout",
     "output_type": "stream",
     "text": [
      "- (434/500)Process file: ./data/database_sa1_Jan08_Mar19_cleaned_utt_0000005656-1\n",
      "- GroundTruth: vào thời điểm này khi giáng sinh vừa qua và năm mới chuẩn bị tới cộng đồng người việt khu vực ngoại ô thủ đô oa sinh tơn thường tổ chức nhiều hoạt động để bà con đồng hương có dịp gặp mặt các gia đình có con cái ở xa có cơ hội đoàn tụ với cha mẹ trong những chương trình văn nghệ vui vẻ dịp cuối năm đặc biệt là các hội thánh dịp này thường tổ chức nhiều chương trình ý nghĩa cho không chỉ các thành viên trong hội mà thường mở rộng mời bà con trong cộng đồng đặc biệt là những người neo đơn kém may mắn tới tham dự\n",
      "- Predicted: vào thời điểm này, khi giáng sinh vừa qua và năm mới chuẩn bị tới, cộng đồng người việt khu vực ngoại ô thủ đô washington thường tổ chức nhiều hoạt động để bà con đồng hương có dịp gặp mặt, các gia đình có con cái ở xa, có cơ hội đoàn tụ với cha mẹ trong những chương trình văn nghệ vui vẻ dịp cuối năm. đặc biệt là các hội thánh, dịp này thường tổ chức nhiều chương trình ý nghĩa cho không chỉ các thành viên trong hội, mà thường mở rộng mời bà con trong cộng đồng, đặc biệt là những người neo đơn kém may mắn tới tham dự.\n"
     ]
    },
    {
     "name": "stderr",
     "output_type": "stream",
     "text": [
      "/home/ngo/anaconda3/lib/python3.12/site-packages/whisper/transcribe.py:126: UserWarning: FP16 is not supported on CPU; using FP32 instead\n",
      "  warnings.warn(\"FP16 is not supported on CPU; using FP32 instead\")\n"
     ]
    },
    {
     "name": "stdout",
     "output_type": "stream",
     "text": [
      "- (435/500)Process file: ./data/database_sa1_Jan08_Mar19_cleaned_utt_0000000549-1\n",
      "- GroundTruth: bộ trưởng quốc phòng nhật nói cả ma ni la lẫn tô ki ô đều đang đối mặt với các mối quan tâm chung\n",
      "- Predicted: bộ trưởng quốc phòng nhật nói cả manila lẫn tokyo đều đang đối mặt với các mối quan tâm chung.\n"
     ]
    },
    {
     "name": "stderr",
     "output_type": "stream",
     "text": [
      "/home/ngo/anaconda3/lib/python3.12/site-packages/whisper/transcribe.py:126: UserWarning: FP16 is not supported on CPU; using FP32 instead\n",
      "  warnings.warn(\"FP16 is not supported on CPU; using FP32 instead\")\n"
     ]
    },
    {
     "name": "stdout",
     "output_type": "stream",
     "text": [
      "- (436/500)Process file: ./data/database_sa1_Jan08_Mar19_cleaned_utt_0000006565-1\n",
      "- GroundTruth: việt nam tăng gần gấp ba lần so với năm năm\n",
      "- Predicted: việt nam tăng gần gấp 3 lần so với 5 năm trước.\n"
     ]
    },
    {
     "name": "stderr",
     "output_type": "stream",
     "text": [
      "/home/ngo/anaconda3/lib/python3.12/site-packages/whisper/transcribe.py:126: UserWarning: FP16 is not supported on CPU; using FP32 instead\n",
      "  warnings.warn(\"FP16 is not supported on CPU; using FP32 instead\")\n"
     ]
    },
    {
     "name": "stdout",
     "output_type": "stream",
     "text": [
      "- (437/500)Process file: ./data/database_sa1_Jan08_Mar19_cleaned_utt_0000001419-1\n",
      "- GroundTruth: bạn đã xem quép cát nghe đài và được tin tức với vi ô ây tiếng việt giờ bạn có thể xem tất cả các nội dung trên với ứng dụng di động mới tiện lợi và nhanh gọn đặc biệt ứng dụng sẽ tự động cập nhật tin nóng và chờ bạn thì trực tiếp vi đi ô hình ảnh âm thanh đến cho chúng tôi với điện thoại di động hay máy tính bảng ai ô ét hay an roi bạn đều có thể thoải mái dùng ứng dụng còn chờ gì nữa hãy tải ngay ứng dụng vi ô ây tiếng việt hoàn toàn miễn phí\n",
      "- Predicted: bạn đã xem webcast, nghe đài và đọc tin tức với voa tiếng việt. giờ bạn có thể xem tất cả các nội dung trên với ứng dụng di động mới, tiện lợi và nhanh gọn. đặc biệt, ứng dụng sẽ tự động cập nhật tin nóng và cho bạn gửi trực tiếp video, hình ảnh, âm thanh đến cho chúng tôi. với điện thoại di động hay máy tính bảng, ios hay android, bạn đều có thể thoải mái dùng ứng dụng. còn chứ gì nữa, hãy tải ngay ứng dụng voa tiếng việt, hoàn toàn miễn phí.\n"
     ]
    },
    {
     "name": "stderr",
     "output_type": "stream",
     "text": [
      "/home/ngo/anaconda3/lib/python3.12/site-packages/whisper/transcribe.py:126: UserWarning: FP16 is not supported on CPU; using FP32 instead\n",
      "  warnings.warn(\"FP16 is not supported on CPU; using FP32 instead\")\n"
     ]
    },
    {
     "name": "stdout",
     "output_type": "stream",
     "text": [
      "- (438/500)Process file: ./data/database_sa1_Jan08_Mar19_cleaned_utt_0000001417-1\n",
      "- GroundTruth: bạn có thể hoàn toàn kiểm soát thiết bị này như những người bình thường\n",
      "- Predicted: bạn có thể hoàn toàn kiểm soát thiết bị này như những người bình thường.\n"
     ]
    },
    {
     "name": "stderr",
     "output_type": "stream",
     "text": [
      "/home/ngo/anaconda3/lib/python3.12/site-packages/whisper/transcribe.py:126: UserWarning: FP16 is not supported on CPU; using FP32 instead\n",
      "  warnings.warn(\"FP16 is not supported on CPU; using FP32 instead\")\n"
     ]
    },
    {
     "name": "stdout",
     "output_type": "stream",
     "text": [
      "- (439/500)Process file: ./data/database_sa1_Jan08_Mar19_cleaned_utt_0000005153-1\n",
      "- GroundTruth: goa sinh tơn khẳng định sẽ tiếp tục các phi vụ và chuyến tàu tuần tra trên biển đông một số chuyên gia về an ninh bày tỏ lo ngại rằng trung quốc có thể áp đặt những hạn chế trên biển và trên không tại khu vực quần đảo trường sa\n",
      "- Predicted: washington khẳng định sẽ tiếp tục các thi vụ và chuyến tàu tuần tra trên biển đông. một số chuyên gia về an ninh bày tỏ lo ngại rằng trung quốc có thể áp đặt những hạn chế trên biển và trên không tại khu vực quần đảo trường sa.\n"
     ]
    },
    {
     "name": "stderr",
     "output_type": "stream",
     "text": [
      "/home/ngo/anaconda3/lib/python3.12/site-packages/whisper/transcribe.py:126: UserWarning: FP16 is not supported on CPU; using FP32 instead\n",
      "  warnings.warn(\"FP16 is not supported on CPU; using FP32 instead\")\n"
     ]
    },
    {
     "name": "stdout",
     "output_type": "stream",
     "text": [
      "- (440/500)Process file: ./data/database_sa1_Jan08_Mar19_cleaned_utt_0000002513-1\n",
      "- GroundTruth: về những hành động sách nhiễu đối với một số bờ lóc cơ được nhiều người biết tiếng trong đó các bờ lóc cơ mẹ nấm thuộc mạng lưới bờ lóc cơ việt nam\n",
      "- Predicted: về những hành động sách nhiễu đối với một số blogger được nhiều người biết tiếng. trong đó có blogger mẹ nấm thuộc mạng lưới blogger việt nam.\n"
     ]
    },
    {
     "name": "stderr",
     "output_type": "stream",
     "text": [
      "/home/ngo/anaconda3/lib/python3.12/site-packages/whisper/transcribe.py:126: UserWarning: FP16 is not supported on CPU; using FP32 instead\n",
      "  warnings.warn(\"FP16 is not supported on CPU; using FP32 instead\")\n"
     ]
    },
    {
     "name": "stdout",
     "output_type": "stream",
     "text": [
      "- (441/500)Process file: ./data/database_sa1_Jan08_Mar19_cleaned_utt_0000003384-1\n",
      "- GroundTruth: trong khi nước này phô bày sức mạnh trên những vùng biển tranh chấp ở biển đông trung hoa và biển đông trung quốc đã phát triển công nghệ chiến đấu cơ tàng hình phi đạn chống vệ tinh\n",
      "- Predicted: trong khi nước này phô bày sức mạnh trên những vùng biển tranh chấp ở biển đông trung hoa và biển đông. trung quốc đã phát triển công nghệ chiến đấu cơ tàng hình, phi đạn chống vệ tinh,\n"
     ]
    },
    {
     "name": "stderr",
     "output_type": "stream",
     "text": [
      "/home/ngo/anaconda3/lib/python3.12/site-packages/whisper/transcribe.py:126: UserWarning: FP16 is not supported on CPU; using FP32 instead\n",
      "  warnings.warn(\"FP16 is not supported on CPU; using FP32 instead\")\n"
     ]
    },
    {
     "name": "stdout",
     "output_type": "stream",
     "text": [
      "- (442/500)Process file: ./data/database_sa1_Jan08_Mar19_cleaned_utt_0000002445-1\n",
      "- GroundTruth: truyền thông giả mạo và lừa đảo đang nỗ lực thuyết phục những người cộng hòa và mọi người rằng\n",
      "- Predicted: truyền thông giả mạo và lừa đảo đang nỗ lực thuyết phục những người cộng hòa và mọi người rằng\n"
     ]
    },
    {
     "name": "stderr",
     "output_type": "stream",
     "text": [
      "/home/ngo/anaconda3/lib/python3.12/site-packages/whisper/transcribe.py:126: UserWarning: FP16 is not supported on CPU; using FP32 instead\n",
      "  warnings.warn(\"FP16 is not supported on CPU; using FP32 instead\")\n"
     ]
    },
    {
     "name": "stdout",
     "output_type": "stream",
     "text": [
      "- (443/500)Process file: ./data/database_sa1_Jan08_Mar19_cleaned_utt_0000004460-1\n",
      "- GroundTruth: thường thường tiếng anh thì ở việt nam mình tự học ở hay là có những cái lớp học huấn luyện hay học ở trường thì các bạn nên biết điểm vào trường học lớp mười một nó cũng cần điểm băn khoăn tối thiểu là là bảy tạ bảy mươi điểm hơn bảy mươi lăm điểm\n",
      "- Predicted: thường thường tiếng anh thì ở việt nam mình tự học hay là có những lớp học huấn luyện hay là học ở trường. thì các bạn nên biết nếu vào trường học lớp 11, nó cũng cần điểm an toàn tối tiểu là 70 điểm hay 75 điểm.\n"
     ]
    },
    {
     "name": "stderr",
     "output_type": "stream",
     "text": [
      "/home/ngo/anaconda3/lib/python3.12/site-packages/whisper/transcribe.py:126: UserWarning: FP16 is not supported on CPU; using FP32 instead\n",
      "  warnings.warn(\"FP16 is not supported on CPU; using FP32 instead\")\n"
     ]
    },
    {
     "name": "stdout",
     "output_type": "stream",
     "text": [
      "- (444/500)Process file: ./data/database_sa1_Jan08_Mar19_cleaned_utt_0000005480-1\n",
      "- GroundTruth: và động thiên đường đều sắm thuyền làm du lịch và để thuyền được phép chạy chủ thuyền phải chạy bằng lái\n",
      "- Predicted: và động thiên đường, điều sóng thuyền làm du lịch. và để thuyền được phép chạy, chủ thuyền phải chạy bằng lái.\n"
     ]
    },
    {
     "name": "stderr",
     "output_type": "stream",
     "text": [
      "/home/ngo/anaconda3/lib/python3.12/site-packages/whisper/transcribe.py:126: UserWarning: FP16 is not supported on CPU; using FP32 instead\n",
      "  warnings.warn(\"FP16 is not supported on CPU; using FP32 instead\")\n"
     ]
    },
    {
     "name": "stdout",
     "output_type": "stream",
     "text": [
      "- (445/500)Process file: ./data/database_sa1_Jan08_Mar19_cleaned_utt_0000010294-2\n",
      "- GroundTruth: những kẻ thua cuộc sẽ phải nghe những lời sẽ đặc trưng\n",
      "- Predicted: những kẻ thù cuộc sẽ phải nghe những lời rất đặc trưng.\n"
     ]
    },
    {
     "name": "stderr",
     "output_type": "stream",
     "text": [
      "/home/ngo/anaconda3/lib/python3.12/site-packages/whisper/transcribe.py:126: UserWarning: FP16 is not supported on CPU; using FP32 instead\n",
      "  warnings.warn(\"FP16 is not supported on CPU; using FP32 instead\")\n"
     ]
    },
    {
     "name": "stdout",
     "output_type": "stream",
     "text": [
      "- (446/500)Process file: ./data/database_sa1_Jan08_Mar19_cleaned_utt_0000007434-1\n",
      "- GroundTruth: dạ vâng tác giả của bài hát anh là ai lay động hàng triệu con tim nhưng mà với những người trẻ chưa biết anh là ai thì anh muốn họ biết về anh như thế nào anh muốn giới thiệu về về anh như thế nào với những người trẻ việt nam\n",
      "- Predicted: dạ vâng, tác giả của bài hát anh là ai lây động hàng triệu con tim nhưng mà với những người trẻ chưa biết anh là ai thì anh muốn họ biết về anh như thế nào anh muốn giới thiệu về anh như thế nào với những người trẻ việt nam\n"
     ]
    },
    {
     "name": "stderr",
     "output_type": "stream",
     "text": [
      "/home/ngo/anaconda3/lib/python3.12/site-packages/whisper/transcribe.py:126: UserWarning: FP16 is not supported on CPU; using FP32 instead\n",
      "  warnings.warn(\"FP16 is not supported on CPU; using FP32 instead\")\n"
     ]
    },
    {
     "name": "stdout",
     "output_type": "stream",
     "text": [
      "- (447/500)Process file: ./data/database_sa1_Jan08_Mar19_cleaned_utt_0000009693-1\n",
      "- GroundTruth: ý kiến trên được nêu ra trong bài viết dài của bộ trưởng trương minh tuấn được nhiều báo lớn trong nước đăng hôm mùng ba tháng một\n",
      "- Predicted: ý kiến trên được nêu ra trong bài viết dài của bộ trưởng trương minh tuấn được nhiều báo lớn trong nước đăng hôm 3 tháng 1.\n"
     ]
    },
    {
     "name": "stderr",
     "output_type": "stream",
     "text": [
      "/home/ngo/anaconda3/lib/python3.12/site-packages/whisper/transcribe.py:126: UserWarning: FP16 is not supported on CPU; using FP32 instead\n",
      "  warnings.warn(\"FP16 is not supported on CPU; using FP32 instead\")\n"
     ]
    },
    {
     "name": "stdout",
     "output_type": "stream",
     "text": [
      "- (448/500)Process file: ./data/database_sa1_Jan08_Mar19_cleaned_utt_0000009815-1\n",
      "- GroundTruth: hàng ngàn người sáng ngày hai mươi bảy tháng mười kéo đến trước cổng ủy ban nhân dân huyện tư nghĩa tỉnh quảng ngãi biểu tình phản đối việc chính quyền địa phương không xử lý nạn khai thác cát trái phép làm ảnh hưởng đến môi trường và đời sống kinh tế của người dân\n",
      "- Predicted: hàng ngàn người sáng ngày 27 tháng 10 kéo đến trước cổng quỹ ban nhân dân huyện tư nghĩa, tỉnh quảng ngãi biểu tình phản đối việc chính quyền địa phương không xử lý nạn khai thác cát trái phép làm ảnh hưởng đến môi trường và đời sống kinh tế của người dân\n"
     ]
    },
    {
     "name": "stderr",
     "output_type": "stream",
     "text": [
      "/home/ngo/anaconda3/lib/python3.12/site-packages/whisper/transcribe.py:126: UserWarning: FP16 is not supported on CPU; using FP32 instead\n",
      "  warnings.warn(\"FP16 is not supported on CPU; using FP32 instead\")\n"
     ]
    },
    {
     "name": "stdout",
     "output_type": "stream",
     "text": [
      "- (449/500)Process file: ./data/database_sa1_Jan08_Mar19_cleaned_utt_0000001076-1\n",
      "- GroundTruth: về cơ quan nước ngoài gây cảm giác bất an từ tháng chín năm hai nghìn không trăm mười bảy\n",
      "- Predicted: được cơ quan nước ngoài gây cảm giác bất an tới tháng 9 năm 2017.\n"
     ]
    },
    {
     "name": "stderr",
     "output_type": "stream",
     "text": [
      "/home/ngo/anaconda3/lib/python3.12/site-packages/whisper/transcribe.py:126: UserWarning: FP16 is not supported on CPU; using FP32 instead\n",
      "  warnings.warn(\"FP16 is not supported on CPU; using FP32 instead\")\n"
     ]
    },
    {
     "name": "stdout",
     "output_type": "stream",
     "text": [
      "- (450/500)Process file: ./data/database_sa1_Jan08_Mar19_cleaned_utt_0000008592-2\n",
      "- GroundTruth: <unk> trung quốc đang nới rộng hay hòn đảo tại hoàng sa đang trong vòng tranh chấp với việt nam là\n",
      "- Predicted: là trung quốc đang nới rộng hai hòn đảo tại hoàng sa, đang trong vòng tranh chấp với việt nam.\n"
     ]
    },
    {
     "name": "stderr",
     "output_type": "stream",
     "text": [
      "/home/ngo/anaconda3/lib/python3.12/site-packages/whisper/transcribe.py:126: UserWarning: FP16 is not supported on CPU; using FP32 instead\n",
      "  warnings.warn(\"FP16 is not supported on CPU; using FP32 instead\")\n"
     ]
    },
    {
     "name": "stdout",
     "output_type": "stream",
     "text": [
      "- (451/500)Process file: ./data/database_sa1_Jan08_Mar19_cleaned_utt_0000004196-1\n",
      "- GroundTruth: chữa bệnh mà họ không bớt họ vẫn tiếp tục đao có nghĩa là nó nó nó nó nhiều quá rồi thì họ sẽ phải được xem lại còn nếu không á thì cái chỗ loét nó nó càng ngày càng sâu xuống\n",
      "- Predicted: chữa bệnh mà họ không bớt, họ vẫn tiếp tục đau, có nghĩa là cái lét nó nhiều quá rồi. thì họ sẽ phải được xem lại. còn nếu không thì cái chỗ lét đó nó càng ngày càng sâu xuống.\n"
     ]
    },
    {
     "name": "stderr",
     "output_type": "stream",
     "text": [
      "/home/ngo/anaconda3/lib/python3.12/site-packages/whisper/transcribe.py:126: UserWarning: FP16 is not supported on CPU; using FP32 instead\n",
      "  warnings.warn(\"FP16 is not supported on CPU; using FP32 instead\")\n"
     ]
    },
    {
     "name": "stdout",
     "output_type": "stream",
     "text": [
      "- (452/500)Process file: ./data/database_sa1_Jan08_Mar19_cleaned_utt_0000002829-1\n",
      "- GroundTruth: muốn đóng góp hình ảnh vi đê ô bài viết cho vi ô ây việt ngữ xin gửi về địa chỉ vê ô a bạn làm báo a vòng gờ meo chấm com tin hẹn gặp lại quý vị trong bản tin lần tới\n",
      "- Predicted: muốn đồng góp hình ảnh, video, bài viết cho voa việt ngữ, xin gửi về địa chỉ voa, bạc làm báo avong.gmail.com. xin hẹn gặp lại quý vị trong bản tin lần tới.\n"
     ]
    },
    {
     "name": "stderr",
     "output_type": "stream",
     "text": [
      "/home/ngo/anaconda3/lib/python3.12/site-packages/whisper/transcribe.py:126: UserWarning: FP16 is not supported on CPU; using FP32 instead\n",
      "  warnings.warn(\"FP16 is not supported on CPU; using FP32 instead\")\n"
     ]
    },
    {
     "name": "stdout",
     "output_type": "stream",
     "text": [
      "- (453/500)Process file: ./data/database_sa1_Jan08_Mar19_cleaned_utt_0000011185-2\n",
      "- GroundTruth: cuộc sống đa số là người lao động có cái thu nhập thấp\n",
      "- Predicted: là cuộc sống đa số người lao động có thu nhập thấp.\n"
     ]
    },
    {
     "name": "stderr",
     "output_type": "stream",
     "text": [
      "/home/ngo/anaconda3/lib/python3.12/site-packages/whisper/transcribe.py:126: UserWarning: FP16 is not supported on CPU; using FP32 instead\n",
      "  warnings.warn(\"FP16 is not supported on CPU; using FP32 instead\")\n"
     ]
    },
    {
     "name": "stdout",
     "output_type": "stream",
     "text": [
      "- (454/500)Process file: ./data/database_sa1_Jan08_Mar19_cleaned_utt_0000007187-1\n",
      "- GroundTruth: tổ chức theo dõi nhân quyền kêu gọi tổng thống o ba ma nếu vấn đề nhân quyền với hà nội đòi hỏi phải có tiến bộ\n",
      "- Predicted: tổ chức theo dõi nhân quyền kêu gọi tổng thống obama nêu vấn đề nhân quyền với hà nội và đòi hỏi phải có tiến bộ.\n"
     ]
    },
    {
     "name": "stderr",
     "output_type": "stream",
     "text": [
      "/home/ngo/anaconda3/lib/python3.12/site-packages/whisper/transcribe.py:126: UserWarning: FP16 is not supported on CPU; using FP32 instead\n",
      "  warnings.warn(\"FP16 is not supported on CPU; using FP32 instead\")\n"
     ]
    },
    {
     "name": "stdout",
     "output_type": "stream",
     "text": [
      "- (455/500)Process file: ./data/database_sa1_Jan08_Mar19_cleaned_utt_0000007425-1\n",
      "- GroundTruth: trước đây em không biết cái đinh ốc ra sao ngay cả không biết con ốc khác con bù long ra sao nhưng bây giờ em phải tạo ra những thứ đó bằng tất cả kiến thức của em\n",
      "- Predicted: trước đây em không biết cái đình ốc ra sao, ngay cả không biết con ốc khác con bù lon ra sao, nhưng bây giờ em phải tạo ra những thứ đó bằng tất cả kiến thức của em.\n"
     ]
    },
    {
     "name": "stderr",
     "output_type": "stream",
     "text": [
      "/home/ngo/anaconda3/lib/python3.12/site-packages/whisper/transcribe.py:126: UserWarning: FP16 is not supported on CPU; using FP32 instead\n",
      "  warnings.warn(\"FP16 is not supported on CPU; using FP32 instead\")\n"
     ]
    },
    {
     "name": "stdout",
     "output_type": "stream",
     "text": [
      "- (456/500)Process file: ./data/database_sa1_Jan08_Mar19_cleaned_utt_0000011797-5\n",
      "- GroundTruth: <unk> rối loạn tiền đình là do cái đó mà ra\n",
      "- Predicted: và lối lại tình hình là do cái đó mà ra.\n"
     ]
    },
    {
     "name": "stderr",
     "output_type": "stream",
     "text": [
      "/home/ngo/anaconda3/lib/python3.12/site-packages/whisper/transcribe.py:126: UserWarning: FP16 is not supported on CPU; using FP32 instead\n",
      "  warnings.warn(\"FP16 is not supported on CPU; using FP32 instead\")\n"
     ]
    },
    {
     "name": "stdout",
     "output_type": "stream",
     "text": [
      "- (457/500)Process file: ./data/database_sa1_Jan08_Mar19_cleaned_utt_0000006431-1\n",
      "- GroundTruth: báo chí trong nước trích lời bộ ngoại giao việt nam cho biết hơn một ngàn người việt nam hiện sống rải rác khắp phi líp pin trong đó có hàng chục người tại thành phố ta cờ lô ban thủ phủ của tỉnh lê tê nơi bị siêu bão tàn phá\n",
      "- Predicted: báo chí trong nước trích lời bộ ngoại giao việt nam cho biết, hơn 1.000 người việt nam hiện sống rải rác khắp philippines, trong đó có hàng chục người tại thành phố tacloban, thủ phủ của tỉnh leyte, nơi bị siêu bão tàn phá.\n"
     ]
    },
    {
     "name": "stderr",
     "output_type": "stream",
     "text": [
      "/home/ngo/anaconda3/lib/python3.12/site-packages/whisper/transcribe.py:126: UserWarning: FP16 is not supported on CPU; using FP32 instead\n",
      "  warnings.warn(\"FP16 is not supported on CPU; using FP32 instead\")\n"
     ]
    },
    {
     "name": "stdout",
     "output_type": "stream",
     "text": [
      "- (458/500)Process file: ./data/database_sa1_Jan08_Mar19_cleaned_utt_0000006785-1\n",
      "- GroundTruth: và ông nói điều này có thể dẫn đến việc cho phi hành gia chui vào hầm hoặc tắt các vệ tinh viễn thông và định vị chờ tác động này đi qua\n",
      "- Predicted: và ông nói điều này có thể dẫn đến việc cho phi hành gia chui vào hầm hoặc tắt các vệ tinh viễn thông và định vị chờ tác động này đi qua.\n"
     ]
    },
    {
     "name": "stderr",
     "output_type": "stream",
     "text": [
      "/home/ngo/anaconda3/lib/python3.12/site-packages/whisper/transcribe.py:126: UserWarning: FP16 is not supported on CPU; using FP32 instead\n",
      "  warnings.warn(\"FP16 is not supported on CPU; using FP32 instead\")\n"
     ]
    },
    {
     "name": "stdout",
     "output_type": "stream",
     "text": [
      "- (459/500)Process file: ./data/database_sa1_Jan08_Mar19_cleaned_utt_0000010794-1\n",
      "- GroundTruth: tôi quyết định làm một khuôn mặt của một người đàn ông trẻ tuổi và sau đó đi quanh quảng trường hỏi những thanh niên đang đi bộ một mình hoặc với gia đình của họ xem họ có muốn tham gia dự án không cho phép tôi chụp một bức hình\n",
      "- Predicted: tôi quyết định làm một khuôn mặt của một người đàn ông trẻ tuổi và sau đó đi quanh quảng trường, hỏi những thanh niên đang đi bộ một mình hoặc với gia đình của họ, xem họ có muốn tham gia dự án không. cho phép tôi chụp một bức hình.\n"
     ]
    },
    {
     "name": "stderr",
     "output_type": "stream",
     "text": [
      "/home/ngo/anaconda3/lib/python3.12/site-packages/whisper/transcribe.py:126: UserWarning: FP16 is not supported on CPU; using FP32 instead\n",
      "  warnings.warn(\"FP16 is not supported on CPU; using FP32 instead\")\n"
     ]
    },
    {
     "name": "stdout",
     "output_type": "stream",
     "text": [
      "- (460/500)Process file: ./data/database_sa1_Jan08_Mar19_cleaned_utt_0000004271-1\n",
      "- GroundTruth: và tất nhiên từ không lên chín mươi sáu ki lô mét giờ là dưới ba giây vẫn hút gió tự nhiên và chỉ dẫn động bánh sau mang lại cảm giác gần như dính lưng vào ghế hộp số là loại đê dê tê bảy cấp gắn ở sau ghép với bộ vi sai điện tử và hệ thống lái bánh sau nói về tay lái đây là chiếc phe ra ri đầu tiên có tay lái trợ lực điện với bánh trước\n",
      "- Predicted: và tất nhiên từ 0 lên 96 kmh là dưới 3 giây, vẫn hút gió tự nhiên và chỉ dẫn động bánh sau mang lại cảm giác gần như dính đưng vào ghế. hộp số là loại dct 7 cấp gắn ở sau, ghép với bộ vi xài điện tử và hệ thống lái bánh sau. nói về tay lái, đây là chiếc ferrari đầu tiên có tay lái trợ lực điện với bánh trước.\n"
     ]
    },
    {
     "name": "stderr",
     "output_type": "stream",
     "text": [
      "/home/ngo/anaconda3/lib/python3.12/site-packages/whisper/transcribe.py:126: UserWarning: FP16 is not supported on CPU; using FP32 instead\n",
      "  warnings.warn(\"FP16 is not supported on CPU; using FP32 instead\")\n"
     ]
    },
    {
     "name": "stdout",
     "output_type": "stream",
     "text": [
      "- (461/500)Process file: ./data/database_sa1_Jan08_Mar19_cleaned_utt_0000012567-1\n",
      "- GroundTruth: nhắc lại lời của đức giáo hoàng phan xi cô là chúng ta không thể dung thứ bất cứ thái độ vô cảm và vô trách nhiệm nào đối với môi trường đã trình việt nam vi ti vi đã đả kích giám mục nguyễn hợp là diễn tả sự việc thiếu khách quan\n",
      "- Predicted: nhắc lại lời của đức giáo hoàng phan xích cô là chúng ta không thể dùng thứ bất cứ thái độ vô cảm và vô trách nhiệm nào đối với môi trường. đài truyền việt nam vtv đã đả kích giám mục nguyễn thái hợp là diễn tả sự việc thiếu khách quan.\n"
     ]
    },
    {
     "name": "stderr",
     "output_type": "stream",
     "text": [
      "/home/ngo/anaconda3/lib/python3.12/site-packages/whisper/transcribe.py:126: UserWarning: FP16 is not supported on CPU; using FP32 instead\n",
      "  warnings.warn(\"FP16 is not supported on CPU; using FP32 instead\")\n"
     ]
    },
    {
     "name": "stdout",
     "output_type": "stream",
     "text": [
      "- (462/500)Process file: ./data/database_sa1_Jan08_Mar19_cleaned_utt_0000009028-1\n",
      "- GroundTruth: hai e ve ri bo đi\n",
      "- Predicted: hi, everybody.\n"
     ]
    },
    {
     "name": "stderr",
     "output_type": "stream",
     "text": [
      "/home/ngo/anaconda3/lib/python3.12/site-packages/whisper/transcribe.py:126: UserWarning: FP16 is not supported on CPU; using FP32 instead\n",
      "  warnings.warn(\"FP16 is not supported on CPU; using FP32 instead\")\n"
     ]
    },
    {
     "name": "stdout",
     "output_type": "stream",
     "text": [
      "- (463/500)Process file: ./data/database_sa1_Jan08_Mar19_cleaned_utt_0000007187-2\n",
      "- GroundTruth: lập tức chấm dứt mọi hình thức sách nhiễu tôn trọng quyền biểu tình của công dân\n",
      "- Predicted: lập tức chấm dứt mọi hình thức sách nhiễu, tôn trọng quyền biểu tình của công dân.\n"
     ]
    },
    {
     "name": "stderr",
     "output_type": "stream",
     "text": [
      "/home/ngo/anaconda3/lib/python3.12/site-packages/whisper/transcribe.py:126: UserWarning: FP16 is not supported on CPU; using FP32 instead\n",
      "  warnings.warn(\"FP16 is not supported on CPU; using FP32 instead\")\n"
     ]
    },
    {
     "name": "stdout",
     "output_type": "stream",
     "text": [
      "- (464/500)Process file: ./data/database_sa1_Jan08_Mar19_cleaned_utt_0000007921-1\n",
      "- GroundTruth: việc mua bán diễn ra nhanh chóng tại phiên chợ của nhà nông ở oai tần thuộc bang vi gi ni a này người mua lấy những gì họ cần và bỏ tiền vào một cái hộp đó là điểm đặc biệt của chợ này kinh doanh dựa vào sự trung thực của khách hàng\n",
      "- Predicted: việc mua bán diễn ra nhanh chóng tại phiên chợ của nhà nông ở wellington thuộc bang virginia này. người mua lấy những gì họ cần và bỏ tiền vào một cái hộp. đó là điểm đặc biệt của chợ này, kinh doanh dựa vào sự trung thực của khách hàng.\n"
     ]
    },
    {
     "name": "stderr",
     "output_type": "stream",
     "text": [
      "/home/ngo/anaconda3/lib/python3.12/site-packages/whisper/transcribe.py:126: UserWarning: FP16 is not supported on CPU; using FP32 instead\n",
      "  warnings.warn(\"FP16 is not supported on CPU; using FP32 instead\")\n"
     ]
    },
    {
     "name": "stdout",
     "output_type": "stream",
     "text": [
      "- (465/500)Process file: ./data/database_sa1_Jan08_Mar19_cleaned_utt_0000009518-1\n",
      "- GroundTruth: ma li bắt đầu cử hành ba ngày quốc tang cho những nạn nhân của vụ tấn công hôm thứ sáu giết chết mười chín người trong một khách sạn sang trọng ở thủ đô ba ma cô\n",
      "- Predicted: mali bắt đầu cử hành 3 ngày quốc tàng cho những nạn nhân của vụ tấn công hôm thứ sáu, giết chết 19 người trong một khách sạn sang trọng ở thủ đô bamako.\n"
     ]
    },
    {
     "name": "stderr",
     "output_type": "stream",
     "text": [
      "/home/ngo/anaconda3/lib/python3.12/site-packages/whisper/transcribe.py:126: UserWarning: FP16 is not supported on CPU; using FP32 instead\n",
      "  warnings.warn(\"FP16 is not supported on CPU; using FP32 instead\")\n"
     ]
    },
    {
     "name": "stdout",
     "output_type": "stream",
     "text": [
      "- (466/500)Process file: ./data/database_sa1_Jan08_Mar19_cleaned_utt_0000002158-1\n",
      "- GroundTruth: ít nhất bốn mươi người thiệt mạng trong các cuộc bạo động tiếp theo sau đó và năm mươi bốn người khác bị thương tình trạng bất ổn được mô tả như là một cuộc tấn công khủng bố có tổ chức các cuộc bạo động như vậy đã khiến ít nhất\n",
      "- Predicted: ít nhất 40 người thiệt mạng trong các cuộc bạo động tiếp theo sau đó và 54 người khác bị thương. tình trạng bất ổn được mô tả như là một cuộc tấn công khủng bố có tổ chức. các cuộc bạo động như vậy đã khiến ít nhất...\n"
     ]
    },
    {
     "name": "stderr",
     "output_type": "stream",
     "text": [
      "/home/ngo/anaconda3/lib/python3.12/site-packages/whisper/transcribe.py:126: UserWarning: FP16 is not supported on CPU; using FP32 instead\n",
      "  warnings.warn(\"FP16 is not supported on CPU; using FP32 instead\")\n"
     ]
    },
    {
     "name": "stdout",
     "output_type": "stream",
     "text": [
      "- (467/500)Process file: ./data/database_sa1_Jan08_Mar19_cleaned_utt_0000008708-1\n",
      "- GroundTruth: cần phải được đi kèm với việc mở rộng song song với đối thoại nhân quyền triều tiên thường phủ nhận các cáo buộc về đàn áp nhân quyền\n",
      "- Predicted: cần phải được đi kèm với việc mở rộng song song với đối thoại nhân quyền. triều tiên thường phủ nhận các cáo mục về đàn áp nhân quyền,\n"
     ]
    },
    {
     "name": "stderr",
     "output_type": "stream",
     "text": [
      "/home/ngo/anaconda3/lib/python3.12/site-packages/whisper/transcribe.py:126: UserWarning: FP16 is not supported on CPU; using FP32 instead\n",
      "  warnings.warn(\"FP16 is not supported on CPU; using FP32 instead\")\n"
     ]
    },
    {
     "name": "stdout",
     "output_type": "stream",
     "text": [
      "- (468/500)Process file: ./data/database_sa1_Jan08_Mar19_cleaned_utt_0000000123-1\n",
      "- GroundTruth: khi chúng tôi về đến đó thì thấy gần tối rồi chúng tôi nghĩ rằng là cần phải có sự an toàn đối với người dân là trên hết hai nữa thì chúng tôi cũng nhận được sự góp ý của anh em linh mục và của bề trên thì chúng tôi quyết định để cho bà con ra về ạ\n",
      "- Predicted: khi chúng tôi về đến đó thì thấy gần tối rồi, chúng tôi nghĩ rằng là cần phải có cái sự an toàn đối với người dân là trên hết. thế nên thì chúng tôi cũng nhận được cái sự góp ý của anh em linh mục và của bệ trên. chúng tôi quyết định để cho bà con ra về.\n"
     ]
    },
    {
     "name": "stderr",
     "output_type": "stream",
     "text": [
      "/home/ngo/anaconda3/lib/python3.12/site-packages/whisper/transcribe.py:126: UserWarning: FP16 is not supported on CPU; using FP32 instead\n",
      "  warnings.warn(\"FP16 is not supported on CPU; using FP32 instead\")\n"
     ]
    },
    {
     "name": "stdout",
     "output_type": "stream",
     "text": [
      "- (469/500)Process file: ./data/database_sa1_Jan08_Mar19_cleaned_utt_0000001354-1\n",
      "- GroundTruth: việt nam đang hưởng lợi từ những thay đổi ở trung quốc nơi có nhiều công ty đầu tư trong ngành sản xuất công nghiệp nhưng họ đang bắt đầu chuyển hướng sang việt nam\n",
      "- Predicted: việt nam đang hưởng lợi từ những thay đổi ở trung quốc, nơi có nhiều công ty đầu tư trong ngành sản xuất công nghiệp, nhưng họ đang bắt đầu chuyển hướng sang việt nam.\n"
     ]
    },
    {
     "name": "stderr",
     "output_type": "stream",
     "text": [
      "/home/ngo/anaconda3/lib/python3.12/site-packages/whisper/transcribe.py:126: UserWarning: FP16 is not supported on CPU; using FP32 instead\n",
      "  warnings.warn(\"FP16 is not supported on CPU; using FP32 instead\")\n"
     ]
    },
    {
     "name": "stdout",
     "output_type": "stream",
     "text": [
      "- (470/500)Process file: ./data/database_sa1_Jan08_Mar19_cleaned_utt_0000012473-2\n",
      "- GroundTruth: việt nam là một trong số ba mươi tám nước được liệt kê trong danh sách theo dõi bậc hai của báo cáo buôn người năm hai nghìn không trăm mười chín do bộ ngoại giao mỹ công bố hôm thứ năm\n",
      "- Predicted: việt nam là một trong số 38 nước được liệt kê trong danh sách theo dõi bậc 2 của báo cáo 4 người năm 2019 do bộ ngoại giao mỹ công bố hôm thứ 5\n"
     ]
    },
    {
     "name": "stderr",
     "output_type": "stream",
     "text": [
      "/home/ngo/anaconda3/lib/python3.12/site-packages/whisper/transcribe.py:126: UserWarning: FP16 is not supported on CPU; using FP32 instead\n",
      "  warnings.warn(\"FP16 is not supported on CPU; using FP32 instead\")\n"
     ]
    },
    {
     "name": "stdout",
     "output_type": "stream",
     "text": [
      "- (471/500)Process file: ./data/database_sa1_Jan08_Mar19_cleaned_utt_0000011425-2\n",
      "- GroundTruth: <unk> vụ việc khác nhau chúng có điểm giống nhau\n",
      "- Predicted: bộ việc khác nhau, chúng có điểm giống nhau.\n"
     ]
    },
    {
     "name": "stderr",
     "output_type": "stream",
     "text": [
      "/home/ngo/anaconda3/lib/python3.12/site-packages/whisper/transcribe.py:126: UserWarning: FP16 is not supported on CPU; using FP32 instead\n",
      "  warnings.warn(\"FP16 is not supported on CPU; using FP32 instead\")\n"
     ]
    },
    {
     "name": "stdout",
     "output_type": "stream",
     "text": [
      "- (472/500)Process file: ./data/database_sa1_Jan08_Mar19_cleaned_utt_0000001082-1\n",
      "- GroundTruth: và số tiền này sẽ được các công ty hưởng lợi từ quá trình tự động hóa chi trả\n",
      "- Predicted: và số tiền này sẽ được các công ty hưởng lợi từ quá trình tự động hóa chi trả.\n"
     ]
    },
    {
     "name": "stderr",
     "output_type": "stream",
     "text": [
      "/home/ngo/anaconda3/lib/python3.12/site-packages/whisper/transcribe.py:126: UserWarning: FP16 is not supported on CPU; using FP32 instead\n",
      "  warnings.warn(\"FP16 is not supported on CPU; using FP32 instead\")\n"
     ]
    },
    {
     "name": "stdout",
     "output_type": "stream",
     "text": [
      "- (473/500)Process file: ./data/database_sa1_Jan08_Mar19_cleaned_utt_0000003596-1\n",
      "- GroundTruth: nhà ngoại giao kỳ cựu nguyên tổng lãnh sự việt nam tại quảng châu trung quốc cho rằng vai trò của mỹ và ấn trong việc tái cân bằng lực lượng ở khu vực là hết sức quan trọng và kêu gọi nỗ lực mạnh hơn từ các nước đặc biệt là hoa kỳ\n",
      "- Predicted: nhà ngoại giao kỳ cựu nguyên tổng lãnh sự việt nam tại quảng châu trung quốc cho rằng, vai trò của mỹ và ấn trong việc tái cân bằng lực lượng ở khu vực là hết sức quan trọng và kêu gọi nỗ lực mạnh hơn từ các nước, đặc biệt là hoa kỳ.\n"
     ]
    },
    {
     "name": "stderr",
     "output_type": "stream",
     "text": [
      "/home/ngo/anaconda3/lib/python3.12/site-packages/whisper/transcribe.py:126: UserWarning: FP16 is not supported on CPU; using FP32 instead\n",
      "  warnings.warn(\"FP16 is not supported on CPU; using FP32 instead\")\n"
     ]
    },
    {
     "name": "stdout",
     "output_type": "stream",
     "text": [
      "- (474/500)Process file: ./data/database_sa1_Jan08_Mar19_cleaned_utt_0000002868-1\n",
      "- GroundTruth: dịch vụ bị cắt giảm đồng nghĩa với việc quyền lợi trực tiếp của những người nhập cư như bà thu đoàn sẽ không còn được đảm bảo\n",
      "- Predicted: dịch vụ bị cắt giảm, đồng nghĩa với việc quyền lợi trực tiếp của những người nhập cư như bà thu đoàn sẽ không còn được đảm bảo.\n"
     ]
    },
    {
     "name": "stderr",
     "output_type": "stream",
     "text": [
      "/home/ngo/anaconda3/lib/python3.12/site-packages/whisper/transcribe.py:126: UserWarning: FP16 is not supported on CPU; using FP32 instead\n",
      "  warnings.warn(\"FP16 is not supported on CPU; using FP32 instead\")\n"
     ]
    },
    {
     "name": "stdout",
     "output_type": "stream",
     "text": [
      "- (475/500)Process file: ./data/database_sa1_Jan08_Mar19_cleaned_utt_0000008200-2\n",
      "- GroundTruth: hân hạnh chào đón quý vị đến với đài tiếng nói hoa kỳ vi ô ây\n",
      "- Predicted: hân hạnh chào đón quý vị đến với đài tiếng nói hoa kỳ voa\n"
     ]
    },
    {
     "name": "stderr",
     "output_type": "stream",
     "text": [
      "/home/ngo/anaconda3/lib/python3.12/site-packages/whisper/transcribe.py:126: UserWarning: FP16 is not supported on CPU; using FP32 instead\n",
      "  warnings.warn(\"FP16 is not supported on CPU; using FP32 instead\")\n"
     ]
    },
    {
     "name": "stdout",
     "output_type": "stream",
     "text": [
      "- (476/500)Process file: ./data/database_sa1_Jan08_Mar19_cleaned_utt_0000006608-1\n",
      "- GroundTruth: khiến cho công tác phòng chống và ngăn chặn dịch bệnh thiếu hiệu quả\n",
      "- Predicted: khiến cho công tác phòng chống và ngăn chặn dịch bệnh thiếu hiệu quả.\n"
     ]
    },
    {
     "name": "stderr",
     "output_type": "stream",
     "text": [
      "/home/ngo/anaconda3/lib/python3.12/site-packages/whisper/transcribe.py:126: UserWarning: FP16 is not supported on CPU; using FP32 instead\n",
      "  warnings.warn(\"FP16 is not supported on CPU; using FP32 instead\")\n"
     ]
    },
    {
     "name": "stdout",
     "output_type": "stream",
     "text": [
      "- (477/500)Process file: ./data/database_sa1_Jan08_Mar19_cleaned_utt_0000001602-1\n",
      "- GroundTruth: trong số các biện pháp theo công điện của thủ tướng thì lãnh đạo các bộ ngành phải đi đầu chống tham nhũng và phải có cơ chế kiểm soát hiệu quả ý kiến của người sử dụng mạng xã hội cho rằng hai biện pháp hàng đầu vừa kể không có gì mới lại vừa không cụ thể thiết thực cuối tháng giêng năm nay tại một hội nghị của ngành nội chính thuộc đảng cộng sản tổng bí thư chủ tịch nước nguyễn phú trọng nói rằng chống tham nhũng là lĩnh vực khó vì nó đụng chạm tới lợi ích nhóm liên quan chằng chịt ở các cấp các ngành rất lắt léo theo tường thuật của báo chí trong nước cũng cuối tháng giêng vừa qua tổ chức minh bạch quốc tế công bố bảng xếp hạng chỉ số cảm\n",
      "- Predicted: trong số các biện pháp theo công điện của thủ tướng thì lãnh đạo các bộ ngành phải đi đầu chống tham nhũng và phải có cơ chế kiểm soát hiệu quả. ý kiến của người sử dụng mạng xã hội cho rằng hai biện pháp hàng đầu vừa kể không có gì mới lại vừa không cụ thể thiết thực. cuối tháng diên năm nay, tại một hội nghị của ngành nội chính thuộc đảng cộng sản, tổng bí thư chủ tịch nước nguyễn phú trọng nói rằng chống tham nhũng là lĩnh vực khó vì nó đụng chạm tới lợi ích nhóm liên quan chằn chịch ở các cấp các ngành rất lắc léo. theo tường thuật của báo chí trong nước. cũng cuối tháng diên vừa qua, tổ chức minh bạch quốc tế công bố bản xếp hạng chỉ số cảm nhận.\n"
     ]
    },
    {
     "name": "stderr",
     "output_type": "stream",
     "text": [
      "/home/ngo/anaconda3/lib/python3.12/site-packages/whisper/transcribe.py:126: UserWarning: FP16 is not supported on CPU; using FP32 instead\n",
      "  warnings.warn(\"FP16 is not supported on CPU; using FP32 instead\")\n"
     ]
    },
    {
     "name": "stdout",
     "output_type": "stream",
     "text": [
      "- (478/500)Process file: ./data/database_sa1_Jan08_Mar19_cleaned_utt_0000005263-1\n",
      "- GroundTruth: giống như nhiều người khác tôi nuôi một con chim để làm cảnh và mãi cho tới khi có được con chim này thì tôi mới khám phá ra rằng người việt làm phim kiến phải mất công đến như thế nào\n",
      "- Predicted: giống như nhiều người khác, tôi nuôi một con chim để làm cảnh, và mãi cho tới khi có được con chim này thì tôi mới khám phá ra rằng nuôi vẹt làm chim kiến phải mất công đến như thế nào.\n"
     ]
    },
    {
     "name": "stderr",
     "output_type": "stream",
     "text": [
      "/home/ngo/anaconda3/lib/python3.12/site-packages/whisper/transcribe.py:126: UserWarning: FP16 is not supported on CPU; using FP32 instead\n",
      "  warnings.warn(\"FP16 is not supported on CPU; using FP32 instead\")\n"
     ]
    },
    {
     "name": "stdout",
     "output_type": "stream",
     "text": [
      "- (479/500)Process file: ./data/database_sa1_Jan08_Mar19_cleaned_utt_0000010891-1\n",
      "- GroundTruth: có đoạn viết bạch thư quốc phòng của trung quốc nói rằng hoa kỳ đang tăng cường các liên minh quân sự ở thái bình dương và củng cố việc can thiệp và triển khai quân sự gây thêm phức tạp cho an ninh khu vực\n",
      "- Predicted: có đoạn viết. bạch thư quốc phòng của trung quốc nói rằng hoa kỳ đang tăng cường các liên minh quân sự ở thái bình dương và củng cố việc can thiệp và triển khai quân sự, gây thêm phức tạp cho an ninh khu vực.\n"
     ]
    },
    {
     "name": "stderr",
     "output_type": "stream",
     "text": [
      "/home/ngo/anaconda3/lib/python3.12/site-packages/whisper/transcribe.py:126: UserWarning: FP16 is not supported on CPU; using FP32 instead\n",
      "  warnings.warn(\"FP16 is not supported on CPU; using FP32 instead\")\n"
     ]
    },
    {
     "name": "stdout",
     "output_type": "stream",
     "text": [
      "- (480/500)Process file: ./data/database_sa1_Jan08_Mar19_cleaned_utt_0000005483-1\n",
      "- GroundTruth: vị chi những tháng cao điểm chủ thuyền kiếm được hai triệu đồng những tháng ít khách thì kiếm được chừng một triệu đồng\n",
      "- Predicted: vị trí, những tháng cao điểm, trụ thuyền kiếm được 2 triệu đồng, những tháng ít khách thì kiếm được chừng 1 triệu đồng.\n"
     ]
    },
    {
     "name": "stderr",
     "output_type": "stream",
     "text": [
      "/home/ngo/anaconda3/lib/python3.12/site-packages/whisper/transcribe.py:126: UserWarning: FP16 is not supported on CPU; using FP32 instead\n",
      "  warnings.warn(\"FP16 is not supported on CPU; using FP32 instead\")\n"
     ]
    },
    {
     "name": "stdout",
     "output_type": "stream",
     "text": [
      "- (481/500)Process file: ./data/database_sa1_Jan08_Mar19_cleaned_utt_0000001758-1\n",
      "- GroundTruth: nêu vấn đề lao động trẻ em với nông dân\n",
      "- Predicted: nếu vấn đề lao động trẻ em với nông dân.\n"
     ]
    },
    {
     "name": "stderr",
     "output_type": "stream",
     "text": [
      "/home/ngo/anaconda3/lib/python3.12/site-packages/whisper/transcribe.py:126: UserWarning: FP16 is not supported on CPU; using FP32 instead\n",
      "  warnings.warn(\"FP16 is not supported on CPU; using FP32 instead\")\n"
     ]
    },
    {
     "name": "stdout",
     "output_type": "stream",
     "text": [
      "- (482/500)Process file: ./data/database_sa1_Jan08_Mar19_cleaned_utt_0000003606-1\n",
      "- GroundTruth: một ngư dân tên bùi tấn đoàn được trích lời thuật lại rằng anh và một thuyền viên khác bị thương sau khi tàu trung quốc phun vòi rồng vào tàu của anh trên tàu lúc đó có mười ba người dân anh đoàn cho biết thân tàu bị hư hại và nước tràn vào\n",
      "- Predicted: một người dân tên bùi tấn đoàn được trích lời thuộc lại rằng anh và một thuyền viên khác bị thương sau khi tàu trung quốc phun vòi rồng vào tàu của anh. trên tàu lúc đó có 13 người dân. anh đoàn cho biết thân tàu bị hư hại và nước tràn vào.\n"
     ]
    },
    {
     "name": "stderr",
     "output_type": "stream",
     "text": [
      "/home/ngo/anaconda3/lib/python3.12/site-packages/whisper/transcribe.py:126: UserWarning: FP16 is not supported on CPU; using FP32 instead\n",
      "  warnings.warn(\"FP16 is not supported on CPU; using FP32 instead\")\n"
     ]
    },
    {
     "name": "stdout",
     "output_type": "stream",
     "text": [
      "- (483/500)Process file: ./data/database_sa1_Jan08_Mar19_cleaned_utt_0000000233-1\n",
      "- GroundTruth: bắc kinh một mực khẳng định rằng hầu hết vùng biển đông trong phạm vi đường chín đoạn do chính họ vẽ ra là thuộc chủ quyền không thể tranh cãi của trung quốc sự kiện này đã đẩy phi lip pin tới quyết định yêu cầu tòa án trọng tài quốc tế phân xử cuộc tranh chấp\n",
      "- Predicted: bắc kinh một mực khẳng định rằng hầu hết vùng biển đông trong phạm vi đường chính đoạn do chính họ vẽ ra là thuộc chủ quyền không thể tranh cãi của trung quốc. sự kiện này đã đẩy philippines tới quyết định yêu cầu tòa án trọng tài quốc tế phân xử cuộc tranh chấp.\n"
     ]
    },
    {
     "name": "stderr",
     "output_type": "stream",
     "text": [
      "/home/ngo/anaconda3/lib/python3.12/site-packages/whisper/transcribe.py:126: UserWarning: FP16 is not supported on CPU; using FP32 instead\n",
      "  warnings.warn(\"FP16 is not supported on CPU; using FP32 instead\")\n"
     ]
    },
    {
     "name": "stdout",
     "output_type": "stream",
     "text": [
      "- (484/500)Process file: ./data/database_sa1_Jan08_Mar19_cleaned_utt_0000010805-1\n",
      "- GroundTruth: mặc dù tranh chấp vẫn tiếp tục leo thang tại biển đông bốn chiến hạm thuộc hạm đội miền đông của ấn độ đang thực hiện một cuộc hành trình đi ngang qua vùng biển này ghé thăm ba nước đang tranh chấp với trung quốc về việc phân định khu đặc quyền kinh tế của họ trong vùng biển giàu tài nguyên dầu khí\n",
      "- Predicted: mặc dù tranh chấp vẫn tiếp tục leo thang tại biển đông, 4 chiến hạm thuộc hạm đội biển đông của ấn độ đang thực hiện một cuộc hành trình đi ngang qua vùng biển này, ghé thăm 3 nước đang tranh chấp với trung quốc về việc phân định khu đặc quyền kinh tế của họ trong vùng biển giàu tài nguyên, giàu khí.\n"
     ]
    },
    {
     "name": "stderr",
     "output_type": "stream",
     "text": [
      "/home/ngo/anaconda3/lib/python3.12/site-packages/whisper/transcribe.py:126: UserWarning: FP16 is not supported on CPU; using FP32 instead\n",
      "  warnings.warn(\"FP16 is not supported on CPU; using FP32 instead\")\n"
     ]
    },
    {
     "name": "stdout",
     "output_type": "stream",
     "text": [
      "- (485/500)Process file: ./data/database_sa1_Jan08_Mar19_cleaned_utt_0000002750-1\n",
      "- GroundTruth: những người dân liệu về xây cất bàn ghế máy hút bụi này nọ cũng bị trong thuế quan này tuy nhiên vào thứ ba có nghĩa là chỉ vài hai ba ngày nữa thì thuế quan thay vì hai mươi lăm phần trăm sẽ gia tăng lên\n",
      "- Predicted: những nhân liệu về xây cất bàn ghế mái hấp bụi này nó cũng bị trong thế quan này. tuy nhiên vào thứ ba có nghĩa là chỉ vài hai ba ngày nữa thì thế quan thay vì 25% sẽ gia tăng lên.\n"
     ]
    },
    {
     "name": "stderr",
     "output_type": "stream",
     "text": [
      "/home/ngo/anaconda3/lib/python3.12/site-packages/whisper/transcribe.py:126: UserWarning: FP16 is not supported on CPU; using FP32 instead\n",
      "  warnings.warn(\"FP16 is not supported on CPU; using FP32 instead\")\n"
     ]
    },
    {
     "name": "stdout",
     "output_type": "stream",
     "text": [
      "- (486/500)Process file: ./data/database_sa1_Jan08_Mar19_cleaned_utt_0000004891-1\n",
      "- GroundTruth: ông nói rằng là ông sẽ chấm dứt tuyệt thực trong khi mà có cái bổ sung thêm cái nội dung giải quyết đơn tố cáo và sẽ thông báo cái điều đó cho bài dương hà\n",
      "- Predicted: ông nói rằng là ông sẽ chấm dứt điều thật trong khi mà có cái bổ sung kêm cái nội dung giải quyết đơn tố cáo và sẽ thông báo điều đó cho bà dương hà.\n"
     ]
    },
    {
     "name": "stderr",
     "output_type": "stream",
     "text": [
      "/home/ngo/anaconda3/lib/python3.12/site-packages/whisper/transcribe.py:126: UserWarning: FP16 is not supported on CPU; using FP32 instead\n",
      "  warnings.warn(\"FP16 is not supported on CPU; using FP32 instead\")\n"
     ]
    },
    {
     "name": "stdout",
     "output_type": "stream",
     "text": [
      "- (487/500)Process file: ./data/database_sa1_Jan08_Mar19_cleaned_utt_0000004209-1\n",
      "- GroundTruth: tại triển lãm hạt nhân gần đây bắc kinh các công ty điện lực trung quốc và quốc tế đã tranh nhau trình bày công nghệ mới nhất của họ\n",
      "- Predicted: tại triển lãm hạt nhân gần đây ở bắc kinh, các công ty điện lực trung quốc và quốc tế đã chênh nhau trình bày công nghệ mới nhất của họ.\n"
     ]
    },
    {
     "name": "stderr",
     "output_type": "stream",
     "text": [
      "/home/ngo/anaconda3/lib/python3.12/site-packages/whisper/transcribe.py:126: UserWarning: FP16 is not supported on CPU; using FP32 instead\n",
      "  warnings.warn(\"FP16 is not supported on CPU; using FP32 instead\")\n"
     ]
    },
    {
     "name": "stdout",
     "output_type": "stream",
     "text": [
      "- (488/500)Process file: ./data/database_sa1_Jan08_Mar19_cleaned_utt_0000002786-1\n",
      "- GroundTruth: theo lời ngoại trưởng trung quốc vương nghị tuyên bố hôm mười hai tháng chín\n",
      "- Predicted: theo lời ngoại trưởng trung quốc vân nghị tuyên bố hôm 12 tháng 9.\n"
     ]
    },
    {
     "name": "stderr",
     "output_type": "stream",
     "text": [
      "/home/ngo/anaconda3/lib/python3.12/site-packages/whisper/transcribe.py:126: UserWarning: FP16 is not supported on CPU; using FP32 instead\n",
      "  warnings.warn(\"FP16 is not supported on CPU; using FP32 instead\")\n"
     ]
    },
    {
     "name": "stdout",
     "output_type": "stream",
     "text": [
      "- (489/500)Process file: ./data/database_sa1_Jan08_Mar19_cleaned_utt_0000005180-1\n",
      "- GroundTruth: tiếp theo đây mời quý vị theo dõi các chương trình học tiếng anh của đài vi ô ây\n",
      "- Predicted: tiếp theo đây mời quý vị theo dõi các chương trình học tiếng anh của đài voa\n"
     ]
    },
    {
     "name": "stderr",
     "output_type": "stream",
     "text": [
      "/home/ngo/anaconda3/lib/python3.12/site-packages/whisper/transcribe.py:126: UserWarning: FP16 is not supported on CPU; using FP32 instead\n",
      "  warnings.warn(\"FP16 is not supported on CPU; using FP32 instead\")\n"
     ]
    },
    {
     "name": "stdout",
     "output_type": "stream",
     "text": [
      "- (490/500)Process file: ./data/database_sa1_Jan08_Mar19_cleaned_utt_0000012085-1\n",
      "- GroundTruth: cảm ơn quý vị đã theo dõi tin tức của đài tiếng nói hoa kỳ các chương trình ra đi ô vi đê ô của chúng tôi trên vi ô ây tiếng việt chấm com\n",
      "- Predicted: cảm ơn quý vị đã theo dõi tin tức của đài tiếng nói hoa kỳ\n"
     ]
    },
    {
     "name": "stderr",
     "output_type": "stream",
     "text": [
      "/home/ngo/anaconda3/lib/python3.12/site-packages/whisper/transcribe.py:126: UserWarning: FP16 is not supported on CPU; using FP32 instead\n",
      "  warnings.warn(\"FP16 is not supported on CPU; using FP32 instead\")\n"
     ]
    },
    {
     "name": "stdout",
     "output_type": "stream",
     "text": [
      "- (491/500)Process file: ./data/database_sa1_Jan08_Mar19_cleaned_utt_0000008278-1\n",
      "- GroundTruth: một tư lệnh hải quân mỹ hôm thứ tư cảnh báo rằng nếu bị mất đường vào những vùng biển quốc tế mà trung quốc đòi chủ quyền ở biển đông\n",
      "- Predicted: một tư lệnh hải quân mỹ hôm thứ tư cảnh báo rằng nếu mỹ mất đường vào những vùng biển quốc tế mà trung quốc đòi chủ quyền ở biển đông,\n"
     ]
    },
    {
     "name": "stderr",
     "output_type": "stream",
     "text": [
      "/home/ngo/anaconda3/lib/python3.12/site-packages/whisper/transcribe.py:126: UserWarning: FP16 is not supported on CPU; using FP32 instead\n",
      "  warnings.warn(\"FP16 is not supported on CPU; using FP32 instead\")\n"
     ]
    },
    {
     "name": "stdout",
     "output_type": "stream",
     "text": [
      "- (492/500)Process file: ./data/database_sa1_Jan08_Mar19_cleaned_utt_0000006652-1\n",
      "- GroundTruth: xin cảm ơn quý vị đã theo dõi tin tức của đài tiếng nói hoa kỳ các chương trình rây đi ô vi đê ô của chúng tôi trên vê o a tiếng việt chấm khom có thể được xem dễ dàng bằng trình duyệt ô pe ra\n",
      "- Predicted: xin cảm ơn quý vị đã theo dõi tin tức của đài tính nói hoa kỳ. các chương trình radio, video của chúng tôi trên va.com có thể được xem dễ dàng bằng trình duyệt opera.\n"
     ]
    },
    {
     "name": "stderr",
     "output_type": "stream",
     "text": [
      "/home/ngo/anaconda3/lib/python3.12/site-packages/whisper/transcribe.py:126: UserWarning: FP16 is not supported on CPU; using FP32 instead\n",
      "  warnings.warn(\"FP16 is not supported on CPU; using FP32 instead\")\n"
     ]
    },
    {
     "name": "stdout",
     "output_type": "stream",
     "text": [
      "- (493/500)Process file: ./data/database_sa1_Jan08_Mar19_cleaned_utt_0000000226-1\n",
      "- GroundTruth: cuối tháng hai vừa qua nhà chức trách tại khu vực này đã công khai kế hoạch bổ sung thêm những đơn vị cảnh sát đi bộ đi tuần trên những con phố có tỷ lệ tội phạm cao giống như a gai đây là một bước tiến mới nhằm đối phó với tình trạng mất trật tự an ninh và buôn bán ma túy tại đây chị như ý một chủ tiệm trong khu vực cho biết\n",
      "- Predicted: cuối tháng 2 vừa qua, nhà chức trách tại khu vực này đã công khai kế hoạch bổ sung thêm những đơn vị cảnh sát đi bộ đi tuần trên những con phố có tỷ lệ tội phạm cao giống như a gài. đây là một bước tiến mới nhằm đối phó với tình trạng mất trật tự an ninh và buôn bán ma túy tại đây. chỉ như ý, một chủ tiệm trong khu vực cho biết.\n"
     ]
    },
    {
     "name": "stderr",
     "output_type": "stream",
     "text": [
      "/home/ngo/anaconda3/lib/python3.12/site-packages/whisper/transcribe.py:126: UserWarning: FP16 is not supported on CPU; using FP32 instead\n",
      "  warnings.warn(\"FP16 is not supported on CPU; using FP32 instead\")\n"
     ]
    },
    {
     "name": "stdout",
     "output_type": "stream",
     "text": [
      "- (494/500)Process file: ./data/database_sa1_Jan08_Mar19_cleaned_utt_0000008596-1\n",
      "- GroundTruth: tổng thống phi líp pin nhận định trung quốc đã thành công trong việc kiểm soát tất cả các vùng biển mà họ đã tuyên bố chủ quyền\n",
      "- Predicted: tổng thống philippines nhận định trung quốc đã thành công trong việc kiểm soát tất cả các nguồn biển mà họ đã tuyên bố chủ quyền.\n"
     ]
    },
    {
     "name": "stderr",
     "output_type": "stream",
     "text": [
      "/home/ngo/anaconda3/lib/python3.12/site-packages/whisper/transcribe.py:126: UserWarning: FP16 is not supported on CPU; using FP32 instead\n",
      "  warnings.warn(\"FP16 is not supported on CPU; using FP32 instead\")\n"
     ]
    },
    {
     "name": "stdout",
     "output_type": "stream",
     "text": [
      "- (495/500)Process file: ./data/database_sa1_Jan08_Mar19_cleaned_utt_0000002051-1\n",
      "- GroundTruth: có lẽ trong nỗ lực tiếp thị nó nhiều hơn đến với những người thích phiêu lưu thay vì các bà mẹ năng động cổ xe có thêm nhiều trang trí màu đen và khoảng thông gầm cao hơn hai phẩy năm xen ti mét so với phoi lớt nếu bản dẫn động tất cả các bánh dự là hầu hết các quảng cáo hiện tại của hon đa đều nhắc đến phần gỗ dòng bát bốt sử dụng hệ dẫn động tất cả các bánh i vê tê en bốn của hon đa với tất cả các chế độ như bùn cát và tuyết dư khả năng cho những tình huống mà chủ xe có thể gặp phải\n",
      "- Predicted: có lẽ trong nỗ lực tiếp thị nó nhiều hơn đến với những người thích phiêu lưu thay vì các bà mẹ năng động. của xe có thêm nhiều trang trí màu đen và khoảng thông gầm cao hơn 2,5cm so với pilot nếu là bản dẫn động tất cả các bánh. tự là hầu hết các quảng cáo hiện tại của honda đều nhắc đến phân gỗ. dòng passport sử dụng hệ dẫn động tất cả các bánh ivtm4 của honda với tất cả các chế độ như là bùn, cát và tuyết dư khả năng cho những tình huống mà chú xe có thể gặp phải.\n"
     ]
    },
    {
     "name": "stderr",
     "output_type": "stream",
     "text": [
      "/home/ngo/anaconda3/lib/python3.12/site-packages/whisper/transcribe.py:126: UserWarning: FP16 is not supported on CPU; using FP32 instead\n",
      "  warnings.warn(\"FP16 is not supported on CPU; using FP32 instead\")\n"
     ]
    },
    {
     "name": "stdout",
     "output_type": "stream",
     "text": [
      "- (496/500)Process file: ./data/database_sa1_Jan08_Mar19_cleaned_utt_0000009047-1\n",
      "- GroundTruth: các bộ phận cũng dễ tìm và vì nó rất thoải mái khi lái và đáng tin cậy bạn có thể thưởng thức chiếc xe huyền thoại này mỗi ngày chứ không chỉ vào ngày cuối tuần mát mẻ nắng ráo giống như hầu hết các xe thể thao cổ khác ngày nay các thương hiệu nhật đứng sau nhiều xe thể thao có giá trị tốt nhất thế giới\n",
      "- Predicted: các bộ phận cũng dễ tìm và vì nó rất thoải mái khi lái và đạt tin cậy, bạn có thể thưởng thức chiếc xe huyền thoại này mỗi ngày, chứ không chỉ vào ngày cuối tuần mát mẻ, nắng giáo giống như hầu hết các xe thể thao cổ khác. ngày nay các thương hiệu nhật đứng sau nhiều xe thể thao có giá trị tốt nhất thế giới.\n"
     ]
    },
    {
     "name": "stderr",
     "output_type": "stream",
     "text": [
      "/home/ngo/anaconda3/lib/python3.12/site-packages/whisper/transcribe.py:126: UserWarning: FP16 is not supported on CPU; using FP32 instead\n",
      "  warnings.warn(\"FP16 is not supported on CPU; using FP32 instead\")\n"
     ]
    },
    {
     "name": "stdout",
     "output_type": "stream",
     "text": [
      "- (497/500)Process file: ./data/database_sa1_Jan08_Mar19_cleaned_utt_0000000974-1\n",
      "- GroundTruth: và một chuyên gia ảo có thể đánh dấu trên ứng dụng các vùng nguy hiểm và các khu vực an toàn nơi bạn có thể trú ẩn\n",
      "- Predicted: và một chuyên gia ảo có thể đánh dấu trên ứng dụng các vùng nguy hiểm và các khu vực an toàn nơi bạn có thể trú ẩn.\n"
     ]
    },
    {
     "name": "stderr",
     "output_type": "stream",
     "text": [
      "/home/ngo/anaconda3/lib/python3.12/site-packages/whisper/transcribe.py:126: UserWarning: FP16 is not supported on CPU; using FP32 instead\n",
      "  warnings.warn(\"FP16 is not supported on CPU; using FP32 instead\")\n"
     ]
    },
    {
     "name": "stdout",
     "output_type": "stream",
     "text": [
      "- (498/500)Process file: ./data/database_sa1_Jan08_Mar19_cleaned_utt_0000003701-1\n",
      "- GroundTruth: nếu mà vì cái vấn đề mà để cho sạch sẽ thẩm mĩ mĩ quan thì chính quyền quận nhất là phải tính tới việc việc tức là dẹp nhưng dẹp cục bộ dẹp có chọn lọc không phải là dẹp toàn bộ nền kinh kinh tế vỉa hè tại vì như vậy thì lúc đó sẽ không thể thu xếp được cái gì mà cho tới nay thì cũng có thể nói thế này\n",
      "- Predicted: nếu mà vì cái vấn đề mà để cho sạch sẽ thẩm mỹ, mỹ quan á, thì chính quyền quận nhất là phải tính tới cái việc rất là dẹp như mà dẹp cục bộ, dẹp có chọn lọc, không phải là dẹp toàn bộ đến cái kinh tế vỉa hè. tại vì như vậy thì lúc đó sẽ không thể thu xếp được cái gì. và cho tới nay thì cũng có thể nói thế này.\n"
     ]
    },
    {
     "name": "stderr",
     "output_type": "stream",
     "text": [
      "/home/ngo/anaconda3/lib/python3.12/site-packages/whisper/transcribe.py:126: UserWarning: FP16 is not supported on CPU; using FP32 instead\n",
      "  warnings.warn(\"FP16 is not supported on CPU; using FP32 instead\")\n"
     ]
    },
    {
     "name": "stdout",
     "output_type": "stream",
     "text": [
      "- (499/500)Process file: ./data/database_sa1_Jan08_Mar19_cleaned_utt_0000007358-1\n",
      "- GroundTruth: đây là vụ thử nghiệm đầu tiên kiểu này kể từ khi hoa kỳ rút ra khỏi hiệp ước lực lượng hạt nhân tầm trung ai en ép\n",
      "- Predicted: đây là vụ thử nghiệm đầu tiên kiểu này kể từ khi hoa kỳ rút ra khỏi hiệp ước lực lượng hạt nhân tầm trung .\n"
     ]
    },
    {
     "name": "stderr",
     "output_type": "stream",
     "text": [
      "/home/ngo/anaconda3/lib/python3.12/site-packages/whisper/transcribe.py:126: UserWarning: FP16 is not supported on CPU; using FP32 instead\n",
      "  warnings.warn(\"FP16 is not supported on CPU; using FP32 instead\")\n"
     ]
    },
    {
     "name": "stdout",
     "output_type": "stream",
     "text": [
      "- (500/500)Process file: ./data/database_sa1_Jan08_Mar19_cleaned_utt_0000008696-1\n",
      "- GroundTruth: hãng thông tấn a ép pi hôm hai mươi tháng mười hai trích lời một giới chức cấp cao của hoa kỳ nói rằng trong thời gian tới ngũ giác đài sẽ triển khai chiến đấu cơ chống tàu ngầm pê tám phi đan cơ ru tàu ngầm lớp vờ\n",
      "- Predicted: hãng thông tấn afp hôm 20 tháng 12 trích lời một giới chức cấp cao của hoa kỳ nói rằng trong thời gian tới, ngũ giác đài sẽ triển khai chiến đấu cơ chống tàu ngầm p-8 khi đàn cruise tàu ngầm loverton.\n",
      "Inference -> end\n"
     ]
    }
   ],
   "source": [
    "print(\"Inference -> start\")\n",
    "\n",
    "# Khởi tạo danh sách để lưu trữ văn bản tham chiếu và văn bản nhận diện\n",
    "references = []\n",
    "hypotheses = []\n",
    "\n",
    "# Định nghĩa các biến đổi văn bản: loại bỏ dấu câu và chuyển thành chữ thường\n",
    "transforms = jiwer.Compose([\n",
    "    jiwer.RemovePunctuation(),\n",
    "    jiwer.ToLowerCase()\n",
    "])\n",
    "\n",
    "# Xử lý từng file âm thanh\n",
    "audioLength = len(audio_files)\n",
    "for index, audio_file in enumerate(audio_files):\n",
    "    try:\n",
    "        # Nhận diện âm thanh\n",
    "        result = model.transcribe(audio_file)\n",
    "        hypothesis = result[\"text\"].strip().lower()\n",
    "        \n",
    "        # Lấy đường dẫn file transcript tương ứng\n",
    "        base_name = os.path.splitext(audio_file)[0]\n",
    "        transcript_file = base_name + \".txt\"\n",
    "        \n",
    "        # Đọc văn bản tham chiếu từ file .txt\n",
    "        with open(transcript_file, \"r\", encoding=\"utf-8\") as f:\n",
    "            reference = f.read().strip().lower()\n",
    "\n",
    "        print(f\"- ({index + 1}/{audioLength})Process file: {base_name}\\n- GroundTruth: {reference}\\n- Predicted: {hypothesis}\")\n",
    "        # Thêm vào danh sách\n",
    "        references.append(reference)\n",
    "        hypotheses.append(hypothesis)\n",
    "    except Exception as e:\n",
    "        print(f\"Lỗi khi xử lý {audio_file}: {e}\")\n",
    "\n",
    "print(\"Inference -> end\")"
   ]
  },
  {
   "cell_type": "code",
   "execution_count": 4,
   "id": "51d9b86e-29e8-4f80-b090-f279b8d50465",
   "metadata": {},
   "outputs": [
    {
     "name": "stdout",
     "output_type": "stream",
     "text": [
      "Chỉ số WER tổng thể: 0.2064\n"
     ]
    }
   ],
   "source": [
    "# Tính và in chỉ số WER tổng thể\n",
    "if references:\n",
    "    wer = jiwer.wer(references, hypotheses)\n",
    "    print(f\"Chỉ số WER tổng thể: {wer:.4f}\")\n",
    "else:\n",
    "    print(\"Không có file nào được xử lý thành công.\")"
   ]
  }
 ],
 "metadata": {
  "kernelspec": {
   "display_name": "base",
   "language": "python",
   "name": "python3"
  },
  "language_info": {
   "codemirror_mode": {
    "name": "ipython",
    "version": 3
   },
   "file_extension": ".py",
   "mimetype": "text/x-python",
   "name": "python",
   "nbconvert_exporter": "python",
   "pygments_lexer": "ipython3",
   "version": "3.12.2"
  }
 },
 "nbformat": 4,
 "nbformat_minor": 5
}
