{
 "cells": [
  {
   "cell_type": "code",
   "execution_count": 1,
   "id": "0aa7ae5d-2a1c-4fe0-98e5-964af8cb3c64",
   "metadata": {},
   "outputs": [
    {
     "name": "stdout",
     "output_type": "stream",
     "text": [
      "Import completed\n"
     ]
    }
   ],
   "source": [
    "import whisper\n",
    "import jiwer\n",
    "import glob\n",
    "import os\n",
    "\n",
    "print(\"Import completed\")"
   ]
  },
  {
   "cell_type": "code",
   "execution_count": 2,
   "id": "987aac2d-b5bc-4eb7-ab7e-3b40587eda9f",
   "metadata": {},
   "outputs": [
    {
     "name": "stdout",
     "output_type": "stream",
     "text": [
      "Load model -> start\n",
      "Load model -> end\n"
     ]
    }
   ],
   "source": [
    "print(\"Load model -> start\")\n",
    "model = whisper.load_model(\"large-v3\")\n",
    "\n",
    "# Lấy danh sách tất cả các file âm thanh trong thư mục \"./data\"\n",
    "audio_files = glob.glob(\"./data/*.wav\")\n",
    "\n",
    "print(\"Load model -> end\")"
   ]
  },
  {
   "cell_type": "code",
   "execution_count": null,
   "id": "d7c200fd-a8ca-4a05-acd6-864f0fb658a6",
   "metadata": {},
   "outputs": [
    {
     "name": "stdout",
     "output_type": "stream",
     "text": [
      "Inference -> start\n"
     ]
    },
    {
     "name": "stderr",
     "output_type": "stream",
     "text": [
      "/opt/anaconda3/lib/python3.12/site-packages/whisper/transcribe.py:126: UserWarning: FP16 is not supported on CPU; using FP32 instead\n",
      "  warnings.warn(\"FP16 is not supported on CPU; using FP32 instead\")\n"
     ]
    },
    {
     "name": "stdout",
     "output_type": "stream",
     "text": [
      "- (1/100)Process file: ./data/database_sa1_Jan08_Mar19_cleaned_utt_0000002194-1\n",
      "- GroundTruth: dạ vầng câu hỏi của gia phạm cháu tám tuổi hay bị khịt mũi át xì nhảy mũi tối ngủ hay ho khan tiếng lớn làm thế nào để khỏi\n",
      "- Predicted: dạ vâng, câu hỏi của ga phạm, cháu 8 tuổi hay bị khịch mũi, ác xì, nhảy mũi, tối ngủ hay ho khang tiếng lớn, làm thế nào để khỏi?\n"
     ]
    },
    {
     "name": "stderr",
     "output_type": "stream",
     "text": [
      "/opt/anaconda3/lib/python3.12/site-packages/whisper/transcribe.py:126: UserWarning: FP16 is not supported on CPU; using FP32 instead\n",
      "  warnings.warn(\"FP16 is not supported on CPU; using FP32 instead\")\n"
     ]
    },
    {
     "name": "stdout",
     "output_type": "stream",
     "text": [
      "- (2/100)Process file: ./data/database_sa1_Jan08_Mar19_cleaned_utt_0000000123-1\n",
      "- GroundTruth: khi chúng tôi về đến đó thì thấy gần tối rồi chúng tôi nghĩ rằng là cần phải có sự an toàn đối với người dân là trên hết hai nữa thì chúng tôi cũng nhận được sự góp ý của anh em linh mục và của bề trên thì chúng tôi quyết định để cho bà con ra về ạ\n",
      "- Predicted: khi chúng tôi về đến đó thì thấy gần tối rồi. chúng tôi nghĩ rằng là cần phải có cái sự an toàn đối với người dân là trên hết. thế nên thì chúng tôi cũng nhận được cái sự góp ý của anh em linh mục và của bệ trên. thì chúng tôi quyết định để cho bà con ra về.\n"
     ]
    },
    {
     "name": "stderr",
     "output_type": "stream",
     "text": [
      "/opt/anaconda3/lib/python3.12/site-packages/whisper/transcribe.py:126: UserWarning: FP16 is not supported on CPU; using FP32 instead\n",
      "  warnings.warn(\"FP16 is not supported on CPU; using FP32 instead\")\n"
     ]
    },
    {
     "name": "stdout",
     "output_type": "stream",
     "text": [
      "- (3/100)Process file: ./data/database_sa1_Jan08_Mar19_cleaned_utt_0000001593-1\n",
      "- GroundTruth: và sau khi bỏ nhiều công sức nhiều giờ lao động những lần máy bay trực thăng bay qua những lần vệ tinh quay quanh nguyên vật liệu và ý tưởng sáng tạo khơi mào thì tác phẩm nghệ thuật này sẽ biến mất vào tháng mười một ít ra thì chúng ta vẫn có thể nhìn được toàn cảnh ở đây\n",
      "- Predicted: và sau khi bỏ nhiều công sức, nhiều giờ lao động, những lần máy bay trực thăng bay qua, những lần vệ tinh quay quanh, nguyên vật liệu và ý tưởng sáng tạo khơi màu, thì tác phẩm nghệ thuật này sẽ biến mất vào tháng 11. ít ra thì chúng ta vẫn có thể nhìn được toàn cảnh ở đây.\n"
     ]
    },
    {
     "name": "stderr",
     "output_type": "stream",
     "text": [
      "/opt/anaconda3/lib/python3.12/site-packages/whisper/transcribe.py:126: UserWarning: FP16 is not supported on CPU; using FP32 instead\n",
      "  warnings.warn(\"FP16 is not supported on CPU; using FP32 instead\")\n"
     ]
    },
    {
     "name": "stdout",
     "output_type": "stream",
     "text": [
      "- (4/100)Process file: ./data/database_sa1_Jan08_Mar19_cleaned_utt_0000001298-2\n",
      "- GroundTruth: tôi biết thì nếu các bạn muốn học về ngành quản trị kinh doanh thì có rất là nhiều đại học\n",
      "- Predicted: tôi biết thì nếu các bạn muốn học về ngành quản trị kinh doanh thì có rất nhiều đại học.\n"
     ]
    },
    {
     "name": "stderr",
     "output_type": "stream",
     "text": [
      "/opt/anaconda3/lib/python3.12/site-packages/whisper/transcribe.py:126: UserWarning: FP16 is not supported on CPU; using FP32 instead\n",
      "  warnings.warn(\"FP16 is not supported on CPU; using FP32 instead\")\n"
     ]
    },
    {
     "name": "stdout",
     "output_type": "stream",
     "text": [
      "- (5/100)Process file: ./data/database_sa1_Jan08_Mar19_cleaned_utt_0000000692-1\n",
      "- GroundTruth: các nhà phân tích cho rằng các công ty dầu hỏa nước ngoài quan tâm đến hồ sơ dự thầu\n",
      "- Predicted: các nhà phân tích cho rằng các công ty dầu hỏa nước ngoài quan tâm đến hồ sơ dự thầu,\n"
     ]
    },
    {
     "name": "stderr",
     "output_type": "stream",
     "text": [
      "/opt/anaconda3/lib/python3.12/site-packages/whisper/transcribe.py:126: UserWarning: FP16 is not supported on CPU; using FP32 instead\n",
      "  warnings.warn(\"FP16 is not supported on CPU; using FP32 instead\")\n"
     ]
    },
    {
     "name": "stdout",
     "output_type": "stream",
     "text": [
      "- (6/100)Process file: ./data/database_sa1_Jan08_Mar19_cleaned_utt_0000001859-1\n",
      "- GroundTruth: thông tấn xã chính thức của nhà nước trung quốc ngày mười bảy tháng chín đăng bài xã luận nêu lập trường của trung quốc rằng biển đông không phải và không nên là một vấn đề giữa mỹ với trung quốc trong bối cảnh chủ tịch trung quốc tập cận bình sắp có chuyến công du tới mỹ\n",
      "- Predicted: thông tấn xã chính thức của nhà nước trung quốc ngày 17 tháng 9 đăng bài xã luận, nêu lập trường của trung quốc rằng biển đông không phải và không nên là một vấn đề giữa mỹ với trung quốc, trong bối cảnh chủ tịch trung quốc tập cận bình sắp có chuyến công dù tới mỹ.\n"
     ]
    },
    {
     "name": "stderr",
     "output_type": "stream",
     "text": [
      "/opt/anaconda3/lib/python3.12/site-packages/whisper/transcribe.py:126: UserWarning: FP16 is not supported on CPU; using FP32 instead\n",
      "  warnings.warn(\"FP16 is not supported on CPU; using FP32 instead\")\n"
     ]
    },
    {
     "name": "stdout",
     "output_type": "stream",
     "text": [
      "- (7/100)Process file: ./data/database_sa1_Jan08_Mar19_cleaned_utt_0000002351-1\n",
      "- GroundTruth: chúng ta cần phải áp lực không ngừng để việt nam phải có những cải thiện về nhân quyền giữa hai nước việt mỹ có thể quan hệ giao thương và nhiều thứ khác nữa nhưng những vấn đề cần được ưu tiên phải làm trước đã tôi hy vọng các tiểu bang khác và những nơi khác sẽ theo chân chúng tôi ban hành những nghị quyết tương tự như thế này để thúc đẩy cho nhân quyền việt nam\n",
      "- Predicted: chúng ta cần phải áp lực không ngừng để việt nam phải có những cải thiện về nhân quyền. giữa hai nước việt-mỹ có thể quan hệ giao thương và nhiều thứ khác nữa, nhưng những vấn đề cần được ưu tiên phải làm trước đã. tôi hy vọng các tiểu bang khác và những nơi khác sẽ theo chân chúng tôi ban hành những nghị quyết tương tự như thế này để thúc đẩy cho nhân quyền việt nam.\n"
     ]
    },
    {
     "name": "stderr",
     "output_type": "stream",
     "text": [
      "/opt/anaconda3/lib/python3.12/site-packages/whisper/transcribe.py:126: UserWarning: FP16 is not supported on CPU; using FP32 instead\n",
      "  warnings.warn(\"FP16 is not supported on CPU; using FP32 instead\")\n"
     ]
    }
   ],
   "source": [
    "print(\"Inference -> start\")\n",
    "\n",
    "# Khởi tạo danh sách để lưu trữ văn bản tham chiếu và văn bản nhận diện\n",
    "references = []\n",
    "hypotheses = []\n",
    "\n",
    "# Định nghĩa các biến đổi văn bản: loại bỏ dấu câu và chuyển thành chữ thường\n",
    "transforms = jiwer.Compose([\n",
    "    jiwer.RemovePunctuation(),\n",
    "    jiwer.ToLowerCase()\n",
    "])\n",
    "\n",
    "# Xử lý từng file âm thanh\n",
    "audioLength = len(audio_files)\n",
    "for index, audio_file in enumerate(audio_files):\n",
    "    try:\n",
    "        # Nhận diện âm thanh\n",
    "        result = model.transcribe(audio_file)\n",
    "        hypothesis = result[\"text\"].strip().lower()\n",
    "        \n",
    "        # Lấy đường dẫn file transcript tương ứng\n",
    "        base_name = os.path.splitext(audio_file)[0]\n",
    "        transcript_file = base_name + \".txt\"\n",
    "        \n",
    "        # Đọc văn bản tham chiếu từ file .txt\n",
    "        with open(transcript_file, \"r\", encoding=\"utf-8\") as f:\n",
    "            reference = f.read().strip().lower()\n",
    "\n",
    "        print(f\"- ({index + 1}/{audioLength})Process file: {base_name}\\n- GroundTruth: {reference}\\n- Predicted: {hypothesis}\")\n",
    "        # Thêm vào danh sách\n",
    "        references.append(reference)\n",
    "        hypotheses.append(hypothesis)\n",
    "    except Exception as e:\n",
    "        print(f\"Lỗi khi xử lý {audio_file}: {e}\")\n",
    "\n",
    "print(\"Inference -> end\")"
   ]
  },
  {
   "cell_type": "code",
   "execution_count": null,
   "id": "51d9b86e-29e8-4f80-b090-f279b8d50465",
   "metadata": {},
   "outputs": [],
   "source": [
    "# Tính và in chỉ số WER tổng thể\n",
    "if references:\n",
    "    wer = jiwer.wer(references, hypotheses)\n",
    "    print(f\"Chỉ số WER tổng thể: {wer:.4f}\")\n",
    "else:\n",
    "    print(\"Không có file nào được xử lý thành công.\")"
   ]
  }
 ],
 "metadata": {
  "kernelspec": {
   "display_name": "Python 3 (ipykernel)",
   "language": "python",
   "name": "python3"
  },
  "language_info": {
   "codemirror_mode": {
    "name": "ipython",
    "version": 3
   },
   "file_extension": ".py",
   "mimetype": "text/x-python",
   "name": "python",
   "nbconvert_exporter": "python",
   "pygments_lexer": "ipython3",
   "version": "3.12.2"
  }
 },
 "nbformat": 4,
 "nbformat_minor": 5
}
