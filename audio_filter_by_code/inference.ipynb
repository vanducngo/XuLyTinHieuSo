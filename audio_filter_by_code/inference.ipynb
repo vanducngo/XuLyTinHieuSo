{
 "cells": [
  {
   "cell_type": "code",
   "execution_count": 1,
   "id": "0aa7ae5d-2a1c-4fe0-98e5-964af8cb3c64",
   "metadata": {},
   "outputs": [
    {
     "name": "stdout",
     "output_type": "stream",
     "text": [
      "Import completed\n"
     ]
    }
   ],
   "source": [
    "import whisper\n",
    "import jiwer\n",
    "import glob\n",
    "import os\n",
    "\n",
    "print(\"Import completed\")"
   ]
  },
  {
   "cell_type": "code",
   "execution_count": 2,
   "id": "987aac2d-b5bc-4eb7-ab7e-3b40587eda9f",
   "metadata": {},
   "outputs": [
    {
     "name": "stdout",
     "output_type": "stream",
     "text": [
      "Load model -> start\n",
      "Load model -> end\n"
     ]
    }
   ],
   "source": [
    "print(\"Load model -> start\")\n",
    "model = whisper.load_model(\"large-v3\")\n",
    "\n",
    "# Lấy danh sách tất cả các file âm thanh trong thư mục \"./data\"\n",
    "audio_files = glob.glob(\"./data/*.wav\")\n",
    "\n",
    "print(\"Load model -> end\")"
   ]
  },
  {
   "cell_type": "code",
   "execution_count": 3,
   "id": "d7c200fd-a8ca-4a05-acd6-864f0fb658a6",
   "metadata": {},
   "outputs": [
    {
     "name": "stdout",
     "output_type": "stream",
     "text": [
      "Inference -> start\n"
     ]
    },
    {
     "name": "stderr",
     "output_type": "stream",
     "text": [
      "/home/ngo/anaconda3/lib/python3.12/site-packages/whisper/transcribe.py:126: UserWarning: FP16 is not supported on CPU; using FP32 instead\n",
      "  warnings.warn(\"FP16 is not supported on CPU; using FP32 instead\")\n"
     ]
    },
    {
     "name": "stdout",
     "output_type": "stream",
     "text": [
      "- (1/100)Process file: ./data/database_sa1_Jan08_Mar19_cleaned_utt_0000000490-1\n",
      "- GroundTruth: tỷ lệ một giáo viên cho bốn mươi sáu học sinh tiểu học là con số tệ nhất trên thế giới ngoài châu phi ngân hàng phát triển châu á đang cấp chín mươi triệu đô la trong vòng năm năm để cải thiện chất lượng giáo dục và giảm tỷ lệ bỏ học\n",
      "- Predicted: tỷ lệ một giáo viên cho 46 học sinh tiểu học là con số tệ nhất trên thế giới ngoài châu phi. ngân hàng phát triển châu á đang cấp 90 triệu đô la trong vòng 5 năm để cải thiện chất lượng giáo dục và giảm tỷ lệ bỏ học.\n"
     ]
    },
    {
     "name": "stderr",
     "output_type": "stream",
     "text": [
      "/home/ngo/anaconda3/lib/python3.12/site-packages/whisper/transcribe.py:126: UserWarning: FP16 is not supported on CPU; using FP32 instead\n",
      "  warnings.warn(\"FP16 is not supported on CPU; using FP32 instead\")\n"
     ]
    },
    {
     "name": "stdout",
     "output_type": "stream",
     "text": [
      "- (2/100)Process file: ./data/database_sa1_Jan08_Mar19_cleaned_utt_0000000827-2\n",
      "- GroundTruth: thì nhà được ưu tiên nhiều hơn là cái số lượng trường cấp một nó chia đều rải rác ra theo khu vực còn như về trường cấp hai cấp ba thì nguyên khu vực chỉ có một trường duy nhất là trường\n",
      "- Predicted: nhà được ưu tiên nhiều hơn là số lượng trường cấp 1 đều gãi gác theo khu vực. còn như về trường cấp 2, cấp 3 thì nguyên khu vực chỉ có một trường duy nhất, đó là trường 2.\n"
     ]
    },
    {
     "name": "stderr",
     "output_type": "stream",
     "text": [
      "/home/ngo/anaconda3/lib/python3.12/site-packages/whisper/transcribe.py:126: UserWarning: FP16 is not supported on CPU; using FP32 instead\n",
      "  warnings.warn(\"FP16 is not supported on CPU; using FP32 instead\")\n"
     ]
    },
    {
     "name": "stdout",
     "output_type": "stream",
     "text": [
      "- (3/100)Process file: ./data/database_sa1_Jan08_Mar19_cleaned_utt_0000002344-1\n",
      "- GroundTruth: và dây an toàn có thể bơm phồng lên kết hợp lại thì bảo vệ tốt hơn cho người ở hàng ghế hai viện ai ây ết chét đang sử dụng dữ liệu của họ để phát triển kiểu thử mới về va chạm phía trước sẽ đánh giá được mức bảo vệ ở ghế trước và sau\n",
      "- Predicted: và sẽ an toàn có thể mơm phồng lên, kết hợp lại thì bảo vệ tốt hơn cho người ở hàng ghế 2. viện ahs đang sử dụng dữ liệu của họ để phát triển kiểu thứ mới về vai trạng phía trước, sẽ đánh giá được mức bảo vệ ở ghế trước và sau.\n"
     ]
    },
    {
     "name": "stderr",
     "output_type": "stream",
     "text": [
      "/home/ngo/anaconda3/lib/python3.12/site-packages/whisper/transcribe.py:126: UserWarning: FP16 is not supported on CPU; using FP32 instead\n",
      "  warnings.warn(\"FP16 is not supported on CPU; using FP32 instead\")\n"
     ]
    },
    {
     "name": "stdout",
     "output_type": "stream",
     "text": [
      "- (4/100)Process file: ./data/database_sa1_Jan08_Mar19_cleaned_utt_0000000470-1\n",
      "- GroundTruth: thông qua mạng xã hội nhóm những người vận động sự giúp đỡ pháp lý cho cô hương cách đây hai năm bày tỏ họ thấy nghẹn đắng hoặc ức phát khóc vì kết quả mới đây tại tòa ma lai si a bà nguyễn hoàng ánh một người trong nhóm cũng là một giảng viên đại học được biết đến rộng rãi trên mạng xã hội nói với vi ây ba và cả nhóm lặng người khi nghe tin\n",
      "- Predicted: thông qua mạng xã hội, nhóm những người vật động sự giúp đỡ pháp lý cho cô hương cách đây 2 năm, bày tỏ họ thấy ngẹn đắng và tức phát khóc với kết quả mới đây tại tòa malaysia. và nguyễn hoàng ánh, một người trong nhóm cũng là một giảng viên đại học biết đến rộng rãi trên mạng xã hội, nói với va, bà và cả nhóm lắc người khi nghe tin.\n"
     ]
    },
    {
     "name": "stderr",
     "output_type": "stream",
     "text": [
      "/home/ngo/anaconda3/lib/python3.12/site-packages/whisper/transcribe.py:126: UserWarning: FP16 is not supported on CPU; using FP32 instead\n",
      "  warnings.warn(\"FP16 is not supported on CPU; using FP32 instead\")\n"
     ]
    },
    {
     "name": "stdout",
     "output_type": "stream",
     "text": [
      "- (5/100)Process file: ./data/database_sa1_Jan08_Mar19_cleaned_utt_0000000962-1\n",
      "- GroundTruth: nói một trực thăng đã thả những thùng khí độc xuống một thị trấn gần thành phố a lép pô bị vây hãm ít nhất ba mươi người chủ yếu là phụ nữ và trẻ em đã bị ảnh hưởng bởi loại khi đó\n",
      "- Predicted: nói một trực thăng đã thả những thùng khí động xuống một thị trấn gần thành phố alaco bị vây hám. ít nhất 30 người, chủ yếu là phụ nữ và trẻ em, đã bị ảnh hưởng bởi loại khi đó.\n"
     ]
    },
    {
     "name": "stderr",
     "output_type": "stream",
     "text": [
      "/home/ngo/anaconda3/lib/python3.12/site-packages/whisper/transcribe.py:126: UserWarning: FP16 is not supported on CPU; using FP32 instead\n",
      "  warnings.warn(\"FP16 is not supported on CPU; using FP32 instead\")\n"
     ]
    },
    {
     "name": "stdout",
     "output_type": "stream",
     "text": [
      "- (6/100)Process file: ./data/database_sa1_Jan08_Mar19_cleaned_utt_0000000527-1\n",
      "- GroundTruth: hy vọng của chúng tôi về vòng đu quay tại sở thú quốc gia là làm cho mọi người vui và có dịp học hỏi về động vật và địa bàn sinh sống của chúng\n",
      "- Predicted: hy vọng của chúng tôi về vòng đua quay tại sự thuốc gia là làm cho mọi người vui và có dịp hỏi về động vật và địa bàn sống của chúng.\n"
     ]
    },
    {
     "name": "stderr",
     "output_type": "stream",
     "text": [
      "/home/ngo/anaconda3/lib/python3.12/site-packages/whisper/transcribe.py:126: UserWarning: FP16 is not supported on CPU; using FP32 instead\n",
      "  warnings.warn(\"FP16 is not supported on CPU; using FP32 instead\")\n"
     ]
    },
    {
     "name": "stdout",
     "output_type": "stream",
     "text": [
      "- (7/100)Process file: ./data/database_sa1_Jan08_Mar19_cleaned_utt_0000001860-1\n",
      "- GroundTruth: nói rằng mình có những bằng chứng lịch sử khẳng định chủ quyền ở biển đông trung quốc khẳng định mục tiêu căn bản ở khu vực này là biến biển đông thành nơi hòa bình hữu nghị bài xã luận của tân hoa xã nói điều này phù hợp với viễn kiến phát triển hòa bình của trung quốc và cũng nằm trong lợi ích của mỹ\n",
      "- Predicted: nói rằng có những bằng chứng lịch sử khẳng định chủ quyền ở biển đông, trung quốc khẳng định mục tiêu căn bản ở khu vực này là biến biển đông thành nơi hòa bình của mỹ. bài xã luận của tân hoa xã nói điều này phù hợp với viễn kiến phát triển hòa bình của trung quốc và cũng nằm trong lợi ích của mỹ.\n"
     ]
    },
    {
     "name": "stderr",
     "output_type": "stream",
     "text": [
      "/home/ngo/anaconda3/lib/python3.12/site-packages/whisper/transcribe.py:126: UserWarning: FP16 is not supported on CPU; using FP32 instead\n",
      "  warnings.warn(\"FP16 is not supported on CPU; using FP32 instead\")\n"
     ]
    },
    {
     "name": "stdout",
     "output_type": "stream",
     "text": [
      "- (8/100)Process file: ./data/database_sa1_Jan08_Mar19_cleaned_utt_0000001406-1\n",
      "- GroundTruth: ít ai có thể ngờ rằng ở nơi nhiều khi nhiệt độ xuống tới âm hai mươi độ xê trong mùa đông lại có một căn nhà vườn đậm chất việt nam như vậy\n",
      "- Predicted: ai có thể ngờ rằng, ở nơi nhiều khi nhiệt hộp xuống tới âm 20 độ c trong mùa đông, lại có một căn nhà vườn đậm chất việt nam như vậy.\n"
     ]
    },
    {
     "name": "stderr",
     "output_type": "stream",
     "text": [
      "/home/ngo/anaconda3/lib/python3.12/site-packages/whisper/transcribe.py:126: UserWarning: FP16 is not supported on CPU; using FP32 instead\n",
      "  warnings.warn(\"FP16 is not supported on CPU; using FP32 instead\")\n"
     ]
    },
    {
     "name": "stdout",
     "output_type": "stream",
     "text": [
      "- (9/100)Process file: ./data/database_sa1_Jan08_Mar19_cleaned_utt_0000000152-1\n",
      "- GroundTruth: nếu nấu cơm đảm bảo thì mình cứ lấy gạo nó ngon ngon một chút thì về mình nấu cơm nó ngon nên thì người ta mua thì một lần hai lần ta thấy ngon thì người ta cứ tới người ta mua hoài vậy đó\n",
      "- Predicted: nếu có nớt cơm, rảm, rạo thì mình cứ lấy cái rạo nó ngon ngon một chút. thì về mình nấu cơm nó ngon lên thì người ta mua thì một lần, hai lần ta thấy ngon. người ta cứ tới ta mua hoài vậy ạ.\n"
     ]
    },
    {
     "name": "stderr",
     "output_type": "stream",
     "text": [
      "/home/ngo/anaconda3/lib/python3.12/site-packages/whisper/transcribe.py:126: UserWarning: FP16 is not supported on CPU; using FP32 instead\n",
      "  warnings.warn(\"FP16 is not supported on CPU; using FP32 instead\")\n"
     ]
    },
    {
     "name": "stdout",
     "output_type": "stream",
     "text": [
      "- (10/100)Process file: ./data/database_sa1_Jan08_Mar19_cleaned_utt_0000000795-1\n",
      "- GroundTruth: và tìm thấy dấu vết máu trên một người phụ nữ trong nhóm có họ là nguyễn ba mươi sáu tuổi bà nguyễn thừa nhận đã nấu thịt chó và khai ra năm công nhân tên giáp năm mươi hai tuổi là người giết con chó\n",
      "- Predicted: và tìm thấy dấu vết máu trên một người phụ nữ trong nhóm có họ là nguyễn, 36 tuổi. bà nguyễn thừa nhận đã nấu thịt chó và khai sang nam công nhân tên sáp, 52 tuổi, là người giết con chó.\n"
     ]
    },
    {
     "name": "stderr",
     "output_type": "stream",
     "text": [
      "/home/ngo/anaconda3/lib/python3.12/site-packages/whisper/transcribe.py:126: UserWarning: FP16 is not supported on CPU; using FP32 instead\n",
      "  warnings.warn(\"FP16 is not supported on CPU; using FP32 instead\")\n"
     ]
    },
    {
     "name": "stdout",
     "output_type": "stream",
     "text": [
      "- (11/100)Process file: ./data/database_sa1_Jan08_Mar19_cleaned_utt_0000002351-1\n",
      "- GroundTruth: chúng ta cần phải áp lực không ngừng để việt nam phải có những cải thiện về nhân quyền giữa hai nước việt mỹ có thể quan hệ giao thương và nhiều thứ khác nữa nhưng những vấn đề cần được ưu tiên phải làm trước đã tôi hy vọng các tiểu bang khác và những nơi khác sẽ theo chân chúng tôi ban hành những nghị quyết tương tự như thế này để thúc đẩy cho nhân quyền việt nam\n",
      "- Predicted: chúng ta cần phải áp lực không ngừng để việt nam phải có những cải thiện về nhân quyền. giữa hai nước việt-mỹ có thể quan hệ giao thương và nhiều thứ khác nữa, nhưng những vấn đề của người ưu tiên phải làm trước đã. tôi hy vọng các biểu bang khác và những người khác sẽ theo chân chúng tôi văn hành những kỷ quyết tương tự như thế này để thúc đẩy cho nhân quyền việt nam.\n"
     ]
    },
    {
     "name": "stderr",
     "output_type": "stream",
     "text": [
      "/home/ngo/anaconda3/lib/python3.12/site-packages/whisper/transcribe.py:126: UserWarning: FP16 is not supported on CPU; using FP32 instead\n",
      "  warnings.warn(\"FP16 is not supported on CPU; using FP32 instead\")\n"
     ]
    },
    {
     "name": "stdout",
     "output_type": "stream",
     "text": [
      "- (12/100)Process file: ./data/database_sa1_Jan08_Mar19_cleaned_utt_0000001020-1\n",
      "- GroundTruth: mọi người hàng rong hà nội như một nốt nhạc thánh thót làm nên vẻ du dương và trữ tình của hà nội\n",
      "- Predicted: mọi người hàng trong hà nội như một lúc nhạc thật thoát làm nên vẹn du dương và địa tình của hàng.\n"
     ]
    },
    {
     "name": "stderr",
     "output_type": "stream",
     "text": [
      "/home/ngo/anaconda3/lib/python3.12/site-packages/whisper/transcribe.py:126: UserWarning: FP16 is not supported on CPU; using FP32 instead\n",
      "  warnings.warn(\"FP16 is not supported on CPU; using FP32 instead\")\n"
     ]
    },
    {
     "name": "stdout",
     "output_type": "stream",
     "text": [
      "- (13/100)Process file: ./data/database_sa1_Jan08_Mar19_cleaned_utt_0000001193-1\n",
      "- GroundTruth: trong vi đi ô thông báo về việc hoãn phê chuẩn nghị sĩ\n",
      "- Predicted: trong video thông báo về việc hoàn tất về chuẩn bị xử lý.\n"
     ]
    },
    {
     "name": "stderr",
     "output_type": "stream",
     "text": [
      "/home/ngo/anaconda3/lib/python3.12/site-packages/whisper/transcribe.py:126: UserWarning: FP16 is not supported on CPU; using FP32 instead\n",
      "  warnings.warn(\"FP16 is not supported on CPU; using FP32 instead\")\n"
     ]
    },
    {
     "name": "stdout",
     "output_type": "stream",
     "text": [
      "- (14/100)Process file: ./data/database_sa1_Jan08_Mar19_cleaned_utt_0000000841-1\n",
      "- GroundTruth: liên đoàn quốc tế nhân quyền tổ chức thế giới chống tra tấn và ủy ban bảo vệ quyền là người việt nam ngày hai mươi hai tháng ba gửi thư cho giới lãnh đạo cấp cao của hà nội yêu cầu chấm dứt sách nhiễu và đàn áp nhà hoạt động tôn giáo lê công cầu ở thừa thiên huế vụ trưởng gia đình phật tử thuộc viện hóa đạo giáo hội phật giáo việt nam thống nhất một tổ chức tôn giáo không được nhà nước việt nam thừa nhận\n",
      "- Predicted: liên đoàn quốc tế nhân quyền, tổ chức thế giới chống trạ tấn và ủy ban bảo vệ quyền hành lực việt nam ngày 22 tháng 3 lấy thơ cho giới lãnh đạo quốc cao của hà nội kêu khẩu chấm dứt sách nhiễu và đàn áp nhà hội hội tôn giáo lê công cậu ở thực tinh huế, vô trưởng gia đình phật tự, phục viện hóa đạo, giáo hội việt nam việt nam thứ nhất, một tổ chức tôn giáo không được nhà nước việt nam gửi nhận.\n"
     ]
    },
    {
     "name": "stderr",
     "output_type": "stream",
     "text": [
      "/home/ngo/anaconda3/lib/python3.12/site-packages/whisper/transcribe.py:126: UserWarning: FP16 is not supported on CPU; using FP32 instead\n",
      "  warnings.warn(\"FP16 is not supported on CPU; using FP32 instead\")\n"
     ]
    },
    {
     "name": "stdout",
     "output_type": "stream",
     "text": [
      "- (15/100)Process file: ./data/database_sa1_Jan08_Mar19_cleaned_utt_0000002005-1\n",
      "- GroundTruth: báo cáo của tạp chí na sừn nồ gieo gờ ráp phíc năm ngoái nói sản lượng đánh bắt cá hằng năm ở biển đông lên tới trên mười sáu triệu tấn cá\n",
      "- Predicted: báo cáo của tạp chí national geographic hằng ngoái nói sáng lượng đến bắt cá hàng năm ở biển đông lên tới trên 16 triệu tấn ca.\n"
     ]
    },
    {
     "name": "stderr",
     "output_type": "stream",
     "text": [
      "/home/ngo/anaconda3/lib/python3.12/site-packages/whisper/transcribe.py:126: UserWarning: FP16 is not supported on CPU; using FP32 instead\n",
      "  warnings.warn(\"FP16 is not supported on CPU; using FP32 instead\")\n"
     ]
    },
    {
     "name": "stdout",
     "output_type": "stream",
     "text": [
      "- (16/100)Process file: ./data/database_sa1_Jan08_Mar19_cleaned_utt_0000002044-1\n",
      "- GroundTruth: các bạn đưa ra một cái phen hoặc là một cái kế hoạch ý thì cái quan trọng nhất là bạn sẽ phải có bạn sẽ phải liên lạc bạn sẽ phải à\n",
      "- Predicted: các bạn đưa ra một cái plan hoặc là một cái kế hoạch thì cái quan trọng nhất là bạn sẽ phải liên lạc và sẽ phải\n"
     ]
    },
    {
     "name": "stderr",
     "output_type": "stream",
     "text": [
      "/home/ngo/anaconda3/lib/python3.12/site-packages/whisper/transcribe.py:126: UserWarning: FP16 is not supported on CPU; using FP32 instead\n",
      "  warnings.warn(\"FP16 is not supported on CPU; using FP32 instead\")\n"
     ]
    },
    {
     "name": "stdout",
     "output_type": "stream",
     "text": [
      "- (17/100)Process file: ./data/database_sa1_Jan08_Mar19_cleaned_utt_0000000820-1\n",
      "- GroundTruth: hợp thành đội ô lim pích triều tiên thống nhất đầu tiên kể từ khi hai bên chia cắt trong cuộc nội chiến năm một ngàn chín trăm năm mươi\n",
      "- Predicted: hợp thành đội olympic triều tiên thống nhất đầu tiên kể từ khi hai bên chi cắt trong cuộc đấu trí năm 1950.\n"
     ]
    },
    {
     "name": "stderr",
     "output_type": "stream",
     "text": [
      "/home/ngo/anaconda3/lib/python3.12/site-packages/whisper/transcribe.py:126: UserWarning: FP16 is not supported on CPU; using FP32 instead\n",
      "  warnings.warn(\"FP16 is not supported on CPU; using FP32 instead\")\n"
     ]
    },
    {
     "name": "stdout",
     "output_type": "stream",
     "text": [
      "- (18/100)Process file: ./data/database_sa1_Jan08_Mar19_cleaned_utt_0000000629-1\n",
      "- GroundTruth: phát ngôn viên lê hải bình một lần nữa lặp lại các tuyên bố trước đây về việc việt nam có đầy đủ cơ sở pháp lý và chứng cứ lịch sử về chủ quyền không tranh cãi đối với hai quần đảo hoàng sa và trường sa\n",
      "- Predicted: phát ngôn viên lê hải bình một lần nữa lặp lại các tư vô thức đây về việc việt nam có đầy đủ cơ sở pháp lý và chính trị để sử dụng về chủ quyền không tranh cãi đối với hai quốc đạo hoàng sa và đức sa.\n"
     ]
    },
    {
     "name": "stderr",
     "output_type": "stream",
     "text": [
      "/home/ngo/anaconda3/lib/python3.12/site-packages/whisper/transcribe.py:126: UserWarning: FP16 is not supported on CPU; using FP32 instead\n",
      "  warnings.warn(\"FP16 is not supported on CPU; using FP32 instead\")\n"
     ]
    },
    {
     "name": "stdout",
     "output_type": "stream",
     "text": [
      "- (19/100)Process file: ./data/database_sa1_Jan08_Mar19_cleaned_utt_0000002197-1\n",
      "- GroundTruth: nó nó nó sưng lên nó nằm ở trong <unk>\n",
      "- Predicted: nó xuyên lên nó nằm ở trong\n"
     ]
    },
    {
     "name": "stderr",
     "output_type": "stream",
     "text": [
      "/home/ngo/anaconda3/lib/python3.12/site-packages/whisper/transcribe.py:126: UserWarning: FP16 is not supported on CPU; using FP32 instead\n",
      "  warnings.warn(\"FP16 is not supported on CPU; using FP32 instead\")\n"
     ]
    },
    {
     "name": "stdout",
     "output_type": "stream",
     "text": [
      "- (20/100)Process file: ./data/database_sa1_Jan08_Mar19_cleaned_utt_0000001653-1\n",
      "- GroundTruth: trà my kính mời quý vị đến với chương trình quép cát của bang việt ngữ đài tiếng nói hoa kỳ trong những năm gần đây nước mỹ xuất hiện một phong trào sản xuất bia lớn mạnh được biết với tên gọi là bia thủ công\n",
      "- Predicted: chào mừng quý vị đến với bản tin nữ đài tiện hóa hoa kỳ. trong những năm gần đây, nước mỹ xuất hiện một phong trào sản xuất bia lớn mạnh được biết với tên gọi là bia thủ công.\n"
     ]
    },
    {
     "name": "stderr",
     "output_type": "stream",
     "text": [
      "/home/ngo/anaconda3/lib/python3.12/site-packages/whisper/transcribe.py:126: UserWarning: FP16 is not supported on CPU; using FP32 instead\n",
      "  warnings.warn(\"FP16 is not supported on CPU; using FP32 instead\")\n"
     ]
    },
    {
     "name": "stdout",
     "output_type": "stream",
     "text": [
      "- (21/100)Process file: ./data/database_sa1_Jan08_Mar19_cleaned_utt_0000000762-1\n",
      "- GroundTruth: quý vị đã theo dõi tin tức của đài tiếng nói hoa kỳ các chương trình ra đi ô vi đi ô của chúng tôi trên vi ô ây tiếng việt chấm com có thể xem dễ dàng khi dùng trình duyệt ô pê ra trang phếch búc vi ô ây tiếng việt\n",
      "- Predicted: vị đã theo dõi tin tức của đài tương lãi hoa kỳ, các chương trình radio, video của chúng tôi trên voatiengviet.com. có thể xem dễ dàng khi dùng trình duyệt opera, trang facebook voa tiếng việt.\n"
     ]
    },
    {
     "name": "stderr",
     "output_type": "stream",
     "text": [
      "/home/ngo/anaconda3/lib/python3.12/site-packages/whisper/transcribe.py:126: UserWarning: FP16 is not supported on CPU; using FP32 instead\n",
      "  warnings.warn(\"FP16 is not supported on CPU; using FP32 instead\")\n"
     ]
    },
    {
     "name": "stdout",
     "output_type": "stream",
     "text": [
      "- (22/100)Process file: ./data/database_sa1_Jan08_Mar19_cleaned_utt_0000002087-1\n",
      "- GroundTruth: cũng cũng được làm cho ngắn gọn hơn chữ\n",
      "- Predicted: cũng được làm cho ngắn rõ hơn chứ\n"
     ]
    },
    {
     "name": "stderr",
     "output_type": "stream",
     "text": [
      "/home/ngo/anaconda3/lib/python3.12/site-packages/whisper/transcribe.py:126: UserWarning: FP16 is not supported on CPU; using FP32 instead\n",
      "  warnings.warn(\"FP16 is not supported on CPU; using FP32 instead\")\n"
     ]
    },
    {
     "name": "stdout",
     "output_type": "stream",
     "text": [
      "- (23/100)Process file: ./data/database_sa1_Jan08_Mar19_cleaned_utt_0000001861-1\n",
      "- GroundTruth: bài báo cũng chỉ trích những người mà họ gọi là mang tư tưởng thời chiến tranh lạnh ở goa sin tơn muốn xem vấn đề này là cơ hội để kiềm chế trung quốc và cản trở sự phát triển của trung quốc\n",
      "- Predicted: bài báo cũng chỉ trích những người mà họ gọi là mang tư tưởng thời chiến trần lành ở washington, muốn xem vấn đề này là cơ hội để kiềm chế trung quốc và cảnh trở sự phát triển của trung quốc.\n"
     ]
    },
    {
     "name": "stderr",
     "output_type": "stream",
     "text": [
      "/home/ngo/anaconda3/lib/python3.12/site-packages/whisper/transcribe.py:126: UserWarning: FP16 is not supported on CPU; using FP32 instead\n",
      "  warnings.warn(\"FP16 is not supported on CPU; using FP32 instead\")\n"
     ]
    },
    {
     "name": "stdout",
     "output_type": "stream",
     "text": [
      "- (24/100)Process file: ./data/database_sa1_Jan08_Mar19_cleaned_utt_0000001103-1\n",
      "- GroundTruth: làm như vậy chúng ta đang loại bỏ những chính sách đưa tới việc các quân nhân chuyển giới\n",
      "- Predicted: làm như vậy chúng ta đang loại bỏ những chính sách đưa tới việc các quân nhân chuyển giới.\n"
     ]
    },
    {
     "name": "stderr",
     "output_type": "stream",
     "text": [
      "/home/ngo/anaconda3/lib/python3.12/site-packages/whisper/transcribe.py:126: UserWarning: FP16 is not supported on CPU; using FP32 instead\n",
      "  warnings.warn(\"FP16 is not supported on CPU; using FP32 instead\")\n"
     ]
    },
    {
     "name": "stdout",
     "output_type": "stream",
     "text": [
      "- (25/100)Process file: ./data/database_sa1_Jan08_Mar19_cleaned_utt_0000000678-1\n",
      "- GroundTruth: điều đó theo ông là mục tiêu tối hậu của các nhà khoa học\n",
      "- Predicted: điều đó theo ông là một tiêu tuy hậu của các nhà khoa học.\n"
     ]
    },
    {
     "name": "stderr",
     "output_type": "stream",
     "text": [
      "/home/ngo/anaconda3/lib/python3.12/site-packages/whisper/transcribe.py:126: UserWarning: FP16 is not supported on CPU; using FP32 instead\n",
      "  warnings.warn(\"FP16 is not supported on CPU; using FP32 instead\")\n"
     ]
    },
    {
     "name": "stdout",
     "output_type": "stream",
     "text": [
      "- (26/100)Process file: ./data/database_sa1_Jan08_Mar19_cleaned_utt_0000001816-1\n",
      "- GroundTruth: người ta ước tính rằng hai mươi lăm phần trăm bệnh nhân tiểu đường sẽ bị loét chân đây là một vấn đề nghiêm trọng trên toàn thế giới và ở anh nó còn đẩy nhanh tiến trình cắt cụt\n",
      "- Predicted: người ta ước tính rằng 25% người nhân tiểu đường sẽ bị đất chân. đây là một vấn đề nghiêm trọng trên toàn thế giới. và ở anh, nó còn để nhanh tiến trình thất cụt.\n"
     ]
    },
    {
     "name": "stderr",
     "output_type": "stream",
     "text": [
      "/home/ngo/anaconda3/lib/python3.12/site-packages/whisper/transcribe.py:126: UserWarning: FP16 is not supported on CPU; using FP32 instead\n",
      "  warnings.warn(\"FP16 is not supported on CPU; using FP32 instead\")\n"
     ]
    },
    {
     "name": "stdout",
     "output_type": "stream",
     "text": [
      "- (27/100)Process file: ./data/database_sa1_Jan08_Mar19_cleaned_utt_0000001611-1\n",
      "- GroundTruth: khúc biến tấu sắc màu của phở phở từ lâu đã trở thành món ăn ngon đặc trưng cho quốc hồn quốc túy của người việt nam trong lòng bạn bè thế giới trong vòng vài năm gần đây sài gòn xuất hiện một loại bánh phở với đầy màu sắc và được chế biến tại chỗ mang đến nhiều khám phá vô cùng thú vị của thực khách ngoài việc bánh phở tươi được sản xuất bằng một loại máy riêng đặt ngay tại quán món phở này còn khoác lên mình chiếc áo mới với nhiều màu sắc khác nhau khiến món phở quen thuộc với người dân việt nam bỗng trở nên khác lạ phong phú và đặc sắc hơn\n",
      "- Predicted: cúc biến tấu sắc màu của phở từ lâu đã trở thành món ăn ngon đặc trưng cho cúc hồn, cúc thúy của người việt nam trong lòng bạn bè thế giới. trong vòng vài năm gần đây, sài gòn xuất hiện một loại bánh phở mới đầy màu sắc và được chế biến tại chỗ, mang đến nhiều khám khá vô cùng thú vị của khách. ngoài việc bánh phở tươi được sản xuất bằng một loại máy riêng đặt ngay tại quán, món phở này còn khoác lên mình chiếc áo mới với nhiều màu sắc khác nhau khiến món phở quen thuộc với người dân việt nam cũng trở nên khác lạ không thương bất bài.\n"
     ]
    },
    {
     "name": "stderr",
     "output_type": "stream",
     "text": [
      "/home/ngo/anaconda3/lib/python3.12/site-packages/whisper/transcribe.py:126: UserWarning: FP16 is not supported on CPU; using FP32 instead\n",
      "  warnings.warn(\"FP16 is not supported on CPU; using FP32 instead\")\n"
     ]
    },
    {
     "name": "stdout",
     "output_type": "stream",
     "text": [
      "- (28/100)Process file: ./data/database_sa1_Jan08_Mar19_cleaned_utt_0000000072-1\n",
      "- GroundTruth: bây giờ mình nói từ thẻ xanh hai năm tới thẻ xanh vĩnh viễn minh đang ờ nói về thẻ xanh nhưng mà có quá nhiều câu hỏi\n",
      "- Predicted: bây giờ mình nói từ thẻ sanh 2 năm tới thẻ sanh tuyển biệt. mình đang nói về thẻ sanh nhưng mà có quá nhiều câu hỏi.\n"
     ]
    },
    {
     "name": "stderr",
     "output_type": "stream",
     "text": [
      "/home/ngo/anaconda3/lib/python3.12/site-packages/whisper/transcribe.py:126: UserWarning: FP16 is not supported on CPU; using FP32 instead\n",
      "  warnings.warn(\"FP16 is not supported on CPU; using FP32 instead\")\n"
     ]
    },
    {
     "name": "stdout",
     "output_type": "stream",
     "text": [
      "- (29/100)Process file: ./data/database_sa1_Jan08_Mar19_cleaned_utt_0000001008-1\n",
      "- GroundTruth: nga sẽ chuyển giao hai tàu ngầm điện đi a den lớp va sáp dan ca cho việt nam vào năm sau việt nam năm hai nghìn lẻ chín đặt mua sáu tàu ngầm của nga trong một hợp đồng trị giá hai tỷ đô la một động thái được xem là nỗ lực tăng cường lực lượng trước sự bành trướng không ngừng của trung quốc ở biển đông\n",
      "- Predicted: nga sẽ chuyển giao hai tàu ngầm điện delsen, lodz và sávdjaka cho việt nam vào năm sau. việt nam năm 2009 đặt mua sáu tàu ngầm của nga trong một hợp đồng trị giá 2 triệu đô la, một bấm khí để xem lại nỗ lực thăng cường một lần trước sự bành trướng không lường của trung quốc ở biển đồng.\n"
     ]
    },
    {
     "name": "stderr",
     "output_type": "stream",
     "text": [
      "/home/ngo/anaconda3/lib/python3.12/site-packages/whisper/transcribe.py:126: UserWarning: FP16 is not supported on CPU; using FP32 instead\n",
      "  warnings.warn(\"FP16 is not supported on CPU; using FP32 instead\")\n"
     ]
    },
    {
     "name": "stdout",
     "output_type": "stream",
     "text": [
      "- (30/100)Process file: ./data/database_sa1_Jan08_Mar19_cleaned_utt_0000001673-1\n",
      "- GroundTruth: trong đó vốn vay tín dụng ưu đãi của chính phủ trung quốc là một trăm sáu mươi chín triệu đô la\n",
      "- Predicted: trong đó, vốn vay tín dụng ưu đại của chính phủ quốc là 169 triệu đô la.\n"
     ]
    },
    {
     "name": "stderr",
     "output_type": "stream",
     "text": [
      "/home/ngo/anaconda3/lib/python3.12/site-packages/whisper/transcribe.py:126: UserWarning: FP16 is not supported on CPU; using FP32 instead\n",
      "  warnings.warn(\"FP16 is not supported on CPU; using FP32 instead\")\n"
     ]
    },
    {
     "name": "stdout",
     "output_type": "stream",
     "text": [
      "- (31/100)Process file: ./data/database_sa1_Jan08_Mar19_cleaned_utt_0000000692-1\n",
      "- GroundTruth: các nhà phân tích cho rằng các công ty dầu hỏa nước ngoài quan tâm đến hồ sơ dự thầu\n",
      "- Predicted: các nhà phân tích cho rằng các công ty dầu phả nước ngoài quan tâm đến hồ sơ dự thầu.\n"
     ]
    },
    {
     "name": "stderr",
     "output_type": "stream",
     "text": [
      "/home/ngo/anaconda3/lib/python3.12/site-packages/whisper/transcribe.py:126: UserWarning: FP16 is not supported on CPU; using FP32 instead\n",
      "  warnings.warn(\"FP16 is not supported on CPU; using FP32 instead\")\n"
     ]
    },
    {
     "name": "stdout",
     "output_type": "stream",
     "text": [
      "- (32/100)Process file: ./data/database_sa1_Jan08_Mar19_cleaned_utt_0000001073-1\n",
      "- GroundTruth: nhân viên cứu hộ và những người đứng xem tại thị trấn pô rét reo mừng khi một người đàn ông được mang ra khỏi đống đổ nát và được chuyển đến một cơ sở y tế gần đó\n",
      "- Predicted: những viên cứu hộ vẫn vui đứng xem tại thị trường corrack-zellman khi một người đàn ông được mang ra khỏi đống đổ nát và được truyền đến của sự y tế gần đó.\n"
     ]
    },
    {
     "name": "stderr",
     "output_type": "stream",
     "text": [
      "/home/ngo/anaconda3/lib/python3.12/site-packages/whisper/transcribe.py:126: UserWarning: FP16 is not supported on CPU; using FP32 instead\n",
      "  warnings.warn(\"FP16 is not supported on CPU; using FP32 instead\")\n"
     ]
    },
    {
     "name": "stdout",
     "output_type": "stream",
     "text": [
      "- (33/100)Process file: ./data/database_sa1_Jan08_Mar19_cleaned_utt_0000000419-1\n",
      "- GroundTruth: <unk> cho na tô cho đến là\n",
      "- Predicted: giờ trở ra tô chứ đến là\n"
     ]
    },
    {
     "name": "stderr",
     "output_type": "stream",
     "text": [
      "/home/ngo/anaconda3/lib/python3.12/site-packages/whisper/transcribe.py:126: UserWarning: FP16 is not supported on CPU; using FP32 instead\n",
      "  warnings.warn(\"FP16 is not supported on CPU; using FP32 instead\")\n"
     ]
    },
    {
     "name": "stdout",
     "output_type": "stream",
     "text": [
      "- (34/100)Process file: ./data/database_sa1_Jan08_Mar19_cleaned_utt_0000000801-1\n",
      "- GroundTruth: ngay sau khi cuộc gặp thượng đỉnh giữa mỹ và triều tiên kết thúc ở sing ga po chiều ngày mười hai tháng sáu bộ ngoại giao việt nam lập tức lên tiếng hoan nghênh kết quả của cuộc gặp được cho là lịch sử giữa tổng thống đo nồ trăm và chủ tịch kim giong um\n",
      "- Predicted: ngay sau khi cuộc gặp thượng đỉnh giữa mỹ và triều tiên kết thúc ở singapore chiều ngày 12 tháng 6, bộ ngoại giao việt nam lận tức lên tiếng hoan nghênh kết quả của cuộc gặp được cho là lịch sử giữa tổng thống donald trump và chủ tịch kim jong-un.\n"
     ]
    },
    {
     "name": "stderr",
     "output_type": "stream",
     "text": [
      "/home/ngo/anaconda3/lib/python3.12/site-packages/whisper/transcribe.py:126: UserWarning: FP16 is not supported on CPU; using FP32 instead\n",
      "  warnings.warn(\"FP16 is not supported on CPU; using FP32 instead\")\n"
     ]
    },
    {
     "name": "stdout",
     "output_type": "stream",
     "text": [
      "- (35/100)Process file: ./data/database_sa1_Jan08_Mar19_cleaned_utt_0000000477-1\n",
      "- GroundTruth: sẽ nhận được một bộ sưu tập quần áo mới một số tiền không được tiết lộ và một căn hộ ở thành phố niu oóc\n",
      "- Predicted: sẽ nhận được một bộ siêu tập quần áo mới, một số tiền không được tiết lộ và một căn hộ ở thành phố new york.\n"
     ]
    },
    {
     "name": "stderr",
     "output_type": "stream",
     "text": [
      "/home/ngo/anaconda3/lib/python3.12/site-packages/whisper/transcribe.py:126: UserWarning: FP16 is not supported on CPU; using FP32 instead\n",
      "  warnings.warn(\"FP16 is not supported on CPU; using FP32 instead\")\n"
     ]
    },
    {
     "name": "stdout",
     "output_type": "stream",
     "text": [
      "- (36/100)Process file: ./data/database_sa1_Jan08_Mar19_cleaned_utt_0000000028-1\n",
      "- GroundTruth: theo bà đây là một sự thật đã được thừa nhận rộng rãi\n",
      "- Predicted: theo bà đây là một sự thật đã được người nhận rộng rãi.\n"
     ]
    },
    {
     "name": "stderr",
     "output_type": "stream",
     "text": [
      "/home/ngo/anaconda3/lib/python3.12/site-packages/whisper/transcribe.py:126: UserWarning: FP16 is not supported on CPU; using FP32 instead\n",
      "  warnings.warn(\"FP16 is not supported on CPU; using FP32 instead\")\n"
     ]
    },
    {
     "name": "stdout",
     "output_type": "stream",
     "text": [
      "- (37/100)Process file: ./data/database_sa1_Jan08_Mar19_cleaned_utt_0000002007-1\n",
      "- GroundTruth: người dân không phàn nàn coi đó là chuyện thường nhưng các giới chức đối xử với họ một cách tồi tệ nói ngắn gọn thời điểm này thật khó khăn nếu anh là một người sy ri a ở đây\n",
      "- Predicted: người dân cũng phản nàn, coi đó là chuyện thường nhưng các giới chức đối xử với họ một cách tồi tệ nói gắn gọn, thời điểm này cũng khó khăn nếu anh là người syria ở đây\n"
     ]
    },
    {
     "name": "stderr",
     "output_type": "stream",
     "text": [
      "/home/ngo/anaconda3/lib/python3.12/site-packages/whisper/transcribe.py:126: UserWarning: FP16 is not supported on CPU; using FP32 instead\n",
      "  warnings.warn(\"FP16 is not supported on CPU; using FP32 instead\")\n"
     ]
    },
    {
     "name": "stdout",
     "output_type": "stream",
     "text": [
      "- (38/100)Process file: ./data/database_sa1_Jan08_Mar19_cleaned_utt_0000002194-1\n",
      "- GroundTruth: dạ vầng câu hỏi của gia phạm cháu tám tuổi hay bị khịt mũi át xì nhảy mũi tối ngủ hay ho khan tiếng lớn làm thế nào để khỏi\n",
      "- Predicted: chào mừng, câu hỏi của ga phạm, cháu 8 tuổi hay bị khịch mũi, ác xì, nhảy mũi, tối ngủ hay hò khang tiếng lớn, làm thế nào để khỏi?\n"
     ]
    },
    {
     "name": "stderr",
     "output_type": "stream",
     "text": [
      "/home/ngo/anaconda3/lib/python3.12/site-packages/whisper/transcribe.py:126: UserWarning: FP16 is not supported on CPU; using FP32 instead\n",
      "  warnings.warn(\"FP16 is not supported on CPU; using FP32 instead\")\n"
     ]
    },
    {
     "name": "stdout",
     "output_type": "stream",
     "text": [
      "- (39/100)Process file: ./data/database_sa1_Jan08_Mar19_cleaned_utt_0000000111-1\n",
      "- GroundTruth: mọi người đã thử các kiểu ăn kiêng và luyện tập khác nhau mà không hiệu quả họ thấy nếch kịt như một cách để thấy được sự rõ ràng hơn về những gì đang thay đổi trên cơ thể của họ\n",
      "- Predicted: mọi người đã thử các kiểu ăn kiêng và luyện tập khác nhau mà không hiệu quả. họ thấy naked như một cách để thấy được sự rõ ràng hơn về những gì đang thay đổi trên cơ thể của họ.\n"
     ]
    },
    {
     "name": "stderr",
     "output_type": "stream",
     "text": [
      "/home/ngo/anaconda3/lib/python3.12/site-packages/whisper/transcribe.py:126: UserWarning: FP16 is not supported on CPU; using FP32 instead\n",
      "  warnings.warn(\"FP16 is not supported on CPU; using FP32 instead\")\n"
     ]
    },
    {
     "name": "stdout",
     "output_type": "stream",
     "text": [
      "- (40/100)Process file: ./data/database_sa1_Jan08_Mar19_cleaned_utt_0000001593-1\n",
      "- GroundTruth: và sau khi bỏ nhiều công sức nhiều giờ lao động những lần máy bay trực thăng bay qua những lần vệ tinh quay quanh nguyên vật liệu và ý tưởng sáng tạo khơi mào thì tác phẩm nghệ thuật này sẽ biến mất vào tháng mười một ít ra thì chúng ta vẫn có thể nhìn được toàn cảnh ở đây\n",
      "- Predicted: và sau khi bỏ nhiều công sức, nhiều giờ lao động, những lần máy bay tuyệt thăng bay qua, những lần vệ tinh quay quanh, hư, liệu và đi tưởng sáng tạo khơi màu, thì tác phẩm nghệ thuật này sẽ biến mất vào tháng 11. tiếp ra thì chúng ta vẫn có thể nhìn được hoàn cảnh như đây.\n"
     ]
    },
    {
     "name": "stderr",
     "output_type": "stream",
     "text": [
      "/home/ngo/anaconda3/lib/python3.12/site-packages/whisper/transcribe.py:126: UserWarning: FP16 is not supported on CPU; using FP32 instead\n",
      "  warnings.warn(\"FP16 is not supported on CPU; using FP32 instead\")\n"
     ]
    },
    {
     "name": "stdout",
     "output_type": "stream",
     "text": [
      "- (41/100)Process file: ./data/database_sa1_Jan08_Mar19_cleaned_utt_0000000861-1\n",
      "- GroundTruth: dòng xưa vẫn tôi lượn lờ bên ngoài lăng mộ như dòng thời gian miêng việt qua lịch sử qua số phận của một con người một dân tộc một quốc gia\n",
      "- Predicted: dòng xưa vẫn tôi lực lờ bên ngoài lăng bồ, như dòng thời gian miên việt qua lịch sử, qua số phận của một con người, một dân tộc, một quốc gia.\n"
     ]
    },
    {
     "name": "stderr",
     "output_type": "stream",
     "text": [
      "/home/ngo/anaconda3/lib/python3.12/site-packages/whisper/transcribe.py:126: UserWarning: FP16 is not supported on CPU; using FP32 instead\n",
      "  warnings.warn(\"FP16 is not supported on CPU; using FP32 instead\")\n"
     ]
    },
    {
     "name": "stdout",
     "output_type": "stream",
     "text": [
      "- (42/100)Process file: ./data/database_sa1_Jan08_Mar19_cleaned_utt_0000000140-1\n",
      "- GroundTruth: bà cho biết cuộc đua của bà đang diễn ra gay go vì số phiếu khiếm diện gửi lại không nhiều như trông đợi và bà đang nỗ lực hết sức để huy động nhiều phiếu của cử tri gốc việt nhất có thể\n",
      "- Predicted: bà cho biết cuộc đua của bà đang diễn ra gây go vì số phiếu khiến diện gửi lại không nhiều như trong đời, và bà đang nỗ lực hết sức để huy động nhiều phiếu của cựu tri bước việt nhất có thể.\n"
     ]
    },
    {
     "name": "stderr",
     "output_type": "stream",
     "text": [
      "/home/ngo/anaconda3/lib/python3.12/site-packages/whisper/transcribe.py:126: UserWarning: FP16 is not supported on CPU; using FP32 instead\n",
      "  warnings.warn(\"FP16 is not supported on CPU; using FP32 instead\")\n"
     ]
    },
    {
     "name": "stdout",
     "output_type": "stream",
     "text": [
      "- (43/100)Process file: ./data/database_sa1_Jan08_Mar19_cleaned_utt_0000000682-1\n",
      "- GroundTruth: dạ cho chính quyền việt nam điều mà chính quyền việt nam rất cần bởi vì kinh tế việt nam hiện nay đang ở ngưỡng của khủng hoảng thế thì cái việc đó lại lại càng kích thích chính quyền việt nam\n",
      "- Predicted: điều mà ính vực việt nam rất ẩn vì ính vực việt nam đến nay đang ở nước thế thì cái việc đó lại càng kích thích ính vực việt nam\n"
     ]
    },
    {
     "name": "stderr",
     "output_type": "stream",
     "text": [
      "/home/ngo/anaconda3/lib/python3.12/site-packages/whisper/transcribe.py:126: UserWarning: FP16 is not supported on CPU; using FP32 instead\n",
      "  warnings.warn(\"FP16 is not supported on CPU; using FP32 instead\")\n"
     ]
    },
    {
     "name": "stdout",
     "output_type": "stream",
     "text": [
      "- (44/100)Process file: ./data/database_sa1_Jan08_Mar19_cleaned_utt_0000000544-1\n",
      "- GroundTruth: với thái độ hiên ngang cương quyết ông ren si đã được hàng ngàn người ủng hộ ra đón tại sân bay pờ lom pen hôm thứ sáu\n",
      "- Predicted: với thay đổi hiên ngang, thương quýt, ông rensi đã được hàng ngàn người ủng hộ ra đón tại sân bay phnom penh năm sau.\n"
     ]
    },
    {
     "name": "stderr",
     "output_type": "stream",
     "text": [
      "/home/ngo/anaconda3/lib/python3.12/site-packages/whisper/transcribe.py:126: UserWarning: FP16 is not supported on CPU; using FP32 instead\n",
      "  warnings.warn(\"FP16 is not supported on CPU; using FP32 instead\")\n"
     ]
    },
    {
     "name": "stdout",
     "output_type": "stream",
     "text": [
      "- (45/100)Process file: ./data/database_sa1_Jan08_Mar19_cleaned_utt_0000000005-1\n",
      "- GroundTruth: hôn thê hôn phu có nghĩa là chưa có cái giấy hôn thú nếu mà vậy thì kết cục bảo lãnh phải làm coi như là cái người mà được bảo lãnh hoặc phải ở nước ngoài con cái họ không <unk>\n",
      "- Predicted: hôn thê hôn phu có nghĩa là chưa có giấy hôn thú. nếu như vậy thì bảo lãnh phải làm coi như là người được bảo lãnh họ phải ở nước ngoài.\n"
     ]
    },
    {
     "name": "stderr",
     "output_type": "stream",
     "text": [
      "/home/ngo/anaconda3/lib/python3.12/site-packages/whisper/transcribe.py:126: UserWarning: FP16 is not supported on CPU; using FP32 instead\n",
      "  warnings.warn(\"FP16 is not supported on CPU; using FP32 instead\")\n"
     ]
    },
    {
     "name": "stdout",
     "output_type": "stream",
     "text": [
      "- (46/100)Process file: ./data/database_sa1_Jan08_Mar19_cleaned_utt_0000002094-1\n",
      "- GroundTruth: ở thái lan các cộng đồng dọc theo sông mê công nói đập đôn sa hông sẽ gây thiệt hại cho nguồn sinh nhai của họ lệ thuộc chủ yếu vào cá của dòng sông và các tài nguyên thiên nhiên khác\n",
      "- Predicted: ở thái lan, các cộng đồng dọc theo sơn nguyên công nói đập đôn xa hôn sẽ gây thiệt hại cho nguồn sinh nhai của họ, lệ thuộc chủ yếu vào cá của dòng sông và các đại nguyên thương nhiên khác.\n"
     ]
    },
    {
     "name": "stderr",
     "output_type": "stream",
     "text": [
      "/home/ngo/anaconda3/lib/python3.12/site-packages/whisper/transcribe.py:126: UserWarning: FP16 is not supported on CPU; using FP32 instead\n",
      "  warnings.warn(\"FP16 is not supported on CPU; using FP32 instead\")\n"
     ]
    },
    {
     "name": "stdout",
     "output_type": "stream",
     "text": [
      "- (47/100)Process file: ./data/database_sa1_Jan08_Mar19_cleaned_utt_0000001461-1\n",
      "- GroundTruth: không ngờ cho đến khi các nhà khảo cứu đặt những thiết bị cảm biến lên đầu các em và đo lường phản ứng của các em với âm thanh trước và sau khi học\n",
      "- Predicted: không ngờ cho đến khi các nhà khảo cứu đặt những thiết bị cạnh biến lên đầu các em và đo lường phản ứng của các em với âm thanh trước và sau khi học.\n"
     ]
    },
    {
     "name": "stderr",
     "output_type": "stream",
     "text": [
      "/home/ngo/anaconda3/lib/python3.12/site-packages/whisper/transcribe.py:126: UserWarning: FP16 is not supported on CPU; using FP32 instead\n",
      "  warnings.warn(\"FP16 is not supported on CPU; using FP32 instead\")\n"
     ]
    },
    {
     "name": "stdout",
     "output_type": "stream",
     "text": [
      "- (48/100)Process file: ./data/database_sa1_Jan08_Mar19_cleaned_utt_0000000839-1\n",
      "- GroundTruth: tuần trước một tòa án ở thành phố chí minh kết án mười bốn năm tù đối với hai công dân mỹ gốc việt về tội hoạt động chống phá chính quyền nhân dân\n",
      "- Predicted: tuần trước, một tòa án ở tp.hcm kết án lời 4 năm tù đối với 2 cộng dân mỹ, học viện về tội hoạt động chống phá chính quyền nhân dân.\n"
     ]
    },
    {
     "name": "stderr",
     "output_type": "stream",
     "text": [
      "/home/ngo/anaconda3/lib/python3.12/site-packages/whisper/transcribe.py:126: UserWarning: FP16 is not supported on CPU; using FP32 instead\n",
      "  warnings.warn(\"FP16 is not supported on CPU; using FP32 instead\")\n"
     ]
    },
    {
     "name": "stdout",
     "output_type": "stream",
     "text": [
      "- (49/100)Process file: ./data/database_sa1_Jan08_Mar19_cleaned_utt_0000002010-1\n",
      "- GroundTruth: ông ri át cho biết nhà ông ở a lép po đã bị phá hủy và một người con trai của ông đi lính đã thiệt mạng\n",
      "- Predicted: ông riyad cho biết nhà ông ở aleppo đã bị phá hủy vì những người con trai của ông du lính đã thiệt mạng.\n"
     ]
    },
    {
     "name": "stderr",
     "output_type": "stream",
     "text": [
      "/home/ngo/anaconda3/lib/python3.12/site-packages/whisper/transcribe.py:126: UserWarning: FP16 is not supported on CPU; using FP32 instead\n",
      "  warnings.warn(\"FP16 is not supported on CPU; using FP32 instead\")\n"
     ]
    },
    {
     "name": "stdout",
     "output_type": "stream",
     "text": [
      "- (50/100)Process file: ./data/database_sa1_Jan08_Mar19_cleaned_utt_0000000517-1\n",
      "- GroundTruth: họ giô trong biển mình họ bắt mình giờ là cứ ghe tàu mình họ phá hủy hết những cái tín hiệu định vị những bằng chứng mà xác thực là họ tịch thu họ hủy hết rồi bắt đầu họ tới họ ngâm mình qua đây bị giam vô thời hạn\n",
      "- Predicted: họ vô trong biển mình, họ bắt mình vô là cứ ghe tàu mình, họ phá quỷ hết những cái tín hiệu định vị, những cái bằng chứng mà chắc chắn là họ tù họ quỷ hết. rồi bắt đầu họ cứ họ ngâm mình, qua đây là bị giam vô tàu nè.\n"
     ]
    },
    {
     "name": "stderr",
     "output_type": "stream",
     "text": [
      "/home/ngo/anaconda3/lib/python3.12/site-packages/whisper/transcribe.py:126: UserWarning: FP16 is not supported on CPU; using FP32 instead\n",
      "  warnings.warn(\"FP16 is not supported on CPU; using FP32 instead\")\n"
     ]
    },
    {
     "name": "stdout",
     "output_type": "stream",
     "text": [
      "- (51/100)Process file: ./data/database_sa1_Jan08_Mar19_cleaned_utt_0000001654-1\n",
      "- GroundTruth: do những nhà máy bia loại nhỏ sản xuất ngành nghề thủ công trong năm qua tăng mười một phần trăm về khối lượng và tăng mười hai phần trăm tính theo đô la so với năm ngoái một trong những loại bia mới được khởi hứng từ những tổ phụ của nước mỹ trong đó có ông do goa sinh tơn\n",
      "- Predicted: do những nhà máy bia loại nhỏ sản xuất, ngành bia thủ công trong năm qua tăng 11% về tối lượng và tăng 12% tính theo đô la so với năm ngoái. một trong những loại bia mới được khởi hứng từ những tổ phụ của nước mỹ, trong đó có ông george washington.\n"
     ]
    },
    {
     "name": "stderr",
     "output_type": "stream",
     "text": [
      "/home/ngo/anaconda3/lib/python3.12/site-packages/whisper/transcribe.py:126: UserWarning: FP16 is not supported on CPU; using FP32 instead\n",
      "  warnings.warn(\"FP16 is not supported on CPU; using FP32 instead\")\n"
     ]
    },
    {
     "name": "stdout",
     "output_type": "stream",
     "text": [
      "- (52/100)Process file: ./data/database_sa1_Jan08_Mar19_cleaned_utt_0000001917-1\n",
      "- GroundTruth: <unk> chứng chỉ mà ờ cư lít lao ơ mà trong hai năm đầu sẽ được công nhận cái câu hỏi đó rất là tổng quán bởi thế rất khó khăn mà để trả lời\n",
      "- Predicted: chính trị mà khuế đức đào trong hai năm đầu sẽ được công nhận. cái câu hỏi đó rất là tổng quát, rất là khó khăn.\n"
     ]
    },
    {
     "name": "stderr",
     "output_type": "stream",
     "text": [
      "/home/ngo/anaconda3/lib/python3.12/site-packages/whisper/transcribe.py:126: UserWarning: FP16 is not supported on CPU; using FP32 instead\n",
      "  warnings.warn(\"FP16 is not supported on CPU; using FP32 instead\")\n"
     ]
    },
    {
     "name": "stdout",
     "output_type": "stream",
     "text": [
      "- (53/100)Process file: ./data/database_sa1_Jan08_Mar19_cleaned_utt_0000002033-1\n",
      "- GroundTruth: khi ngành công nghiệp điện ảnh mới được hình thành\n",
      "- Predicted: khi ngành công nghiệp điện ảnh mới được hình thành.\n"
     ]
    },
    {
     "name": "stderr",
     "output_type": "stream",
     "text": [
      "/home/ngo/anaconda3/lib/python3.12/site-packages/whisper/transcribe.py:126: UserWarning: FP16 is not supported on CPU; using FP32 instead\n",
      "  warnings.warn(\"FP16 is not supported on CPU; using FP32 instead\")\n"
     ]
    },
    {
     "name": "stdout",
     "output_type": "stream",
     "text": [
      "- (54/100)Process file: ./data/database_sa1_Jan08_Mar19_cleaned_utt_0000000045-1\n",
      "- GroundTruth: nó làm người dân mặc dù nhìn thì rất bình thường nhưng mà rất rất là rộn ràng từ từ trên các đường phố và trên mỗi con mỗi con người\n",
      "- Predicted: nó làm người dân mặc dù nhìn rất bình thường nhưng mà rất là ồn ràng từ trên các đường phố và trên mỗi con người\n"
     ]
    },
    {
     "name": "stderr",
     "output_type": "stream",
     "text": [
      "/home/ngo/anaconda3/lib/python3.12/site-packages/whisper/transcribe.py:126: UserWarning: FP16 is not supported on CPU; using FP32 instead\n",
      "  warnings.warn(\"FP16 is not supported on CPU; using FP32 instead\")\n"
     ]
    },
    {
     "name": "stdout",
     "output_type": "stream",
     "text": [
      "- (55/100)Process file: ./data/database_sa1_Jan08_Mar19_cleaned_utt_0000000318-1\n",
      "- GroundTruth: biết tất cả những điều đó điều chúng tôi muốn xác định là chiếc ép chín mươi cái tên mà dân cuồng tín bê mờ vê kép biết đến có đi theo xu hướng của bê mờ vê kép là trở thành một chiếc xe không tầm thường hay không\n",
      "- Predicted: biết tất cả những điều đó, điều chúng tôi muốn xác định là chiếc f90, cái tên mà dân cùng tín bmw biết đến, có đi theo xu hướng của bmw là trở thành những chiếc xe không tâm thần hay không?\n"
     ]
    },
    {
     "name": "stderr",
     "output_type": "stream",
     "text": [
      "/home/ngo/anaconda3/lib/python3.12/site-packages/whisper/transcribe.py:126: UserWarning: FP16 is not supported on CPU; using FP32 instead\n",
      "  warnings.warn(\"FP16 is not supported on CPU; using FP32 instead\")\n"
     ]
    },
    {
     "name": "stdout",
     "output_type": "stream",
     "text": [
      "- (56/100)Process file: ./data/database_sa1_Jan08_Mar19_cleaned_utt_0000001685-2\n",
      "- GroundTruth: <unk> mo ninh pốt cho biết hôm mười lăm tháng mười một ở việt nam ông e pơ dự kiến sẽ gặp bộ trưởng quốc phòng ngô xuân lịch\n",
      "- Predicted: môn post cho biết hôm 15 tháng 1 ở việt nam, ông esper dự kiến sẽ gặp bộ trưởng quốc phòng ngô xuân lịch.\n"
     ]
    },
    {
     "name": "stderr",
     "output_type": "stream",
     "text": [
      "/home/ngo/anaconda3/lib/python3.12/site-packages/whisper/transcribe.py:126: UserWarning: FP16 is not supported on CPU; using FP32 instead\n",
      "  warnings.warn(\"FP16 is not supported on CPU; using FP32 instead\")\n"
     ]
    },
    {
     "name": "stdout",
     "output_type": "stream",
     "text": [
      "- (57/100)Process file: ./data/database_sa1_Jan08_Mar19_cleaned_utt_0000000241-1\n",
      "- GroundTruth: những người tuần hành cho biết họ muốn trắc nghiệm sức chịu đựng của cảnh sát đối với một cuộc tụ tập lớn tại thủ đô của nga sau khi tổng thống vờ la đia mia pu tin tuyên thệ nhậm chức cho nhiệm kỳ thứ ba được một tuần\n",
      "- Predicted: những người tùng hành cho biết họ muốn trách nhiệm sức chịu đựng của cảnh sát đối với một cuộc tụ tập lớn tại thủ đô của nga sau khi tổng thống vladimir putin tuyên thệ nhận chức cho nhiệm kỳ thứ ba được một tuần.\n"
     ]
    },
    {
     "name": "stderr",
     "output_type": "stream",
     "text": [
      "/home/ngo/anaconda3/lib/python3.12/site-packages/whisper/transcribe.py:126: UserWarning: FP16 is not supported on CPU; using FP32 instead\n",
      "  warnings.warn(\"FP16 is not supported on CPU; using FP32 instead\")\n"
     ]
    },
    {
     "name": "stdout",
     "output_type": "stream",
     "text": [
      "- (58/100)Process file: ./data/database_sa1_Jan08_Mar19_cleaned_utt_0000000246-1\n",
      "- GroundTruth: đó là vấn đề nêu gương của cán bộ đảng viên nhà nước các cấp\n",
      "- Predicted: đó là vấn đề nêu gương của cán bộ đảng viên nhà lực ca cấp.\n"
     ]
    },
    {
     "name": "stderr",
     "output_type": "stream",
     "text": [
      "/home/ngo/anaconda3/lib/python3.12/site-packages/whisper/transcribe.py:126: UserWarning: FP16 is not supported on CPU; using FP32 instead\n",
      "  warnings.warn(\"FP16 is not supported on CPU; using FP32 instead\")\n"
     ]
    },
    {
     "name": "stdout",
     "output_type": "stream",
     "text": [
      "- (59/100)Process file: ./data/database_sa1_Jan08_Mar19_cleaned_utt_0000001068-1\n",
      "- GroundTruth: đi ngang qua trong vùng biển ngoài khơi thành phố cảng thanh đảo ở phía đông cuộc diễn hành hôm hai mươi ba tháng tư quy tụ ba mươi hai tàu và ba mươi chín máy bay của trung quốc\n",
      "- Predicted: đi ngang qua trong vùng biển ngoài khơi, thiên vô cảng thanh đảo ở dưới đông. cuộc diễn đình 23 tháng 4, quy tụ 32 tàu và 39 máy bay về trung quốc.\n"
     ]
    },
    {
     "name": "stderr",
     "output_type": "stream",
     "text": [
      "/home/ngo/anaconda3/lib/python3.12/site-packages/whisper/transcribe.py:126: UserWarning: FP16 is not supported on CPU; using FP32 instead\n",
      "  warnings.warn(\"FP16 is not supported on CPU; using FP32 instead\")\n"
     ]
    },
    {
     "name": "stdout",
     "output_type": "stream",
     "text": [
      "- (60/100)Process file: ./data/database_sa1_Jan08_Mar19_cleaned_utt_0000001530-1\n",
      "- GroundTruth: không thể nào tóm tắt được như vậy bởi vì\n",
      "- Predicted: nên không có thể nào tóm tắt như vậy được với việc...\n"
     ]
    },
    {
     "name": "stderr",
     "output_type": "stream",
     "text": [
      "/home/ngo/anaconda3/lib/python3.12/site-packages/whisper/transcribe.py:126: UserWarning: FP16 is not supported on CPU; using FP32 instead\n",
      "  warnings.warn(\"FP16 is not supported on CPU; using FP32 instead\")\n"
     ]
    },
    {
     "name": "stdout",
     "output_type": "stream",
     "text": [
      "- (61/100)Process file: ./data/database_sa1_Jan08_Mar19_cleaned_utt_0000000579-1\n",
      "- GroundTruth: xin được mỹ ờ chấp thuận đó thì cái thời gian mà chờ mỹ xét duyệt bao lâu nữa thưa luật sư\n",
      "- Predicted: sinh được mỹ chấp thuận thì cái thời gian mà chờ mỹ xếp việc bao lâu\n"
     ]
    },
    {
     "name": "stderr",
     "output_type": "stream",
     "text": [
      "/home/ngo/anaconda3/lib/python3.12/site-packages/whisper/transcribe.py:126: UserWarning: FP16 is not supported on CPU; using FP32 instead\n",
      "  warnings.warn(\"FP16 is not supported on CPU; using FP32 instead\")\n"
     ]
    },
    {
     "name": "stdout",
     "output_type": "stream",
     "text": [
      "- (62/100)Process file: ./data/database_sa1_Jan08_Mar19_cleaned_utt_0000001648-1\n",
      "- GroundTruth: nhiều người biểu tình chống ông tập\n",
      "- Predicted: nhiều người đã được hình chữ ôm tập.\n"
     ]
    },
    {
     "name": "stderr",
     "output_type": "stream",
     "text": [
      "/home/ngo/anaconda3/lib/python3.12/site-packages/whisper/transcribe.py:126: UserWarning: FP16 is not supported on CPU; using FP32 instead\n",
      "  warnings.warn(\"FP16 is not supported on CPU; using FP32 instead\")\n"
     ]
    },
    {
     "name": "stdout",
     "output_type": "stream",
     "text": [
      "- (63/100)Process file: ./data/database_sa1_Jan08_Mar19_cleaned_utt_0000001050-1\n",
      "- GroundTruth: ủy ban cứu trợ người vượt biển bi pi ét ô ét tổ chức chuyên vận động nhân quyền việt nam cho biết buổi tường trình hôm nay nằm trong khuôn khổ chiến dịch kêu gọi tổng thống đo là trăm lưu ý thực trạng nhân quyền việt nam trong chuyến công du tháng mười một sắp tới\n",
      "- Predicted: ủy ban kính trợ người vượt biển bpsos tổ chức chuyên vận động nhân quyền việt nam cho biết bởi thị trình hôm nay nằm trong khuôn khổ chính dịch kêu gọi tổng thống donald trump lưu ý thực trạng nhân quyền việt nam trong chuyến công du tháng 11 sắp tới.\n"
     ]
    },
    {
     "name": "stderr",
     "output_type": "stream",
     "text": [
      "/home/ngo/anaconda3/lib/python3.12/site-packages/whisper/transcribe.py:126: UserWarning: FP16 is not supported on CPU; using FP32 instead\n",
      "  warnings.warn(\"FP16 is not supported on CPU; using FP32 instead\")\n"
     ]
    },
    {
     "name": "stdout",
     "output_type": "stream",
     "text": [
      "- (64/100)Process file: ./data/database_sa1_Jan08_Mar19_cleaned_utt_0000000889-1\n",
      "- GroundTruth: và để xem các nhà sản xuất từ các nước này có nhận trợ cấp từ chính phủ hay không thông báo của bộ đề ngày ba mươi tháng bảy cho biết các cuộc điều tra này được khởi xướng dựa trên yêu cầu của liên minh thương mại tháp gió gồm nhiều công ty sản xuất tháp gió tại mỹ\n",
      "- Predicted: và để xem các nhà sản xuất từ các nước này có nhận trợ cấp từ chính phủ hay không. thông báo của bộ bề ngày 30 tháng 7 cho biết các cuộc điều tra này được khởi xướng dựa trên yêu cầu của liên minh thương mại tháp gió gồm nhiều công ty sản xuất tháp gió tại mỹ.\n"
     ]
    },
    {
     "name": "stderr",
     "output_type": "stream",
     "text": [
      "/home/ngo/anaconda3/lib/python3.12/site-packages/whisper/transcribe.py:126: UserWarning: FP16 is not supported on CPU; using FP32 instead\n",
      "  warnings.warn(\"FP16 is not supported on CPU; using FP32 instead\")\n"
     ]
    },
    {
     "name": "stdout",
     "output_type": "stream",
     "text": [
      "- (65/100)Process file: ./data/database_sa1_Jan08_Mar19_cleaned_utt_0000001704-1\n",
      "- GroundTruth: đó là cái điểm chính nó sẽ ảnh hưởng đến đến cái\n",
      "- Predicted: đó là điểm chính sẽ ảnh hưởng đến\n"
     ]
    },
    {
     "name": "stderr",
     "output_type": "stream",
     "text": [
      "/home/ngo/anaconda3/lib/python3.12/site-packages/whisper/transcribe.py:126: UserWarning: FP16 is not supported on CPU; using FP32 instead\n",
      "  warnings.warn(\"FP16 is not supported on CPU; using FP32 instead\")\n"
     ]
    },
    {
     "name": "stdout",
     "output_type": "stream",
     "text": [
      "- (66/100)Process file: ./data/database_sa1_Jan08_Mar19_cleaned_utt_0000001859-1\n",
      "- GroundTruth: thông tấn xã chính thức của nhà nước trung quốc ngày mười bảy tháng chín đăng bài xã luận nêu lập trường của trung quốc rằng biển đông không phải và không nên là một vấn đề giữa mỹ với trung quốc trong bối cảnh chủ tịch trung quốc tập cận bình sắp có chuyến công du tới mỹ\n",
      "- Predicted: thông tấn xã chính thức của nhà nước trung quốc ngày 17 tháng 9 đăng bài xã luận, nêu lập trường của trung quốc rằng, biển đông không phải và không nên là một vấn đề giữa mỹ với trung quốc, trong bối cảnh chủ tịch trung quốc tạm tự mình sẽ phát biến quân dù tên mỹ.\n"
     ]
    },
    {
     "name": "stderr",
     "output_type": "stream",
     "text": [
      "/home/ngo/anaconda3/lib/python3.12/site-packages/whisper/transcribe.py:126: UserWarning: FP16 is not supported on CPU; using FP32 instead\n",
      "  warnings.warn(\"FP16 is not supported on CPU; using FP32 instead\")\n"
     ]
    },
    {
     "name": "stdout",
     "output_type": "stream",
     "text": [
      "- (67/100)Process file: ./data/database_sa1_Jan08_Mar19_cleaned_utt_0000000968-1\n",
      "- GroundTruth: ông sờ wít cho biết trung quốc cũng đã gửi một tàu do thám và vùng đặc quyền kinh tế của mỹ ở ha wai i trong cuộc tập trận hải quân đa quốc gia do hạm đội thái bình dương tổ chức vào năm hai ngàn mười bốn\n",
      "- Predicted: ông swift cho biết trung quốc cũng đã gửi một tàu dự thám vào vùng đặc quyền kinh tế của mỹ ở hawaii trong một tập trận hạ quân đa quốc gia do hạm đội thái quân dương tổ chức vào năm 2014.\n"
     ]
    },
    {
     "name": "stderr",
     "output_type": "stream",
     "text": [
      "/home/ngo/anaconda3/lib/python3.12/site-packages/whisper/transcribe.py:126: UserWarning: FP16 is not supported on CPU; using FP32 instead\n",
      "  warnings.warn(\"FP16 is not supported on CPU; using FP32 instead\")\n"
     ]
    },
    {
     "name": "stdout",
     "output_type": "stream",
     "text": [
      "- (68/100)Process file: ./data/database_sa1_Jan08_Mar19_cleaned_utt_0000002100-1\n",
      "- GroundTruth: phóng viên của đài vi o ây tường thuật từ niu róc mời quý vị cùng theo dõi\n",
      "- Predicted: phong viên của đài vua, tựa nhiều gió, phong viên của theo dõi.\n"
     ]
    },
    {
     "name": "stderr",
     "output_type": "stream",
     "text": [
      "/home/ngo/anaconda3/lib/python3.12/site-packages/whisper/transcribe.py:126: UserWarning: FP16 is not supported on CPU; using FP32 instead\n",
      "  warnings.warn(\"FP16 is not supported on CPU; using FP32 instead\")\n"
     ]
    },
    {
     "name": "stdout",
     "output_type": "stream",
     "text": [
      "- (69/100)Process file: ./data/database_sa1_Jan08_Mar19_cleaned_utt_0000000984-1\n",
      "- GroundTruth: ba mươi tám nót cho biết những thiết bị này có thể được dùng để tiến hành cuộc thử nghiệm và thu thập dữ liệu từ vụ đổ\n",
      "- Predicted: 38nos cho biết những thiết bị này có thể được dùng để tế hình bộ thử nghiệm và thử thử dữ liệu từ vũ đồ.\n"
     ]
    },
    {
     "name": "stderr",
     "output_type": "stream",
     "text": [
      "/home/ngo/anaconda3/lib/python3.12/site-packages/whisper/transcribe.py:126: UserWarning: FP16 is not supported on CPU; using FP32 instead\n",
      "  warnings.warn(\"FP16 is not supported on CPU; using FP32 instead\")\n"
     ]
    },
    {
     "name": "stdout",
     "output_type": "stream",
     "text": [
      "- (70/100)Process file: ./data/database_sa1_Jan08_Mar19_cleaned_utt_0000000685-1\n",
      "- GroundTruth: mang tính mềm tức là lẽ ra nếu việt nam chính quyền việt nam mà cải thiện nhân quyền loại bỏ những điều luật phạm nhân quyền trả tự do cho tất cả những người bất đồng chính kiến và từ nay trở về sau không có ờ bắt những người bày tỏ chính kiến của mình một cách hòa bình nữa ấy\n",
      "- Predicted: mang cái tính mềm tức là lẽ ra nếu việt nam chính quyền việt nam mà cải thiện nhân quyền loại bỏ những điều luật phản nhân quyền trả tự do cho tất cả những người phức ẩn nhân quyền từ nay trở về sau không có bắt những người bày tỏ chính quyền kế hoạch mình nữa\n"
     ]
    },
    {
     "name": "stderr",
     "output_type": "stream",
     "text": [
      "/home/ngo/anaconda3/lib/python3.12/site-packages/whisper/transcribe.py:126: UserWarning: FP16 is not supported on CPU; using FP32 instead\n",
      "  warnings.warn(\"FP16 is not supported on CPU; using FP32 instead\")\n"
     ]
    },
    {
     "name": "stdout",
     "output_type": "stream",
     "text": [
      "- (71/100)Process file: ./data/database_sa1_Jan08_Mar19_cleaned_utt_0000000033-1\n",
      "- GroundTruth: tướng cam pu chia còn yêu cầu thủ tướng sinh ga po phải điều chỉnh phát biểu không đúng sự thật chút nào này theo lời ông\n",
      "- Predicted: tướng campuchia còn yêu cầu thủ tướng singapore phải điều chỉnh phát biểu không đúng sự thành phúc nào này, theo lời ông.\n"
     ]
    },
    {
     "name": "stderr",
     "output_type": "stream",
     "text": [
      "/home/ngo/anaconda3/lib/python3.12/site-packages/whisper/transcribe.py:126: UserWarning: FP16 is not supported on CPU; using FP32 instead\n",
      "  warnings.warn(\"FP16 is not supported on CPU; using FP32 instead\")\n"
     ]
    },
    {
     "name": "stdout",
     "output_type": "stream",
     "text": [
      "- (72/100)Process file: ./data/database_sa1_Jan08_Mar19_cleaned_utt_0000000510-1\n",
      "- GroundTruth: giáo viên trông đợi bạn đạt thành tích cao khi giáo viên có những kỳ vọng tích cực từ đó thực sự khích lệ bạn học tốt hơn\n",
      "- Predicted: giáo viên trong đời bạn đạt thành tích cao, khi giáo viên có những kỳ vọng tích cực, điều đó thực sự để bạn học tốt hơn.\n"
     ]
    },
    {
     "name": "stderr",
     "output_type": "stream",
     "text": [
      "/home/ngo/anaconda3/lib/python3.12/site-packages/whisper/transcribe.py:126: UserWarning: FP16 is not supported on CPU; using FP32 instead\n",
      "  warnings.warn(\"FP16 is not supported on CPU; using FP32 instead\")\n"
     ]
    },
    {
     "name": "stdout",
     "output_type": "stream",
     "text": [
      "- (73/100)Process file: ./data/database_sa1_Jan08_Mar19_cleaned_utt_0000000669-1\n",
      "- GroundTruth: bộ ngoại giao phi líp pin cũng đồng thời lên án các hoạt động bất hợp pháp phá hoại môi trường của ngư phủ trung quốc tại bãi cạn vừa kể\n",
      "- Predicted: bộ hòa giao philippines đồng thời lên án các hoạt động bất hợp pháp và hoại nội trường của người phủ trung quốc tại bãi cạn điều kể.\n"
     ]
    },
    {
     "name": "stderr",
     "output_type": "stream",
     "text": [
      "/home/ngo/anaconda3/lib/python3.12/site-packages/whisper/transcribe.py:126: UserWarning: FP16 is not supported on CPU; using FP32 instead\n",
      "  warnings.warn(\"FP16 is not supported on CPU; using FP32 instead\")\n"
     ]
    },
    {
     "name": "stdout",
     "output_type": "stream",
     "text": [
      "- (74/100)Process file: ./data/database_sa1_Jan08_Mar19_cleaned_utt_0000000706-1\n",
      "- GroundTruth: và chúng ta sẽ thấy đảng này điều chỉnh những thách thức dài hạn của họ\n",
      "- Predicted: và chúng ta sẽ thấy đảng này được chuyển những thách thức dài hạn của họ.\n"
     ]
    },
    {
     "name": "stderr",
     "output_type": "stream",
     "text": [
      "/home/ngo/anaconda3/lib/python3.12/site-packages/whisper/transcribe.py:126: UserWarning: FP16 is not supported on CPU; using FP32 instead\n",
      "  warnings.warn(\"FP16 is not supported on CPU; using FP32 instead\")\n"
     ]
    },
    {
     "name": "stdout",
     "output_type": "stream",
     "text": [
      "- (75/100)Process file: ./data/database_sa1_Jan08_Mar19_cleaned_utt_0000002192-1\n",
      "- GroundTruth: một trong những chủ trương của tổng thống putin khi tranh cử là chống mỹ sau đó ông không từ bỏ chủ trương này mà còn làm\n",
      "- Predicted: một trong những chủ trương của tổng thống putin khi tranh cử là chống mỹ, sau đó ông không từ bỏ thủy tướng này mà còn làm một.\n"
     ]
    },
    {
     "name": "stderr",
     "output_type": "stream",
     "text": [
      "/home/ngo/anaconda3/lib/python3.12/site-packages/whisper/transcribe.py:126: UserWarning: FP16 is not supported on CPU; using FP32 instead\n",
      "  warnings.warn(\"FP16 is not supported on CPU; using FP32 instead\")\n"
     ]
    },
    {
     "name": "stdout",
     "output_type": "stream",
     "text": [
      "- (76/100)Process file: ./data/database_sa1_Jan08_Mar19_cleaned_utt_0000001513-1\n",
      "- GroundTruth: người ta cũng có thể tự chiêm nghiệm về những điều đã diễn ra trong cuộc sống để cùng nhìn nhận lại và sống hiền hòa nhân ái hơn\n",
      "- Predicted: người ta cũng có thể tự chiêm nghiệm về những điều đã diễn ra trong cuộc sống để cùng nhìn nhận lại và sống hiền hòa, nhân ái hơn.\n"
     ]
    },
    {
     "name": "stderr",
     "output_type": "stream",
     "text": [
      "/home/ngo/anaconda3/lib/python3.12/site-packages/whisper/transcribe.py:126: UserWarning: FP16 is not supported on CPU; using FP32 instead\n",
      "  warnings.warn(\"FP16 is not supported on CPU; using FP32 instead\")\n"
     ]
    },
    {
     "name": "stdout",
     "output_type": "stream",
     "text": [
      "- (77/100)Process file: ./data/database_sa1_Jan08_Mar19_cleaned_utt_0000000623-1\n",
      "- GroundTruth: con đường sai dọc dải trường sơn để đưa vũ khí quân nhu và lực lượng vào miền nam một thờ nay là con đường lô nhô những mái nhà của người đồng bào thiểu số và những khu hàng quán những làng giải trí\n",
      "- Predicted: con đường xe dọc dài trường sân để đưa vũ khí, quân nhu và lực lượng vào người nam bộ thờ. nay là con đường lôi nhôi những mái nhà của người đồng tạp chủ số và những khu hàng quán, những làng giải trí.\n"
     ]
    },
    {
     "name": "stderr",
     "output_type": "stream",
     "text": [
      "/home/ngo/anaconda3/lib/python3.12/site-packages/whisper/transcribe.py:126: UserWarning: FP16 is not supported on CPU; using FP32 instead\n",
      "  warnings.warn(\"FP16 is not supported on CPU; using FP32 instead\")\n"
     ]
    },
    {
     "name": "stdout",
     "output_type": "stream",
     "text": [
      "- (78/100)Process file: ./data/database_sa1_Jan08_Mar19_cleaned_utt_0000001298-2\n",
      "- GroundTruth: tôi biết thì nếu các bạn muốn học về ngành quản trị kinh doanh thì có rất là nhiều đại học\n",
      "- Predicted: tôi biết các bạn muốn học về ngoại truyền thông tin thì có rất nhiều đại học\n"
     ]
    },
    {
     "name": "stderr",
     "output_type": "stream",
     "text": [
      "/home/ngo/anaconda3/lib/python3.12/site-packages/whisper/transcribe.py:126: UserWarning: FP16 is not supported on CPU; using FP32 instead\n",
      "  warnings.warn(\"FP16 is not supported on CPU; using FP32 instead\")\n"
     ]
    },
    {
     "name": "stdout",
     "output_type": "stream",
     "text": [
      "- (79/100)Process file: ./data/database_sa1_Jan08_Mar19_cleaned_utt_0000000240-1\n",
      "- GroundTruth: khoảng mười ngàn người nga ngày mười ba tháng năm biểu tình tại thủ đô phản đối chính phủ của tổng thống vờ la đi mia pu tin\n",
      "- Predicted: khoảng 10.000 người nga ngày 13 tháng 5 biểu tình tại thủ đô phản đối chính phủ của tổng thống vladimir putin.\n"
     ]
    },
    {
     "name": "stderr",
     "output_type": "stream",
     "text": [
      "/home/ngo/anaconda3/lib/python3.12/site-packages/whisper/transcribe.py:126: UserWarning: FP16 is not supported on CPU; using FP32 instead\n",
      "  warnings.warn(\"FP16 is not supported on CPU; using FP32 instead\")\n"
     ]
    },
    {
     "name": "stdout",
     "output_type": "stream",
     "text": [
      "- (80/100)Process file: ./data/database_sa1_Jan08_Mar19_cleaned_utt_0000001968-1\n",
      "- GroundTruth: và điều này vi phạm hiến pháp hoa kỳ đơn kiện được hơn một trăm chín mươi thượng nghị sĩ và dân biểu đảng dân chủ đệ nạp hôm mười bốn tháng sáu\n",
      "- Predicted: và điều này vi phạm hình pháp hoa kỳ, đơn kiện được hơn 190 thống nghị sĩ và dân biểu đảng dân chủ địa ngạc hôm 14 tháng 6.\n"
     ]
    },
    {
     "name": "stderr",
     "output_type": "stream",
     "text": [
      "/home/ngo/anaconda3/lib/python3.12/site-packages/whisper/transcribe.py:126: UserWarning: FP16 is not supported on CPU; using FP32 instead\n",
      "  warnings.warn(\"FP16 is not supported on CPU; using FP32 instead\")\n"
     ]
    },
    {
     "name": "stdout",
     "output_type": "stream",
     "text": [
      "- (81/100)Process file: ./data/database_sa1_Jan08_Mar19_cleaned_utt_0000002279-1\n",
      "- GroundTruth: tổng thống bút ông ấy là một người có khẩu vị khá phổ thông ông không đặc biệt thích một món nào nhưng thứ duy nhất ông ấy ghét đó là súp lơ xanh vậy nên chúng tôi phải đảm bảo rằng không có cây súp lơ nào trong bữa ăn của ông\n",
      "- Predicted: tổng thống bush, ông ấy là một người có hậu vị khá phổ thông, ông không đặc biệt thích một món nào, nhưng thứ duy nhất ông ấy ghét đó là súp lơ xanh, vậy nên chúng tôi phải đảm bảo rằng không có cây súp lơ nào trong bữa ăn của ông.\n"
     ]
    },
    {
     "name": "stderr",
     "output_type": "stream",
     "text": [
      "/home/ngo/anaconda3/lib/python3.12/site-packages/whisper/transcribe.py:126: UserWarning: FP16 is not supported on CPU; using FP32 instead\n",
      "  warnings.warn(\"FP16 is not supported on CPU; using FP32 instead\")\n"
     ]
    },
    {
     "name": "stdout",
     "output_type": "stream",
     "text": [
      "- (82/100)Process file: ./data/database_sa1_Jan08_Mar19_cleaned_utt_0000002337-1\n",
      "- GroundTruth: báo tuổi trẻ dẫn các nguồn tin không nêu danh nói giới hữu trách hàng hải việt nam đang theo dõi sát vụ việc sự việc diễn ra vài tuần trước chuyến thăm đầu tiên của tổng bí thư đảng cộng sản việt nam tại mỹ trọng tâm chuyến công du của ông nguyễn phú trọng nhằm thúc đẩy hà nội và goa sinh tơn xích lại gần nhau trong mối quan hệ mà bắc kinh hết sức đề phòng giàn khoan chín tám một tái xuất hiện giữa các mối quan ngại gia tăng trước việc trung quốc đang gia tốc các hoạt động xây dựng ở biển đông mà cả hai nước việt mỹ đều phản đối theo nhận định của phân tích dài lê hồng hiệp thuộc viện nghiên cứu đông nam á ở sinh ga po được roai tơ trích dẫn thì hà nội lần này sẽ không phản đối mạnh như năm ngoái nếu bắc kinh nói giàn khoan chín tám một nằm bên trong vùng đặc quyền kinh tế tính từ đảo hải nam chứ không ở vị trí tranh chấp nóng như ở hoàng sa hồi năm ngoái\n",
      "- Predicted: báo tuổi trẻ dẫn các bình tin không nêu danh nói giới hữu trách hàng hải việt nam đang theo dõi sát người việt. sự việc diễn ra vài tuần trước chuyến thăm hồi tiên của tổng bí thư đảng công sở việt nam tới mỹ. trọng thâm chuyến công du của ông nguyễn phú trọng nhằm thúc đẩy hà nội và washington xích lại gần nhau trong mối quan hệ mà bắc kinh đã sức đề phòng. giàn khoan 981 tái xuất hiện giữa các mối quan hại gia tăng trước việc trung quốc đang gia tốc các hoạt động xây dựng ở biển đông mà cả hai nước việt-mỹ đều phản đối. theo nhận định của phương tức gia lê hồng hiệp của viện nghiên cứu đông nam á và singapore, lực lượng của tổng bí thư đảng công sở việt nam sẽ không phản đối mạnh như năm ngoái nếu bắc kinh nói giàn khoan 981 nằm bên trong vùng đặc biệt kinh tế tính từ đảo hải nam, chứ không ở vị trí trang trắc nóng như ở an sa của nước ngoài.\n"
     ]
    },
    {
     "name": "stderr",
     "output_type": "stream",
     "text": [
      "/home/ngo/anaconda3/lib/python3.12/site-packages/whisper/transcribe.py:126: UserWarning: FP16 is not supported on CPU; using FP32 instead\n",
      "  warnings.warn(\"FP16 is not supported on CPU; using FP32 instead\")\n"
     ]
    },
    {
     "name": "stdout",
     "output_type": "stream",
     "text": [
      "- (83/100)Process file: ./data/database_sa1_Jan08_Mar19_cleaned_utt_0000001806-1\n",
      "- GroundTruth: bong bóng cá được sử dụng làm thuốc kích dục ở trung quốc những ngư dân đánh bắt cá rô ở u gan da cho biết họ đang bị bóc lột trong khi những người khác hưởng lợi thông tấn viên đài vi âu ây có thêm chi tiết mời quý vị theo dỏi\n",
      "- Predicted: món cá được sử dụng làm thú thiết dực ở trung quốc. những người dân đánh mắt cá rô ở uganda cho biết họ đang bị bóp lột trong khi những người khác thưởng lợi. công tin viên đài vua có thêm chi tiết. mời quý vị theo dõi.\n"
     ]
    },
    {
     "name": "stderr",
     "output_type": "stream",
     "text": [
      "/home/ngo/anaconda3/lib/python3.12/site-packages/whisper/transcribe.py:126: UserWarning: FP16 is not supported on CPU; using FP32 instead\n",
      "  warnings.warn(\"FP16 is not supported on CPU; using FP32 instead\")\n"
     ]
    },
    {
     "name": "stdout",
     "output_type": "stream",
     "text": [
      "- (84/100)Process file: ./data/database_sa1_Jan08_Mar19_cleaned_utt_0000001980-1\n",
      "- GroundTruth: cuộc tập trận này diễn ra một tuần sau khi triều tiên tuyên bố họ đã thử nghiệm phi đạn đạn đạo liên lục địa tiên tiến nhất có khả năng vươn tới lục địa mỹ như một phần trong chương trình vũ khí mà nước này phát triển thách thức các chế tài và những lời lên án của quốc tế\n",
      "- Predicted: cuộc cuộc tập trận này diễn ra một tuần, sau khi trực tiên tuyên bố họ đã thực hiện phi đạn đạn thảo liên lục địa tiên tiến nhất có khả năng vươn về lực lượng mỹ như một phần trong chương trình vô khí mà nước này phát triển, kích thước các trị tài và những lời liên an của quốc tế.\n"
     ]
    },
    {
     "name": "stderr",
     "output_type": "stream",
     "text": [
      "/home/ngo/anaconda3/lib/python3.12/site-packages/whisper/transcribe.py:126: UserWarning: FP16 is not supported on CPU; using FP32 instead\n",
      "  warnings.warn(\"FP16 is not supported on CPU; using FP32 instead\")\n"
     ]
    },
    {
     "name": "stdout",
     "output_type": "stream",
     "text": [
      "- (85/100)Process file: ./data/database_sa1_Jan08_Mar19_cleaned_utt_0000000986-1\n",
      "- GroundTruth: ông ly đã nhập cảnh từ ma cao hôm mười chín tháng ba nhưng không tham dự được một cuộc họp ở trung quốc đại lục tổ chức ân xá quốc tế nói việc tạm giam ông ly khơi lên nỗi sợ\n",
      "- Predicted: ông lee đã nhập cảnh từ macau hôm 19 tháng 3, nhưng không chứng dự được một họp với trung quốc đại lục. tổ chức ấn giả quốc tế nói, việc tạm giam ông lee khơi lên hơi sợ.\n"
     ]
    },
    {
     "name": "stderr",
     "output_type": "stream",
     "text": [
      "/home/ngo/anaconda3/lib/python3.12/site-packages/whisper/transcribe.py:126: UserWarning: FP16 is not supported on CPU; using FP32 instead\n",
      "  warnings.warn(\"FP16 is not supported on CPU; using FP32 instead\")\n"
     ]
    },
    {
     "name": "stdout",
     "output_type": "stream",
     "text": [
      "- (86/100)Process file: ./data/database_sa1_Jan08_Mar19_cleaned_utt_0000001395-1\n",
      "- GroundTruth: một số chim thật sự thích bầu bạn với con người và trong trường hợp này pa rách pe ry tìm cách tìm cho chú một người nhận nuôi hiện có khoảng một trăm năm mươi con chim được nuôi ở pa rách pe ry nhưng số nhân viên của tổ chức rất ít\n",
      "- Predicted: một số chim thật sự thích bầu bằng với con người, và trong trường hợp này, project erie tìm cách tìm được chúng một người nhìn nuôi. hiện có khoảng 150 con chim được nuôi ở project erie, nhưng số nhân viên của tổ chức rất ít.\n"
     ]
    },
    {
     "name": "stderr",
     "output_type": "stream",
     "text": [
      "/home/ngo/anaconda3/lib/python3.12/site-packages/whisper/transcribe.py:126: UserWarning: FP16 is not supported on CPU; using FP32 instead\n",
      "  warnings.warn(\"FP16 is not supported on CPU; using FP32 instead\")\n"
     ]
    },
    {
     "name": "stdout",
     "output_type": "stream",
     "text": [
      "- (87/100)Process file: ./data/database_sa1_Jan08_Mar19_cleaned_utt_0000000549-1\n",
      "- GroundTruth: bộ trưởng quốc phòng nhật nói cả ma ni la lẫn tô ki ô đều đang đối mặt với các mối quan tâm chung\n",
      "- Predicted: bộ trưởng quốc phòng nhật nói cả manila lẫn tokyo đều đang đối mặt với các mối quan tâm chung.\n"
     ]
    },
    {
     "name": "stderr",
     "output_type": "stream",
     "text": [
      "/home/ngo/anaconda3/lib/python3.12/site-packages/whisper/transcribe.py:126: UserWarning: FP16 is not supported on CPU; using FP32 instead\n",
      "  warnings.warn(\"FP16 is not supported on CPU; using FP32 instead\")\n"
     ]
    },
    {
     "name": "stdout",
     "output_type": "stream",
     "text": [
      "- (88/100)Process file: ./data/database_sa1_Jan08_Mar19_cleaned_utt_0000001419-1\n",
      "- GroundTruth: bạn đã xem quép cát nghe đài và được tin tức với vi ô ây tiếng việt giờ bạn có thể xem tất cả các nội dung trên với ứng dụng di động mới tiện lợi và nhanh gọn đặc biệt ứng dụng sẽ tự động cập nhật tin nóng và chờ bạn thì trực tiếp vi đi ô hình ảnh âm thanh đến cho chúng tôi với điện thoại di động hay máy tính bảng ai ô ét hay an roi bạn đều có thể thoải mái dùng ứng dụng còn chờ gì nữa hãy tải ngay ứng dụng vi ô ây tiếng việt hoàn toàn miễn phí\n",
      "- Predicted: bạn đã xem webcast, nghe đài và đọc tin tức với voa tiếng việt. giờ bạn có thể xem tất cả các nội dung trên với ứng dụng di động mới, tiện lợi và nhanh gọn. đặc biệt, ứng dụng sẽ tự động cầm được thêm nóng và cho bạn thấy trực tiếp video, hình ảnh, âm thanh đến cho chúng tôi. với điện thoại di động hay mê tính bảng, ios hay android, bạn đều có thể thoải mái dùng ứng dụng. còn chứ gì nữa, hãy tải ngay ứng dụng voa tiếng việt, hoàn toàn miễn phí.\n"
     ]
    },
    {
     "name": "stderr",
     "output_type": "stream",
     "text": [
      "/home/ngo/anaconda3/lib/python3.12/site-packages/whisper/transcribe.py:126: UserWarning: FP16 is not supported on CPU; using FP32 instead\n",
      "  warnings.warn(\"FP16 is not supported on CPU; using FP32 instead\")\n"
     ]
    },
    {
     "name": "stdout",
     "output_type": "stream",
     "text": [
      "- (89/100)Process file: ./data/database_sa1_Jan08_Mar19_cleaned_utt_0000001417-1\n",
      "- GroundTruth: bạn có thể hoàn toàn kiểm soát thiết bị này như những người bình thường\n",
      "- Predicted: bạn có thể hoàn toàn kiểm soát thiết bị này như những người bình thường.\n"
     ]
    },
    {
     "name": "stderr",
     "output_type": "stream",
     "text": [
      "/home/ngo/anaconda3/lib/python3.12/site-packages/whisper/transcribe.py:126: UserWarning: FP16 is not supported on CPU; using FP32 instead\n",
      "  warnings.warn(\"FP16 is not supported on CPU; using FP32 instead\")\n"
     ]
    },
    {
     "name": "stdout",
     "output_type": "stream",
     "text": [
      "- (90/100)Process file: ./data/database_sa1_Jan08_Mar19_cleaned_utt_0000001076-1\n",
      "- GroundTruth: về cơ quan nước ngoài gây cảm giác bất an từ tháng chín năm hai nghìn không trăm mười bảy\n",
      "- Predicted: vì cơ quan nước ngoài gây cảm giác bất an tới tháng 9 năm 2017.\n"
     ]
    },
    {
     "name": "stderr",
     "output_type": "stream",
     "text": [
      "/home/ngo/anaconda3/lib/python3.12/site-packages/whisper/transcribe.py:126: UserWarning: FP16 is not supported on CPU; using FP32 instead\n",
      "  warnings.warn(\"FP16 is not supported on CPU; using FP32 instead\")\n"
     ]
    },
    {
     "name": "stdout",
     "output_type": "stream",
     "text": [
      "- (91/100)Process file: ./data/database_sa1_Jan08_Mar19_cleaned_utt_0000002158-1\n",
      "- GroundTruth: ít nhất bốn mươi người thiệt mạng trong các cuộc bạo động tiếp theo sau đó và năm mươi bốn người khác bị thương tình trạng bất ổn được mô tả như là một cuộc tấn công khủng bố có tổ chức các cuộc bạo động như vậy đã khiến ít nhất\n",
      "- Predicted: ít nhất 40 người thiệt mạng trong các cuộc bạo động tiếp theo sau đó và 54 người khác bị thương. tình trạng bất ổn được mô tả như là một cuộc tấn công của bố có tổ chức. các cuộc bạo động như vậy đã khiến ít nhất...\n"
     ]
    },
    {
     "name": "stderr",
     "output_type": "stream",
     "text": [
      "/home/ngo/anaconda3/lib/python3.12/site-packages/whisper/transcribe.py:126: UserWarning: FP16 is not supported on CPU; using FP32 instead\n",
      "  warnings.warn(\"FP16 is not supported on CPU; using FP32 instead\")\n"
     ]
    },
    {
     "name": "stdout",
     "output_type": "stream",
     "text": [
      "- (92/100)Process file: ./data/database_sa1_Jan08_Mar19_cleaned_utt_0000000123-1\n",
      "- GroundTruth: khi chúng tôi về đến đó thì thấy gần tối rồi chúng tôi nghĩ rằng là cần phải có sự an toàn đối với người dân là trên hết hai nữa thì chúng tôi cũng nhận được sự góp ý của anh em linh mục và của bề trên thì chúng tôi quyết định để cho bà con ra về ạ\n",
      "- Predicted: khi chúng tôi về bên đó thì thấy gần tối rồi, chúng tôi nghĩ rằng là cần phải có sự an toàn đối với người dân và phía thiết. nên thì chúng tôi cũng nhận được sự góp ý của anh em và của phía trên. chúng tôi đừng để cho bà con ra kìa.\n"
     ]
    },
    {
     "name": "stderr",
     "output_type": "stream",
     "text": [
      "/home/ngo/anaconda3/lib/python3.12/site-packages/whisper/transcribe.py:126: UserWarning: FP16 is not supported on CPU; using FP32 instead\n",
      "  warnings.warn(\"FP16 is not supported on CPU; using FP32 instead\")\n"
     ]
    },
    {
     "name": "stdout",
     "output_type": "stream",
     "text": [
      "- (93/100)Process file: ./data/database_sa1_Jan08_Mar19_cleaned_utt_0000001354-1\n",
      "- GroundTruth: việt nam đang hưởng lợi từ những thay đổi ở trung quốc nơi có nhiều công ty đầu tư trong ngành sản xuất công nghiệp nhưng họ đang bắt đầu chuyển hướng sang việt nam\n",
      "- Predicted: việt nam đang hưởng lợi từ những thay đổi ở trung quốc nơi có nhiều công ty đầu tư trong ngành sản xuất công nghiệp nhưng họ đang bắt đầu chuyển hướng sang việt nam\n"
     ]
    },
    {
     "name": "stderr",
     "output_type": "stream",
     "text": [
      "/home/ngo/anaconda3/lib/python3.12/site-packages/whisper/transcribe.py:126: UserWarning: FP16 is not supported on CPU; using FP32 instead\n",
      "  warnings.warn(\"FP16 is not supported on CPU; using FP32 instead\")\n"
     ]
    },
    {
     "name": "stdout",
     "output_type": "stream",
     "text": [
      "- (94/100)Process file: ./data/database_sa1_Jan08_Mar19_cleaned_utt_0000001082-1\n",
      "- GroundTruth: và số tiền này sẽ được các công ty hưởng lợi từ quá trình tự động hóa chi trả\n",
      "- Predicted: và số tiền này sẽ được các công ty hưởng lợi từ quá trình tự động hóa trị trả.\n"
     ]
    },
    {
     "name": "stderr",
     "output_type": "stream",
     "text": [
      "/home/ngo/anaconda3/lib/python3.12/site-packages/whisper/transcribe.py:126: UserWarning: FP16 is not supported on CPU; using FP32 instead\n",
      "  warnings.warn(\"FP16 is not supported on CPU; using FP32 instead\")\n"
     ]
    },
    {
     "name": "stdout",
     "output_type": "stream",
     "text": [
      "- (95/100)Process file: ./data/database_sa1_Jan08_Mar19_cleaned_utt_0000001602-1\n",
      "- GroundTruth: trong số các biện pháp theo công điện của thủ tướng thì lãnh đạo các bộ ngành phải đi đầu chống tham nhũng và phải có cơ chế kiểm soát hiệu quả ý kiến của người sử dụng mạng xã hội cho rằng hai biện pháp hàng đầu vừa kể không có gì mới lại vừa không cụ thể thiết thực cuối tháng giêng năm nay tại một hội nghị của ngành nội chính thuộc đảng cộng sản tổng bí thư chủ tịch nước nguyễn phú trọng nói rằng chống tham nhũng là lĩnh vực khó vì nó đụng chạm tới lợi ích nhóm liên quan chằng chịt ở các cấp các ngành rất lắt léo theo tường thuật của báo chí trong nước cũng cuối tháng giêng vừa qua tổ chức minh bạch quốc tế công bố bảng xếp hạng chỉ số cảm\n",
      "- Predicted: trong số các biện pháp theo công điện của thủ tướng thì lãnh đạo các bộ ngành phải đi đầu chống tham nhũng và phải có cơ chế kiểm soát kỹ quả. ý kiến của người sử dụng mạng xã hội cho rằng hai biện pháp hàng đầu vừa kể không có gì mới lại vừa không cụ thể thiết thực. cuối tháng giêng năm nay, tại một nội nghị của ngành nội chính đặc sản, tổng bí thư chủ tịch nước nguyễn phú trọng nói rằng chống tham nhũng là lĩnh vực khó vì nó đụng chạm tới lợi ích nhóm liên quan trận dịch ở các cấp các ngành rất lắc léo. theo tiền thuật của báo chí trong nước cũng cuối tháng giêng vừa qua, tổ chức minh bạch quốc tế công bố bản xếp hạng chỉ số cảm nhận.\n"
     ]
    },
    {
     "name": "stderr",
     "output_type": "stream",
     "text": [
      "/home/ngo/anaconda3/lib/python3.12/site-packages/whisper/transcribe.py:126: UserWarning: FP16 is not supported on CPU; using FP32 instead\n",
      "  warnings.warn(\"FP16 is not supported on CPU; using FP32 instead\")\n"
     ]
    },
    {
     "name": "stdout",
     "output_type": "stream",
     "text": [
      "- (96/100)Process file: ./data/database_sa1_Jan08_Mar19_cleaned_utt_0000001758-1\n",
      "- GroundTruth: nêu vấn đề lao động trẻ em với nông dân\n",
      "- Predicted: nếu vấn đề lao động trẻ em với nông dân.\n"
     ]
    },
    {
     "name": "stderr",
     "output_type": "stream",
     "text": [
      "/home/ngo/anaconda3/lib/python3.12/site-packages/whisper/transcribe.py:126: UserWarning: FP16 is not supported on CPU; using FP32 instead\n",
      "  warnings.warn(\"FP16 is not supported on CPU; using FP32 instead\")\n"
     ]
    },
    {
     "name": "stdout",
     "output_type": "stream",
     "text": [
      "- (97/100)Process file: ./data/database_sa1_Jan08_Mar19_cleaned_utt_0000000233-1\n",
      "- GroundTruth: bắc kinh một mực khẳng định rằng hầu hết vùng biển đông trong phạm vi đường chín đoạn do chính họ vẽ ra là thuộc chủ quyền không thể tranh cãi của trung quốc sự kiện này đã đẩy phi lip pin tới quyết định yêu cầu tòa án trọng tài quốc tế phân xử cuộc tranh chấp\n",
      "- Predicted: bắc kinh bột mực khẳng định rằng hầu hết đường biển đông trong phạm vi đường chiến đoạn do chính họ vẽ ra là thuộc chủ quyền không thể tranh cãi của trung quốc. dự kiện này đã đẩy philippines tới quyết định yêu cầu tòa án trọng tài quốc tế phân xử cuộc tranh chấp.\n"
     ]
    },
    {
     "name": "stderr",
     "output_type": "stream",
     "text": [
      "/home/ngo/anaconda3/lib/python3.12/site-packages/whisper/transcribe.py:126: UserWarning: FP16 is not supported on CPU; using FP32 instead\n",
      "  warnings.warn(\"FP16 is not supported on CPU; using FP32 instead\")\n"
     ]
    },
    {
     "name": "stdout",
     "output_type": "stream",
     "text": [
      "- (98/100)Process file: ./data/database_sa1_Jan08_Mar19_cleaned_utt_0000000226-1\n",
      "- GroundTruth: cuối tháng hai vừa qua nhà chức trách tại khu vực này đã công khai kế hoạch bổ sung thêm những đơn vị cảnh sát đi bộ đi tuần trên những con phố có tỷ lệ tội phạm cao giống như a gai đây là một bước tiến mới nhằm đối phó với tình trạng mất trật tự an ninh và buôn bán ma túy tại đây chị như ý một chủ tiệm trong khu vực cho biết\n",
      "- Predicted: cuối tháng 2 vừa qua, nhà chức trách tại khu vực này đã công khai kế hoạch bổ sung thêm những đơn vị cảnh sát đi bộ đi tuần trên những con phố có tỷ lệ tươi thảm cao giống như a gải. đây là một ước tiên mới nhằm đối phó với tình trạng mất trận tự an ninh và vui mạn ma túy lại đây. chỉ như ý, một thực tiệm trong khu vực cho biết.\n"
     ]
    },
    {
     "name": "stderr",
     "output_type": "stream",
     "text": [
      "/home/ngo/anaconda3/lib/python3.12/site-packages/whisper/transcribe.py:126: UserWarning: FP16 is not supported on CPU; using FP32 instead\n",
      "  warnings.warn(\"FP16 is not supported on CPU; using FP32 instead\")\n"
     ]
    },
    {
     "name": "stdout",
     "output_type": "stream",
     "text": [
      "- (99/100)Process file: ./data/database_sa1_Jan08_Mar19_cleaned_utt_0000002051-1\n",
      "- GroundTruth: có lẽ trong nỗ lực tiếp thị nó nhiều hơn đến với những người thích phiêu lưu thay vì các bà mẹ năng động cổ xe có thêm nhiều trang trí màu đen và khoảng thông gầm cao hơn hai phẩy năm xen ti mét so với phoi lớt nếu bản dẫn động tất cả các bánh dự là hầu hết các quảng cáo hiện tại của hon đa đều nhắc đến phần gỗ dòng bát bốt sử dụng hệ dẫn động tất cả các bánh i vê tê en bốn của hon đa với tất cả các chế độ như bùn cát và tuyết dư khả năng cho những tình huống mà chủ xe có thể gặp phải\n",
      "- Predicted: có lẽ trong nỗ lực tiếp thị nó nhiều hơn đến với những người thích phiêu lưu thay vì các bà mẹ năng động, chú xe có thêm nhiều trang trí mô đen và khoảng không gầm cao hơn 2,5cm so với pilot nếu là bản dẫn động tất cả các bánh. tự là hầu hết các quảng cáo hiện tại của honda đều nhắc đến phân vỗ. dòng passport sử dụng hệ dẫn động tất cả các bánh evtn4 của honda, với tất cả các chế độ như là mùm, cát và tuyết, dư khả năng cho những tình huống mà chú xe có thể gặp phải.\n"
     ]
    },
    {
     "name": "stderr",
     "output_type": "stream",
     "text": [
      "/home/ngo/anaconda3/lib/python3.12/site-packages/whisper/transcribe.py:126: UserWarning: FP16 is not supported on CPU; using FP32 instead\n",
      "  warnings.warn(\"FP16 is not supported on CPU; using FP32 instead\")\n"
     ]
    },
    {
     "name": "stdout",
     "output_type": "stream",
     "text": [
      "- (100/100)Process file: ./data/database_sa1_Jan08_Mar19_cleaned_utt_0000000974-1\n",
      "- GroundTruth: và một chuyên gia ảo có thể đánh dấu trên ứng dụng các vùng nguy hiểm và các khu vực an toàn nơi bạn có thể trú ẩn\n",
      "- Predicted: và một chuyên gia ảo có thể đánh dấu trên ứng dụng các vùng nguy hiểm và các khu vực an toàn nơi bạn có thể trú ẩn.\n",
      "Inference -> end\n"
     ]
    }
   ],
   "source": [
    "print(\"Inference -> start\")\n",
    "\n",
    "# Khởi tạo danh sách để lưu trữ văn bản tham chiếu và văn bản nhận diện\n",
    "references = []\n",
    "hypotheses = []\n",
    "\n",
    "# Định nghĩa các biến đổi văn bản: loại bỏ dấu câu và chuyển thành chữ thường\n",
    "transforms = jiwer.Compose([\n",
    "    jiwer.RemovePunctuation(),\n",
    "    jiwer.ToLowerCase()\n",
    "])\n",
    "\n",
    "# Xử lý từng file âm thanh\n",
    "audioLength = len(audio_files)\n",
    "for index, audio_file in enumerate(audio_files):\n",
    "    try:\n",
    "        # Nhận diện âm thanh\n",
    "        result = model.transcribe(audio_file)\n",
    "        hypothesis = result[\"text\"].strip().lower()\n",
    "        \n",
    "        # Lấy đường dẫn file transcript tương ứng\n",
    "        base_name = os.path.splitext(audio_file)[0]\n",
    "        transcript_file = base_name + \".txt\"\n",
    "        \n",
    "        # Đọc văn bản tham chiếu từ file .txt\n",
    "        with open(transcript_file, \"r\", encoding=\"utf-8\") as f:\n",
    "            reference = f.read().strip().lower()\n",
    "\n",
    "        print(f\"- ({index + 1}/{audioLength})Process file: {base_name}\\n- GroundTruth: {reference}\\n- Predicted: {hypothesis}\")\n",
    "        # Thêm vào danh sách\n",
    "        references.append(reference)\n",
    "        hypotheses.append(hypothesis)\n",
    "    except Exception as e:\n",
    "        print(f\"Lỗi khi xử lý {audio_file}: {e}\")\n",
    "\n",
    "print(\"Inference -> end\")"
   ]
  },
  {
   "cell_type": "code",
   "execution_count": 4,
   "id": "51d9b86e-29e8-4f80-b090-f279b8d50465",
   "metadata": {},
   "outputs": [
    {
     "name": "stdout",
     "output_type": "stream",
     "text": [
      "Chỉ số WER tổng thể: 0.2658\n"
     ]
    }
   ],
   "source": [
    "# Tính và in chỉ số WER tổng thể\n",
    "if references:\n",
    "    wer = jiwer.wer(references, hypotheses)\n",
    "    print(f\"Chỉ số WER tổng thể: {wer:.4f}\")\n",
    "else:\n",
    "    print(\"Không có file nào được xử lý thành công.\")"
   ]
  }
 ],
 "metadata": {
  "kernelspec": {
   "display_name": "base",
   "language": "python",
   "name": "python3"
  },
  "language_info": {
   "codemirror_mode": {
    "name": "ipython",
    "version": 3
   },
   "file_extension": ".py",
   "mimetype": "text/x-python",
   "name": "python",
   "nbconvert_exporter": "python",
   "pygments_lexer": "ipython3",
   "version": "3.12.2"
  }
 },
 "nbformat": 4,
 "nbformat_minor": 5
}
