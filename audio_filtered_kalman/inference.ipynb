{
 "cells": [
  {
   "cell_type": "code",
   "execution_count": 1,
   "id": "0aa7ae5d-2a1c-4fe0-98e5-964af8cb3c64",
   "metadata": {},
   "outputs": [
    {
     "name": "stdout",
     "output_type": "stream",
     "text": [
      "Import completed\n"
     ]
    }
   ],
   "source": [
    "import whisper\n",
    "import jiwer\n",
    "import glob\n",
    "import os\n",
    "\n",
    "print(\"Import completed\")"
   ]
  },
  {
   "cell_type": "code",
   "execution_count": 2,
   "id": "987aac2d-b5bc-4eb7-ab7e-3b40587eda9f",
   "metadata": {},
   "outputs": [
    {
     "name": "stdout",
     "output_type": "stream",
     "text": [
      "Load model -> start\n",
      "Load model -> end\n"
     ]
    }
   ],
   "source": [
    "print(\"Load model -> start\")\n",
    "model = whisper.load_model(\"large-v3\")\n",
    "\n",
    "# Lấy danh sách tất cả các file âm thanh trong thư mục \"./data\"\n",
    "audio_files = glob.glob(\"./data/*.wav\")\n",
    "\n",
    "print(\"Load model -> end\")"
   ]
  },
  {
   "cell_type": "code",
   "execution_count": null,
   "id": "d7c200fd-a8ca-4a05-acd6-864f0fb658a6",
   "metadata": {},
   "outputs": [
    {
     "name": "stdout",
     "output_type": "stream",
     "text": [
      "Inference -> start\n"
     ]
    },
    {
     "name": "stderr",
     "output_type": "stream",
     "text": [
      "/opt/anaconda3/lib/python3.12/site-packages/whisper/transcribe.py:126: UserWarning: FP16 is not supported on CPU; using FP32 instead\n",
      "  warnings.warn(\"FP16 is not supported on CPU; using FP32 instead\")\n"
     ]
    },
    {
     "name": "stdout",
     "output_type": "stream",
     "text": [
      "- (1/100)Process file: ./data/database_sa1_Jan08_Mar19_cleaned_utt_0000002194-1\n",
      "- GroundTruth: dạ vầng câu hỏi của gia phạm cháu tám tuổi hay bị khịt mũi át xì nhảy mũi tối ngủ hay ho khan tiếng lớn làm thế nào để khỏi\n",
      "- Predicted: dạ vầng câu hỏi của gia phạm cháu tám tuổi hay bị khịt mũi át xì nhảy mũi tối ngủ hay ho khan tiếng lớn làm thế nào để khỏi\n"
     ]
    },
    {
     "name": "stderr",
     "output_type": "stream",
     "text": [
      "/opt/anaconda3/lib/python3.12/site-packages/whisper/transcribe.py:126: UserWarning: FP16 is not supported on CPU; using FP32 instead\n",
      "  warnings.warn(\"FP16 is not supported on CPU; using FP32 instead\")\n"
     ]
    },
    {
     "name": "stdout",
     "output_type": "stream",
     "text": [
      "- (2/100)Process file: ./data/database_sa1_Jan08_Mar19_cleaned_utt_0000000123-1\n",
      "- GroundTruth: khi chúng tôi về đến đó thì thấy gần tối rồi chúng tôi nghĩ rằng là cần phải có sự an toàn đối với người dân là trên hết hai nữa thì chúng tôi cũng nhận được sự góp ý của anh em linh mục và của bề trên thì chúng tôi quyết định để cho bà con ra về ạ\n",
      "- Predicted: khi chúng tôi về đến đó thì thấy gần tối rồi chúng tôi nghĩ rằng là cần phải có sự an toàn đối với người dân là trên hết hai nữa thì chúng tôi cũng nhận được sự góp ý của anh em linh mục và của bề trên thì chúng tôi quyết định để cho bà con ra về ạ\n"
     ]
    },
    {
     "name": "stderr",
     "output_type": "stream",
     "text": [
      "/opt/anaconda3/lib/python3.12/site-packages/whisper/transcribe.py:126: UserWarning: FP16 is not supported on CPU; using FP32 instead\n",
      "  warnings.warn(\"FP16 is not supported on CPU; using FP32 instead\")\n"
     ]
    },
    {
     "name": "stdout",
     "output_type": "stream",
     "text": [
      "- (3/100)Process file: ./data/database_sa1_Jan08_Mar19_cleaned_utt_0000001593-1\n",
      "- GroundTruth: và sau khi bỏ nhiều công sức nhiều giờ lao động những lần máy bay trực thăng bay qua những lần vệ tinh quay quanh nguyên vật liệu và ý tưởng sáng tạo khơi mào thì tác phẩm nghệ thuật này sẽ biến mất vào tháng mười một ít ra thì chúng ta vẫn có thể nhìn được toàn cảnh ở đây\n",
      "- Predicted: và sau khi bỏ nhiều công sức nhiều giờ lao động những lần máy bay trực thăng bay qua những lần vệ tinh quay quanh nguyên vật liệu và ý tưởng sáng tạo khơi mào thì tác phẩm nghệ thuật này sẽ biến mất vào tháng mười một ít ra thì chúng ta vẫn có thể nhìn được toàn cảnh ở đây\n"
     ]
    },
    {
     "name": "stderr",
     "output_type": "stream",
     "text": [
      "/opt/anaconda3/lib/python3.12/site-packages/whisper/transcribe.py:126: UserWarning: FP16 is not supported on CPU; using FP32 instead\n",
      "  warnings.warn(\"FP16 is not supported on CPU; using FP32 instead\")\n"
     ]
    },
    {
     "name": "stdout",
     "output_type": "stream",
     "text": [
      "- (4/100)Process file: ./data/database_sa1_Jan08_Mar19_cleaned_utt_0000001298-2\n",
      "- GroundTruth: tôi biết thì nếu các bạn muốn học về ngành quản trị kinh doanh thì có rất là nhiều đại học\n",
      "- Predicted: tôi biết thì nếu các bạn muốn học về ngành quản trị kinh doanh thì có rất là nhiều đại học\n"
     ]
    },
    {
     "name": "stderr",
     "output_type": "stream",
     "text": [
      "/opt/anaconda3/lib/python3.12/site-packages/whisper/transcribe.py:126: UserWarning: FP16 is not supported on CPU; using FP32 instead\n",
      "  warnings.warn(\"FP16 is not supported on CPU; using FP32 instead\")\n"
     ]
    },
    {
     "name": "stdout",
     "output_type": "stream",
     "text": [
      "- (5/100)Process file: ./data/database_sa1_Jan08_Mar19_cleaned_utt_0000000692-1\n",
      "- GroundTruth: các nhà phân tích cho rằng các công ty dầu hỏa nước ngoài quan tâm đến hồ sơ dự thầu\n",
      "- Predicted: các nhà phân tích cho rằng các công ty dầu hỏa nước ngoài quan tâm đến hồ sơ dự thầu\n"
     ]
    },
    {
     "name": "stderr",
     "output_type": "stream",
     "text": [
      "/opt/anaconda3/lib/python3.12/site-packages/whisper/transcribe.py:126: UserWarning: FP16 is not supported on CPU; using FP32 instead\n",
      "  warnings.warn(\"FP16 is not supported on CPU; using FP32 instead\")\n"
     ]
    },
    {
     "name": "stdout",
     "output_type": "stream",
     "text": [
      "- (6/100)Process file: ./data/database_sa1_Jan08_Mar19_cleaned_utt_0000001859-1\n",
      "- GroundTruth: thông tấn xã chính thức của nhà nước trung quốc ngày mười bảy tháng chín đăng bài xã luận nêu lập trường của trung quốc rằng biển đông không phải và không nên là một vấn đề giữa mỹ với trung quốc trong bối cảnh chủ tịch trung quốc tập cận bình sắp có chuyến công du tới mỹ\n",
      "- Predicted: thông tấn xã chính thức của nhà nước trung quốc ngày mười bảy tháng chín đăng bài xã luận nêu lập trường của trung quốc rằng biển đông không phải và không nên là một vấn đề giữa mỹ với trung quốc trong bối cảnh chủ tịch trung quốc tập cận bình sắp có chuyến công du tới mỹ\n"
     ]
    },
    {
     "name": "stderr",
     "output_type": "stream",
     "text": [
      "/opt/anaconda3/lib/python3.12/site-packages/whisper/transcribe.py:126: UserWarning: FP16 is not supported on CPU; using FP32 instead\n",
      "  warnings.warn(\"FP16 is not supported on CPU; using FP32 instead\")\n"
     ]
    },
    {
     "name": "stdout",
     "output_type": "stream",
     "text": [
      "- (7/100)Process file: ./data/database_sa1_Jan08_Mar19_cleaned_utt_0000002351-1\n",
      "- GroundTruth: chúng ta cần phải áp lực không ngừng để việt nam phải có những cải thiện về nhân quyền giữa hai nước việt mỹ có thể quan hệ giao thương và nhiều thứ khác nữa nhưng những vấn đề cần được ưu tiên phải làm trước đã tôi hy vọng các tiểu bang khác và những nơi khác sẽ theo chân chúng tôi ban hành những nghị quyết tương tự như thế này để thúc đẩy cho nhân quyền việt nam\n",
      "- Predicted: chúng ta cần phải áp lực không ngừng để việt nam phải có những cải thiện về nhân quyền giữa hai nước việt mỹ có thể quan hệ giao thương và nhiều thứ khác nữa nhưng những vấn đề cần được ưu tiên phải làm trước đã tôi hy vọng các tiểu bang khác và những nơi khác sẽ theo chân chúng tôi ban hành những nghị quyết tương tự như thế này để thúc đẩy cho nhân quyền việt nam\n"
     ]
    },
    {
     "name": "stderr",
     "output_type": "stream",
     "text": [
      "/opt/anaconda3/lib/python3.12/site-packages/whisper/transcribe.py:126: UserWarning: FP16 is not supported on CPU; using FP32 instead\n",
      "  warnings.warn(\"FP16 is not supported on CPU; using FP32 instead\")\n"
     ]
    },
    {
     "name": "stdout",
     "output_type": "stream",
     "text": [
      "- (8/100)Process file: ./data/database_sa1_Jan08_Mar19_cleaned_utt_0000000984-1\n",
      "- GroundTruth: ba mươi tám nót cho biết những thiết bị này có thể được dùng để tiến hành cuộc thử nghiệm và thu thập dữ liệu từ vụ đổ\n",
      "- Predicted: ba mươi tám nót cho biết những thiết bị này có thể được dùng để tiến hành cuộc thử nghiệm và thu thập dữ liệu từ vụ đổ\n"
     ]
    },
    {
     "name": "stderr",
     "output_type": "stream",
     "text": [
      "/opt/anaconda3/lib/python3.12/site-packages/whisper/transcribe.py:126: UserWarning: FP16 is not supported on CPU; using FP32 instead\n",
      "  warnings.warn(\"FP16 is not supported on CPU; using FP32 instead\")\n"
     ]
    },
    {
     "name": "stdout",
     "output_type": "stream",
     "text": [
      "- (9/100)Process file: ./data/database_sa1_Jan08_Mar19_cleaned_utt_0000000986-1\n",
      "- GroundTruth: ông ly đã nhập cảnh từ ma cao hôm mười chín tháng ba nhưng không tham dự được một cuộc họp ở trung quốc đại lục tổ chức ân xá quốc tế nói việc tạm giam ông ly khơi lên nỗi sợ\n",
      "- Predicted: ông ly đã nhập cảnh từ ma cao hôm mười chín tháng ba nhưng không tham dự được một cuộc họp ở trung quốc đại lục tổ chức ân xá quốc tế nói việc tạm giam ông ly khơi lên nỗi sợ\n"
     ]
    },
    {
     "name": "stderr",
     "output_type": "stream",
     "text": [
      "/opt/anaconda3/lib/python3.12/site-packages/whisper/transcribe.py:126: UserWarning: FP16 is not supported on CPU; using FP32 instead\n",
      "  warnings.warn(\"FP16 is not supported on CPU; using FP32 instead\")\n"
     ]
    },
    {
     "name": "stdout",
     "output_type": "stream",
     "text": [
      "- (10/100)Process file: ./data/database_sa1_Jan08_Mar19_cleaned_utt_0000000241-1\n",
      "- GroundTruth: những người tuần hành cho biết họ muốn trắc nghiệm sức chịu đựng của cảnh sát đối với một cuộc tụ tập lớn tại thủ đô của nga sau khi tổng thống vờ la đia mia pu tin tuyên thệ nhậm chức cho nhiệm kỳ thứ ba được một tuần\n",
      "- Predicted: những người tuần hành cho biết họ muốn trắc nghiệm sức chịu đựng của cảnh sát đối với một cuộc tụ tập lớn tại thủ đô của nga sau khi tổng thống vờ la đia mia pu tin tuyên thệ nhậm chức cho nhiệm kỳ thứ ba được một tuần\n"
     ]
    },
    {
     "name": "stderr",
     "output_type": "stream",
     "text": [
      "/opt/anaconda3/lib/python3.12/site-packages/whisper/transcribe.py:126: UserWarning: FP16 is not supported on CPU; using FP32 instead\n",
      "  warnings.warn(\"FP16 is not supported on CPU; using FP32 instead\")\n"
     ]
    },
    {
     "name": "stdout",
     "output_type": "stream",
     "text": [
      "- (11/100)Process file: ./data/database_sa1_Jan08_Mar19_cleaned_utt_0000000140-1\n",
      "- GroundTruth: bà cho biết cuộc đua của bà đang diễn ra gay go vì số phiếu khiếm diện gửi lại không nhiều như trông đợi và bà đang nỗ lực hết sức để huy động nhiều phiếu của cử tri gốc việt nhất có thể\n",
      "- Predicted: bà cho biết cuộc đua của bà đang diễn ra gay go vì số phiếu khiếm diện gửi lại không nhiều như trông đợi và bà đang nỗ lực hết sức để huy động nhiều phiếu của cử tri gốc việt nhất có thể\n"
     ]
    },
    {
     "name": "stderr",
     "output_type": "stream",
     "text": [
      "/opt/anaconda3/lib/python3.12/site-packages/whisper/transcribe.py:126: UserWarning: FP16 is not supported on CPU; using FP32 instead\n",
      "  warnings.warn(\"FP16 is not supported on CPU; using FP32 instead\")\n"
     ]
    },
    {
     "name": "stdout",
     "output_type": "stream",
     "text": [
      "- (12/100)Process file: ./data/database_sa1_Jan08_Mar19_cleaned_utt_0000000962-1\n",
      "- GroundTruth: nói một trực thăng đã thả những thùng khí độc xuống một thị trấn gần thành phố a lép pô bị vây hãm ít nhất ba mươi người chủ yếu là phụ nữ và trẻ em đã bị ảnh hưởng bởi loại khi đó\n",
      "- Predicted: nói một trực thăng đã thả những thùng khí độc xuống một thị trấn gần thành phố a lép pô bị vây hãm ít nhất ba mươi người chủ yếu là phụ nữ và trẻ em đã bị ảnh hưởng bởi loại khi đó\n"
     ]
    },
    {
     "name": "stderr",
     "output_type": "stream",
     "text": [
      "/opt/anaconda3/lib/python3.12/site-packages/whisper/transcribe.py:126: UserWarning: FP16 is not supported on CPU; using FP32 instead\n",
      "  warnings.warn(\"FP16 is not supported on CPU; using FP32 instead\")\n"
     ]
    },
    {
     "name": "stdout",
     "output_type": "stream",
     "text": [
      "- (13/100)Process file: ./data/database_sa1_Jan08_Mar19_cleaned_utt_0000002033-1\n",
      "- GroundTruth: khi ngành công nghiệp điện ảnh mới được hình thành\n",
      "- Predicted: khi ngành công nghiệp điện ảnh mới được hình thành\n"
     ]
    },
    {
     "name": "stderr",
     "output_type": "stream",
     "text": [
      "/opt/anaconda3/lib/python3.12/site-packages/whisper/transcribe.py:126: UserWarning: FP16 is not supported on CPU; using FP32 instead\n",
      "  warnings.warn(\"FP16 is not supported on CPU; using FP32 instead\")\n"
     ]
    },
    {
     "name": "stdout",
     "output_type": "stream",
     "text": [
      "- (14/100)Process file: ./data/database_sa1_Jan08_Mar19_cleaned_utt_0000001530-1\n",
      "- GroundTruth: không thể nào tóm tắt được như vậy bởi vì\n",
      "- Predicted: không thể nào tóm tắt được như vậy bởi vì\n"
     ]
    },
    {
     "name": "stderr",
     "output_type": "stream",
     "text": [
      "/opt/anaconda3/lib/python3.12/site-packages/whisper/transcribe.py:126: UserWarning: FP16 is not supported on CPU; using FP32 instead\n",
      "  warnings.warn(\"FP16 is not supported on CPU; using FP32 instead\")\n"
     ]
    },
    {
     "name": "stdout",
     "output_type": "stream",
     "text": [
      "- (15/100)Process file: ./data/database_sa1_Jan08_Mar19_cleaned_utt_0000002192-1\n",
      "- GroundTruth: một trong những chủ trương của tổng thống putin khi tranh cử là chống mỹ sau đó ông không từ bỏ chủ trương này mà còn làm\n",
      "- Predicted: một trong những chủ trương của tổng thống putin khi tranh cử là chống mỹ sau đó ông không từ bỏ chủ trương này mà còn làm\n"
     ]
    },
    {
     "name": "stderr",
     "output_type": "stream",
     "text": [
      "/opt/anaconda3/lib/python3.12/site-packages/whisper/transcribe.py:126: UserWarning: FP16 is not supported on CPU; using FP32 instead\n",
      "  warnings.warn(\"FP16 is not supported on CPU; using FP32 instead\")\n"
     ]
    },
    {
     "name": "stdout",
     "output_type": "stream",
     "text": [
      "- (16/100)Process file: ./data/database_sa1_Jan08_Mar19_cleaned_utt_0000000005-1\n",
      "- GroundTruth: hôn thê hôn phu có nghĩa là chưa có cái giấy hôn thú nếu mà vậy thì kết cục bảo lãnh phải làm coi như là cái người mà được bảo lãnh hoặc phải ở nước ngoài con cái họ không <unk>\n",
      "- Predicted: hôn thê hôn phu có nghĩa là chưa có cái giấy hôn thú nếu mà vậy thì kết cục bảo lãnh phải làm coi như là cái người mà được bảo lãnh hoặc phải ở nước ngoài con cái họ không <unk>\n"
     ]
    },
    {
     "name": "stderr",
     "output_type": "stream",
     "text": [
      "/opt/anaconda3/lib/python3.12/site-packages/whisper/transcribe.py:126: UserWarning: FP16 is not supported on CPU; using FP32 instead\n",
      "  warnings.warn(\"FP16 is not supported on CPU; using FP32 instead\")\n"
     ]
    },
    {
     "name": "stdout",
     "output_type": "stream",
     "text": [
      "- (17/100)Process file: ./data/database_sa1_Jan08_Mar19_cleaned_utt_0000000510-1\n",
      "- GroundTruth: giáo viên trông đợi bạn đạt thành tích cao khi giáo viên có những kỳ vọng tích cực từ đó thực sự khích lệ bạn học tốt hơn\n",
      "- Predicted: giáo viên trông đợi bạn đạt thành tích cao khi giáo viên có những kỳ vọng tích cực từ đó thực sự khích lệ bạn học tốt hơn\n"
     ]
    },
    {
     "name": "stderr",
     "output_type": "stream",
     "text": [
      "/opt/anaconda3/lib/python3.12/site-packages/whisper/transcribe.py:126: UserWarning: FP16 is not supported on CPU; using FP32 instead\n",
      "  warnings.warn(\"FP16 is not supported on CPU; using FP32 instead\")\n"
     ]
    },
    {
     "name": "stdout",
     "output_type": "stream",
     "text": [
      "- (18/100)Process file: ./data/database_sa1_Jan08_Mar19_cleaned_utt_0000001654-1\n",
      "- GroundTruth: do những nhà máy bia loại nhỏ sản xuất ngành nghề thủ công trong năm qua tăng mười một phần trăm về khối lượng và tăng mười hai phần trăm tính theo đô la so với năm ngoái một trong những loại bia mới được khởi hứng từ những tổ phụ của nước mỹ trong đó có ông do goa sinh tơn\n",
      "- Predicted: do những nhà máy bia loại nhỏ sản xuất ngành nghề thủ công trong năm qua tăng mười một phần trăm về khối lượng và tăng mười hai phần trăm tính theo đô la so với năm ngoái một trong những loại bia mới được khởi hứng từ những tổ phụ của nước mỹ trong đó có ông do goa sinh tơn\n"
     ]
    },
    {
     "name": "stderr",
     "output_type": "stream",
     "text": [
      "/opt/anaconda3/lib/python3.12/site-packages/whisper/transcribe.py:126: UserWarning: FP16 is not supported on CPU; using FP32 instead\n",
      "  warnings.warn(\"FP16 is not supported on CPU; using FP32 instead\")\n"
     ]
    },
    {
     "name": "stdout",
     "output_type": "stream",
     "text": [
      "- (19/100)Process file: ./data/database_sa1_Jan08_Mar19_cleaned_utt_0000001611-1\n",
      "- GroundTruth: khúc biến tấu sắc màu của phở phở từ lâu đã trở thành món ăn ngon đặc trưng cho quốc hồn quốc túy của người việt nam trong lòng bạn bè thế giới trong vòng vài năm gần đây sài gòn xuất hiện một loại bánh phở với đầy màu sắc và được chế biến tại chỗ mang đến nhiều khám phá vô cùng thú vị của thực khách ngoài việc bánh phở tươi được sản xuất bằng một loại máy riêng đặt ngay tại quán món phở này còn khoác lên mình chiếc áo mới với nhiều màu sắc khác nhau khiến món phở quen thuộc với người dân việt nam bỗng trở nên khác lạ phong phú và đặc sắc hơn\n",
      "- Predicted: khúc biến tấu sắc màu của phở phở từ lâu đã trở thành món ăn ngon đặc trưng cho quốc hồn quốc túy của người việt nam trong lòng bạn bè thế giới trong vòng vài năm gần đây sài gòn xuất hiện một loại bánh phở với đầy màu sắc và được chế biến tại chỗ mang đến nhiều khám phá vô cùng thú vị của thực khách ngoài việc bánh phở tươi được sản xuất bằng một loại máy riêng đặt ngay tại quán món phở này còn khoác lên mình chiếc áo mới với nhiều màu sắc khác nhau khiến món phở quen thuộc với người dân việt nam bỗng trở nên khác lạ phong phú và đặc sắc hơn\n"
     ]
    },
    {
     "name": "stderr",
     "output_type": "stream",
     "text": [
      "/opt/anaconda3/lib/python3.12/site-packages/whisper/transcribe.py:126: UserWarning: FP16 is not supported on CPU; using FP32 instead\n",
      "  warnings.warn(\"FP16 is not supported on CPU; using FP32 instead\")\n"
     ]
    },
    {
     "name": "stdout",
     "output_type": "stream",
     "text": [
      "- (20/100)Process file: ./data/database_sa1_Jan08_Mar19_cleaned_utt_0000000669-1\n",
      "- GroundTruth: bộ ngoại giao phi líp pin cũng đồng thời lên án các hoạt động bất hợp pháp phá hoại môi trường của ngư phủ trung quốc tại bãi cạn vừa kể\n",
      "- Predicted: bộ ngoại giao phi líp pin cũng đồng thời lên án các hoạt động bất hợp pháp phá hoại môi trường của ngư phủ trung quốc tại bãi cạn vừa kể\n"
     ]
    },
    {
     "name": "stderr",
     "output_type": "stream",
     "text": [
      "/opt/anaconda3/lib/python3.12/site-packages/whisper/transcribe.py:126: UserWarning: FP16 is not supported on CPU; using FP32 instead\n",
      "  warnings.warn(\"FP16 is not supported on CPU; using FP32 instead\")\n"
     ]
    },
    {
     "name": "stdout",
     "output_type": "stream",
     "text": [
      "- (21/100)Process file: ./data/database_sa1_Jan08_Mar19_cleaned_utt_0000002094-1\n",
      "- GroundTruth: ở thái lan các cộng đồng dọc theo sông mê công nói đập đôn sa hông sẽ gây thiệt hại cho nguồn sinh nhai của họ lệ thuộc chủ yếu vào cá của dòng sông và các tài nguyên thiên nhiên khác\n",
      "- Predicted: ở thái lan các cộng đồng dọc theo sông mê công nói đập đôn sa hông sẽ gây thiệt hại cho nguồn sinh nhai của họ lệ thuộc chủ yếu vào cá của dòng sông và các tài nguyên thiên nhiên khác\n"
     ]
    },
    {
     "name": "stderr",
     "output_type": "stream",
     "text": [
      "/opt/anaconda3/lib/python3.12/site-packages/whisper/transcribe.py:126: UserWarning: FP16 is not supported on CPU; using FP32 instead\n",
      "  warnings.warn(\"FP16 is not supported on CPU; using FP32 instead\")\n"
     ]
    },
    {
     "name": "stdout",
     "output_type": "stream",
     "text": [
      "- (22/100)Process file: ./data/database_sa1_Jan08_Mar19_cleaned_utt_0000000477-1\n",
      "- GroundTruth: sẽ nhận được một bộ sưu tập quần áo mới một số tiền không được tiết lộ và một căn hộ ở thành phố niu oóc\n",
      "- Predicted: sẽ nhận được một bộ sưu tập quần áo mới một số tiền không được tiết lộ và một căn hộ ở thành phố niu oóc\n"
     ]
    },
    {
     "name": "stderr",
     "output_type": "stream",
     "text": [
      "/opt/anaconda3/lib/python3.12/site-packages/whisper/transcribe.py:126: UserWarning: FP16 is not supported on CPU; using FP32 instead\n",
      "  warnings.warn(\"FP16 is not supported on CPU; using FP32 instead\")\n"
     ]
    },
    {
     "name": "stdout",
     "output_type": "stream",
     "text": [
      "- (23/100)Process file: ./data/database_sa1_Jan08_Mar19_cleaned_utt_0000001103-1\n",
      "- GroundTruth: làm như vậy chúng ta đang loại bỏ những chính sách đưa tới việc các quân nhân chuyển giới\n",
      "- Predicted: làm như vậy chúng ta đang loại bỏ những chính sách đưa tới việc các quân nhân chuyển giới\n"
     ]
    },
    {
     "name": "stderr",
     "output_type": "stream",
     "text": [
      "/opt/anaconda3/lib/python3.12/site-packages/whisper/transcribe.py:126: UserWarning: FP16 is not supported on CPU; using FP32 instead\n",
      "  warnings.warn(\"FP16 is not supported on CPU; using FP32 instead\")\n"
     ]
    },
    {
     "name": "stdout",
     "output_type": "stream",
     "text": [
      "- (24/100)Process file: ./data/database_sa1_Jan08_Mar19_cleaned_utt_0000001980-1\n",
      "- GroundTruth: cuộc tập trận này diễn ra một tuần sau khi triều tiên tuyên bố họ đã thử nghiệm phi đạn đạn đạo liên lục địa tiên tiến nhất có khả năng vươn tới lục địa mỹ như một phần trong chương trình vũ khí mà nước này phát triển thách thức các chế tài và những lời lên án của quốc tế\n",
      "- Predicted: cuộc tập trận này diễn ra một tuần sau khi triều tiên tuyên bố họ đã thử nghiệm phi đạn đạn đạo liên lục địa tiên tiến nhất có khả năng vươn tới lục địa mỹ như một phần trong chương trình vũ khí mà nước này phát triển thách thức các chế tài và những lời lên án của quốc tế\n"
     ]
    },
    {
     "name": "stderr",
     "output_type": "stream",
     "text": [
      "/opt/anaconda3/lib/python3.12/site-packages/whisper/transcribe.py:126: UserWarning: FP16 is not supported on CPU; using FP32 instead\n",
      "  warnings.warn(\"FP16 is not supported on CPU; using FP32 instead\")\n"
     ]
    },
    {
     "name": "stdout",
     "output_type": "stream",
     "text": [
      "- (25/100)Process file: ./data/database_sa1_Jan08_Mar19_cleaned_utt_0000001860-1\n",
      "- GroundTruth: nói rằng mình có những bằng chứng lịch sử khẳng định chủ quyền ở biển đông trung quốc khẳng định mục tiêu căn bản ở khu vực này là biến biển đông thành nơi hòa bình hữu nghị bài xã luận của tân hoa xã nói điều này phù hợp với viễn kiến phát triển hòa bình của trung quốc và cũng nằm trong lợi ích của mỹ\n",
      "- Predicted: nói rằng mình có những bằng chứng lịch sử khẳng định chủ quyền ở biển đông trung quốc khẳng định mục tiêu căn bản ở khu vực này là biến biển đông thành nơi hòa bình hữu nghị bài xã luận của tân hoa xã nói điều này phù hợp với viễn kiến phát triển hòa bình của trung quốc và cũng nằm trong lợi ích của mỹ\n"
     ]
    },
    {
     "name": "stderr",
     "output_type": "stream",
     "text": [
      "/opt/anaconda3/lib/python3.12/site-packages/whisper/transcribe.py:126: UserWarning: FP16 is not supported on CPU; using FP32 instead\n",
      "  warnings.warn(\"FP16 is not supported on CPU; using FP32 instead\")\n"
     ]
    },
    {
     "name": "stdout",
     "output_type": "stream",
     "text": [
      "- (26/100)Process file: ./data/database_sa1_Jan08_Mar19_cleaned_utt_0000000827-2\n",
      "- GroundTruth: thì nhà được ưu tiên nhiều hơn là cái số lượng trường cấp một nó chia đều rải rác ra theo khu vực còn như về trường cấp hai cấp ba thì nguyên khu vực chỉ có một trường duy nhất là trường\n",
      "- Predicted: thì nhà được ưu tiên nhiều hơn là cái số lượng trường cấp một nó chia đều rải rác ra theo khu vực còn như về trường cấp hai cấp ba thì nguyên khu vực chỉ có một trường duy nhất là trường\n"
     ]
    },
    {
     "name": "stderr",
     "output_type": "stream",
     "text": [
      "/opt/anaconda3/lib/python3.12/site-packages/whisper/transcribe.py:126: UserWarning: FP16 is not supported on CPU; using FP32 instead\n",
      "  warnings.warn(\"FP16 is not supported on CPU; using FP32 instead\")\n"
     ]
    },
    {
     "name": "stdout",
     "output_type": "stream",
     "text": [
      "- (27/100)Process file: ./data/database_sa1_Jan08_Mar19_cleaned_utt_0000000801-1\n",
      "- GroundTruth: ngay sau khi cuộc gặp thượng đỉnh giữa mỹ và triều tiên kết thúc ở sing ga po chiều ngày mười hai tháng sáu bộ ngoại giao việt nam lập tức lên tiếng hoan nghênh kết quả của cuộc gặp được cho là lịch sử giữa tổng thống đo nồ trăm và chủ tịch kim giong um\n",
      "- Predicted: ngay sau khi cuộc gặp thượng đỉnh giữa mỹ và triều tiên kết thúc ở sing ga po chiều ngày mười hai tháng sáu bộ ngoại giao việt nam lập tức lên tiếng hoan nghênh kết quả của cuộc gặp được cho là lịch sử giữa tổng thống đo nồ trăm và chủ tịch kim giong um\n"
     ]
    },
    {
     "name": "stderr",
     "output_type": "stream",
     "text": [
      "/opt/anaconda3/lib/python3.12/site-packages/whisper/transcribe.py:126: UserWarning: FP16 is not supported on CPU; using FP32 instead\n",
      "  warnings.warn(\"FP16 is not supported on CPU; using FP32 instead\")\n"
     ]
    },
    {
     "name": "stdout",
     "output_type": "stream",
     "text": [
      "- (28/100)Process file: ./data/database_sa1_Jan08_Mar19_cleaned_utt_0000001082-1\n",
      "- GroundTruth: và số tiền này sẽ được các công ty hưởng lợi từ quá trình tự động hóa chi trả\n",
      "- Predicted: và số tiền này sẽ được các công ty hưởng lợi từ quá trình tự động hóa chi trả\n"
     ]
    },
    {
     "name": "stderr",
     "output_type": "stream",
     "text": [
      "/opt/anaconda3/lib/python3.12/site-packages/whisper/transcribe.py:126: UserWarning: FP16 is not supported on CPU; using FP32 instead\n",
      "  warnings.warn(\"FP16 is not supported on CPU; using FP32 instead\")\n"
     ]
    },
    {
     "name": "stdout",
     "output_type": "stream",
     "text": [
      "- (29/100)Process file: ./data/database_sa1_Jan08_Mar19_cleaned_utt_0000000226-1\n",
      "- GroundTruth: cuối tháng hai vừa qua nhà chức trách tại khu vực này đã công khai kế hoạch bổ sung thêm những đơn vị cảnh sát đi bộ đi tuần trên những con phố có tỷ lệ tội phạm cao giống như a gai đây là một bước tiến mới nhằm đối phó với tình trạng mất trật tự an ninh và buôn bán ma túy tại đây chị như ý một chủ tiệm trong khu vực cho biết\n",
      "- Predicted: cuối tháng hai vừa qua nhà chức trách tại khu vực này đã công khai kế hoạch bổ sung thêm những đơn vị cảnh sát đi bộ đi tuần trên những con phố có tỷ lệ tội phạm cao giống như a gai đây là một bước tiến mới nhằm đối phó với tình trạng mất trật tự an ninh và buôn bán ma túy tại đây chị như ý một chủ tiệm trong khu vực cho biết\n"
     ]
    },
    {
     "name": "stderr",
     "output_type": "stream",
     "text": [
      "/opt/anaconda3/lib/python3.12/site-packages/whisper/transcribe.py:126: UserWarning: FP16 is not supported on CPU; using FP32 instead\n",
      "  warnings.warn(\"FP16 is not supported on CPU; using FP32 instead\")\n"
     ]
    },
    {
     "name": "stdout",
     "output_type": "stream",
     "text": [
      "- (30/100)Process file: ./data/database_sa1_Jan08_Mar19_cleaned_utt_0000000470-1\n",
      "- GroundTruth: thông qua mạng xã hội nhóm những người vận động sự giúp đỡ pháp lý cho cô hương cách đây hai năm bày tỏ họ thấy nghẹn đắng hoặc ức phát khóc vì kết quả mới đây tại tòa ma lai si a bà nguyễn hoàng ánh một người trong nhóm cũng là một giảng viên đại học được biết đến rộng rãi trên mạng xã hội nói với vi ây ba và cả nhóm lặng người khi nghe tin\n",
      "- Predicted: thông qua mạng xã hội nhóm những người vận động sự giúp đỡ pháp lý cho cô hương cách đây hai năm bày tỏ họ thấy nghẹn đắng hoặc ức phát khóc vì kết quả mới đây tại tòa ma lai si a bà nguyễn hoàng ánh một người trong nhóm cũng là một giảng viên đại học được biết đến rộng rãi trên mạng xã hội nói với vi ây ba và cả nhóm lặng người khi nghe tin\n"
     ]
    },
    {
     "name": "stderr",
     "output_type": "stream",
     "text": [
      "/opt/anaconda3/lib/python3.12/site-packages/whisper/transcribe.py:126: UserWarning: FP16 is not supported on CPU; using FP32 instead\n",
      "  warnings.warn(\"FP16 is not supported on CPU; using FP32 instead\")\n"
     ]
    },
    {
     "name": "stdout",
     "output_type": "stream",
     "text": [
      "- (31/100)Process file: ./data/database_sa1_Jan08_Mar19_cleaned_utt_0000000318-1\n",
      "- GroundTruth: biết tất cả những điều đó điều chúng tôi muốn xác định là chiếc ép chín mươi cái tên mà dân cuồng tín bê mờ vê kép biết đến có đi theo xu hướng của bê mờ vê kép là trở thành một chiếc xe không tầm thường hay không\n",
      "- Predicted: biết tất cả những điều đó điều chúng tôi muốn xác định là chiếc ép chín mươi cái tên mà dân cuồng tín bê mờ vê kép biết đến có đi theo xu hướng của bê mờ vê kép là trở thành một chiếc xe không tầm thường hay không\n"
     ]
    },
    {
     "name": "stderr",
     "output_type": "stream",
     "text": [
      "/opt/anaconda3/lib/python3.12/site-packages/whisper/transcribe.py:126: UserWarning: FP16 is not supported on CPU; using FP32 instead\n",
      "  warnings.warn(\"FP16 is not supported on CPU; using FP32 instead\")\n"
     ]
    },
    {
     "name": "stdout",
     "output_type": "stream",
     "text": [
      "- (32/100)Process file: ./data/database_sa1_Jan08_Mar19_cleaned_utt_0000000240-1\n",
      "- GroundTruth: khoảng mười ngàn người nga ngày mười ba tháng năm biểu tình tại thủ đô phản đối chính phủ của tổng thống vờ la đi mia pu tin\n",
      "- Predicted: khoảng mười ngàn người nga ngày mười ba tháng năm biểu tình tại thủ đô phản đối chính phủ của tổng thống vờ la đi mia pu tin\n"
     ]
    },
    {
     "name": "stderr",
     "output_type": "stream",
     "text": [
      "/opt/anaconda3/lib/python3.12/site-packages/whisper/transcribe.py:126: UserWarning: FP16 is not supported on CPU; using FP32 instead\n",
      "  warnings.warn(\"FP16 is not supported on CPU; using FP32 instead\")\n"
     ]
    },
    {
     "name": "stdout",
     "output_type": "stream",
     "text": [
      "- (33/100)Process file: ./data/database_sa1_Jan08_Mar19_cleaned_utt_0000000629-1\n",
      "- GroundTruth: phát ngôn viên lê hải bình một lần nữa lặp lại các tuyên bố trước đây về việc việt nam có đầy đủ cơ sở pháp lý và chứng cứ lịch sử về chủ quyền không tranh cãi đối với hai quần đảo hoàng sa và trường sa\n",
      "- Predicted: phát ngôn viên lê hải bình một lần nữa lặp lại các tuyên bố trước đây về việc việt nam có đầy đủ cơ sở pháp lý và chứng cứ lịch sử về chủ quyền không tranh cãi đối với hai quần đảo hoàng sa và trường sa\n"
     ]
    },
    {
     "name": "stderr",
     "output_type": "stream",
     "text": [
      "/opt/anaconda3/lib/python3.12/site-packages/whisper/transcribe.py:126: UserWarning: FP16 is not supported on CPU; using FP32 instead\n",
      "  warnings.warn(\"FP16 is not supported on CPU; using FP32 instead\")\n"
     ]
    },
    {
     "name": "stdout",
     "output_type": "stream",
     "text": [
      "- (34/100)Process file: ./data/database_sa1_Jan08_Mar19_cleaned_utt_0000002197-1\n",
      "- GroundTruth: nó nó nó sưng lên nó nằm ở trong <unk>\n",
      "- Predicted: nó nó nó sưng lên nó nằm ở trong <unk>\n"
     ]
    },
    {
     "name": "stderr",
     "output_type": "stream",
     "text": [
      "/opt/anaconda3/lib/python3.12/site-packages/whisper/transcribe.py:126: UserWarning: FP16 is not supported on CPU; using FP32 instead\n",
      "  warnings.warn(\"FP16 is not supported on CPU; using FP32 instead\")\n"
     ]
    },
    {
     "name": "stdout",
     "output_type": "stream",
     "text": [
      "- (35/100)Process file: ./data/database_sa1_Jan08_Mar19_cleaned_utt_0000001806-1\n",
      "- GroundTruth: bong bóng cá được sử dụng làm thuốc kích dục ở trung quốc những ngư dân đánh bắt cá rô ở u gan da cho biết họ đang bị bóc lột trong khi những người khác hưởng lợi thông tấn viên đài vi âu ây có thêm chi tiết mời quý vị theo dỏi\n",
      "- Predicted: bong bóng cá được sử dụng làm thuốc kích dục ở trung quốc những ngư dân đánh bắt cá rô ở u gan da cho biết họ đang bị bóc lột trong khi những người khác hưởng lợi thông tấn viên đài vi âu ây có thêm chi tiết mời quý vị theo dỏi\n"
     ]
    },
    {
     "name": "stderr",
     "output_type": "stream",
     "text": [
      "/opt/anaconda3/lib/python3.12/site-packages/whisper/transcribe.py:126: UserWarning: FP16 is not supported on CPU; using FP32 instead\n",
      "  warnings.warn(\"FP16 is not supported on CPU; using FP32 instead\")\n"
     ]
    },
    {
     "name": "stdout",
     "output_type": "stream",
     "text": [
      "- (36/100)Process file: ./data/database_sa1_Jan08_Mar19_cleaned_utt_0000000045-1\n",
      "- GroundTruth: nó làm người dân mặc dù nhìn thì rất bình thường nhưng mà rất rất là rộn ràng từ từ trên các đường phố và trên mỗi con mỗi con người\n",
      "- Predicted: nó làm người dân mặc dù nhìn thì rất bình thường nhưng mà rất rất là rộn ràng từ từ trên các đường phố và trên mỗi con mỗi con người\n"
     ]
    },
    {
     "name": "stderr",
     "output_type": "stream",
     "text": [
      "/opt/anaconda3/lib/python3.12/site-packages/whisper/transcribe.py:126: UserWarning: FP16 is not supported on CPU; using FP32 instead\n",
      "  warnings.warn(\"FP16 is not supported on CPU; using FP32 instead\")\n"
     ]
    },
    {
     "name": "stdout",
     "output_type": "stream",
     "text": [
      "- (37/100)Process file: ./data/database_sa1_Jan08_Mar19_cleaned_utt_0000000795-1\n",
      "- GroundTruth: và tìm thấy dấu vết máu trên một người phụ nữ trong nhóm có họ là nguyễn ba mươi sáu tuổi bà nguyễn thừa nhận đã nấu thịt chó và khai ra năm công nhân tên giáp năm mươi hai tuổi là người giết con chó\n",
      "- Predicted: và tìm thấy dấu vết máu trên một người phụ nữ trong nhóm có họ là nguyễn ba mươi sáu tuổi bà nguyễn thừa nhận đã nấu thịt chó và khai ra năm công nhân tên giáp năm mươi hai tuổi là người giết con chó\n"
     ]
    },
    {
     "name": "stderr",
     "output_type": "stream",
     "text": [
      "/opt/anaconda3/lib/python3.12/site-packages/whisper/transcribe.py:126: UserWarning: FP16 is not supported on CPU; using FP32 instead\n",
      "  warnings.warn(\"FP16 is not supported on CPU; using FP32 instead\")\n"
     ]
    },
    {
     "name": "stdout",
     "output_type": "stream",
     "text": [
      "- (38/100)Process file: ./data/database_sa1_Jan08_Mar19_cleaned_utt_0000001648-1\n",
      "- GroundTruth: nhiều người biểu tình chống ông tập\n",
      "- Predicted: nhiều người biểu tình chống ông tập\n"
     ]
    },
    {
     "name": "stderr",
     "output_type": "stream",
     "text": [
      "/opt/anaconda3/lib/python3.12/site-packages/whisper/transcribe.py:126: UserWarning: FP16 is not supported on CPU; using FP32 instead\n",
      "  warnings.warn(\"FP16 is not supported on CPU; using FP32 instead\")\n"
     ]
    },
    {
     "name": "stdout",
     "output_type": "stream",
     "text": [
      "- (39/100)Process file: ./data/database_sa1_Jan08_Mar19_cleaned_utt_0000000549-1\n",
      "- GroundTruth: bộ trưởng quốc phòng nhật nói cả ma ni la lẫn tô ki ô đều đang đối mặt với các mối quan tâm chung\n",
      "- Predicted: bộ trưởng quốc phòng nhật nói cả ma ni la lẫn tô ki ô đều đang đối mặt với các mối quan tâm chung\n"
     ]
    },
    {
     "name": "stderr",
     "output_type": "stream",
     "text": [
      "/opt/anaconda3/lib/python3.12/site-packages/whisper/transcribe.py:126: UserWarning: FP16 is not supported on CPU; using FP32 instead\n",
      "  warnings.warn(\"FP16 is not supported on CPU; using FP32 instead\")\n"
     ]
    },
    {
     "name": "stdout",
     "output_type": "stream",
     "text": [
      "- (40/100)Process file: ./data/database_sa1_Jan08_Mar19_cleaned_utt_0000000839-1\n",
      "- GroundTruth: tuần trước một tòa án ở thành phố chí minh kết án mười bốn năm tù đối với hai công dân mỹ gốc việt về tội hoạt động chống phá chính quyền nhân dân\n",
      "- Predicted: tuần trước một tòa án ở thành phố chí minh kết án mười bốn năm tù đối với hai công dân mỹ gốc việt về tội hoạt động chống phá chính quyền nhân dân\n"
     ]
    },
    {
     "name": "stderr",
     "output_type": "stream",
     "text": [
      "/opt/anaconda3/lib/python3.12/site-packages/whisper/transcribe.py:126: UserWarning: FP16 is not supported on CPU; using FP32 instead\n",
      "  warnings.warn(\"FP16 is not supported on CPU; using FP32 instead\")\n"
     ]
    },
    {
     "name": "stdout",
     "output_type": "stream",
     "text": [
      "- (41/100)Process file: ./data/database_sa1_Jan08_Mar19_cleaned_utt_0000000841-1\n",
      "- GroundTruth: liên đoàn quốc tế nhân quyền tổ chức thế giới chống tra tấn và ủy ban bảo vệ quyền là người việt nam ngày hai mươi hai tháng ba gửi thư cho giới lãnh đạo cấp cao của hà nội yêu cầu chấm dứt sách nhiễu và đàn áp nhà hoạt động tôn giáo lê công cầu ở thừa thiên huế vụ trưởng gia đình phật tử thuộc viện hóa đạo giáo hội phật giáo việt nam thống nhất một tổ chức tôn giáo không được nhà nước việt nam thừa nhận\n",
      "- Predicted: liên đoàn quốc tế nhân quyền tổ chức thế giới chống tra tấn và ủy ban bảo vệ quyền là người việt nam ngày hai mươi hai tháng ba gửi thư cho giới lãnh đạo cấp cao của hà nội yêu cầu chấm dứt sách nhiễu và đàn áp nhà hoạt động tôn giáo lê công cầu ở thừa thiên huế vụ trưởng gia đình phật tử thuộc viện hóa đạo giáo hội phật giáo việt nam thống nhất một tổ chức tôn giáo không được nhà nước việt nam thừa nhận\n"
     ]
    },
    {
     "name": "stderr",
     "output_type": "stream",
     "text": [
      "/opt/anaconda3/lib/python3.12/site-packages/whisper/transcribe.py:126: UserWarning: FP16 is not supported on CPU; using FP32 instead\n",
      "  warnings.warn(\"FP16 is not supported on CPU; using FP32 instead\")\n"
     ]
    },
    {
     "name": "stdout",
     "output_type": "stream",
     "text": [
      "- (42/100)Process file: ./data/database_sa1_Jan08_Mar19_cleaned_utt_0000000517-1\n",
      "- GroundTruth: họ giô trong biển mình họ bắt mình giờ là cứ ghe tàu mình họ phá hủy hết những cái tín hiệu định vị những bằng chứng mà xác thực là họ tịch thu họ hủy hết rồi bắt đầu họ tới họ ngâm mình qua đây bị giam vô thời hạn\n",
      "- Predicted: họ giô trong biển mình họ bắt mình giờ là cứ ghe tàu mình họ phá hủy hết những cái tín hiệu định vị những bằng chứng mà xác thực là họ tịch thu họ hủy hết rồi bắt đầu họ tới họ ngâm mình qua đây bị giam vô thời hạn\n"
     ]
    },
    {
     "name": "stderr",
     "output_type": "stream",
     "text": [
      "/opt/anaconda3/lib/python3.12/site-packages/whisper/transcribe.py:126: UserWarning: FP16 is not supported on CPU; using FP32 instead\n",
      "  warnings.warn(\"FP16 is not supported on CPU; using FP32 instead\")\n"
     ]
    },
    {
     "name": "stdout",
     "output_type": "stream",
     "text": [
      "- (43/100)Process file: ./data/database_sa1_Jan08_Mar19_cleaned_utt_0000001653-1\n",
      "- GroundTruth: trà my kính mời quý vị đến với chương trình quép cát của bang việt ngữ đài tiếng nói hoa kỳ trong những năm gần đây nước mỹ xuất hiện một phong trào sản xuất bia lớn mạnh được biết với tên gọi là bia thủ công\n",
      "- Predicted: trà my kính mời quý vị đến với chương trình quép cát của bang việt ngữ đài tiếng nói hoa kỳ trong những năm gần đây nước mỹ xuất hiện một phong trào sản xuất bia lớn mạnh được biết với tên gọi là bia thủ công\n"
     ]
    },
    {
     "name": "stderr",
     "output_type": "stream",
     "text": [
      "/opt/anaconda3/lib/python3.12/site-packages/whisper/transcribe.py:126: UserWarning: FP16 is not supported on CPU; using FP32 instead\n",
      "  warnings.warn(\"FP16 is not supported on CPU; using FP32 instead\")\n"
     ]
    },
    {
     "name": "stdout",
     "output_type": "stream",
     "text": [
      "- (44/100)Process file: ./data/database_sa1_Jan08_Mar19_cleaned_utt_0000000820-1\n",
      "- GroundTruth: hợp thành đội ô lim pích triều tiên thống nhất đầu tiên kể từ khi hai bên chia cắt trong cuộc nội chiến năm một ngàn chín trăm năm mươi\n",
      "- Predicted: hợp thành đội ô lim pích triều tiên thống nhất đầu tiên kể từ khi hai bên chia cắt trong cuộc nội chiến năm một ngàn chín trăm năm mươi\n"
     ]
    },
    {
     "name": "stderr",
     "output_type": "stream",
     "text": [
      "/opt/anaconda3/lib/python3.12/site-packages/whisper/transcribe.py:126: UserWarning: FP16 is not supported on CPU; using FP32 instead\n",
      "  warnings.warn(\"FP16 is not supported on CPU; using FP32 instead\")\n"
     ]
    },
    {
     "name": "stdout",
     "output_type": "stream",
     "text": [
      "- (45/100)Process file: ./data/database_sa1_Jan08_Mar19_cleaned_utt_0000002051-1\n",
      "- GroundTruth: có lẽ trong nỗ lực tiếp thị nó nhiều hơn đến với những người thích phiêu lưu thay vì các bà mẹ năng động cổ xe có thêm nhiều trang trí màu đen và khoảng thông gầm cao hơn hai phẩy năm xen ti mét so với phoi lớt nếu bản dẫn động tất cả các bánh dự là hầu hết các quảng cáo hiện tại của hon đa đều nhắc đến phần gỗ dòng bát bốt sử dụng hệ dẫn động tất cả các bánh i vê tê en bốn của hon đa với tất cả các chế độ như bùn cát và tuyết dư khả năng cho những tình huống mà chủ xe có thể gặp phải\n",
      "- Predicted: có lẽ trong nỗ lực tiếp thị nó nhiều hơn đến với những người thích phiêu lưu thay vì các bà mẹ năng động cổ xe có thêm nhiều trang trí màu đen và khoảng thông gầm cao hơn hai phẩy năm xen ti mét so với phoi lớt nếu bản dẫn động tất cả các bánh dự là hầu hết các quảng cáo hiện tại của hon đa đều nhắc đến phần gỗ dòng bát bốt sử dụng hệ dẫn động tất cả các bánh i vê tê en bốn của hon đa với tất cả các chế độ như bùn cát và tuyết dư khả năng cho những tình huống mà chủ xe có thể gặp phải\n"
     ]
    },
    {
     "name": "stderr",
     "output_type": "stream",
     "text": [
      "/opt/anaconda3/lib/python3.12/site-packages/whisper/transcribe.py:126: UserWarning: FP16 is not supported on CPU; using FP32 instead\n",
      "  warnings.warn(\"FP16 is not supported on CPU; using FP32 instead\")\n"
     ]
    },
    {
     "name": "stdout",
     "output_type": "stream",
     "text": [
      "- (46/100)Process file: ./data/database_sa1_Jan08_Mar19_cleaned_utt_0000002010-1\n",
      "- GroundTruth: ông ri át cho biết nhà ông ở a lép po đã bị phá hủy và một người con trai của ông đi lính đã thiệt mạng\n",
      "- Predicted: ông ri át cho biết nhà ông ở a lép po đã bị phá hủy và một người con trai của ông đi lính đã thiệt mạng\n"
     ]
    },
    {
     "name": "stderr",
     "output_type": "stream",
     "text": [
      "/opt/anaconda3/lib/python3.12/site-packages/whisper/transcribe.py:126: UserWarning: FP16 is not supported on CPU; using FP32 instead\n",
      "  warnings.warn(\"FP16 is not supported on CPU; using FP32 instead\")\n"
     ]
    },
    {
     "name": "stdout",
     "output_type": "stream",
     "text": [
      "- (47/100)Process file: ./data/database_sa1_Jan08_Mar19_cleaned_utt_0000001861-1\n",
      "- GroundTruth: bài báo cũng chỉ trích những người mà họ gọi là mang tư tưởng thời chiến tranh lạnh ở goa sin tơn muốn xem vấn đề này là cơ hội để kiềm chế trung quốc và cản trở sự phát triển của trung quốc\n",
      "- Predicted: bài báo cũng chỉ trích những người mà họ gọi là mang tư tưởng thời chiến tranh lạnh ở goa sin tơn muốn xem vấn đề này là cơ hội để kiềm chế trung quốc và cản trở sự phát triển của trung quốc\n"
     ]
    },
    {
     "name": "stderr",
     "output_type": "stream",
     "text": [
      "/opt/anaconda3/lib/python3.12/site-packages/whisper/transcribe.py:126: UserWarning: FP16 is not supported on CPU; using FP32 instead\n",
      "  warnings.warn(\"FP16 is not supported on CPU; using FP32 instead\")\n"
     ]
    },
    {
     "name": "stdout",
     "output_type": "stream",
     "text": [
      "- (48/100)Process file: ./data/database_sa1_Jan08_Mar19_cleaned_utt_0000000861-1\n",
      "- GroundTruth: dòng xưa vẫn tôi lượn lờ bên ngoài lăng mộ như dòng thời gian miêng việt qua lịch sử qua số phận của một con người một dân tộc một quốc gia\n",
      "- Predicted: dòng xưa vẫn tôi lượn lờ bên ngoài lăng mộ như dòng thời gian miêng việt qua lịch sử qua số phận của một con người một dân tộc một quốc gia\n"
     ]
    },
    {
     "name": "stderr",
     "output_type": "stream",
     "text": [
      "/opt/anaconda3/lib/python3.12/site-packages/whisper/transcribe.py:126: UserWarning: FP16 is not supported on CPU; using FP32 instead\n",
      "  warnings.warn(\"FP16 is not supported on CPU; using FP32 instead\")\n"
     ]
    },
    {
     "name": "stdout",
     "output_type": "stream",
     "text": [
      "- (49/100)Process file: ./data/database_sa1_Jan08_Mar19_cleaned_utt_0000001513-1\n",
      "- GroundTruth: người ta cũng có thể tự chiêm nghiệm về những điều đã diễn ra trong cuộc sống để cùng nhìn nhận lại và sống hiền hòa nhân ái hơn\n",
      "- Predicted: người ta cũng có thể tự chiêm nghiệm về những điều đã diễn ra trong cuộc sống để cùng nhìn nhận lại và sống hiền hòa nhân ái hơn\n"
     ]
    },
    {
     "name": "stderr",
     "output_type": "stream",
     "text": [
      "/opt/anaconda3/lib/python3.12/site-packages/whisper/transcribe.py:126: UserWarning: FP16 is not supported on CPU; using FP32 instead\n",
      "  warnings.warn(\"FP16 is not supported on CPU; using FP32 instead\")\n"
     ]
    },
    {
     "name": "stdout",
     "output_type": "stream",
     "text": [
      "- (50/100)Process file: ./data/database_sa1_Jan08_Mar19_cleaned_utt_0000000246-1\n",
      "- GroundTruth: đó là vấn đề nêu gương của cán bộ đảng viên nhà nước các cấp\n",
      "- Predicted: đó là vấn đề nêu gương của cán bộ đảng viên nhà nước các cấp\n"
     ]
    },
    {
     "name": "stderr",
     "output_type": "stream",
     "text": [
      "/opt/anaconda3/lib/python3.12/site-packages/whisper/transcribe.py:126: UserWarning: FP16 is not supported on CPU; using FP32 instead\n",
      "  warnings.warn(\"FP16 is not supported on CPU; using FP32 instead\")\n"
     ]
    },
    {
     "name": "stdout",
     "output_type": "stream",
     "text": [
      "- (51/100)Process file: ./data/database_sa1_Jan08_Mar19_cleaned_utt_0000001417-1\n",
      "- GroundTruth: bạn có thể hoàn toàn kiểm soát thiết bị này như những người bình thường\n",
      "- Predicted: bạn có thể hoàn toàn kiểm soát thiết bị này như những người bình thường\n"
     ]
    },
    {
     "name": "stderr",
     "output_type": "stream",
     "text": [
      "/opt/anaconda3/lib/python3.12/site-packages/whisper/transcribe.py:126: UserWarning: FP16 is not supported on CPU; using FP32 instead\n",
      "  warnings.warn(\"FP16 is not supported on CPU; using FP32 instead\")\n"
     ]
    },
    {
     "name": "stdout",
     "output_type": "stream",
     "text": [
      "- (52/100)Process file: ./data/database_sa1_Jan08_Mar19_cleaned_utt_0000001673-1\n",
      "- GroundTruth: trong đó vốn vay tín dụng ưu đãi của chính phủ trung quốc là một trăm sáu mươi chín triệu đô la\n",
      "- Predicted: trong đó vốn vay tín dụng ưu đãi của chính phủ trung quốc là một trăm sáu mươi chín triệu đô la\n"
     ]
    },
    {
     "name": "stderr",
     "output_type": "stream",
     "text": [
      "/opt/anaconda3/lib/python3.12/site-packages/whisper/transcribe.py:126: UserWarning: FP16 is not supported on CPU; using FP32 instead\n",
      "  warnings.warn(\"FP16 is not supported on CPU; using FP32 instead\")\n"
     ]
    },
    {
     "name": "stdout",
     "output_type": "stream",
     "text": [
      "- (53/100)Process file: ./data/database_sa1_Jan08_Mar19_cleaned_utt_0000002337-1\n",
      "- GroundTruth: báo tuổi trẻ dẫn các nguồn tin không nêu danh nói giới hữu trách hàng hải việt nam đang theo dõi sát vụ việc sự việc diễn ra vài tuần trước chuyến thăm đầu tiên của tổng bí thư đảng cộng sản việt nam tại mỹ trọng tâm chuyến công du của ông nguyễn phú trọng nhằm thúc đẩy hà nội và goa sinh tơn xích lại gần nhau trong mối quan hệ mà bắc kinh hết sức đề phòng giàn khoan chín tám một tái xuất hiện giữa các mối quan ngại gia tăng trước việc trung quốc đang gia tốc các hoạt động xây dựng ở biển đông mà cả hai nước việt mỹ đều phản đối theo nhận định của phân tích dài lê hồng hiệp thuộc viện nghiên cứu đông nam á ở sinh ga po được roai tơ trích dẫn thì hà nội lần này sẽ không phản đối mạnh như năm ngoái nếu bắc kinh nói giàn khoan chín tám một nằm bên trong vùng đặc quyền kinh tế tính từ đảo hải nam chứ không ở vị trí tranh chấp nóng như ở hoàng sa hồi năm ngoái\n",
      "- Predicted: báo tuổi trẻ dẫn các nguồn tin không nêu danh nói giới hữu trách hàng hải việt nam đang theo dõi sát vụ việc sự việc diễn ra vài tuần trước chuyến thăm đầu tiên của tổng bí thư đảng cộng sản việt nam tại mỹ trọng tâm chuyến công du của ông nguyễn phú trọng nhằm thúc đẩy hà nội và goa sinh tơn xích lại gần nhau trong mối quan hệ mà bắc kinh hết sức đề phòng giàn khoan chín tám một tái xuất hiện giữa các mối quan ngại gia tăng trước việc trung quốc đang gia tốc các hoạt động xây dựng ở biển đông mà cả hai nước việt mỹ đều phản đối theo nhận định của phân tích dài lê hồng hiệp thuộc viện nghiên cứu đông nam á ở sinh ga po được roai tơ trích dẫn thì hà nội lần này sẽ không phản đối mạnh như năm ngoái nếu bắc kinh nói giàn khoan chín tám một nằm bên trong vùng đặc quyền kinh tế tính từ đảo hải nam chứ không ở vị trí tranh chấp nóng như ở hoàng sa hồi năm ngoái\n"
     ]
    },
    {
     "name": "stderr",
     "output_type": "stream",
     "text": [
      "/opt/anaconda3/lib/python3.12/site-packages/whisper/transcribe.py:126: UserWarning: FP16 is not supported on CPU; using FP32 instead\n",
      "  warnings.warn(\"FP16 is not supported on CPU; using FP32 instead\")\n"
     ]
    },
    {
     "name": "stdout",
     "output_type": "stream",
     "text": [
      "- (54/100)Process file: ./data/database_sa1_Jan08_Mar19_cleaned_utt_0000000490-1\n",
      "- GroundTruth: tỷ lệ một giáo viên cho bốn mươi sáu học sinh tiểu học là con số tệ nhất trên thế giới ngoài châu phi ngân hàng phát triển châu á đang cấp chín mươi triệu đô la trong vòng năm năm để cải thiện chất lượng giáo dục và giảm tỷ lệ bỏ học\n",
      "- Predicted: tỷ lệ một giáo viên cho bốn mươi sáu học sinh tiểu học là con số tệ nhất trên thế giới ngoài châu phi ngân hàng phát triển châu á đang cấp chín mươi triệu đô la trong vòng năm năm để cải thiện chất lượng giáo dục và giảm tỷ lệ bỏ học\n"
     ]
    },
    {
     "name": "stderr",
     "output_type": "stream",
     "text": [
      "/opt/anaconda3/lib/python3.12/site-packages/whisper/transcribe.py:126: UserWarning: FP16 is not supported on CPU; using FP32 instead\n",
      "  warnings.warn(\"FP16 is not supported on CPU; using FP32 instead\")\n"
     ]
    },
    {
     "name": "stdout",
     "output_type": "stream",
     "text": [
      "- (55/100)Process file: ./data/database_sa1_Jan08_Mar19_cleaned_utt_0000001020-1\n",
      "- GroundTruth: mọi người hàng rong hà nội như một nốt nhạc thánh thót làm nên vẻ du dương và trữ tình của hà nội\n",
      "- Predicted: mọi người hàng rong hà nội như một nốt nhạc thánh thót làm nên vẻ du dương và trữ tình của hà nội\n"
     ]
    },
    {
     "name": "stderr",
     "output_type": "stream",
     "text": [
      "/opt/anaconda3/lib/python3.12/site-packages/whisper/transcribe.py:126: UserWarning: FP16 is not supported on CPU; using FP32 instead\n",
      "  warnings.warn(\"FP16 is not supported on CPU; using FP32 instead\")\n"
     ]
    },
    {
     "name": "stdout",
     "output_type": "stream",
     "text": [
      "- (56/100)Process file: ./data/database_sa1_Jan08_Mar19_cleaned_utt_0000001395-1\n",
      "- GroundTruth: một số chim thật sự thích bầu bạn với con người và trong trường hợp này pa rách pe ry tìm cách tìm cho chú một người nhận nuôi hiện có khoảng một trăm năm mươi con chim được nuôi ở pa rách pe ry nhưng số nhân viên của tổ chức rất ít\n",
      "- Predicted: một số chim thật sự thích bầu bạn với con người và trong trường hợp này pa rách pe ry tìm cách tìm cho chú một người nhận nuôi hiện có khoảng một trăm năm mươi con chim được nuôi ở pa rách pe ry nhưng số nhân viên của tổ chức rất ít\n"
     ]
    },
    {
     "name": "stderr",
     "output_type": "stream",
     "text": [
      "/opt/anaconda3/lib/python3.12/site-packages/whisper/transcribe.py:126: UserWarning: FP16 is not supported on CPU; using FP32 instead\n",
      "  warnings.warn(\"FP16 is not supported on CPU; using FP32 instead\")\n"
     ]
    },
    {
     "name": "stdout",
     "output_type": "stream",
     "text": [
      "- (57/100)Process file: ./data/database_sa1_Jan08_Mar19_cleaned_utt_0000001419-1\n",
      "- GroundTruth: bạn đã xem quép cát nghe đài và được tin tức với vi ô ây tiếng việt giờ bạn có thể xem tất cả các nội dung trên với ứng dụng di động mới tiện lợi và nhanh gọn đặc biệt ứng dụng sẽ tự động cập nhật tin nóng và chờ bạn thì trực tiếp vi đi ô hình ảnh âm thanh đến cho chúng tôi với điện thoại di động hay máy tính bảng ai ô ét hay an roi bạn đều có thể thoải mái dùng ứng dụng còn chờ gì nữa hãy tải ngay ứng dụng vi ô ây tiếng việt hoàn toàn miễn phí\n",
      "- Predicted: bạn đã xem quép cát nghe đài và được tin tức với vi ô ây tiếng việt giờ bạn có thể xem tất cả các nội dung trên với ứng dụng di động mới tiện lợi và nhanh gọn đặc biệt ứng dụng sẽ tự động cập nhật tin nóng và chờ bạn thì trực tiếp vi đi ô hình ảnh âm thanh đến cho chúng tôi với điện thoại di động hay máy tính bảng ai ô ét hay an roi bạn đều có thể thoải mái dùng ứng dụng còn chờ gì nữa hãy tải ngay ứng dụng vi ô ây tiếng việt hoàn toàn miễn phí\n"
     ]
    },
    {
     "name": "stderr",
     "output_type": "stream",
     "text": [
      "/opt/anaconda3/lib/python3.12/site-packages/whisper/transcribe.py:126: UserWarning: FP16 is not supported on CPU; using FP32 instead\n",
      "  warnings.warn(\"FP16 is not supported on CPU; using FP32 instead\")\n"
     ]
    },
    {
     "name": "stdout",
     "output_type": "stream",
     "text": [
      "- (58/100)Process file: ./data/database_sa1_Jan08_Mar19_cleaned_utt_0000000419-1\n",
      "- GroundTruth: <unk> cho na tô cho đến là\n",
      "- Predicted: <unk> cho na tô cho đến là\n"
     ]
    },
    {
     "name": "stderr",
     "output_type": "stream",
     "text": [
      "/opt/anaconda3/lib/python3.12/site-packages/whisper/transcribe.py:126: UserWarning: FP16 is not supported on CPU; using FP32 instead\n",
      "  warnings.warn(\"FP16 is not supported on CPU; using FP32 instead\")\n"
     ]
    },
    {
     "name": "stdout",
     "output_type": "stream",
     "text": [
      "- (59/100)Process file: ./data/database_sa1_Jan08_Mar19_cleaned_utt_0000002007-1\n",
      "- GroundTruth: người dân không phàn nàn coi đó là chuyện thường nhưng các giới chức đối xử với họ một cách tồi tệ nói ngắn gọn thời điểm này thật khó khăn nếu anh là một người sy ri a ở đây\n",
      "- Predicted: người dân không phàn nàn coi đó là chuyện thường nhưng các giới chức đối xử với họ một cách tồi tệ nói ngắn gọn thời điểm này thật khó khăn nếu anh là một người sy ri a ở đây\n"
     ]
    },
    {
     "name": "stderr",
     "output_type": "stream",
     "text": [
      "/opt/anaconda3/lib/python3.12/site-packages/whisper/transcribe.py:126: UserWarning: FP16 is not supported on CPU; using FP32 instead\n",
      "  warnings.warn(\"FP16 is not supported on CPU; using FP32 instead\")\n"
     ]
    },
    {
     "name": "stdout",
     "output_type": "stream",
     "text": [
      "- (60/100)Process file: ./data/database_sa1_Jan08_Mar19_cleaned_utt_0000001461-1\n",
      "- GroundTruth: không ngờ cho đến khi các nhà khảo cứu đặt những thiết bị cảm biến lên đầu các em và đo lường phản ứng của các em với âm thanh trước và sau khi học\n",
      "- Predicted: không ngờ cho đến khi các nhà khảo cứu đặt những thiết bị cảm biến lên đầu các em và đo lường phản ứng của các em với âm thanh trước và sau khi học\n"
     ]
    },
    {
     "name": "stderr",
     "output_type": "stream",
     "text": [
      "/opt/anaconda3/lib/python3.12/site-packages/whisper/transcribe.py:126: UserWarning: FP16 is not supported on CPU; using FP32 instead\n",
      "  warnings.warn(\"FP16 is not supported on CPU; using FP32 instead\")\n"
     ]
    },
    {
     "name": "stdout",
     "output_type": "stream",
     "text": [
      "- (61/100)Process file: ./data/database_sa1_Jan08_Mar19_cleaned_utt_0000001008-1\n",
      "- GroundTruth: nga sẽ chuyển giao hai tàu ngầm điện đi a den lớp va sáp dan ca cho việt nam vào năm sau việt nam năm hai nghìn lẻ chín đặt mua sáu tàu ngầm của nga trong một hợp đồng trị giá hai tỷ đô la một động thái được xem là nỗ lực tăng cường lực lượng trước sự bành trướng không ngừng của trung quốc ở biển đông\n",
      "- Predicted: nga sẽ chuyển giao hai tàu ngầm điện đi a den lớp va sáp dan ca cho việt nam vào năm sau việt nam năm hai nghìn lẻ chín đặt mua sáu tàu ngầm của nga trong một hợp đồng trị giá hai tỷ đô la một động thái được xem là nỗ lực tăng cường lực lượng trước sự bành trướng không ngừng của trung quốc ở biển đông\n"
     ]
    },
    {
     "name": "stderr",
     "output_type": "stream",
     "text": [
      "/opt/anaconda3/lib/python3.12/site-packages/whisper/transcribe.py:126: UserWarning: FP16 is not supported on CPU; using FP32 instead\n",
      "  warnings.warn(\"FP16 is not supported on CPU; using FP32 instead\")\n"
     ]
    },
    {
     "name": "stdout",
     "output_type": "stream",
     "text": [
      "- (62/100)Process file: ./data/database_sa1_Jan08_Mar19_cleaned_utt_0000000762-1\n",
      "- GroundTruth: quý vị đã theo dõi tin tức của đài tiếng nói hoa kỳ các chương trình ra đi ô vi đi ô của chúng tôi trên vi ô ây tiếng việt chấm com có thể xem dễ dàng khi dùng trình duyệt ô pê ra trang phếch búc vi ô ây tiếng việt\n",
      "- Predicted: quý vị đã theo dõi tin tức của đài tiếng nói hoa kỳ các chương trình ra đi ô vi đi ô của chúng tôi trên vi ô ây tiếng việt chấm com có thể xem dễ dàng khi dùng trình duyệt ô pê ra trang phếch búc vi ô ây tiếng việt\n"
     ]
    },
    {
     "name": "stderr",
     "output_type": "stream",
     "text": [
      "/opt/anaconda3/lib/python3.12/site-packages/whisper/transcribe.py:126: UserWarning: FP16 is not supported on CPU; using FP32 instead\n",
      "  warnings.warn(\"FP16 is not supported on CPU; using FP32 instead\")\n"
     ]
    }
   ],
   "source": [
    "print(\"Inference -> start\")\n",
    "\n",
    "# Khởi tạo danh sách để lưu trữ văn bản tham chiếu và văn bản nhận diện\n",
    "references = []\n",
    "hypotheses = []\n",
    "\n",
    "# Định nghĩa các biến đổi văn bản: loại bỏ dấu câu và chuyển thành chữ thường\n",
    "transforms = jiwer.Compose([\n",
    "    jiwer.RemovePunctuation(),\n",
    "    jiwer.ToLowerCase()\n",
    "])\n",
    "\n",
    "# Xử lý từng file âm thanh\n",
    "audioLength = len(audio_files)\n",
    "for index, audio_file in enumerate(audio_files):\n",
    "    try:\n",
    "        # Nhận diện âm thanh\n",
    "        result = model.transcribe(audio_file)\n",
    "        hypothesis = result[\"text\"].strip().lower()\n",
    "        \n",
    "        # Lấy đường dẫn file transcript tương ứng\n",
    "        base_name = os.path.splitext(audio_file)[0]\n",
    "        transcript_file = base_name + \".txt\"\n",
    "        \n",
    "        # Đọc văn bản tham chiếu từ file .txt\n",
    "        with open(transcript_file, \"r\", encoding=\"utf-8\") as f:\n",
    "            reference = f.read().strip().lower()\n",
    "\n",
    "        print(f\"- ({index + 1}/{audioLength})Process file: {base_name}\\n- GroundTruth: {reference}\\n- Predicted: {reference}\")\n",
    "        # Thêm vào danh sách\n",
    "        references.append(reference)\n",
    "        hypotheses.append(hypothesis)\n",
    "    except Exception as e:\n",
    "        print(f\"Lỗi khi xử lý {audio_file}: {e}\")\n",
    "\n",
    "# Tính và in chỉ số WER tổng thể\n",
    "if references:\n",
    "    wer = jiwer.wer(references, hypotheses, truth_transform=transforms, hypothesis_transform=transforms)\n",
    "    print(f\"Chỉ số WER tổng thể: {wer:.4f}\")\n",
    "else:\n",
    "    print(\"Không có file nào được xử lý thành công.\")\n",
    "\n",
    "print(\"Inference -> end\")"
   ]
  },
  {
   "cell_type": "code",
   "execution_count": null,
   "id": "51d9b86e-29e8-4f80-b090-f279b8d50465",
   "metadata": {},
   "outputs": [],
   "source": []
  }
 ],
 "metadata": {
  "kernelspec": {
   "display_name": "Python 3 (ipykernel)",
   "language": "python",
   "name": "python3"
  },
  "language_info": {
   "codemirror_mode": {
    "name": "ipython",
    "version": 3
   },
   "file_extension": ".py",
   "mimetype": "text/x-python",
   "name": "python",
   "nbconvert_exporter": "python",
   "pygments_lexer": "ipython3",
   "version": "3.12.2"
  }
 },
 "nbformat": 4,
 "nbformat_minor": 5
}
